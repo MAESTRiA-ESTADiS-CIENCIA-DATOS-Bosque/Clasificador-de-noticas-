{
  "cells": [
    {
      "cell_type": "code",
      "execution_count": 63,
      "metadata": {
        "id": "kQADwdCddIjv"
      },
      "outputs": [],
      "source": [
        "#importamos librerias necesarias para la manipulación\n",
        "import pandas as pd\n",
        "import numpy as np"
      ]
    },
    {
      "cell_type": "code",
      "execution_count": 16,
      "metadata": {
        "colab": {
          "base_uri": "https://localhost:8080/"
        },
        "id": "jiRfdYelea0P",
        "outputId": "dc63b5bb-4598-4130-bedb-c9d98083d499"
      },
      "outputs": [
        {
          "output_type": "stream",
          "name": "stdout",
          "text": [
            "\u001b[2K     \u001b[90m━━━━━━━━━━━━━━━━━━━━━━━━━━━━━━━━━━━━━━━━\u001b[0m \u001b[32m1.1/1.1 MB\u001b[0m \u001b[31m3.8 MB/s\u001b[0m eta \u001b[36m0:00:00\u001b[0m\n",
            "\u001b[?25h  Installing build dependencies ... \u001b[?25l\u001b[?25hdone\n",
            "  Getting requirements to build wheel ... \u001b[?25l\u001b[?25hdone\n",
            "  Preparing metadata (pyproject.toml) ... \u001b[?25l\u001b[?25hdone\n",
            "\u001b[2K     \u001b[90m━━━━━━━━━━━━━━━━━━━━━━━━━━━━━━━━━━━━━━━━\u001b[0m \u001b[32m3.1/3.1 MB\u001b[0m \u001b[31m65.3 MB/s\u001b[0m eta \u001b[36m0:00:00\u001b[0m\n",
            "\u001b[2K     \u001b[90m━━━━━━━━━━━━━━━━━━━━━━━━━━━━━━━━━━━━━━━━\u001b[0m \u001b[32m39.6/39.6 MB\u001b[0m \u001b[31m15.6 MB/s\u001b[0m eta \u001b[36m0:00:00\u001b[0m\n",
            "\u001b[2K     \u001b[90m━━━━━━━━━━━━━━━━━━━━━━━━━━━━━━━━━━━━━━━━\u001b[0m \u001b[32m682.2/682.2 kB\u001b[0m \u001b[31m57.3 MB/s\u001b[0m eta \u001b[36m0:00:00\u001b[0m\n",
            "\u001b[2K     \u001b[90m━━━━━━━━━━━━━━━━━━━━━━━━━━━━━━━━━━━━━━━━\u001b[0m \u001b[32m80.8/80.8 kB\u001b[0m \u001b[31m9.7 MB/s\u001b[0m eta \u001b[36m0:00:00\u001b[0m\n",
            "\u001b[2K     \u001b[90m━━━━━━━━━━━━━━━━━━━━━━━━━━━━━━━━━━━━━━━━\u001b[0m \u001b[32m49.3/49.3 kB\u001b[0m \u001b[31m5.8 MB/s\u001b[0m eta \u001b[36m0:00:00\u001b[0m\n",
            "\u001b[2K     \u001b[90m━━━━━━━━━━━━━━━━━━━━━━━━━━━━━━━━━━━━━━━━\u001b[0m \u001b[32m868.8/868.8 kB\u001b[0m \u001b[31m32.9 MB/s\u001b[0m eta \u001b[36m0:00:00\u001b[0m\n",
            "\u001b[2K     \u001b[90m━━━━━━━━━━━━━━━━━━━━━━━━━━━━━━━━━━━━━━━━\u001b[0m \u001b[32m98.1/98.1 kB\u001b[0m \u001b[31m13.2 MB/s\u001b[0m eta \u001b[36m0:00:00\u001b[0m\n",
            "\u001b[?25h  Installing build dependencies ... \u001b[?25l\u001b[?25hdone\n",
            "  Getting requirements to build wheel ... \u001b[?25l\u001b[?25hdone\n",
            "  Preparing metadata (pyproject.toml) ... \u001b[?25l\u001b[?25hdone\n",
            "\u001b[2K     \u001b[90m━━━━━━━━━━━━━━━━━━━━━━━━━━━━━━━━━━━━━━━━\u001b[0m \u001b[32m232.0/232.0 kB\u001b[0m \u001b[31m29.3 MB/s\u001b[0m eta \u001b[36m0:00:00\u001b[0m\n",
            "\u001b[2K     \u001b[90m━━━━━━━━━━━━━━━━━━━━━━━━━━━━━━━━━━━━━━━━\u001b[0m \u001b[32m897.5/897.5 kB\u001b[0m \u001b[31m67.5 MB/s\u001b[0m eta \u001b[36m0:00:00\u001b[0m\n",
            "\u001b[2K     \u001b[90m━━━━━━━━━━━━━━━━━━━━━━━━━━━━━━━━━━━━━━━━\u001b[0m \u001b[32m19.0/19.0 MB\u001b[0m \u001b[31m6.6 MB/s\u001b[0m eta \u001b[36m0:00:00\u001b[0m\n",
            "\u001b[2K     \u001b[90m━━━━━━━━━━━━━━━━━━━━━━━━━━━━━━━━━━━━━━━━\u001b[0m \u001b[32m92.5/92.5 MB\u001b[0m \u001b[31m9.3 MB/s\u001b[0m eta \u001b[36m0:00:00\u001b[0m\n",
            "\u001b[2K     \u001b[90m━━━━━━━━━━━━━━━━━━━━━━━━━━━━━━━━━━━━━━━━\u001b[0m \u001b[32m100.0/100.0 kB\u001b[0m \u001b[31m12.3 MB/s\u001b[0m eta \u001b[36m0:00:00\u001b[0m\n",
            "\u001b[2K     \u001b[90m━━━━━━━━━━━━━━━━━━━━━━━━━━━━━━━━━━━━━━━━\u001b[0m \u001b[32m159.9/159.9 kB\u001b[0m \u001b[31m14.5 MB/s\u001b[0m eta \u001b[36m0:00:00\u001b[0m\n",
            "\u001b[2K     \u001b[90m━━━━━━━━━━━━━━━━━━━━━━━━━━━━━━━━━━━━━━━━\u001b[0m \u001b[32m542.0/542.0 kB\u001b[0m \u001b[31m41.7 MB/s\u001b[0m eta \u001b[36m0:00:00\u001b[0m\n",
            "\u001b[2K     \u001b[90m━━━━━━━━━━━━━━━━━━━━━━━━━━━━━━━━━━━━━━━━\u001b[0m \u001b[32m143.8/143.8 kB\u001b[0m \u001b[31m12.5 MB/s\u001b[0m eta \u001b[36m0:00:00\u001b[0m\n",
            "\u001b[2K     \u001b[90m━━━━━━━━━━━━━━━━━━━━━━━━━━━━━━━━━━━━━━━━\u001b[0m \u001b[32m62.5/62.5 kB\u001b[0m \u001b[31m7.6 MB/s\u001b[0m eta \u001b[36m0:00:00\u001b[0m\n",
            "\u001b[2K     \u001b[90m━━━━━━━━━━━━━━━━━━━━━━━━━━━━━━━━━━━━━━━━\u001b[0m \u001b[32m117.7/117.7 kB\u001b[0m \u001b[31m14.9 MB/s\u001b[0m eta \u001b[36m0:00:00\u001b[0m\n",
            "\u001b[2K     \u001b[90m━━━━━━━━━━━━━━━━━━━━━━━━━━━━━━━━━━━━━━━━\u001b[0m \u001b[32m51.1/51.1 kB\u001b[0m \u001b[31m5.1 MB/s\u001b[0m eta \u001b[36m0:00:00\u001b[0m\n",
            "\u001b[2K     \u001b[90m━━━━━━━━━━━━━━━━━━━━━━━━━━━━━━━━━━━━━━━━\u001b[0m \u001b[32m46.0/46.0 kB\u001b[0m \u001b[31m5.6 MB/s\u001b[0m eta \u001b[36m0:00:00\u001b[0m\n",
            "\u001b[2K     \u001b[90m━━━━━━━━━━━━━━━━━━━━━━━━━━━━━━━━━━━━━━━━\u001b[0m \u001b[32m21.3/21.3 MB\u001b[0m \u001b[31m73.2 MB/s\u001b[0m eta \u001b[36m0:00:00\u001b[0m\n",
            "\u001b[2K     \u001b[90m━━━━━━━━━━━━━━━━━━━━━━━━━━━━━━━━━━━━━━━━\u001b[0m \u001b[32m116.3/116.3 kB\u001b[0m \u001b[31m17.8 MB/s\u001b[0m eta \u001b[36m0:00:00\u001b[0m\n",
            "\u001b[2K     \u001b[90m━━━━━━━━━━━━━━━━━━━━━━━━━━━━━━━━━━━━━━━━\u001b[0m \u001b[32m194.1/194.1 kB\u001b[0m \u001b[31m26.3 MB/s\u001b[0m eta \u001b[36m0:00:00\u001b[0m\n",
            "\u001b[2K     \u001b[90m━━━━━━━━━━━━━━━━━━━━━━━━━━━━━━━━━━━━━━━━\u001b[0m \u001b[32m134.8/134.8 kB\u001b[0m \u001b[31m18.7 MB/s\u001b[0m eta \u001b[36m0:00:00\u001b[0m\n",
            "\u001b[2K     \u001b[90m━━━━━━━━━━━━━━━━━━━━━━━━━━━━━━━━━━━━━━━━\u001b[0m \u001b[32m58.4/58.4 kB\u001b[0m \u001b[31m8.7 MB/s\u001b[0m eta \u001b[36m0:00:00\u001b[0m\n",
            "\u001b[2K     \u001b[90m━━━━━━━━━━━━━━━━━━━━━━━━━━━━━━━━━━━━━━━━\u001b[0m \u001b[32m98.7/98.7 kB\u001b[0m \u001b[31m13.4 MB/s\u001b[0m eta \u001b[36m0:00:00\u001b[0m\n",
            "\u001b[?25h  Building wheel for ludwig (pyproject.toml) ... \u001b[?25l\u001b[?25hdone\n",
            "  Building wheel for gpustat (pyproject.toml) ... \u001b[?25l\u001b[?25hdone\n",
            "\u001b[31mERROR: pip's dependency resolver does not currently take into account all the packages that are installed. This behaviour is the source of the following dependency conflicts.\n",
            "fastapi-cli 0.0.4 requires typer>=0.12.3, but you have typer 0.9.4 which is incompatible.\n",
            "gradio 4.32.1 requires pydantic>=2.0, but you have pydantic 1.10.15 which is incompatible.\n",
            "gradio 4.32.1 requires typer<1.0,>=0.12; sys_platform != \"emscripten\", but you have typer 0.9.4 which is incompatible.\n",
            "gradio 4.32.1 requires urllib3~=2.0, but you have urllib3 1.26.18 which is incompatible.\u001b[0m\u001b[31m\n",
            "\u001b[2K     \u001b[90m━━━━━━━━━━━━━━━━━━━━━━━━━━━━━━━━━━━━━━━━\u001b[0m \u001b[32m292.8/292.8 kB\u001b[0m \u001b[31m5.5 MB/s\u001b[0m eta \u001b[36m0:00:00\u001b[0m\n",
            "\u001b[2K     \u001b[90m━━━━━━━━━━━━━━━━━━━━━━━━━━━━━━━━━━━━━━━━\u001b[0m \u001b[32m863.2/863.2 kB\u001b[0m \u001b[31m28.4 MB/s\u001b[0m eta \u001b[36m0:00:00\u001b[0m\n",
            "\u001b[?25h  Preparing metadata (setup.py) ... \u001b[?25l\u001b[?25hdone\n",
            "\u001b[2K     \u001b[90m━━━━━━━━━━━━━━━━━━━━━━━━━━━━━━━━━━━━━━━━\u001b[0m \u001b[32m283.1/283.1 kB\u001b[0m \u001b[31m29.8 MB/s\u001b[0m eta \u001b[36m0:00:00\u001b[0m\n",
            "\u001b[2K     \u001b[90m━━━━━━━━━━━━━━━━━━━━━━━━━━━━━━━━━━━━━━━━\u001b[0m \u001b[32m1.6/1.6 MB\u001b[0m \u001b[31m54.4 MB/s\u001b[0m eta \u001b[36m0:00:00\u001b[0m\n",
            "\u001b[2K     \u001b[90m━━━━━━━━━━━━━━━━━━━━━━━━━━━━━━━━━━━━━━━━\u001b[0m \u001b[32m3.0/3.0 MB\u001b[0m \u001b[31m83.1 MB/s\u001b[0m eta \u001b[36m0:00:00\u001b[0m\n",
            "\u001b[2K     \u001b[90m━━━━━━━━━━━━━━━━━━━━━━━━━━━━━━━━━━━━━━━━\u001b[0m \u001b[32m5.4/5.4 MB\u001b[0m \u001b[31m99.1 MB/s\u001b[0m eta \u001b[36m0:00:00\u001b[0m\n",
            "\u001b[?25h  Building wheel for ptitprince (setup.py) ... \u001b[?25l\u001b[?25hdone\n"
          ]
        }
      ],
      "source": [
        "# Prerequisite: Installs the latest version of Ludwig in the Colab environment\n",
        "#%pip uninstall -y tensorflow --quiet\n",
        "%pip install ludwig --quiet\n",
        "%pip install ludwig[viz] --quiet"
      ]
    },
    {
      "cell_type": "code",
      "execution_count": null,
      "metadata": {
        "colab": {
          "base_uri": "https://localhost:8080/"
        },
        "id": "T9XbQ9FjfBxW",
        "outputId": "24e5b7e8-cf20-4d7a-a725-817dc0a77728"
      },
      "outputs": [
        {
          "output_type": "stream",
          "name": "stdout",
          "text": [
            "Mounted at /content/drive\n"
          ]
        }
      ],
      "source": [
        "#Cargamos base de datos en formato CSV\n",
        "#Cargamos base de datos en formato CSV\n",
        "from google.colab import drive\n",
        "drive.mount('/content/drive')"
      ]
    },
    {
      "cell_type": "code",
      "execution_count": null,
      "metadata": {
        "id": "QZ7CmYx4fEsz"
      },
      "outputs": [],
      "source": [
        "df=pd.read_csv('/content/drive/MyDrive/negativa_positiva - Hoja 1.csv')"
      ]
    },
    {
      "cell_type": "code",
      "execution_count": null,
      "metadata": {
        "colab": {
          "base_uri": "https://localhost:8080/",
          "height": 424
        },
        "id": "LzJ1xg5ifIBN",
        "outputId": "b2996512-0b54-4608-9301-cd7248886e30"
      },
      "outputs": [
        {
          "data": {
            "application/vnd.google.colaboratory.intrinsic+json": {
              "summary": "{\n  \"name\": \"df\",\n  \"rows\": 415,\n  \"fields\": [\n    {\n      \"column\": \"TITULO\",\n      \"properties\": {\n        \"dtype\": \"string\",\n        \"num_unique_values\": 407,\n        \"samples\": [\n          \"Decretan estado de calamidad p\\u00fablica en ciudad del oeste de Colombia\",\n          \"Las 12 mejores atracciones del mundo para hacer en 2024 seg\\u00fan Time Out\",\n          \"Cartagena oficializa su candidatura para el Consejo Ejecutivo de ONU Turismo 2024\"\n        ],\n        \"semantic_type\": \"\",\n        \"description\": \"\"\n      }\n    },\n    {\n      \"column\": \"DESCRIPCION \",\n      \"properties\": {\n        \"dtype\": \"string\",\n        \"num_unique_values\": 405,\n        \"samples\": [\n          \"De acuerdo con un video difundido en redes sociales, el \\u00e1rea de operaciones ser\\u00e1 el Valle del Cauca (suroccidente), Huila (sur), y Tolima y Quind\\u00edo, ambos ubicados en la regi\\u00f3n centro-oeste de la naci\\u00f3n.Difundi\\u00f3 asimismo el EMC que Marlon, jefe del Frente Jaime Mart\\u00ednez, ahora es el comandante del nuevo bloque. Su conformaci\\u00f3n, a\\u00f1adi\\u00f3, se realiza en solidaridad y respuesta a la agresi\\u00f3n militar contra el Bloque Occidental Comandante Jacobo Arenas. por lo cual puede afectar al turismo de la region ya que por miedo los turista dejaran de visitar la region\",\n          \"Tendencia en turismo: cada vez m\\u00e1s personas eligen compensar la huella de carbono de sus vacaciones En Argentina, la neutralidad de carbono en los viajes toma fuerza: desde agencias tur\\u00edsticas hasta casos individuales inspiradores como el de Silvia, quien neu\\u2026\",\n          \"Avianca ofrece tiquetes a precios muy econ\\u00f3micos para vuelos nacionales en Colombia, con ofertas disponibles hasta el 24 de abril de 2024. Los precios van desde $59.300 pesos colombianos, con destinos como Pereira, Medell\\u00edn, Monter\\u00eda, Barranquilla y Cartagena.\\r\\n\\r\\n\\r\\n\\r\\n\\r\\n\\r\\n\\r\"\n        ],\n        \"semantic_type\": \"\",\n        \"description\": \"\"\n      }\n    },\n    {\n      \"column\": \"CATEGORIA\",\n      \"properties\": {\n        \"dtype\": \"category\",\n        \"num_unique_values\": 2,\n        \"samples\": [\n          \"POSITIVA\",\n          \"NEGATIVA\"\n        ],\n        \"semantic_type\": \"\",\n        \"description\": \"\"\n      }\n    },\n    {\n      \"column\": \"DUMMY \",\n      \"properties\": {\n        \"dtype\": \"number\",\n        \"std\": 0,\n        \"min\": -1,\n        \"max\": 1,\n        \"num_unique_values\": 3,\n        \"samples\": [\n          -1,\n          1\n        ],\n        \"semantic_type\": \"\",\n        \"description\": \"\"\n      }\n    }\n  ]\n}",
              "type": "dataframe",
              "variable_name": "df"
            },
            "text/html": [
              "\n",
              "  <div id=\"df-23b969b9-66c7-4d07-bc72-2964445c71af\" class=\"colab-df-container\">\n",
              "    <div>\n",
              "<style scoped>\n",
              "    .dataframe tbody tr th:only-of-type {\n",
              "        vertical-align: middle;\n",
              "    }\n",
              "\n",
              "    .dataframe tbody tr th {\n",
              "        vertical-align: top;\n",
              "    }\n",
              "\n",
              "    .dataframe thead th {\n",
              "        text-align: right;\n",
              "    }\n",
              "</style>\n",
              "<table border=\"1\" class=\"dataframe\">\n",
              "  <thead>\n",
              "    <tr style=\"text-align: right;\">\n",
              "      <th></th>\n",
              "      <th>TITULO</th>\n",
              "      <th>DESCRIPCION</th>\n",
              "      <th>CATEGORIA</th>\n",
              "      <th>DUMMY</th>\n",
              "    </tr>\n",
              "  </thead>\n",
              "  <tbody>\n",
              "    <tr>\n",
              "      <th>0</th>\n",
              "      <td>¡Preocupante! Ocupación hotelera en Colombia s...</td>\n",
              "      <td>De acuerdo con el Sistema de Información Hotel...</td>\n",
              "      <td>NEGATIVA</td>\n",
              "      <td>-1</td>\n",
              "    </tr>\n",
              "    <tr>\n",
              "      <th>1</th>\n",
              "      <td>Dumek: “No puedo decir que a Cartagena la saqu...</td>\n",
              "      <td>Dumek Turbay, que resultó siendo el gran vence...</td>\n",
              "      <td>NEGATIVA</td>\n",
              "      <td>-1</td>\n",
              "    </tr>\n",
              "    <tr>\n",
              "      <th>2</th>\n",
              "      <td>Reportan baja de operaciones en 4 de las 10 ru...</td>\n",
              "      <td>De enero a septiembre de este año, cuatro de l...</td>\n",
              "      <td>NEGATIVA</td>\n",
              "      <td>-1</td>\n",
              "    </tr>\n",
              "    <tr>\n",
              "      <th>3</th>\n",
              "      <td>BM advierte que pagos de la deuda privan de di...</td>\n",
              "      <td>Brasil, Argentina, México, Colombia y Ecuador ...</td>\n",
              "      <td>NEGATIVA</td>\n",
              "      <td>-1</td>\n",
              "    </tr>\n",
              "    <tr>\n",
              "      <th>4</th>\n",
              "      <td>La Cumbre del Clima podría promover la expansi...</td>\n",
              "      <td>El documento final de la COP28 en Dubái da pie...</td>\n",
              "      <td>NEGATIVA</td>\n",
              "      <td>-1</td>\n",
              "    </tr>\n",
              "    <tr>\n",
              "      <th>...</th>\n",
              "      <td>...</td>\n",
              "      <td>...</td>\n",
              "      <td>...</td>\n",
              "      <td>...</td>\n",
              "    </tr>\n",
              "    <tr>\n",
              "      <th>410</th>\n",
              "      <td>Los costos están impulsando cambios en los háb...</td>\n",
              "      <td>El turismo en Colombia está en alza a nivel in...</td>\n",
              "      <td>POSITIVA</td>\n",
              "      <td>1</td>\n",
              "    </tr>\n",
              "    <tr>\n",
              "      <th>411</th>\n",
              "      <td>La nueva aerolínea que solicitó operar en Colo...</td>\n",
              "      <td>\\r\\nUna nueva aerolínea, ALMA, solicita operar...</td>\n",
              "      <td>POSITIVA</td>\n",
              "      <td>1</td>\n",
              "    </tr>\n",
              "    <tr>\n",
              "      <th>412</th>\n",
              "      <td>Nuestra meta es llegar a todos los rincones tu...</td>\n",
              "      <td>Civitatis, plataforma de actividades turística...</td>\n",
              "      <td>POSITIVA</td>\n",
              "      <td>1</td>\n",
              "    </tr>\n",
              "    <tr>\n",
              "      <th>413</th>\n",
              "      <td>Dan detalles del plan para reactivar la econom...</td>\n",
              "      <td>El presidente Gustavo Petro anunció la prepara...</td>\n",
              "      <td>POSITIVA</td>\n",
              "      <td>1</td>\n",
              "    </tr>\n",
              "    <tr>\n",
              "      <th>414</th>\n",
              "      <td>¿Quiere alquilar su vivienda para uso vacacion...</td>\n",
              "      <td>El Gobierno está tomando medidas para regular ...</td>\n",
              "      <td>POSITIVA</td>\n",
              "      <td>1</td>\n",
              "    </tr>\n",
              "  </tbody>\n",
              "</table>\n",
              "<p>415 rows × 4 columns</p>\n",
              "</div>\n",
              "    <div class=\"colab-df-buttons\">\n",
              "\n",
              "  <div class=\"colab-df-container\">\n",
              "    <button class=\"colab-df-convert\" onclick=\"convertToInteractive('df-23b969b9-66c7-4d07-bc72-2964445c71af')\"\n",
              "            title=\"Convert this dataframe to an interactive table.\"\n",
              "            style=\"display:none;\">\n",
              "\n",
              "  <svg xmlns=\"http://www.w3.org/2000/svg\" height=\"24px\" viewBox=\"0 -960 960 960\">\n",
              "    <path d=\"M120-120v-720h720v720H120Zm60-500h600v-160H180v160Zm220 220h160v-160H400v160Zm0 220h160v-160H400v160ZM180-400h160v-160H180v160Zm440 0h160v-160H620v160ZM180-180h160v-160H180v160Zm440 0h160v-160H620v160Z\"/>\n",
              "  </svg>\n",
              "    </button>\n",
              "\n",
              "  <style>\n",
              "    .colab-df-container {\n",
              "      display:flex;\n",
              "      gap: 12px;\n",
              "    }\n",
              "\n",
              "    .colab-df-convert {\n",
              "      background-color: #E8F0FE;\n",
              "      border: none;\n",
              "      border-radius: 50%;\n",
              "      cursor: pointer;\n",
              "      display: none;\n",
              "      fill: #1967D2;\n",
              "      height: 32px;\n",
              "      padding: 0 0 0 0;\n",
              "      width: 32px;\n",
              "    }\n",
              "\n",
              "    .colab-df-convert:hover {\n",
              "      background-color: #E2EBFA;\n",
              "      box-shadow: 0px 1px 2px rgba(60, 64, 67, 0.3), 0px 1px 3px 1px rgba(60, 64, 67, 0.15);\n",
              "      fill: #174EA6;\n",
              "    }\n",
              "\n",
              "    .colab-df-buttons div {\n",
              "      margin-bottom: 4px;\n",
              "    }\n",
              "\n",
              "    [theme=dark] .colab-df-convert {\n",
              "      background-color: #3B4455;\n",
              "      fill: #D2E3FC;\n",
              "    }\n",
              "\n",
              "    [theme=dark] .colab-df-convert:hover {\n",
              "      background-color: #434B5C;\n",
              "      box-shadow: 0px 1px 3px 1px rgba(0, 0, 0, 0.15);\n",
              "      filter: drop-shadow(0px 1px 2px rgba(0, 0, 0, 0.3));\n",
              "      fill: #FFFFFF;\n",
              "    }\n",
              "  </style>\n",
              "\n",
              "    <script>\n",
              "      const buttonEl =\n",
              "        document.querySelector('#df-23b969b9-66c7-4d07-bc72-2964445c71af button.colab-df-convert');\n",
              "      buttonEl.style.display =\n",
              "        google.colab.kernel.accessAllowed ? 'block' : 'none';\n",
              "\n",
              "      async function convertToInteractive(key) {\n",
              "        const element = document.querySelector('#df-23b969b9-66c7-4d07-bc72-2964445c71af');\n",
              "        const dataTable =\n",
              "          await google.colab.kernel.invokeFunction('convertToInteractive',\n",
              "                                                    [key], {});\n",
              "        if (!dataTable) return;\n",
              "\n",
              "        const docLinkHtml = 'Like what you see? Visit the ' +\n",
              "          '<a target=\"_blank\" href=https://colab.research.google.com/notebooks/data_table.ipynb>data table notebook</a>'\n",
              "          + ' to learn more about interactive tables.';\n",
              "        element.innerHTML = '';\n",
              "        dataTable['output_type'] = 'display_data';\n",
              "        await google.colab.output.renderOutput(dataTable, element);\n",
              "        const docLink = document.createElement('div');\n",
              "        docLink.innerHTML = docLinkHtml;\n",
              "        element.appendChild(docLink);\n",
              "      }\n",
              "    </script>\n",
              "  </div>\n",
              "\n",
              "\n",
              "<div id=\"df-4bb843a2-db91-40a1-8ac8-a19d5899aad8\">\n",
              "  <button class=\"colab-df-quickchart\" onclick=\"quickchart('df-4bb843a2-db91-40a1-8ac8-a19d5899aad8')\"\n",
              "            title=\"Suggest charts\"\n",
              "            style=\"display:none;\">\n",
              "\n",
              "<svg xmlns=\"http://www.w3.org/2000/svg\" height=\"24px\"viewBox=\"0 0 24 24\"\n",
              "     width=\"24px\">\n",
              "    <g>\n",
              "        <path d=\"M19 3H5c-1.1 0-2 .9-2 2v14c0 1.1.9 2 2 2h14c1.1 0 2-.9 2-2V5c0-1.1-.9-2-2-2zM9 17H7v-7h2v7zm4 0h-2V7h2v10zm4 0h-2v-4h2v4z\"/>\n",
              "    </g>\n",
              "</svg>\n",
              "  </button>\n",
              "\n",
              "<style>\n",
              "  .colab-df-quickchart {\n",
              "      --bg-color: #E8F0FE;\n",
              "      --fill-color: #1967D2;\n",
              "      --hover-bg-color: #E2EBFA;\n",
              "      --hover-fill-color: #174EA6;\n",
              "      --disabled-fill-color: #AAA;\n",
              "      --disabled-bg-color: #DDD;\n",
              "  }\n",
              "\n",
              "  [theme=dark] .colab-df-quickchart {\n",
              "      --bg-color: #3B4455;\n",
              "      --fill-color: #D2E3FC;\n",
              "      --hover-bg-color: #434B5C;\n",
              "      --hover-fill-color: #FFFFFF;\n",
              "      --disabled-bg-color: #3B4455;\n",
              "      --disabled-fill-color: #666;\n",
              "  }\n",
              "\n",
              "  .colab-df-quickchart {\n",
              "    background-color: var(--bg-color);\n",
              "    border: none;\n",
              "    border-radius: 50%;\n",
              "    cursor: pointer;\n",
              "    display: none;\n",
              "    fill: var(--fill-color);\n",
              "    height: 32px;\n",
              "    padding: 0;\n",
              "    width: 32px;\n",
              "  }\n",
              "\n",
              "  .colab-df-quickchart:hover {\n",
              "    background-color: var(--hover-bg-color);\n",
              "    box-shadow: 0 1px 2px rgba(60, 64, 67, 0.3), 0 1px 3px 1px rgba(60, 64, 67, 0.15);\n",
              "    fill: var(--button-hover-fill-color);\n",
              "  }\n",
              "\n",
              "  .colab-df-quickchart-complete:disabled,\n",
              "  .colab-df-quickchart-complete:disabled:hover {\n",
              "    background-color: var(--disabled-bg-color);\n",
              "    fill: var(--disabled-fill-color);\n",
              "    box-shadow: none;\n",
              "  }\n",
              "\n",
              "  .colab-df-spinner {\n",
              "    border: 2px solid var(--fill-color);\n",
              "    border-color: transparent;\n",
              "    border-bottom-color: var(--fill-color);\n",
              "    animation:\n",
              "      spin 1s steps(1) infinite;\n",
              "  }\n",
              "\n",
              "  @keyframes spin {\n",
              "    0% {\n",
              "      border-color: transparent;\n",
              "      border-bottom-color: var(--fill-color);\n",
              "      border-left-color: var(--fill-color);\n",
              "    }\n",
              "    20% {\n",
              "      border-color: transparent;\n",
              "      border-left-color: var(--fill-color);\n",
              "      border-top-color: var(--fill-color);\n",
              "    }\n",
              "    30% {\n",
              "      border-color: transparent;\n",
              "      border-left-color: var(--fill-color);\n",
              "      border-top-color: var(--fill-color);\n",
              "      border-right-color: var(--fill-color);\n",
              "    }\n",
              "    40% {\n",
              "      border-color: transparent;\n",
              "      border-right-color: var(--fill-color);\n",
              "      border-top-color: var(--fill-color);\n",
              "    }\n",
              "    60% {\n",
              "      border-color: transparent;\n",
              "      border-right-color: var(--fill-color);\n",
              "    }\n",
              "    80% {\n",
              "      border-color: transparent;\n",
              "      border-right-color: var(--fill-color);\n",
              "      border-bottom-color: var(--fill-color);\n",
              "    }\n",
              "    90% {\n",
              "      border-color: transparent;\n",
              "      border-bottom-color: var(--fill-color);\n",
              "    }\n",
              "  }\n",
              "</style>\n",
              "\n",
              "  <script>\n",
              "    async function quickchart(key) {\n",
              "      const quickchartButtonEl =\n",
              "        document.querySelector('#' + key + ' button');\n",
              "      quickchartButtonEl.disabled = true;  // To prevent multiple clicks.\n",
              "      quickchartButtonEl.classList.add('colab-df-spinner');\n",
              "      try {\n",
              "        const charts = await google.colab.kernel.invokeFunction(\n",
              "            'suggestCharts', [key], {});\n",
              "      } catch (error) {\n",
              "        console.error('Error during call to suggestCharts:', error);\n",
              "      }\n",
              "      quickchartButtonEl.classList.remove('colab-df-spinner');\n",
              "      quickchartButtonEl.classList.add('colab-df-quickchart-complete');\n",
              "    }\n",
              "    (() => {\n",
              "      let quickchartButtonEl =\n",
              "        document.querySelector('#df-4bb843a2-db91-40a1-8ac8-a19d5899aad8 button');\n",
              "      quickchartButtonEl.style.display =\n",
              "        google.colab.kernel.accessAllowed ? 'block' : 'none';\n",
              "    })();\n",
              "  </script>\n",
              "</div>\n",
              "    </div>\n",
              "  </div>\n"
            ],
            "text/plain": [
              "                                                TITULO  \\\n",
              "0    ¡Preocupante! Ocupación hotelera en Colombia s...   \n",
              "1    Dumek: “No puedo decir que a Cartagena la saqu...   \n",
              "2    Reportan baja de operaciones en 4 de las 10 ru...   \n",
              "3    BM advierte que pagos de la deuda privan de di...   \n",
              "4    La Cumbre del Clima podría promover la expansi...   \n",
              "..                                                 ...   \n",
              "410  Los costos están impulsando cambios en los háb...   \n",
              "411  La nueva aerolínea que solicitó operar en Colo...   \n",
              "412  Nuestra meta es llegar a todos los rincones tu...   \n",
              "413  Dan detalles del plan para reactivar la econom...   \n",
              "414  ¿Quiere alquilar su vivienda para uso vacacion...   \n",
              "\n",
              "                                          DESCRIPCION  CATEGORIA  DUMMY   \n",
              "0    De acuerdo con el Sistema de Información Hotel...  NEGATIVA      -1  \n",
              "1    Dumek Turbay, que resultó siendo el gran vence...  NEGATIVA      -1  \n",
              "2    De enero a septiembre de este año, cuatro de l...  NEGATIVA      -1  \n",
              "3    Brasil, Argentina, México, Colombia y Ecuador ...  NEGATIVA      -1  \n",
              "4    El documento final de la COP28 en Dubái da pie...  NEGATIVA      -1  \n",
              "..                                                 ...       ...     ...  \n",
              "410  El turismo en Colombia está en alza a nivel in...  POSITIVA       1  \n",
              "411  \\r\\nUna nueva aerolínea, ALMA, solicita operar...  POSITIVA       1  \n",
              "412  Civitatis, plataforma de actividades turística...  POSITIVA       1  \n",
              "413  El presidente Gustavo Petro anunció la prepara...  POSITIVA       1  \n",
              "414  El Gobierno está tomando medidas para regular ...  POSITIVA       1  \n",
              "\n",
              "[415 rows x 4 columns]"
            ]
          },
          "execution_count": 5,
          "metadata": {},
          "output_type": "execute_result"
        }
      ],
      "source": [
        "df"
      ]
    },
    {
      "cell_type": "code",
      "execution_count": null,
      "metadata": {
        "colab": {
          "base_uri": "https://localhost:8080/"
        },
        "id": "YXvXBn_XfJHN",
        "outputId": "5112c18e-3667-4283-9bad-29e0e07a7d64"
      },
      "outputs": [
        {
          "name": "stdout",
          "output_type": "stream",
          "text": [
            "CATEGORIA\n",
            "POSITIVA    271\n",
            "NEGATIVA    144\n",
            "Name: count, dtype: int64\n"
          ]
        }
      ],
      "source": [
        "# Para contar cuántas veces aparece cada valor en la columna CATEGORIA\n",
        "conteo = df['CATEGORIA'].value_counts()\n",
        "\n",
        "print(conteo)"
      ]
    },
    {
      "cell_type": "code",
      "execution_count": null,
      "metadata": {
        "id": "RIJWdbf7fMnF"
      },
      "outputs": [],
      "source": [
        "from sklearn.model_selection import train_test_split\n",
        "\n",
        "# Dividir el conjunto de datos en conjuntos de entrenamiento y prueba\n",
        "train_df, test_df = train_test_split(df, test_size=0.2, random_state=42)"
      ]
    },
    {
      "cell_type": "code",
      "execution_count": null,
      "metadata": {
        "id": "lBmd7499fPi0"
      },
      "outputs": [],
      "source": [
        "# Guardar los conjuntos de datos\n",
        "train_df.to_csv('train_data.csv', index=False)\n",
        "test_df.to_csv('test_data.csv', index=False)"
      ]
    },
    {
      "cell_type": "code",
      "execution_count": null,
      "metadata": {
        "colab": {
          "base_uri": "https://localhost:8080/"
        },
        "id": "eYfUs4kDfXsN",
        "outputId": "cd9b1170-fbd4-4760-c244-142b5a057fde"
      },
      "outputs": [
        {
          "name": "stdout",
          "output_type": "stream",
          "text": [
            "Token:··········\n"
          ]
        }
      ],
      "source": [
        "#Token Hugging face acceso\n",
        "import getpass\n",
        "#import locale; locale.setlocale(locale.LC_ALL, 'en_US.UTF-8')\n",
        "import logging\n",
        "import os\n",
        "\n",
        "#from ludwig.api import LudwigModel\n",
        "\n",
        "\n",
        "os.environ[\"HUGGING_FACE_HUB_TOKEN\"] = getpass.getpass(\"Token:\")\n",
        "assert os.environ[\"HUGGING_FACE_HUB_TOKEN\"]"
      ]
    },
    {
      "cell_type": "code",
      "execution_count": null,
      "metadata": {
        "id": "lSFgnwPLfeku"
      },
      "outputs": [],
      "source": [
        "import logging\n",
        "from ludwig.api import LudwigModel\n",
        "\n",
        "# Configuración ajustada\n",
        "config = {\n",
        "    \"input_features\": [\n",
        "        {\n",
        "            \"name\": \"DESCRIPCION \",\n",
        "            \"type\": \"text\",\n",
        "            \"preprocessing\": {\"tokenizer\":\"hf_tokenizer\", \"cache_encoder_embeddings\": True},\n",
        "            \"encoder\": {\n",
        "                \"type\": \"auto_transformer\",\n",
        "                \"pretrained_model_name_or_path\": \"distilbert/distilbert-base-multilingual-cased\",\n",
        "                 \"trainable\": True,\n",
        "                \"regularizer\": {\n",
        "                    \"type\": \"l2\",\n",
        "                    \"weight\": 0.001  # Regularización L2 aplicada al encoder\n",
        "                }\n",
        "            }\n",
        "        },\n",
        "    ],\n",
        "    \"output_features\": [\n",
        "        {\n",
        "            \"name\": \"CATEGORIA\",\n",
        "            \"type\": \"binary\",\n",
        "            \"calibration\": True\n",
        "        }\n",
        "    ],\n",
        "    \"preprocessing\": {\n",
        "        \"oversample_minority\": 0.5\n",
        "    },\n",
        "    \"adapter\": {  # Corregido el espacio adicional en el nombre de la clave\n",
        "        \"type\": \"lora\",\n",
        "        \"r\": 8,\n",
        "        \"dropout\": 0.05,\n",
        "        \"target_modules\": None,  # Corregido de Null a None\n",
        "        \"use_rslora\": False,\n",
        "        \"use_dora\": False,\n",
        "        \"alpha\": 16,\n",
        "        \"pretrained_adapter_weights\": None,  # Corregido de Null a None\n",
        "        \"postprocessor\": {\n",
        "            \"merge_adapter_into_base_model\": False,\n",
        "            \"progressbar\": False,\n",
        "            \"bias_type\": \"none\"  # Corregido para que el valor sea una cadena\n",
        "        }\n",
        "    },\n",
        "    \"trainer\": {\n",
        "        \"epochs\": 60,\n",
        "        \"learning_rate\": 0.0001,\n",
        "        \"optimizer\": {\"type\": \"adamw\"},\n",
        "        \"batch_size\": 32,\n",
        "        \"early_stop\": 30,\n",
        "    }\n",
        "}"
      ]
    },
    {
      "cell_type": "code",
      "execution_count": null,
      "metadata": {
        "id": "tZcJd42lfoHL"
      },
      "outputs": [],
      "source": [
        "# Crea una instancia del modelo Ludwig con la configuración\n",
        "model = LudwigModel(config, logging_level=logging.INFO)"
      ]
    },
    {
      "cell_type": "code",
      "execution_count": null,
      "metadata": {
        "colab": {
          "base_uri": "https://localhost:8080/",
          "height": 1000,
          "referenced_widgets": [
            "b9c8968473ba4a2ca8960a96d6cb16be",
            "88aa18788d6e4a9987b3a1b06c3ccc8d",
            "d2090fc8bdc34ee6aba7d2fad4f8195e",
            "f57ba576e5c94290b6bd22e5b680a5f1",
            "ddef039e77f048a1908b53f2f2762717",
            "b24825f5f68948cc9be8bf0cd76899cb",
            "0c02553f401b4c7f9eee4bbb88145c81",
            "c24c05cdad7148b8a17dc6c807037fd8",
            "a24a606ade274bf79e8f7c6807ac9c50",
            "5f81b946708545fd9c3781aa137abb7f",
            "0e1308e3c939402c86504c81566175bf",
            "5ffb3600a6a44ffaa41c7d358ed61545",
            "edb36a51a52f45cabc1759a0b8c51e90",
            "870c1099565745c3b426dee73b310ec4",
            "0853627ff8d143078812429275908b6e",
            "121b11d7343944c1997dd04693f99a33",
            "8ff4d1fcac1a4cdc95d24469906f0f03",
            "e2343b4c25394701b4e6c9920e50bd55",
            "bc30e6033d53406c915a41222e0eda4a",
            "c24bda843d914a2aa7c5d30dd7e9c3f6",
            "ef200b51fc9240adb56b5ff637c35cc9",
            "fd59b0a76b4f407e8740e590e6fbd25b",
            "802f8d101da84a8783fb45900643644f",
            "fa0f74a931f7497794707d25a97af8a6",
            "49ba9ecc075a402fac74560790cbe349",
            "c6290a1e6d41457bb2dd40b3246ef37d",
            "f030ae7f76c0442f9a1894ef64275813",
            "aec0ef75f7bb4266ad206d115270fcc1",
            "87040917ae474a93b659dcc7eeb12eb8",
            "cb2a0ce8c58d4c6fa4c2e56ffd755c17",
            "1b83a8e708de46c1aa967e96fcffe634",
            "1dd0a904f3c241059a678f6323a8446d",
            "3f7b91d609e041e2948a2b50fa770ca6",
            "87f58f4da72f4faab2f5174a78fc7216",
            "e5f9a3f956bf4a5d89ef9ec2ed093597",
            "e04c8afa8e5940a29ee05044c655e0c3",
            "f690b206e07a4f05b6a9427d34f7bb48",
            "3ff1f597cfb9476ca973f74f179bcdb0",
            "33273d7c689446c0b3adf3a82da01c10",
            "d57c598956ef46febe18daaebabdd3b8",
            "d2defaa881f94769a6f505474b356e0a",
            "eb767be82aa5491fbb5023f0596061dc",
            "2eb98b39fb4745bd81c786e17432340a",
            "0b7b206afa5142708f414670260b2836",
            "1256b9175f4c40099b9d8469a030ee28",
            "b67fb49dfb1f472e86e41c875f8dd53a",
            "2fa16eefa5c7488c8d2d2c700f8570ab",
            "f33d19d10843499ca4962f719e58ae2b",
            "447d1195424545bf9bf1a57d1bd8a785",
            "d9b0f26829d045caa07a37dadfb42881",
            "2aa97fd9e5fc401d97c18d02912c3337",
            "ed4cce27747d4bfd9499d6e78209df3c",
            "d46d47fb9b964935b9c4438d52c5c608",
            "4a4e086f8ef040fb8eab70f526da1471",
            "5ecde07b10b6447d8e48ec9d0294fdbd"
          ]
        },
        "id": "gR8iT1AzfqhV",
        "outputId": "620a90d8-b0f9-4e97-f302-0a7e17682351"
      },
      "outputs": [
        {
          "name": "stderr",
          "output_type": "stream",
          "text": [
            "INFO:ludwig.utils.print_utils:\n",
            "INFO:ludwig.utils.print_utils:╒════════════════════════╕\n",
            "INFO:ludwig.utils.print_utils:│ EXPERIMENT DESCRIPTION │\n",
            "INFO:ludwig.utils.print_utils:╘════════════════════════╛\n",
            "INFO:ludwig.utils.print_utils:\n",
            "INFO:ludwig.api:╒══════════════════╤═════════════════════════════════════════════════════════════════════════════════════════╕\n",
            "│ Experiment name  │ api_experiment                                                                          │\n",
            "├──────────────────┼─────────────────────────────────────────────────────────────────────────────────────────┤\n",
            "│ Model name       │ run                                                                                     │\n",
            "├──────────────────┼─────────────────────────────────────────────────────────────────────────────────────────┤\n",
            "│ Output directory │ /content/results/api_experiment_run                                                     │\n",
            "├──────────────────┼─────────────────────────────────────────────────────────────────────────────────────────┤\n",
            "│ ludwig_version   │ '0.10.3'                                                                                │\n",
            "├──────────────────┼─────────────────────────────────────────────────────────────────────────────────────────┤\n",
            "│ command          │ ('/usr/local/lib/python3.10/dist-packages/colab_kernel_launcher.py -f '                 │\n",
            "│                  │  '/root/.local/share/jupyter/runtime/kernel-8db37300-d465-403b-8252-2f4c4d329b7a.json') │\n",
            "├──────────────────┼─────────────────────────────────────────────────────────────────────────────────────────┤\n",
            "│ random_seed      │ 42                                                                                      │\n",
            "├──────────────────┼─────────────────────────────────────────────────────────────────────────────────────────┤\n",
            "│ data_format      │ \"<class 'pandas.core.frame.DataFrame'>\"                                                 │\n",
            "├──────────────────┼─────────────────────────────────────────────────────────────────────────────────────────┤\n",
            "│ torch_version    │ '2.2.1+cu121'                                                                           │\n",
            "├──────────────────┼─────────────────────────────────────────────────────────────────────────────────────────┤\n",
            "│ compute          │ {   'arch_list': [   'sm_50',                                                           │\n",
            "│                  │                      'sm_60',                                                           │\n",
            "│                  │                      'sm_70',                                                           │\n",
            "│                  │                      'sm_75',                                                           │\n",
            "│                  │                      'sm_80',                                                           │\n",
            "│                  │                      'sm_86',                                                           │\n",
            "│                  │                      'sm_90'],                                                          │\n",
            "│                  │     'devices': {   0: {   'device_capability': (7, 5),                                  │\n",
            "│                  │                           'device_properties': \"_CudaDeviceProperties(name='Tesla \"     │\n",
            "│                  │                                                \"T4', major=7, minor=5, \"                │\n",
            "│                  │                                                'total_memory=15102MB, '                 │\n",
            "│                  │                                                'multi_processor_count=40)',             │\n",
            "│                  │                           'gpu_type': 'Tesla T4'}},                                     │\n",
            "│                  │     'gencode_flags': '-gencode compute=compute_50,code=sm_50 -gencode '                 │\n",
            "│                  │                      'compute=compute_60,code=sm_60 -gencode '                          │\n",
            "│                  │                      'compute=compute_70,code=sm_70 -gencode '                          │\n",
            "│                  │                      'compute=compute_75,code=sm_75 -gencode '                          │\n",
            "│                  │                      'compute=compute_80,code=sm_80 -gencode '                          │\n",
            "│                  │                      'compute=compute_86,code=sm_86 -gencode '                          │\n",
            "│                  │                      'compute=compute_90,code=sm_90',                                   │\n",
            "│                  │     'gpus_per_node': 1,                                                                 │\n",
            "│                  │     'num_nodes': 1}                                                                     │\n",
            "╘══════════════════╧═════════════════════════════════════════════════════════════════════════════════════════╛\n",
            "INFO:ludwig.utils.print_utils:\n",
            "INFO:ludwig.utils.print_utils:╒═══════════════╕\n",
            "INFO:ludwig.utils.print_utils:│ LUDWIG CONFIG │\n",
            "INFO:ludwig.utils.print_utils:╘═══════════════╛\n",
            "INFO:ludwig.utils.print_utils:\n",
            "INFO:ludwig.api:User-specified config (with upgrades):\n",
            "\n",
            "INFO:ludwig.api:{   'adapter': {   'alpha': 16,\n",
            "                   'dropout': 0.05,\n",
            "                   'postprocessor': {   'bias_type': 'none',\n",
            "                                        'merge_adapter_into_base_model': False,\n",
            "                                        'progressbar': False},\n",
            "                   'pretrained_adapter_weights': None,\n",
            "                   'r': 8,\n",
            "                   'target_modules': None,\n",
            "                   'type': 'lora',\n",
            "                   'use_dora': False,\n",
            "                   'use_rslora': False},\n",
            "    'input_features': [   {   'encoder': {   'pretrained_model_name_or_path': 'distilbert/distilbert-base-multilingual-cased',\n",
            "                                             'regularizer': {   'type': 'l2',\n",
            "                                                                'weight': 0.001},\n",
            "                                             'trainable': True,\n",
            "                                             'type': 'auto_transformer'},\n",
            "                              'name': 'DESCRIPCION ',\n",
            "                              'preprocessing': {   'cache_encoder_embeddings': True,\n",
            "                                                   'tokenizer': 'hf_tokenizer'},\n",
            "                              'type': 'text'}],\n",
            "    'ludwig_version': '0.10.3',\n",
            "    'output_features': [   {   'calibration': True,\n",
            "                               'name': 'CATEGORIA',\n",
            "                               'type': 'binary'}],\n",
            "    'preprocessing': {'oversample_minority': 0.5},\n",
            "    'trainer': {   'batch_size': 32,\n",
            "                   'early_stop': 30,\n",
            "                   'epochs': 60,\n",
            "                   'learning_rate': 0.0001,\n",
            "                   'optimizer': {'type': 'adamw'}}}\n",
            "INFO:ludwig.api:\n",
            "Full config saved to:\n",
            "/content/results/api_experiment_run/api_experiment/model/model_hyperparameters.json\n",
            "INFO:ludwig.utils.print_utils:\n",
            "INFO:ludwig.utils.print_utils:╒═══════════════╕\n",
            "INFO:ludwig.utils.print_utils:│ PREPROCESSING │\n",
            "INFO:ludwig.utils.print_utils:╘═══════════════╛\n",
            "INFO:ludwig.utils.print_utils:\n",
            "INFO:ludwig.data.preprocessing:No cached dataset found at /content/0fa37fb2171311efb5930242ac1c000c.training.hdf5. Preprocessing the dataset.\n",
            "INFO:ludwig.data.preprocessing:Using full dataframe\n",
            "INFO:ludwig.data.preprocessing:Building dataset (it may take a while)\n",
            "/usr/local/lib/python3.10/dist-packages/huggingface_hub/file_download.py:1132: FutureWarning: `resume_download` is deprecated and will be removed in version 1.0.0. Downloads always resume when possible. If you want to force a new download, use `force_download=True`.\n",
            "  warnings.warn(\n",
            "/usr/local/lib/python3.10/dist-packages/huggingface_hub/utils/_token.py:89: UserWarning: \n",
            "The secret `HF_TOKEN` does not exist in your Colab secrets.\n",
            "To authenticate with the Hugging Face Hub, create a token in your settings tab (https://huggingface.co/settings/tokens), set it as secret in your Google Colab and restart your session.\n",
            "You will be able to reuse this secret in all of your notebooks.\n",
            "Please note that authentication is recommended but still optional to access public models or datasets.\n",
            "  warnings.warn(\n"
          ]
        },
        {
          "data": {
            "application/vnd.jupyter.widget-view+json": {
              "model_id": "b9c8968473ba4a2ca8960a96d6cb16be",
              "version_major": 2,
              "version_minor": 0
            },
            "text/plain": [
              "tokenizer_config.json:   0%|          | 0.00/49.0 [00:00<?, ?B/s]"
            ]
          },
          "metadata": {},
          "output_type": "display_data"
        },
        {
          "data": {
            "application/vnd.jupyter.widget-view+json": {
              "model_id": "5ffb3600a6a44ffaa41c7d358ed61545",
              "version_major": 2,
              "version_minor": 0
            },
            "text/plain": [
              "config.json:   0%|          | 0.00/466 [00:00<?, ?B/s]"
            ]
          },
          "metadata": {},
          "output_type": "display_data"
        },
        {
          "data": {
            "application/vnd.jupyter.widget-view+json": {
              "model_id": "802f8d101da84a8783fb45900643644f",
              "version_major": 2,
              "version_minor": 0
            },
            "text/plain": [
              "vocab.txt:   0%|          | 0.00/996k [00:00<?, ?B/s]"
            ]
          },
          "metadata": {},
          "output_type": "display_data"
        },
        {
          "data": {
            "application/vnd.jupyter.widget-view+json": {
              "model_id": "87f58f4da72f4faab2f5174a78fc7216",
              "version_major": 2,
              "version_minor": 0
            },
            "text/plain": [
              "tokenizer.json:   0%|          | 0.00/1.96M [00:00<?, ?B/s]"
            ]
          },
          "metadata": {},
          "output_type": "display_data"
        },
        {
          "name": "stderr",
          "output_type": "stream",
          "text": [
            "INFO:ludwig.utils.tokenizers:Loaded TorchText implementation of distilbert/distilbert-base-multilingual-cased tokenizer\n",
            "INFO:ludwig.features.text_feature:Max length of feature 'DESCRIPCION ': 295 (without start and stop symbols)\n",
            "WARNING:ludwig.features.text_feature:The max sequence length of the data, 295, is longer than the max sequence length set in the config, 256. Note that this will truncate all examples to max_sequence_length=256.\n",
            "INFO:ludwig.features.text_feature:Max sequence length is 256 for feature 'DESCRIPCION '\n",
            "WARNING:ludwig.features.binary_feature:Binary feature CATEGORIA has at least 1 unconventional boolean value: Cannot automatically map value 'POSITIVA' to a boolean and no `preprocessing.fallback_true_label` specified. We will now interpret NEGATIVA as 1 and the other values as 0. If this is incorrect, please use the category feature type or manually specify the true value with `preprocessing.fallback_true_label`.\n",
            "/usr/local/lib/python3.10/dist-packages/huggingface_hub/file_download.py:1132: FutureWarning: `resume_download` is deprecated and will be removed in version 1.0.0. Downloads always resume when possible. If you want to force a new download, use `force_download=True`.\n",
            "  warnings.warn(\n",
            "INFO:ludwig.utils.tokenizers:Loaded TorchText implementation of distilbert/distilbert-base-multilingual-cased tokenizer\n",
            "INFO:ludwig.data.preprocessing:Building dataset: DONE\n",
            "INFO:ludwig.data.cache.manager:Writing preprocessed training set cache to /content/0fa37fb2171311efb5930242ac1c000c.training.hdf5\n",
            "INFO:ludwig.data.cache.manager:Writing preprocessed validation set cache to /content/0fa37fb2171311efb5930242ac1c000c.validation.hdf5\n",
            "INFO:ludwig.data.cache.manager:Writing preprocessed test set cache to /content/0fa37fb2171311efb5930242ac1c000c.test.hdf5\n",
            "INFO:ludwig.data.cache.manager:Writing train set metadata to /content/0fa37fb2171311efb5930242ac1c000c.meta.json\n",
            "INFO:ludwig.api:\n",
            "Dataset Statistics\n",
            "INFO:ludwig.api:╒════════════╤═══════════════╤════════════════════╕\n",
            "│ Dataset    │   Size (Rows) │ Size (In Memory)   │\n",
            "╞════════════╪═══════════════╪════════════════════╡\n",
            "│ Training   │           231 │ 27.42 Kb           │\n",
            "├────────────┼───────────────┼────────────────────┤\n",
            "│ Validation │            33 │ 4.02 Kb            │\n",
            "├────────────┼───────────────┼────────────────────┤\n",
            "│ Test       │            66 │ 7.92 Kb            │\n",
            "╘════════════╧═══════════════╧════════════════════╛\n",
            "INFO:ludwig.utils.print_utils:\n",
            "INFO:ludwig.utils.print_utils:╒═══════╕\n",
            "INFO:ludwig.utils.print_utils:│ MODEL │\n",
            "INFO:ludwig.utils.print_utils:╘═══════╛\n",
            "INFO:ludwig.utils.print_utils:\n",
            "INFO:ludwig.api:Warnings and other logs:\n",
            "/usr/local/lib/python3.10/dist-packages/huggingface_hub/file_download.py:1132: FutureWarning: `resume_download` is deprecated and will be removed in version 1.0.0. Downloads always resume when possible. If you want to force a new download, use `force_download=True`.\n",
            "  warnings.warn(\n"
          ]
        },
        {
          "data": {
            "application/vnd.jupyter.widget-view+json": {
              "model_id": "1256b9175f4c40099b9d8469a030ee28",
              "version_major": 2,
              "version_minor": 0
            },
            "text/plain": [
              "model.safetensors:   0%|          | 0.00/542M [00:00<?, ?B/s]"
            ]
          },
          "metadata": {},
          "output_type": "display_data"
        },
        {
          "name": "stderr",
          "output_type": "stream",
          "text": [
            "INFO:ludwig.trainers.trainer:Tuning batch size...\n",
            "INFO:ludwig.utils.batch_size_tuner:Tuning batch size...\n",
            "INFO:ludwig.utils.batch_size_tuner:Exploring batch_size=1\n",
            "INFO:ludwig.utils.batch_size_tuner:Throughput at batch_size=1: 80.42923 samples/s\n",
            "INFO:ludwig.utils.batch_size_tuner:Exploring batch_size=2\n",
            "INFO:ludwig.utils.batch_size_tuner:Throughput at batch_size=2: 89.09360 samples/s\n",
            "INFO:ludwig.utils.batch_size_tuner:Exploring batch_size=4\n",
            "INFO:ludwig.utils.batch_size_tuner:Throughput at batch_size=4: 132.22588 samples/s\n",
            "INFO:ludwig.utils.batch_size_tuner:Exploring batch_size=8\n",
            "INFO:ludwig.utils.batch_size_tuner:Throughput at batch_size=8: 149.31795 samples/s\n",
            "INFO:ludwig.utils.batch_size_tuner:Exploring batch_size=16\n",
            "INFO:ludwig.utils.batch_size_tuner:Throughput at batch_size=16: 164.44785 samples/s\n",
            "INFO:ludwig.utils.batch_size_tuner:Exploring batch_size=32\n",
            "INFO:ludwig.utils.batch_size_tuner:Throughput at batch_size=32: 158.13893 samples/s\n",
            "INFO:ludwig.utils.batch_size_tuner:Throughput decrease at batch_size=32\n",
            "INFO:ludwig.utils.batch_size_tuner:Selected batch_size=16\n",
            "INFO:ludwig.utils.print_utils:\n",
            "INFO:ludwig.utils.print_utils:╒══════════╕\n",
            "INFO:ludwig.utils.print_utils:│ TRAINING │\n",
            "INFO:ludwig.utils.print_utils:╘══════════╛\n",
            "INFO:ludwig.utils.print_utils:\n",
            "INFO:ludwig.trainers.trainer:Creating fresh model training run.\n",
            "INFO:ludwig.trainers.trainer:Training for 480 step(s), approximately 60 epoch(s).\n",
            "INFO:ludwig.trainers.trainer:Early stopping policy: 30 round(s) of evaluation, or 240 step(s), approximately 30 epoch(s).\n",
            "\n",
            "INFO:ludwig.trainers.trainer:Starting with step 0, epoch: 0\n"
          ]
        },
        {
          "name": "stdout",
          "output_type": "stream",
          "text": [
            "Training:   2%|▏         | 8/480 [00:05<03:55,  2.00it/s, loss=10.2]"
          ]
        },
        {
          "name": "stderr",
          "output_type": "stream",
          "text": [
            "INFO:ludwig.trainers.trainer:\n",
            "Running evaluation for step: 8, epoch: 1\n"
          ]
        },
        {
          "name": "stdout",
          "output_type": "stream",
          "text": [
            "Evaluation valid: 100%|██████████| 2/2 [00:00<00:00,  9.13it/s]\n",
            "Evaluation test : 100%|██████████| 3/3 [00:00<00:00,  6.97it/s]"
          ]
        },
        {
          "name": "stderr",
          "output_type": "stream",
          "text": [
            "INFO:ludwig.trainers.trainer:Evaluation took 0.9033s\n",
            "\n",
            "INFO:ludwig.utils.metrics_printed_table:╒═══════════════╤══════════╤══════════════╤════════╕\n",
            "│               │    train │   validation │   test │\n",
            "╞═══════════════╪══════════╪══════════════╪════════╡\n",
            "│ accuracy      │   0.5065 │       0.6364 │ 0.4848 │\n",
            "├───────────────┼──────────┼──────────────┼────────┤\n",
            "│ loss          │ 208.1166 │      10.5010 │ 6.0346 │\n",
            "├───────────────┼──────────┼──────────────┼────────┤\n",
            "│ precision     │   0.3471 │       0.4286 │ 0.3171 │\n",
            "├───────────────┼──────────┼──────────────┼────────┤\n",
            "│ recall        │   0.5455 │       0.6000 │ 0.6842 │\n",
            "├───────────────┼──────────┼──────────────┼────────┤\n",
            "│ roc_auc       │   0.5109 │       0.5761 │ 0.5078 │\n",
            "├───────────────┼──────────┼──────────────┼────────┤\n",
            "│ specificity   │   0.4870 │       0.6522 │ 0.4043 │\n",
            "├───────────────┼──────────┼──────────────┼────────┤\n",
            "│ combined_loss │ 208.1166 │      10.5010 │ 6.0346 │\n",
            "╘═══════════════╧══════════╧══════════════╧════════╛\n",
            "INFO:ludwig.trainers.trainer:Evaluation validation metric: 'CATEGORIA' 'roc_auc' improved.\n",
            "INFO:ludwig.trainers.trainer:'CATEGORIA' 'roc_auc' increased by inf.\n",
            "INFO:ludwig.trainers.trainer:New best model saved.\n",
            "\n"
          ]
        },
        {
          "name": "stdout",
          "output_type": "stream",
          "text": [
            "\n",
            "Training:   3%|▎         | 16/480 [00:41<09:54,  1.28s/it, loss=74.5]"
          ]
        },
        {
          "name": "stderr",
          "output_type": "stream",
          "text": [
            "INFO:ludwig.trainers.trainer:\n",
            "Running evaluation for step: 16, epoch: 2\n"
          ]
        },
        {
          "name": "stdout",
          "output_type": "stream",
          "text": [
            "Evaluation valid: 100%|██████████| 2/2 [00:00<00:00,  9.38it/s]\n",
            "Evaluation test : 100%|██████████| 3/3 [00:00<00:00,  7.10it/s]"
          ]
        },
        {
          "name": "stderr",
          "output_type": "stream",
          "text": [
            "INFO:ludwig.trainers.trainer:Evaluation took 0.6744s\n",
            "\n",
            "INFO:ludwig.utils.metrics_printed_table:╒═══════════════╤═════════╤══════════════╤═════════╕\n",
            "│               │   train │   validation │    test │\n",
            "╞═══════════════╪═════════╪══════════════╪═════════╡\n",
            "│ accuracy      │  0.5411 │       0.6970 │  0.7121 │\n",
            "├───────────────┼─────────┼──────────────┼─────────┤\n",
            "│ loss          │ 45.9735 │       5.4511 │ 10.7828 │\n",
            "├───────────────┼─────────┼──────────────┼─────────┤\n",
            "│ precision     │  0.3441 │       0.0000 │  0.0000 │\n",
            "├───────────────┼─────────┼──────────────┼─────────┤\n",
            "│ recall        │  0.4156 │       0.0000 │  0.0000 │\n",
            "├───────────────┼─────────┼──────────────┼─────────┤\n",
            "│ roc_auc       │  0.4913 │       0.7217 │  0.7884 │\n",
            "├───────────────┼─────────┼──────────────┼─────────┤\n",
            "│ specificity   │  0.6039 │       1.0000 │  1.0000 │\n",
            "├───────────────┼─────────┼──────────────┼─────────┤\n",
            "│ combined_loss │ 45.9735 │       5.4511 │ 10.7828 │\n",
            "╘═══════════════╧═════════╧══════════════╧═════════╛\n",
            "INFO:ludwig.trainers.trainer:Evaluation validation metric: 'CATEGORIA' 'roc_auc' improved.\n",
            "INFO:ludwig.trainers.trainer:'CATEGORIA' 'roc_auc' increased by 0.146.\n",
            "INFO:ludwig.trainers.trainer:New best model saved.\n",
            "\n"
          ]
        },
        {
          "name": "stdout",
          "output_type": "stream",
          "text": [
            "\n",
            "Training:   5%|▌         | 24/480 [01:16<09:44,  1.28s/it, loss=3.75]"
          ]
        },
        {
          "name": "stderr",
          "output_type": "stream",
          "text": [
            "INFO:ludwig.trainers.trainer:\n",
            "Running evaluation for step: 24, epoch: 3\n"
          ]
        },
        {
          "name": "stdout",
          "output_type": "stream",
          "text": [
            "Evaluation valid: 100%|██████████| 2/2 [00:00<00:00,  9.27it/s]\n",
            "Evaluation test : 100%|██████████| 3/3 [00:00<00:00,  6.93it/s]"
          ]
        },
        {
          "name": "stderr",
          "output_type": "stream",
          "text": [
            "INFO:ludwig.trainers.trainer:Evaluation took 0.6820s\n",
            "\n",
            "INFO:ludwig.utils.metrics_printed_table:╒═══════════════╤═════════╤══════════════╤═════════╕\n",
            "│               │   train │   validation │    test │\n",
            "╞═══════════════╪═════════╪══════════════╪═════════╡\n",
            "│ accuracy      │  0.5541 │       0.4848 │  0.4091 │\n",
            "├───────────────┼─────────┼──────────────┼─────────┤\n",
            "│ loss          │ 33.3042 │       7.1134 │ 14.5339 │\n",
            "├───────────────┼─────────┼──────────────┼─────────┤\n",
            "│ precision     │  0.3587 │       0.3478 │  0.3214 │\n",
            "├───────────────┼─────────┼──────────────┼─────────┤\n",
            "│ recall        │  0.4286 │       0.8000 │  0.9474 │\n",
            "├───────────────┼─────────┼──────────────┼─────────┤\n",
            "│ roc_auc       │  0.5329 │       0.5739 │  0.6366 │\n",
            "├───────────────┼─────────┼──────────────┼─────────┤\n",
            "│ specificity   │  0.6169 │       0.3478 │  0.1915 │\n",
            "├───────────────┼─────────┼──────────────┼─────────┤\n",
            "│ combined_loss │ 33.3042 │       7.1134 │ 14.5339 │\n",
            "╘═══════════════╧═════════╧══════════════╧═════════╛\n",
            "INFO:ludwig.trainers.trainer:Last improvement of CATEGORIA validation roc_auc happened 8 step(s) ago.\n",
            "\n"
          ]
        },
        {
          "name": "stdout",
          "output_type": "stream",
          "text": [
            "\n",
            "Training:   7%|▋         | 32/480 [01:43<08:08,  1.09s/it, loss=20.7]"
          ]
        },
        {
          "name": "stderr",
          "output_type": "stream",
          "text": [
            "INFO:ludwig.trainers.trainer:\n",
            "Running evaluation for step: 32, epoch: 4\n"
          ]
        },
        {
          "name": "stdout",
          "output_type": "stream",
          "text": [
            "Evaluation valid: 100%|██████████| 2/2 [00:00<00:00,  9.02it/s]\n",
            "Evaluation test : 100%|██████████| 3/3 [00:00<00:00,  6.89it/s]"
          ]
        },
        {
          "name": "stderr",
          "output_type": "stream",
          "text": [
            "INFO:ludwig.trainers.trainer:Evaluation took 0.6938s\n",
            "\n",
            "INFO:ludwig.utils.metrics_printed_table:╒═══════════════╤═════════╤══════════════╤═════════╕\n",
            "│               │   train │   validation │    test │\n",
            "╞═══════════════╪═════════╪══════════════╪═════════╡\n",
            "│ accuracy      │  0.6104 │       0.6970 │  0.7121 │\n",
            "├───────────────┼─────────┼──────────────┼─────────┤\n",
            "│ loss          │ 11.1486 │      15.7397 │ 35.4092 │\n",
            "├───────────────┼─────────┼──────────────┼─────────┤\n",
            "│ precision     │  0.4316 │       0.0000 │  0.0000 │\n",
            "├───────────────┼─────────┼──────────────┼─────────┤\n",
            "│ recall        │  0.5325 │       0.0000 │  0.0000 │\n",
            "├───────────────┼─────────┼──────────────┼─────────┤\n",
            "│ roc_auc       │  0.6040 │       0.5500 │  0.5000 │\n",
            "├───────────────┼─────────┼──────────────┼─────────┤\n",
            "│ specificity   │  0.6494 │       1.0000 │  1.0000 │\n",
            "├───────────────┼─────────┼──────────────┼─────────┤\n",
            "│ combined_loss │ 11.1486 │      15.7397 │ 35.4092 │\n",
            "╘═══════════════╧═════════╧══════════════╧═════════╛\n",
            "INFO:ludwig.trainers.trainer:Last improvement of CATEGORIA validation roc_auc happened 16 step(s) ago.\n",
            "\n"
          ]
        },
        {
          "name": "stdout",
          "output_type": "stream",
          "text": [
            "\n",
            "Training:   8%|▊         | 40/480 [02:27<11:11,  1.53s/it, loss=29.3]"
          ]
        },
        {
          "name": "stderr",
          "output_type": "stream",
          "text": [
            "INFO:ludwig.trainers.trainer:\n",
            "Running evaluation for step: 40, epoch: 5\n"
          ]
        },
        {
          "name": "stdout",
          "output_type": "stream",
          "text": [
            "Evaluation valid: 100%|██████████| 2/2 [00:00<00:00,  9.01it/s]\n",
            "Evaluation test : 100%|██████████| 3/3 [00:00<00:00,  6.84it/s]"
          ]
        },
        {
          "name": "stderr",
          "output_type": "stream",
          "text": [
            "INFO:ludwig.trainers.trainer:Evaluation took 0.6960s\n",
            "\n",
            "INFO:ludwig.utils.metrics_printed_table:╒═══════════════╤═════════╤══════════════╤═════════╕\n",
            "│               │   train │   validation │    test │\n",
            "╞═══════════════╪═════════╪══════════════╪═════════╡\n",
            "│ accuracy      │  0.5584 │       0.6970 │  0.7121 │\n",
            "├───────────────┼─────────┼──────────────┼─────────┤\n",
            "│ loss          │ 39.3134 │      15.3849 │ 35.3261 │\n",
            "├───────────────┼─────────┼──────────────┼─────────┤\n",
            "│ precision     │  0.4074 │       0.0000 │  0.0000 │\n",
            "├───────────────┼─────────┼──────────────┼─────────┤\n",
            "│ recall        │  0.7143 │       0.0000 │  0.0000 │\n",
            "├───────────────┼─────────┼──────────────┼─────────┤\n",
            "│ roc_auc       │  0.5941 │       0.5000 │  0.5263 │\n",
            "├───────────────┼─────────┼──────────────┼─────────┤\n",
            "│ specificity   │  0.4805 │       1.0000 │  1.0000 │\n",
            "├───────────────┼─────────┼──────────────┼─────────┤\n",
            "│ combined_loss │ 39.3134 │      15.3849 │ 35.3261 │\n",
            "╘═══════════════╧═════════╧══════════════╧═════════╛\n",
            "INFO:ludwig.trainers.trainer:Last improvement of CATEGORIA validation roc_auc happened 24 step(s) ago.\n",
            "\n"
          ]
        },
        {
          "name": "stdout",
          "output_type": "stream",
          "text": [
            "\n",
            "Training:  10%|█         | 48/480 [03:51<18:13,  2.53s/it, loss=51]"
          ]
        },
        {
          "name": "stderr",
          "output_type": "stream",
          "text": [
            "INFO:ludwig.trainers.trainer:\n",
            "Running evaluation for step: 48, epoch: 6\n"
          ]
        },
        {
          "name": "stdout",
          "output_type": "stream",
          "text": [
            "Evaluation valid: 100%|██████████| 2/2 [00:00<00:00,  8.55it/s]\n",
            "Evaluation test : 100%|██████████| 3/3 [00:00<00:00,  6.51it/s]"
          ]
        },
        {
          "name": "stderr",
          "output_type": "stream",
          "text": [
            "INFO:ludwig.trainers.trainer:Evaluation took 0.7405s\n",
            "\n",
            "INFO:ludwig.utils.metrics_printed_table:╒═══════════════╤═════════╤══════════════╤═════════╕\n",
            "│               │   train │   validation │    test │\n",
            "╞═══════════════╪═════════╪══════════════╪═════════╡\n",
            "│ accuracy      │  0.4156 │       0.6970 │  0.7121 │\n",
            "├───────────────┼─────────┼──────────────┼─────────┤\n",
            "│ loss          │ 34.4247 │      17.1447 │ 38.6185 │\n",
            "├───────────────┼─────────┼──────────────┼─────────┤\n",
            "│ precision     │  0.2698 │       0.0000 │  0.0000 │\n",
            "├───────────────┼─────────┼──────────────┼─────────┤\n",
            "│ recall        │  0.4416 │       0.0000 │  0.0000 │\n",
            "├───────────────┼─────────┼──────────────┼─────────┤\n",
            "│ roc_auc       │  0.4632 │       0.5000 │  0.5000 │\n",
            "├───────────────┼─────────┼──────────────┼─────────┤\n",
            "│ specificity   │  0.4026 │       1.0000 │  1.0000 │\n",
            "├───────────────┼─────────┼──────────────┼─────────┤\n",
            "│ combined_loss │ 34.4247 │      17.1447 │ 38.6185 │\n",
            "╘═══════════════╧═════════╧══════════════╧═════════╛\n",
            "INFO:ludwig.trainers.trainer:Last improvement of CATEGORIA validation roc_auc happened 32 step(s) ago.\n",
            "\n"
          ]
        },
        {
          "name": "stdout",
          "output_type": "stream",
          "text": [
            "\n",
            "Training:  12%|█▏        | 56/480 [05:58<25:43,  3.64s/it, loss=49.7]"
          ]
        },
        {
          "name": "stderr",
          "output_type": "stream",
          "text": [
            "INFO:ludwig.trainers.trainer:\n",
            "Running evaluation for step: 56, epoch: 7\n"
          ]
        },
        {
          "name": "stdout",
          "output_type": "stream",
          "text": [
            "Evaluation valid: 100%|██████████| 2/2 [00:00<00:00,  8.56it/s]\n",
            "Evaluation test : 100%|██████████| 3/3 [00:00<00:00,  6.49it/s]"
          ]
        },
        {
          "name": "stderr",
          "output_type": "stream",
          "text": [
            "INFO:ludwig.trainers.trainer:Evaluation took 0.7377s\n",
            "\n",
            "INFO:ludwig.utils.metrics_printed_table:╒═══════════════╤═════════╤══════════════╤═════════╕\n",
            "│               │   train │   validation │    test │\n",
            "╞═══════════════╪═════════╪══════════════╪═════════╡\n",
            "│ accuracy      │  0.5584 │       0.6970 │  0.7121 │\n",
            "├───────────────┼─────────┼──────────────┼─────────┤\n",
            "│ loss          │ 25.4686 │      16.9247 │ 36.9729 │\n",
            "├───────────────┼─────────┼──────────────┼─────────┤\n",
            "│ precision     │  0.3913 │       0.0000 │  0.0000 │\n",
            "├───────────────┼─────────┼──────────────┼─────────┤\n",
            "│ recall        │  0.5844 │       0.0000 │  0.0000 │\n",
            "├───────────────┼─────────┼──────────────┼─────────┤\n",
            "│ roc_auc       │  0.5541 │       0.5000 │  0.5000 │\n",
            "├───────────────┼─────────┼──────────────┼─────────┤\n",
            "│ specificity   │  0.5455 │       1.0000 │  1.0000 │\n",
            "├───────────────┼─────────┼──────────────┼─────────┤\n",
            "│ combined_loss │ 25.4686 │      16.9247 │ 36.9729 │\n",
            "╘═══════════════╧═════════╧══════════════╧═════════╛\n",
            "INFO:ludwig.trainers.trainer:Last improvement of CATEGORIA validation roc_auc happened 40 step(s) ago.\n",
            "\n"
          ]
        },
        {
          "name": "stdout",
          "output_type": "stream",
          "text": [
            "\n",
            "Training:  13%|█▎        | 64/480 [08:01<25:10,  3.63s/it, loss=13.7]"
          ]
        },
        {
          "name": "stderr",
          "output_type": "stream",
          "text": [
            "INFO:ludwig.trainers.trainer:\n",
            "Running evaluation for step: 64, epoch: 8\n"
          ]
        },
        {
          "name": "stdout",
          "output_type": "stream",
          "text": [
            "Evaluation valid: 100%|██████████| 2/2 [00:00<00:00,  8.15it/s]\n",
            "Evaluation test : 100%|██████████| 3/3 [00:00<00:00,  6.52it/s]"
          ]
        },
        {
          "name": "stderr",
          "output_type": "stream",
          "text": [
            "INFO:ludwig.trainers.trainer:Evaluation took 0.7404s\n",
            "\n",
            "INFO:ludwig.utils.metrics_printed_table:╒═══════════════╤═════════╤══════════════╤════════╕\n",
            "│               │   train │   validation │   test │\n",
            "╞═══════════════╪═════════╪══════════════╪════════╡\n",
            "│ accuracy      │  0.5887 │       0.6364 │ 0.6970 │\n",
            "├───────────────┼─────────┼──────────────┼────────┤\n",
            "│ loss          │ 15.1738 │       1.6978 │ 2.8057 │\n",
            "├───────────────┼─────────┼──────────────┼────────┤\n",
            "│ precision     │  0.4135 │       0.4375 │ 0.4839 │\n",
            "├───────────────┼─────────┼──────────────┼────────┤\n",
            "│ recall        │  0.5584 │       0.7000 │ 0.7895 │\n",
            "├───────────────┼─────────┼──────────────┼────────┤\n",
            "│ roc_auc       │  0.5863 │       0.8261 │ 0.8466 │\n",
            "├───────────────┼─────────┼──────────────┼────────┤\n",
            "│ specificity   │  0.6039 │       0.6087 │ 0.6596 │\n",
            "├───────────────┼─────────┼──────────────┼────────┤\n",
            "│ combined_loss │ 15.1738 │       1.6978 │ 2.8057 │\n",
            "╘═══════════════╧═════════╧══════════════╧════════╛\n",
            "INFO:ludwig.trainers.trainer:Evaluation validation metric: 'CATEGORIA' 'roc_auc' improved.\n",
            "INFO:ludwig.trainers.trainer:'CATEGORIA' 'roc_auc' increased by 0.104.\n",
            "INFO:ludwig.trainers.trainer:New best model saved.\n",
            "\n"
          ]
        },
        {
          "name": "stdout",
          "output_type": "stream",
          "text": [
            "\n",
            "Training:  15%|█▌        | 72/480 [09:48<22:09,  3.26s/it, loss=3.37]"
          ]
        },
        {
          "name": "stderr",
          "output_type": "stream",
          "text": [
            "INFO:ludwig.trainers.trainer:\n",
            "Running evaluation for step: 72, epoch: 9\n"
          ]
        },
        {
          "name": "stdout",
          "output_type": "stream",
          "text": [
            "Evaluation valid: 100%|██████████| 2/2 [00:00<00:00,  8.24it/s]\n",
            "Evaluation test : 100%|██████████| 3/3 [00:00<00:00,  6.25it/s]"
          ]
        },
        {
          "name": "stderr",
          "output_type": "stream",
          "text": [
            "INFO:ludwig.trainers.trainer:Evaluation took 0.7571s\n",
            "\n",
            "INFO:ludwig.utils.metrics_printed_table:╒═══════════════╤═════════╤══════════════╤═════════╕\n",
            "│               │   train │   validation │    test │\n",
            "╞═══════════════╪═════════╪══════════════╪═════════╡\n",
            "│ accuracy      │  0.8182 │       0.6970 │  0.7121 │\n",
            "├───────────────┼─────────┼──────────────┼─────────┤\n",
            "│ loss          │  3.1516 │       7.1398 │ 15.0586 │\n",
            "├───────────────┼─────────┼──────────────┼─────────┤\n",
            "│ precision     │  0.7108 │       0.0000 │  0.0000 │\n",
            "├───────────────┼─────────┼──────────────┼─────────┤\n",
            "│ recall        │  0.7662 │       0.0000 │  0.0000 │\n",
            "├───────────────┼─────────┼──────────────┼─────────┤\n",
            "│ roc_auc       │  0.8586 │       0.8174 │  0.8365 │\n",
            "├───────────────┼─────────┼──────────────┼─────────┤\n",
            "│ specificity   │  0.8442 │       1.0000 │  1.0000 │\n",
            "├───────────────┼─────────┼──────────────┼─────────┤\n",
            "│ combined_loss │  3.1516 │       7.1398 │ 15.0586 │\n",
            "╘═══════════════╧═════════╧══════════════╧═════════╛\n",
            "INFO:ludwig.trainers.trainer:Last improvement of CATEGORIA validation roc_auc happened 8 step(s) ago.\n",
            "\n"
          ]
        },
        {
          "name": "stdout",
          "output_type": "stream",
          "text": [
            "\n",
            "Training:  17%|█▋        | 80/480 [11:06<16:37,  2.49s/it, loss=13.1]"
          ]
        },
        {
          "name": "stderr",
          "output_type": "stream",
          "text": [
            "INFO:ludwig.trainers.trainer:\n",
            "Running evaluation for step: 80, epoch: 10\n"
          ]
        },
        {
          "name": "stdout",
          "output_type": "stream",
          "text": [
            "Evaluation valid: 100%|██████████| 2/2 [00:00<00:00,  8.75it/s]\n",
            "Evaluation test : 100%|██████████| 3/3 [00:00<00:00,  6.41it/s]"
          ]
        },
        {
          "name": "stderr",
          "output_type": "stream",
          "text": [
            "INFO:ludwig.trainers.trainer:Evaluation took 0.7280s\n",
            "\n",
            "INFO:ludwig.utils.metrics_printed_table:╒═══════════════╤═════════╤══════════════╤═════════╕\n",
            "│               │   train │   validation │    test │\n",
            "╞═══════════════╪═════════╪══════════════╪═════════╡\n",
            "│ accuracy      │  0.5628 │       0.6970 │  0.7121 │\n",
            "├───────────────┼─────────┼──────────────┼─────────┤\n",
            "│ loss          │ 21.0102 │       9.8660 │ 16.6988 │\n",
            "├───────────────┼─────────┼──────────────┼─────────┤\n",
            "│ precision     │  0.4032 │       0.0000 │  0.0000 │\n",
            "├───────────────┼─────────┼──────────────┼─────────┤\n",
            "│ recall        │  0.6494 │       0.0000 │  0.0000 │\n",
            "├───────────────┼─────────┼──────────────┼─────────┤\n",
            "│ roc_auc       │  0.6462 │       0.7826 │  0.8365 │\n",
            "├───────────────┼─────────┼──────────────┼─────────┤\n",
            "│ specificity   │  0.5195 │       1.0000 │  1.0000 │\n",
            "├───────────────┼─────────┼──────────────┼─────────┤\n",
            "│ combined_loss │ 21.0102 │       9.8660 │ 16.6988 │\n",
            "╘═══════════════╧═════════╧══════════════╧═════════╛\n",
            "INFO:ludwig.trainers.trainer:Last improvement of CATEGORIA validation roc_auc happened 16 step(s) ago.\n",
            "\n"
          ]
        },
        {
          "name": "stdout",
          "output_type": "stream",
          "text": [
            "\n",
            "Training:  18%|█▊        | 88/480 [12:50<20:08,  3.08s/it, loss=0]"
          ]
        },
        {
          "name": "stderr",
          "output_type": "stream",
          "text": [
            "INFO:ludwig.trainers.trainer:\n",
            "Running evaluation for step: 88, epoch: 11\n"
          ]
        },
        {
          "name": "stdout",
          "output_type": "stream",
          "text": [
            "Evaluation valid: 100%|██████████| 2/2 [00:00<00:00,  8.24it/s]\n",
            "Evaluation test : 100%|██████████| 3/3 [00:00<00:00,  6.16it/s]"
          ]
        },
        {
          "name": "stderr",
          "output_type": "stream",
          "text": [
            "INFO:ludwig.trainers.trainer:Evaluation took 0.7622s\n",
            "\n",
            "INFO:ludwig.utils.metrics_printed_table:╒═══════════════╤═════════╤══════════════╤════════╕\n",
            "│               │   train │   validation │   test │\n",
            "╞═══════════════╪═════════╪══════════════╪════════╡\n",
            "│ accuracy      │  0.8312 │       0.8182 │ 0.8636 │\n",
            "├───────────────┼─────────┼──────────────┼────────┤\n",
            "│ loss          │  6.9367 │       8.1489 │ 3.8211 │\n",
            "├───────────────┼─────────┼──────────────┼────────┤\n",
            "│ precision     │  0.7436 │       0.6667 │ 0.8125 │\n",
            "├───────────────┼─────────┼──────────────┼────────┤\n",
            "│ recall        │  0.7532 │       0.8000 │ 0.6842 │\n",
            "├───────────────┼─────────┼──────────────┼────────┤\n",
            "│ roc_auc       │  0.8823 │       0.7609 │ 0.9261 │\n",
            "├───────────────┼─────────┼──────────────┼────────┤\n",
            "│ specificity   │  0.8701 │       0.8261 │ 0.9362 │\n",
            "├───────────────┼─────────┼──────────────┼────────┤\n",
            "│ combined_loss │  6.9367 │       8.1489 │ 3.8211 │\n",
            "╘═══════════════╧═════════╧══════════════╧════════╛\n",
            "INFO:ludwig.trainers.trainer:Last improvement of CATEGORIA validation roc_auc happened 24 step(s) ago.\n",
            "\n"
          ]
        },
        {
          "name": "stdout",
          "output_type": "stream",
          "text": [
            "\n",
            "Training:  20%|██        | 96/480 [13:46<12:16,  1.92s/it, loss=0]"
          ]
        },
        {
          "name": "stderr",
          "output_type": "stream",
          "text": [
            "INFO:ludwig.trainers.trainer:\n",
            "Running evaluation for step: 96, epoch: 12\n"
          ]
        },
        {
          "name": "stdout",
          "output_type": "stream",
          "text": [
            "Evaluation valid: 100%|██████████| 2/2 [00:00<00:00,  8.54it/s]\n",
            "Evaluation test : 100%|██████████| 3/3 [00:00<00:00,  6.43it/s]"
          ]
        },
        {
          "name": "stderr",
          "output_type": "stream",
          "text": [
            "INFO:ludwig.trainers.trainer:Evaluation took 0.7398s\n",
            "\n",
            "INFO:ludwig.utils.metrics_printed_table:╒═══════════════╤═════════╤══════════════╤═════════╕\n",
            "│               │   train │   validation │    test │\n",
            "╞═══════════════╪═════════╪══════════════╪═════════╡\n",
            "│ accuracy      │  0.8701 │       0.6061 │  0.5758 │\n",
            "├───────────────┼─────────┼──────────────┼─────────┤\n",
            "│ loss          │  3.8408 │      10.4178 │ 16.9379 │\n",
            "├───────────────┼─────────┼──────────────┼─────────┤\n",
            "│ precision     │  0.8615 │       0.4286 │  0.4043 │\n",
            "├───────────────┼─────────┼──────────────┼─────────┤\n",
            "│ recall        │  0.7273 │       0.9000 │  1.0000 │\n",
            "├───────────────┼─────────┼──────────────┼─────────┤\n",
            "│ roc_auc       │  0.9506 │       0.6652 │  0.7766 │\n",
            "├───────────────┼─────────┼──────────────┼─────────┤\n",
            "│ specificity   │  0.9416 │       0.4783 │  0.4043 │\n",
            "├───────────────┼─────────┼──────────────┼─────────┤\n",
            "│ combined_loss │  3.8408 │      10.4178 │ 16.9379 │\n",
            "╘═══════════════╧═════════╧══════════════╧═════════╛\n",
            "INFO:ludwig.trainers.trainer:Last improvement of CATEGORIA validation roc_auc happened 32 step(s) ago.\n",
            "\n"
          ]
        },
        {
          "name": "stdout",
          "output_type": "stream",
          "text": [
            "\n",
            "Training:  22%|██▏       | 104/480 [15:08<15:42,  2.51s/it, loss=1.15]"
          ]
        },
        {
          "name": "stderr",
          "output_type": "stream",
          "text": [
            "INFO:ludwig.trainers.trainer:\n",
            "Running evaluation for step: 104, epoch: 13\n"
          ]
        },
        {
          "name": "stdout",
          "output_type": "stream",
          "text": [
            "Evaluation valid: 100%|██████████| 2/2 [00:00<00:00,  8.17it/s]\n",
            "Evaluation test : 100%|██████████| 3/3 [00:00<00:00,  6.21it/s]"
          ]
        },
        {
          "name": "stderr",
          "output_type": "stream",
          "text": [
            "INFO:ludwig.trainers.trainer:Evaluation took 0.7685s\n",
            "\n",
            "INFO:ludwig.utils.metrics_printed_table:╒═══════════════╤═════════╤══════════════╤════════╕\n",
            "│               │   train │   validation │   test │\n",
            "╞═══════════════╪═════════╪══════════════╪════════╡\n",
            "│ accuracy      │  0.7576 │       0.6667 │ 0.7879 │\n",
            "├───────────────┼─────────┼──────────────┼────────┤\n",
            "│ loss          │  6.0011 │       8.6091 │ 8.0246 │\n",
            "├───────────────┼─────────┼──────────────┼────────┤\n",
            "│ precision     │  0.6129 │       0.4706 │ 0.5806 │\n",
            "├───────────────┼─────────┼──────────────┼────────┤\n",
            "│ recall        │  0.7403 │       0.8000 │ 0.9474 │\n",
            "├───────────────┼─────────┼──────────────┼────────┤\n",
            "│ roc_auc       │  0.8465 │       0.7565 │ 0.8634 │\n",
            "├───────────────┼─────────┼──────────────┼────────┤\n",
            "│ specificity   │  0.7662 │       0.6087 │ 0.7234 │\n",
            "├───────────────┼─────────┼──────────────┼────────┤\n",
            "│ combined_loss │  6.0011 │       8.6091 │ 8.0246 │\n",
            "╘═══════════════╧═════════╧══════════════╧════════╛\n",
            "INFO:ludwig.trainers.trainer:Last improvement of CATEGORIA validation roc_auc happened 40 step(s) ago.\n",
            "\n"
          ]
        },
        {
          "name": "stdout",
          "output_type": "stream",
          "text": [
            "\n",
            "Training:  23%|██▎       | 112/480 [16:42<17:27,  2.85s/it, loss=0.844]"
          ]
        },
        {
          "name": "stderr",
          "output_type": "stream",
          "text": [
            "INFO:ludwig.trainers.trainer:\n",
            "Running evaluation for step: 112, epoch: 14\n"
          ]
        },
        {
          "name": "stdout",
          "output_type": "stream",
          "text": [
            "Evaluation valid: 100%|██████████| 2/2 [00:00<00:00,  8.42it/s]\n",
            "Evaluation test : 100%|██████████| 3/3 [00:00<00:00,  6.60it/s]"
          ]
        },
        {
          "name": "stderr",
          "output_type": "stream",
          "text": [
            "INFO:ludwig.trainers.trainer:Evaluation took 0.7252s\n",
            "\n",
            "INFO:ludwig.utils.metrics_printed_table:╒═══════════════╤═════════╤══════════════╤═════════╕\n",
            "│               │   train │   validation │    test │\n",
            "╞═══════════════╪═════════╪══════════════╪═════════╡\n",
            "│ accuracy      │  0.9481 │       0.8182 │  0.8182 │\n",
            "├───────────────┼─────────┼──────────────┼─────────┤\n",
            "│ loss          │  1.5232 │       8.6509 │ 10.9320 │\n",
            "├───────────────┼─────────┼──────────────┼─────────┤\n",
            "│ precision     │  0.9012 │       0.6250 │  0.6296 │\n",
            "├───────────────┼─────────┼──────────────┼─────────┤\n",
            "│ recall        │  0.9481 │       1.0000 │  0.8947 │\n",
            "├───────────────┼─────────┼──────────────┼─────────┤\n",
            "│ roc_auc       │  0.9787 │       0.8761 │  0.8656 │\n",
            "├───────────────┼─────────┼──────────────┼─────────┤\n",
            "│ specificity   │  0.9481 │       0.7391 │  0.7872 │\n",
            "├───────────────┼─────────┼──────────────┼─────────┤\n",
            "│ combined_loss │  1.5232 │       8.6509 │ 10.9320 │\n",
            "╘═══════════════╧═════════╧══════════════╧═════════╛\n",
            "INFO:ludwig.trainers.trainer:Evaluation validation metric: 'CATEGORIA' 'roc_auc' improved.\n",
            "INFO:ludwig.trainers.trainer:'CATEGORIA' 'roc_auc' increased by 0.05.\n",
            "INFO:ludwig.trainers.trainer:New best model saved.\n",
            "\n"
          ]
        },
        {
          "name": "stdout",
          "output_type": "stream",
          "text": [
            "\n",
            "Training:  25%|██▌       | 120/480 [18:49<21:56,  3.66s/it, loss=0]"
          ]
        },
        {
          "name": "stderr",
          "output_type": "stream",
          "text": [
            "INFO:ludwig.trainers.trainer:\n",
            "Running evaluation for step: 120, epoch: 15\n"
          ]
        },
        {
          "name": "stdout",
          "output_type": "stream",
          "text": [
            "Evaluation valid: 100%|██████████| 2/2 [00:00<00:00,  8.25it/s]\n",
            "Evaluation test : 100%|██████████| 3/3 [00:00<00:00,  6.09it/s]"
          ]
        },
        {
          "name": "stderr",
          "output_type": "stream",
          "text": [
            "INFO:ludwig.trainers.trainer:Evaluation took 0.7743s\n",
            "\n",
            "INFO:ludwig.utils.metrics_printed_table:╒═══════════════╤═════════╤══════════════╤════════╕\n",
            "│               │   train │   validation │   test │\n",
            "╞═══════════════╪═════════╪══════════════╪════════╡\n",
            "│ accuracy      │  0.9654 │       0.7879 │ 0.8788 │\n",
            "├───────────────┼─────────┼──────────────┼────────┤\n",
            "│ loss          │  1.9333 │       9.3529 │ 4.6245 │\n",
            "├───────────────┼─────────┼──────────────┼────────┤\n",
            "│ precision     │  0.9600 │       0.6364 │ 0.7895 │\n",
            "├───────────────┼─────────┼──────────────┼────────┤\n",
            "│ recall        │  0.9351 │       0.7000 │ 0.7895 │\n",
            "├───────────────┼─────────┼──────────────┼────────┤\n",
            "│ roc_auc       │  0.9788 │       0.7826 │ 0.9205 │\n",
            "├───────────────┼─────────┼──────────────┼────────┤\n",
            "│ specificity   │  0.9805 │       0.8261 │ 0.9149 │\n",
            "├───────────────┼─────────┼──────────────┼────────┤\n",
            "│ combined_loss │  1.9333 │       9.3529 │ 4.6245 │\n",
            "╘═══════════════╧═════════╧══════════════╧════════╛\n",
            "INFO:ludwig.trainers.trainer:Last improvement of CATEGORIA validation roc_auc happened 8 step(s) ago.\n",
            "\n"
          ]
        },
        {
          "name": "stdout",
          "output_type": "stream",
          "text": [
            "\n",
            "Training:  27%|██▋       | 128/480 [19:32<09:42,  1.65s/it, loss=0]"
          ]
        },
        {
          "name": "stderr",
          "output_type": "stream",
          "text": [
            "INFO:ludwig.trainers.trainer:\n",
            "Running evaluation for step: 128, epoch: 16\n"
          ]
        },
        {
          "name": "stdout",
          "output_type": "stream",
          "text": [
            "Evaluation valid: 100%|██████████| 2/2 [00:00<00:00,  8.14it/s]\n",
            "Evaluation test : 100%|██████████| 3/3 [00:00<00:00,  6.49it/s]"
          ]
        },
        {
          "name": "stderr",
          "output_type": "stream",
          "text": [
            "INFO:ludwig.trainers.trainer:Evaluation took 0.7517s\n",
            "\n",
            "INFO:ludwig.utils.metrics_printed_table:╒═══════════════╤═════════╤══════════════╤═════════╕\n",
            "│               │   train │   validation │    test │\n",
            "╞═══════════════╪═════════╪══════════════╪═════════╡\n",
            "│ accuracy      │  0.9697 │       0.6061 │  0.6364 │\n",
            "├───────────────┼─────────┼──────────────┼─────────┤\n",
            "│ loss          │  1.1091 │      14.2244 │ 12.4226 │\n",
            "├───────────────┼─────────┼──────────────┼─────────┤\n",
            "│ precision     │  0.9730 │       0.4286 │  0.4390 │\n",
            "├───────────────┼─────────┼──────────────┼─────────┤\n",
            "│ recall        │  0.9351 │       0.9000 │  0.9474 │\n",
            "├───────────────┼─────────┼──────────────┼─────────┤\n",
            "│ roc_auc       │  0.9916 │       0.6913 │  0.8208 │\n",
            "├───────────────┼─────────┼──────────────┼─────────┤\n",
            "│ specificity   │  0.9870 │       0.4783 │  0.5106 │\n",
            "├───────────────┼─────────┼──────────────┼─────────┤\n",
            "│ combined_loss │  1.1091 │      14.2244 │ 12.4226 │\n",
            "╘═══════════════╧═════════╧══════════════╧═════════╛\n",
            "INFO:ludwig.trainers.trainer:Last improvement of CATEGORIA validation roc_auc happened 16 step(s) ago.\n",
            "\n"
          ]
        },
        {
          "name": "stdout",
          "output_type": "stream",
          "text": [
            "\n",
            "Training:  28%|██▊       | 136/480 [20:56<14:29,  2.53s/it, loss=0]"
          ]
        },
        {
          "name": "stderr",
          "output_type": "stream",
          "text": [
            "INFO:ludwig.trainers.trainer:\n",
            "Running evaluation for step: 136, epoch: 17\n"
          ]
        },
        {
          "name": "stdout",
          "output_type": "stream",
          "text": [
            "Evaluation valid: 100%|██████████| 2/2 [00:00<00:00,  8.29it/s]\n",
            "Evaluation test : 100%|██████████| 3/3 [00:00<00:00,  6.15it/s]"
          ]
        },
        {
          "name": "stderr",
          "output_type": "stream",
          "text": [
            "INFO:ludwig.trainers.trainer:Evaluation took 0.7632s\n",
            "\n",
            "INFO:ludwig.utils.metrics_printed_table:╒═══════════════╤═════════╤══════════════╤════════╕\n",
            "│               │   train │   validation │   test │\n",
            "╞═══════════════╪═════════╪══════════════╪════════╡\n",
            "│ accuracy      │  0.8918 │       0.7879 │ 0.9091 │\n",
            "├───────────────┼─────────┼──────────────┼────────┤\n",
            "│ loss          │  2.8729 │       8.8629 │ 4.1070 │\n",
            "├───────────────┼─────────┼──────────────┼────────┤\n",
            "│ precision     │  0.7708 │       0.7143 │ 0.8824 │\n",
            "├───────────────┼─────────┼──────────────┼────────┤\n",
            "│ recall        │  0.9610 │       0.5000 │ 0.7895 │\n",
            "├───────────────┼─────────┼──────────────┼────────┤\n",
            "│ roc_auc       │  0.9513 │       0.7413 │ 0.8992 │\n",
            "├───────────────┼─────────┼──────────────┼────────┤\n",
            "│ specificity   │  0.8571 │       0.9130 │ 0.9574 │\n",
            "├───────────────┼─────────┼──────────────┼────────┤\n",
            "│ combined_loss │  2.8729 │       8.8629 │ 4.1070 │\n",
            "╘═══════════════╧═════════╧══════════════╧════════╛\n",
            "INFO:ludwig.trainers.trainer:Last improvement of CATEGORIA validation roc_auc happened 24 step(s) ago.\n",
            "\n"
          ]
        },
        {
          "name": "stdout",
          "output_type": "stream",
          "text": [
            "\n",
            "Training:  30%|███       | 144/480 [22:00<11:47,  2.11s/it, loss=0]"
          ]
        },
        {
          "name": "stderr",
          "output_type": "stream",
          "text": [
            "INFO:ludwig.trainers.trainer:\n",
            "Running evaluation for step: 144, epoch: 18\n"
          ]
        },
        {
          "name": "stdout",
          "output_type": "stream",
          "text": [
            "Evaluation valid: 100%|██████████| 2/2 [00:00<00:00,  8.45it/s]\n",
            "Evaluation test : 100%|██████████| 3/3 [00:00<00:00,  6.28it/s]"
          ]
        },
        {
          "name": "stderr",
          "output_type": "stream",
          "text": [
            "INFO:ludwig.trainers.trainer:Evaluation took 0.7519s\n",
            "\n",
            "INFO:ludwig.utils.metrics_printed_table:╒═══════════════╤═════════╤══════════════╤════════╕\n",
            "│               │   train │   validation │   test │\n",
            "╞═══════════════╪═════════╪══════════════╪════════╡\n",
            "│ accuracy      │  0.9784 │       0.7879 │ 0.8939 │\n",
            "├───────────────┼─────────┼──────────────┼────────┤\n",
            "│ loss          │  0.7092 │       8.5834 │ 3.6380 │\n",
            "├───────────────┼─────────┼──────────────┼────────┤\n",
            "│ precision     │  0.9615 │       0.7143 │ 0.8000 │\n",
            "├───────────────┼─────────┼──────────────┼────────┤\n",
            "│ recall        │  0.9740 │       0.5000 │ 0.8421 │\n",
            "├───────────────┼─────────┼──────────────┼────────┤\n",
            "│ roc_auc       │  0.9956 │       0.8391 │ 0.9289 │\n",
            "├───────────────┼─────────┼──────────────┼────────┤\n",
            "│ specificity   │  0.9805 │       0.9130 │ 0.9149 │\n",
            "├───────────────┼─────────┼──────────────┼────────┤\n",
            "│ combined_loss │  0.7092 │       8.5834 │ 3.6380 │\n",
            "╘═══════════════╧═════════╧══════════════╧════════╛\n",
            "INFO:ludwig.trainers.trainer:Last improvement of CATEGORIA validation roc_auc happened 32 step(s) ago.\n",
            "\n"
          ]
        },
        {
          "name": "stdout",
          "output_type": "stream",
          "text": [
            "\n",
            "Training:  32%|███▏      | 152/480 [24:07<19:49,  3.63s/it, loss=2.28]"
          ]
        },
        {
          "name": "stderr",
          "output_type": "stream",
          "text": [
            "INFO:ludwig.trainers.trainer:\n",
            "Running evaluation for step: 152, epoch: 19\n"
          ]
        },
        {
          "name": "stdout",
          "output_type": "stream",
          "text": [
            "Evaluation valid: 100%|██████████| 2/2 [00:00<00:00,  8.10it/s]\n",
            "Evaluation test : 100%|██████████| 3/3 [00:00<00:00,  6.10it/s]"
          ]
        },
        {
          "name": "stderr",
          "output_type": "stream",
          "text": [
            "INFO:ludwig.trainers.trainer:Evaluation took 0.7865s\n",
            "\n",
            "INFO:ludwig.utils.metrics_printed_table:╒═══════════════╤═════════╤══════════════╤════════╕\n",
            "│               │   train │   validation │   test │\n",
            "╞═══════════════╪═════════╪══════════════╪════════╡\n",
            "│ accuracy      │  0.9740 │       0.8182 │ 0.8939 │\n",
            "├───────────────┼─────────┼──────────────┼────────┤\n",
            "│ loss          │  1.0125 │      17.3876 │ 9.6117 │\n",
            "├───────────────┼─────────┼──────────────┼────────┤\n",
            "│ precision     │  0.9610 │       0.8333 │ 0.9286 │\n",
            "├───────────────┼─────────┼──────────────┼────────┤\n",
            "│ recall        │  0.9610 │       0.5000 │ 0.6842 │\n",
            "├───────────────┼─────────┼──────────────┼────────┤\n",
            "│ roc_auc       │  0.9951 │       0.7283 │ 0.8544 │\n",
            "├───────────────┼─────────┼──────────────┼────────┤\n",
            "│ specificity   │  0.9805 │       0.9565 │ 0.9787 │\n",
            "├───────────────┼─────────┼──────────────┼────────┤\n",
            "│ combined_loss │  1.0125 │      17.3876 │ 9.6117 │\n",
            "╘═══════════════╧═════════╧══════════════╧════════╛\n",
            "INFO:ludwig.trainers.trainer:Last improvement of CATEGORIA validation roc_auc happened 40 step(s) ago.\n",
            "\n"
          ]
        },
        {
          "name": "stdout",
          "output_type": "stream",
          "text": [
            "\n",
            "Training:  33%|███▎      | 160/480 [24:38<07:07,  1.34s/it, loss=0]"
          ]
        },
        {
          "name": "stderr",
          "output_type": "stream",
          "text": [
            "INFO:ludwig.trainers.trainer:\n",
            "Running evaluation for step: 160, epoch: 20\n"
          ]
        },
        {
          "name": "stdout",
          "output_type": "stream",
          "text": [
            "Evaluation valid: 100%|██████████| 2/2 [00:00<00:00,  8.49it/s]\n",
            "Evaluation test : 100%|██████████| 3/3 [00:00<00:00,  6.43it/s]"
          ]
        },
        {
          "name": "stderr",
          "output_type": "stream",
          "text": [
            "INFO:ludwig.trainers.trainer:Evaluation took 0.7344s\n",
            "\n",
            "INFO:ludwig.utils.metrics_printed_table:╒═══════════════╤═════════╤══════════════╤════════╕\n",
            "│               │   train │   validation │   test │\n",
            "╞═══════════════╪═════════╪══════════════╪════════╡\n",
            "│ accuracy      │  0.9740 │       0.7879 │ 0.9242 │\n",
            "├───────────────┼─────────┼──────────────┼────────┤\n",
            "│ loss          │  1.4368 │       8.7375 │ 4.0987 │\n",
            "├───────────────┼─────────┼──────────────┼────────┤\n",
            "│ precision     │  0.9863 │       0.7143 │ 0.8889 │\n",
            "├───────────────┼─────────┼──────────────┼────────┤\n",
            "│ recall        │  0.9351 │       0.5000 │ 0.8421 │\n",
            "├───────────────┼─────────┼──────────────┼────────┤\n",
            "│ roc_auc       │  0.9899 │       0.8348 │ 0.9451 │\n",
            "├───────────────┼─────────┼──────────────┼────────┤\n",
            "│ specificity   │  0.9935 │       0.9130 │ 0.9574 │\n",
            "├───────────────┼─────────┼──────────────┼────────┤\n",
            "│ combined_loss │  1.4368 │       8.7375 │ 4.0987 │\n",
            "╘═══════════════╧═════════╧══════════════╧════════╛\n",
            "INFO:ludwig.trainers.trainer:Last improvement of CATEGORIA validation roc_auc happened 48 step(s) ago.\n",
            "\n"
          ]
        },
        {
          "name": "stdout",
          "output_type": "stream",
          "text": [
            "\n",
            "Training:  35%|███▌      | 168/480 [25:16<07:09,  1.38s/it, loss=0]"
          ]
        },
        {
          "name": "stderr",
          "output_type": "stream",
          "text": [
            "INFO:ludwig.trainers.trainer:\n",
            "Running evaluation for step: 168, epoch: 21\n"
          ]
        },
        {
          "name": "stdout",
          "output_type": "stream",
          "text": [
            "Evaluation valid: 100%|██████████| 2/2 [00:00<00:00,  9.28it/s]\n",
            "Evaluation test : 100%|██████████| 3/3 [00:00<00:00,  6.24it/s]"
          ]
        },
        {
          "name": "stderr",
          "output_type": "stream",
          "text": [
            "INFO:ludwig.trainers.trainer:Evaluation took 0.7415s\n",
            "\n",
            "INFO:ludwig.utils.metrics_printed_table:╒═══════════════╤═════════╤══════════════╤════════╕\n",
            "│               │   train │   validation │   test │\n",
            "╞═══════════════╪═════════╪══════════════╪════════╡\n",
            "│ accuracy      │  0.9957 │       0.8182 │ 0.8788 │\n",
            "├───────────────┼─────────┼──────────────┼────────┤\n",
            "│ loss          │  0.1801 │      13.0167 │ 7.3790 │\n",
            "├───────────────┼─────────┼──────────────┼────────┤\n",
            "│ precision     │  0.9872 │       0.8333 │ 0.9231 │\n",
            "├───────────────┼─────────┼──────────────┼────────┤\n",
            "│ recall        │  1.0000 │       0.5000 │ 0.6316 │\n",
            "├───────────────┼─────────┼──────────────┼────────┤\n",
            "│ roc_auc       │  0.9968 │       0.7283 │ 0.8891 │\n",
            "├───────────────┼─────────┼──────────────┼────────┤\n",
            "│ specificity   │  0.9935 │       0.9565 │ 0.9787 │\n",
            "├───────────────┼─────────┼──────────────┼────────┤\n",
            "│ combined_loss │  0.1801 │      13.0167 │ 7.3790 │\n",
            "╘═══════════════╧═════════╧══════════════╧════════╛\n",
            "INFO:ludwig.trainers.trainer:Last improvement of CATEGORIA validation roc_auc happened 56 step(s) ago.\n",
            "\n"
          ]
        },
        {
          "name": "stdout",
          "output_type": "stream",
          "text": [
            "\n",
            "Training:  37%|███▋      | 176/480 [26:38<12:33,  2.48s/it, loss=0]"
          ]
        },
        {
          "name": "stderr",
          "output_type": "stream",
          "text": [
            "INFO:ludwig.trainers.trainer:\n",
            "Running evaluation for step: 176, epoch: 22\n"
          ]
        },
        {
          "name": "stdout",
          "output_type": "stream",
          "text": [
            "Evaluation valid: 100%|██████████| 2/2 [00:00<00:00,  8.03it/s]\n",
            "Evaluation test : 100%|██████████| 3/3 [00:00<00:00,  6.36it/s]"
          ]
        },
        {
          "name": "stderr",
          "output_type": "stream",
          "text": [
            "INFO:ludwig.trainers.trainer:Evaluation took 0.7701s\n",
            "\n",
            "INFO:ludwig.utils.metrics_printed_table:╒═══════════════╤═════════╤══════════════╤════════╕\n",
            "│               │   train │   validation │   test │\n",
            "╞═══════════════╪═════════╪══════════════╪════════╡\n",
            "│ accuracy      │  0.9351 │       0.8182 │ 0.9242 │\n",
            "├───────────────┼─────────┼──────────────┼────────┤\n",
            "│ loss          │  1.1540 │       9.0513 │ 4.9596 │\n",
            "├───────────────┼─────────┼──────────────┼────────┤\n",
            "│ precision     │  0.8523 │       0.7500 │ 0.8889 │\n",
            "├───────────────┼─────────┼──────────────┼────────┤\n",
            "│ recall        │  0.9740 │       0.6000 │ 0.8421 │\n",
            "├───────────────┼─────────┼──────────────┼────────┤\n",
            "│ roc_auc       │  0.9795 │       0.8565 │ 0.9283 │\n",
            "├───────────────┼─────────┼──────────────┼────────┤\n",
            "│ specificity   │  0.9156 │       0.9130 │ 0.9574 │\n",
            "├───────────────┼─────────┼──────────────┼────────┤\n",
            "│ combined_loss │  1.1540 │       9.0513 │ 4.9596 │\n",
            "╘═══════════════╧═════════╧══════════════╧════════╛\n",
            "INFO:ludwig.trainers.trainer:Last improvement of CATEGORIA validation roc_auc happened 64 step(s) ago.\n",
            "\n"
          ]
        },
        {
          "name": "stdout",
          "output_type": "stream",
          "text": [
            "\n",
            "Training:  38%|███▊      | 184/480 [27:23<07:56,  1.61s/it, loss=0]"
          ]
        },
        {
          "name": "stderr",
          "output_type": "stream",
          "text": [
            "INFO:ludwig.trainers.trainer:\n",
            "Running evaluation for step: 184, epoch: 23\n"
          ]
        },
        {
          "name": "stdout",
          "output_type": "stream",
          "text": [
            "Evaluation valid: 100%|██████████| 2/2 [00:00<00:00,  8.53it/s]\n",
            "Evaluation test : 100%|██████████| 3/3 [00:00<00:00,  6.29it/s]"
          ]
        },
        {
          "name": "stderr",
          "output_type": "stream",
          "text": [
            "INFO:ludwig.trainers.trainer:Evaluation took 0.7454s\n",
            "\n",
            "INFO:ludwig.utils.metrics_printed_table:╒═══════════════╤═════════╤══════════════╤═════════╕\n",
            "│               │   train │   validation │    test │\n",
            "╞═══════════════╪═════════╪══════════════╪═════════╡\n",
            "│ accuracy      │  0.9957 │       0.8182 │  0.9091 │\n",
            "├───────────────┼─────────┼──────────────┼─────────┤\n",
            "│ loss          │  0.5841 │      21.6947 │ 10.3101 │\n",
            "├───────────────┼─────────┼──────────────┼─────────┤\n",
            "│ precision     │  1.0000 │       0.8333 │  0.8824 │\n",
            "├───────────────┼─────────┼──────────────┼─────────┤\n",
            "│ recall        │  0.9870 │       0.5000 │  0.7895 │\n",
            "├───────────────┼─────────┼──────────────┼─────────┤\n",
            "│ roc_auc       │  0.9934 │       0.7283 │  0.8723 │\n",
            "├───────────────┼─────────┼──────────────┼─────────┤\n",
            "│ specificity   │  1.0000 │       0.9565 │  0.9574 │\n",
            "├───────────────┼─────────┼──────────────┼─────────┤\n",
            "│ combined_loss │  0.5841 │      21.6947 │ 10.3101 │\n",
            "╘═══════════════╧═════════╧══════════════╧═════════╛\n",
            "INFO:ludwig.trainers.trainer:Last improvement of CATEGORIA validation roc_auc happened 72 step(s) ago.\n",
            "\n"
          ]
        },
        {
          "name": "stdout",
          "output_type": "stream",
          "text": [
            "\n",
            "Training:  40%|████      | 192/480 [29:22<16:19,  3.40s/it, loss=0]"
          ]
        },
        {
          "name": "stderr",
          "output_type": "stream",
          "text": [
            "INFO:ludwig.trainers.trainer:\n",
            "Running evaluation for step: 192, epoch: 24\n"
          ]
        },
        {
          "name": "stdout",
          "output_type": "stream",
          "text": [
            "Evaluation valid: 100%|██████████| 2/2 [00:00<00:00,  8.02it/s]\n",
            "Evaluation test : 100%|██████████| 3/3 [00:00<00:00,  6.13it/s]"
          ]
        },
        {
          "name": "stderr",
          "output_type": "stream",
          "text": [
            "INFO:ludwig.trainers.trainer:Evaluation took 0.7969s\n",
            "\n",
            "INFO:ludwig.utils.metrics_printed_table:╒═══════════════╤═════════╤══════════════╤════════╕\n",
            "│               │   train │   validation │   test │\n",
            "╞═══════════════╪═════════╪══════════════╪════════╡\n",
            "│ accuracy      │  0.9913 │       0.8182 │ 0.9091 │\n",
            "├───────────────┼─────────┼──────────────┼────────┤\n",
            "│ loss          │  0.9792 │      11.9689 │ 7.0796 │\n",
            "├───────────────┼─────────┼──────────────┼────────┤\n",
            "│ precision     │  0.9870 │       0.7000 │ 0.8095 │\n",
            "├───────────────┼─────────┼──────────────┼────────┤\n",
            "│ recall        │  0.9870 │       0.7000 │ 0.8947 │\n",
            "├───────────────┼─────────┼──────────────┼────────┤\n",
            "│ roc_auc       │  0.9966 │       0.8348 │ 0.9490 │\n",
            "├───────────────┼─────────┼──────────────┼────────┤\n",
            "│ specificity   │  0.9935 │       0.8696 │ 0.9149 │\n",
            "├───────────────┼─────────┼──────────────┼────────┤\n",
            "│ combined_loss │  0.9792 │      11.9689 │ 7.0796 │\n",
            "╘═══════════════╧═════════╧══════════════╧════════╛\n",
            "INFO:ludwig.trainers.trainer:Last improvement of CATEGORIA validation roc_auc happened 80 step(s) ago.\n",
            "\n"
          ]
        },
        {
          "name": "stdout",
          "output_type": "stream",
          "text": [
            "\n",
            "Training:  42%|████▏     | 200/480 [30:26<10:03,  2.15s/it, loss=0]"
          ]
        },
        {
          "name": "stderr",
          "output_type": "stream",
          "text": [
            "INFO:ludwig.trainers.trainer:\n",
            "Running evaluation for step: 200, epoch: 25\n"
          ]
        },
        {
          "name": "stdout",
          "output_type": "stream",
          "text": [
            "Evaluation valid: 100%|██████████| 2/2 [00:00<00:00,  8.46it/s]\n",
            "Evaluation test : 100%|██████████| 3/3 [00:00<00:00,  6.44it/s]"
          ]
        },
        {
          "name": "stderr",
          "output_type": "stream",
          "text": [
            "INFO:ludwig.trainers.trainer:Evaluation took 0.7367s\n",
            "\n",
            "INFO:ludwig.utils.metrics_printed_table:╒═══════════════╤═════════╤══════════════╤════════╕\n",
            "│               │   train │   validation │   test │\n",
            "╞═══════════════╪═════════╪══════════════╪════════╡\n",
            "│ accuracy      │  0.9957 │       0.8182 │ 0.8788 │\n",
            "├───────────────┼─────────┼──────────────┼────────┤\n",
            "│ loss          │  0.5844 │      14.7969 │ 8.3572 │\n",
            "├───────────────┼─────────┼──────────────┼────────┤\n",
            "│ precision     │  0.9872 │       0.8333 │ 0.9231 │\n",
            "├───────────────┼─────────┼──────────────┼────────┤\n",
            "│ recall        │  1.0000 │       0.5000 │ 0.6316 │\n",
            "├───────────────┼─────────┼──────────────┼────────┤\n",
            "│ roc_auc       │  0.9968 │       0.7283 │ 0.8835 │\n",
            "├───────────────┼─────────┼──────────────┼────────┤\n",
            "│ specificity   │  0.9935 │       0.9565 │ 0.9787 │\n",
            "├───────────────┼─────────┼──────────────┼────────┤\n",
            "│ combined_loss │  0.5844 │      14.7969 │ 8.3572 │\n",
            "╘═══════════════╧═════════╧══════════════╧════════╛\n",
            "INFO:ludwig.trainers.trainer:Last improvement of CATEGORIA validation roc_auc happened 88 step(s) ago.\n",
            "\n"
          ]
        },
        {
          "name": "stdout",
          "output_type": "stream",
          "text": [
            "\n",
            "Training:  43%|████▎     | 208/480 [31:08<06:56,  1.53s/it, loss=0]"
          ]
        },
        {
          "name": "stderr",
          "output_type": "stream",
          "text": [
            "INFO:ludwig.trainers.trainer:\n",
            "Running evaluation for step: 208, epoch: 26\n"
          ]
        },
        {
          "name": "stdout",
          "output_type": "stream",
          "text": [
            "Evaluation valid: 100%|██████████| 2/2 [00:00<00:00,  8.22it/s]\n",
            "Evaluation test : 100%|██████████| 3/3 [00:00<00:00,  6.05it/s]"
          ]
        },
        {
          "name": "stderr",
          "output_type": "stream",
          "text": [
            "INFO:ludwig.trainers.trainer:Evaluation took 0.7718s\n",
            "\n",
            "INFO:ludwig.utils.metrics_printed_table:╒═══════════════╤═════════╤══════════════╤═════════╕\n",
            "│               │   train │   validation │    test │\n",
            "╞═══════════════╪═════════╪══════════════╪═════════╡\n",
            "│ accuracy      │  0.9784 │       0.8485 │  0.8939 │\n",
            "├───────────────┼─────────┼──────────────┼─────────┤\n",
            "│ loss          │  0.5740 │      13.9919 │ 10.8966 │\n",
            "├───────────────┼─────────┼──────────────┼─────────┤\n",
            "│ precision     │  0.9737 │       0.7778 │  0.8333 │\n",
            "├───────────────┼─────────┼──────────────┼─────────┤\n",
            "│ recall        │  0.9610 │       0.7000 │  0.7895 │\n",
            "├───────────────┼─────────┼──────────────┼─────────┤\n",
            "│ roc_auc       │  0.9950 │       0.7826 │  0.9149 │\n",
            "├───────────────┼─────────┼──────────────┼─────────┤\n",
            "│ specificity   │  0.9870 │       0.9130 │  0.9362 │\n",
            "├───────────────┼─────────┼──────────────┼─────────┤\n",
            "│ combined_loss │  0.5740 │      13.9919 │ 10.8966 │\n",
            "╘═══════════════╧═════════╧══════════════╧═════════╛\n",
            "INFO:ludwig.trainers.trainer:Last improvement of CATEGORIA validation roc_auc happened 96 step(s) ago.\n",
            "\n"
          ]
        },
        {
          "name": "stdout",
          "output_type": "stream",
          "text": [
            "\n",
            "Training:  45%|████▌     | 216/480 [32:26<10:25,  2.37s/it, loss=0]"
          ]
        },
        {
          "name": "stderr",
          "output_type": "stream",
          "text": [
            "INFO:ludwig.trainers.trainer:\n",
            "Running evaluation for step: 216, epoch: 27\n"
          ]
        },
        {
          "name": "stdout",
          "output_type": "stream",
          "text": [
            "Evaluation valid: 100%|██████████| 2/2 [00:00<00:00,  8.38it/s]\n",
            "Evaluation test : 100%|██████████| 3/3 [00:00<00:00,  6.23it/s]"
          ]
        },
        {
          "name": "stderr",
          "output_type": "stream",
          "text": [
            "INFO:ludwig.trainers.trainer:Evaluation took 0.7535s\n",
            "\n",
            "INFO:ludwig.utils.metrics_printed_table:╒═══════════════╤═════════╤══════════════╤═════════╕\n",
            "│               │   train │   validation │    test │\n",
            "╞═══════════════╪═════════╪══════════════╪═════════╡\n",
            "│ accuracy      │  0.9913 │       0.8182 │  0.9091 │\n",
            "├───────────────┼─────────┼──────────────┼─────────┤\n",
            "│ loss          │  0.8817 │      25.2199 │ 17.6479 │\n",
            "├───────────────┼─────────┼──────────────┼─────────┤\n",
            "│ precision     │  0.9870 │       0.8333 │  0.8824 │\n",
            "├───────────────┼─────────┼──────────────┼─────────┤\n",
            "│ recall        │  0.9870 │       0.5000 │  0.7895 │\n",
            "├───────────────┼─────────┼──────────────┼─────────┤\n",
            "│ roc_auc       │  0.9967 │       0.7283 │  0.8735 │\n",
            "├───────────────┼─────────┼──────────────┼─────────┤\n",
            "│ specificity   │  0.9935 │       0.9565 │  0.9574 │\n",
            "├───────────────┼─────────┼──────────────┼─────────┤\n",
            "│ combined_loss │  0.8817 │      25.2199 │ 17.6479 │\n",
            "╘═══════════════╧═════════╧══════════════╧═════════╛\n",
            "INFO:ludwig.trainers.trainer:Last improvement of CATEGORIA validation roc_auc happened 104 step(s) ago.\n",
            "\n"
          ]
        },
        {
          "name": "stdout",
          "output_type": "stream",
          "text": [
            "\n",
            "Training:  47%|████▋     | 224/480 [33:09<06:41,  1.57s/it, loss=0]"
          ]
        },
        {
          "name": "stderr",
          "output_type": "stream",
          "text": [
            "INFO:ludwig.trainers.trainer:\n",
            "Running evaluation for step: 224, epoch: 28\n"
          ]
        },
        {
          "name": "stdout",
          "output_type": "stream",
          "text": [
            "Evaluation valid: 100%|██████████| 2/2 [00:00<00:00,  8.59it/s]\n",
            "Evaluation test : 100%|██████████| 3/3 [00:00<00:00,  5.86it/s]"
          ]
        },
        {
          "name": "stderr",
          "output_type": "stream",
          "text": [
            "INFO:ludwig.trainers.trainer:Evaluation took 0.7861s\n",
            "\n",
            "INFO:ludwig.utils.metrics_printed_table:╒═══════════════╤═════════╤══════════════╤════════╕\n",
            "│               │   train │   validation │   test │\n",
            "╞═══════════════╪═════════╪══════════════╪════════╡\n",
            "│ accuracy      │  0.9870 │       0.7576 │ 0.9091 │\n",
            "├───────────────┼─────────┼──────────────┼────────┤\n",
            "│ loss          │  0.5525 │      12.5250 │ 5.0814 │\n",
            "├───────────────┼─────────┼──────────────┼────────┤\n",
            "│ precision     │  0.9744 │       0.6250 │ 0.8824 │\n",
            "├───────────────┼─────────┼──────────────┼────────┤\n",
            "│ recall        │  0.9870 │       0.5000 │ 0.7895 │\n",
            "├───────────────┼─────────┼──────────────┼────────┤\n",
            "│ roc_auc       │  0.9930 │       0.7522 │ 0.9446 │\n",
            "├───────────────┼─────────┼──────────────┼────────┤\n",
            "│ specificity   │  0.9870 │       0.8696 │ 0.9574 │\n",
            "├───────────────┼─────────┼──────────────┼────────┤\n",
            "│ combined_loss │  0.5525 │      12.5250 │ 5.0814 │\n",
            "╘═══════════════╧═════════╧══════════════╧════════╛\n",
            "INFO:ludwig.trainers.trainer:Last improvement of CATEGORIA validation roc_auc happened 112 step(s) ago.\n",
            "\n"
          ]
        },
        {
          "name": "stdout",
          "output_type": "stream",
          "text": [
            "\n",
            "Training:  48%|████▊     | 232/480 [34:01<07:14,  1.75s/it, loss=0]"
          ]
        },
        {
          "name": "stderr",
          "output_type": "stream",
          "text": [
            "INFO:ludwig.trainers.trainer:\n",
            "Running evaluation for step: 232, epoch: 29\n"
          ]
        },
        {
          "name": "stdout",
          "output_type": "stream",
          "text": [
            "Evaluation valid: 100%|██████████| 2/2 [00:00<00:00,  8.12it/s]\n",
            "Evaluation test : 100%|██████████| 3/3 [00:00<00:00,  6.22it/s]"
          ]
        },
        {
          "name": "stderr",
          "output_type": "stream",
          "text": [
            "INFO:ludwig.trainers.trainer:Evaluation took 0.7825s\n",
            "\n",
            "INFO:ludwig.utils.metrics_printed_table:╒═══════════════╤═════════╤══════════════╤═════════╕\n",
            "│               │   train │   validation │    test │\n",
            "╞═══════════════╪═════════╪══════════════╪═════════╡\n",
            "│ accuracy      │  0.9957 │       0.8182 │  0.8485 │\n",
            "├───────────────┼─────────┼──────────────┼─────────┤\n",
            "│ loss          │  0.2147 │      22.3417 │ 19.5483 │\n",
            "├───────────────┼─────────┼──────────────┼─────────┤\n",
            "│ precision     │  0.9872 │       1.0000 │  1.0000 │\n",
            "├───────────────┼─────────┼──────────────┼─────────┤\n",
            "│ recall        │  1.0000 │       0.4000 │  0.4737 │\n",
            "├───────────────┼─────────┼──────────────┼─────────┤\n",
            "│ roc_auc       │  0.9968 │       0.7500 │  0.7895 │\n",
            "├───────────────┼─────────┼──────────────┼─────────┤\n",
            "│ specificity   │  0.9935 │       1.0000 │  1.0000 │\n",
            "├───────────────┼─────────┼──────────────┼─────────┤\n",
            "│ combined_loss │  0.2147 │      22.3417 │ 19.5483 │\n",
            "╘═══════════════╧═════════╧══════════════╧═════════╛\n",
            "INFO:ludwig.trainers.trainer:Last improvement of CATEGORIA validation roc_auc happened 120 step(s) ago.\n",
            "\n"
          ]
        },
        {
          "name": "stdout",
          "output_type": "stream",
          "text": [
            "\n",
            "Training:  50%|█████     | 240/480 [34:39<05:35,  1.40s/it, loss=0]"
          ]
        },
        {
          "name": "stderr",
          "output_type": "stream",
          "text": [
            "INFO:ludwig.trainers.trainer:\n",
            "Running evaluation for step: 240, epoch: 30\n"
          ]
        },
        {
          "name": "stdout",
          "output_type": "stream",
          "text": [
            "Evaluation valid: 100%|██████████| 2/2 [00:00<00:00,  7.68it/s]\n",
            "Evaluation test : 100%|██████████| 3/3 [00:00<00:00,  6.03it/s]"
          ]
        },
        {
          "name": "stderr",
          "output_type": "stream",
          "text": [
            "INFO:ludwig.trainers.trainer:Evaluation took 0.8034s\n",
            "\n",
            "INFO:ludwig.utils.metrics_printed_table:╒═══════════════╤═════════╤══════════════╤═════════╕\n",
            "│               │   train │   validation │    test │\n",
            "╞═══════════════╪═════════╪══════════════╪═════════╡\n",
            "│ accuracy      │  0.9784 │       0.8182 │  0.9091 │\n",
            "├───────────────┼─────────┼──────────────┼─────────┤\n",
            "│ loss          │  0.8616 │      17.2934 │ 10.7753 │\n",
            "├───────────────┼─────────┼──────────────┼─────────┤\n",
            "│ precision     │  0.9615 │       0.8333 │  0.9333 │\n",
            "├───────────────┼─────────┼──────────────┼─────────┤\n",
            "│ recall        │  0.9740 │       0.5000 │  0.7368 │\n",
            "├───────────────┼─────────┼──────────────┼─────────┤\n",
            "│ roc_auc       │  0.9881 │       0.7065 │  0.8813 │\n",
            "├───────────────┼─────────┼──────────────┼─────────┤\n",
            "│ specificity   │  0.9805 │       0.9565 │  0.9787 │\n",
            "├───────────────┼─────────┼──────────────┼─────────┤\n",
            "│ combined_loss │  0.8616 │      17.2934 │ 10.7753 │\n",
            "╘═══════════════╧═════════╧══════════════╧═════════╛\n",
            "INFO:ludwig.trainers.trainer:Last improvement of CATEGORIA validation roc_auc happened 128 step(s) ago.\n",
            "\n"
          ]
        },
        {
          "name": "stdout",
          "output_type": "stream",
          "text": [
            "\n",
            "Training:  52%|█████▏    | 248/480 [35:10<04:40,  1.21s/it, loss=0]"
          ]
        },
        {
          "name": "stderr",
          "output_type": "stream",
          "text": [
            "INFO:ludwig.trainers.trainer:\n",
            "Running evaluation for step: 248, epoch: 31\n"
          ]
        },
        {
          "name": "stdout",
          "output_type": "stream",
          "text": [
            "Evaluation valid: 100%|██████████| 2/2 [00:00<00:00,  8.12it/s]\n",
            "Evaluation test : 100%|██████████| 3/3 [00:00<00:00,  6.38it/s]"
          ]
        },
        {
          "name": "stderr",
          "output_type": "stream",
          "text": [
            "INFO:ludwig.trainers.trainer:Evaluation took 0.7560s\n",
            "\n",
            "INFO:ludwig.utils.metrics_printed_table:╒═══════════════╤═════════╤══════════════╤═════════╕\n",
            "│               │   train │   validation │    test │\n",
            "╞═══════════════╪═════════╪══════════════╪═════════╡\n",
            "│ accuracy      │  0.9870 │       0.7576 │  0.8939 │\n",
            "├───────────────┼─────────┼──────────────┼─────────┤\n",
            "│ loss          │  1.5079 │      42.8164 │ 17.0178 │\n",
            "├───────────────┼─────────┼──────────────┼─────────┤\n",
            "│ precision     │  1.0000 │       0.5714 │  0.7727 │\n",
            "├───────────────┼─────────┼──────────────┼─────────┤\n",
            "│ recall        │  0.9610 │       0.8000 │  0.8947 │\n",
            "├───────────────┼─────────┼──────────────┼─────────┤\n",
            "│ roc_auc       │  0.9935 │       0.7565 │  0.9003 │\n",
            "├───────────────┼─────────┼──────────────┼─────────┤\n",
            "│ specificity   │  1.0000 │       0.7391 │  0.8936 │\n",
            "├───────────────┼─────────┼──────────────┼─────────┤\n",
            "│ combined_loss │  1.5079 │      42.8164 │ 17.0178 │\n",
            "╘═══════════════╧═════════╧══════════════╧═════════╛\n",
            "INFO:ludwig.trainers.trainer:Last improvement of CATEGORIA validation roc_auc happened 136 step(s) ago.\n",
            "\n"
          ]
        },
        {
          "name": "stdout",
          "output_type": "stream",
          "text": [
            "\n",
            "Training:  53%|█████▎    | 256/480 [35:59<06:10,  1.65s/it, loss=0]"
          ]
        },
        {
          "name": "stderr",
          "output_type": "stream",
          "text": [
            "INFO:ludwig.trainers.trainer:\n",
            "Running evaluation for step: 256, epoch: 32\n"
          ]
        },
        {
          "name": "stdout",
          "output_type": "stream",
          "text": [
            "Evaluation valid: 100%|██████████| 2/2 [00:00<00:00,  8.37it/s]\n",
            "Evaluation test : 100%|██████████| 3/3 [00:00<00:00,  6.28it/s]"
          ]
        },
        {
          "name": "stderr",
          "output_type": "stream",
          "text": [
            "INFO:ludwig.trainers.trainer:Evaluation took 0.7610s\n",
            "\n",
            "INFO:ludwig.utils.metrics_printed_table:╒═══════════════╤═════════╤══════════════╤════════╕\n",
            "│               │   train │   validation │   test │\n",
            "╞═══════════════╪═════════╪══════════════╪════════╡\n",
            "│ accuracy      │  0.9827 │       0.8182 │ 0.8788 │\n",
            "├───────────────┼─────────┼──────────────┼────────┤\n",
            "│ loss          │  2.7741 │       9.6262 │ 3.9496 │\n",
            "├───────────────┼─────────┼──────────────┼────────┤\n",
            "│ precision     │  0.9620 │       0.8333 │ 0.9231 │\n",
            "├───────────────┼─────────┼──────────────┼────────┤\n",
            "│ recall        │  0.9870 │       0.5000 │ 0.6316 │\n",
            "├───────────────┼─────────┼──────────────┼────────┤\n",
            "│ roc_auc       │  0.9868 │       0.7978 │ 0.9490 │\n",
            "├───────────────┼─────────┼──────────────┼────────┤\n",
            "│ specificity   │  0.9805 │       0.9565 │ 0.9787 │\n",
            "├───────────────┼─────────┼──────────────┼────────┤\n",
            "│ combined_loss │  2.7741 │       9.6262 │ 3.9496 │\n",
            "╘═══════════════╧═════════╧══════════════╧════════╛\n",
            "INFO:ludwig.trainers.trainer:Last improvement of CATEGORIA validation roc_auc happened 144 step(s) ago.\n",
            "\n"
          ]
        },
        {
          "name": "stdout",
          "output_type": "stream",
          "text": [
            "\n",
            "Training:  55%|█████▌    | 264/480 [37:53<11:52,  3.30s/it, loss=0]"
          ]
        },
        {
          "name": "stderr",
          "output_type": "stream",
          "text": [
            "INFO:ludwig.trainers.trainer:\n",
            "Running evaluation for step: 264, epoch: 33\n"
          ]
        },
        {
          "name": "stdout",
          "output_type": "stream",
          "text": [
            "Evaluation valid: 100%|██████████| 2/2 [00:00<00:00,  8.18it/s]\n",
            "Evaluation test : 100%|██████████| 3/3 [00:00<00:00,  6.17it/s]"
          ]
        },
        {
          "name": "stderr",
          "output_type": "stream",
          "text": [
            "INFO:ludwig.trainers.trainer:Evaluation took 0.7684s\n",
            "\n",
            "INFO:ludwig.utils.metrics_printed_table:╒═══════════════╤═════════╤══════════════╤════════╕\n",
            "│               │   train │   validation │   test │\n",
            "╞═══════════════╪═════════╪══════════════╪════════╡\n",
            "│ accuracy      │  0.9004 │       0.8182 │ 0.8939 │\n",
            "├───────────────┼─────────┼──────────────┼────────┤\n",
            "│ loss          │  2.1196 │       4.2340 │ 2.4670 │\n",
            "├───────────────┼─────────┼──────────────┼────────┤\n",
            "│ precision     │  0.8068 │       0.8333 │ 0.9286 │\n",
            "├───────────────┼─────────┼──────────────┼────────┤\n",
            "│ recall        │  0.9221 │       0.5000 │ 0.6842 │\n",
            "├───────────────┼─────────┼──────────────┼────────┤\n",
            "│ roc_auc       │  0.9529 │       0.7935 │ 0.9485 │\n",
            "├───────────────┼─────────┼──────────────┼────────┤\n",
            "│ specificity   │  0.8896 │       0.9565 │ 0.9787 │\n",
            "├───────────────┼─────────┼──────────────┼────────┤\n",
            "│ combined_loss │  2.1196 │       4.2340 │ 2.4670 │\n",
            "╘═══════════════╧═════════╧══════════════╧════════╛\n",
            "INFO:ludwig.trainers.trainer:Last improvement of CATEGORIA validation roc_auc happened 152 step(s) ago.\n",
            "\n"
          ]
        },
        {
          "name": "stdout",
          "output_type": "stream",
          "text": [
            "\n",
            "Training:  57%|█████▋    | 272/480 [38:59<07:40,  2.22s/it, loss=0]"
          ]
        },
        {
          "name": "stderr",
          "output_type": "stream",
          "text": [
            "INFO:ludwig.trainers.trainer:\n",
            "Running evaluation for step: 272, epoch: 34\n"
          ]
        },
        {
          "name": "stdout",
          "output_type": "stream",
          "text": [
            "Evaluation valid: 100%|██████████| 2/2 [00:00<00:00,  8.42it/s]\n",
            "Evaluation test : 100%|██████████| 3/3 [00:00<00:00,  6.31it/s]"
          ]
        },
        {
          "name": "stderr",
          "output_type": "stream",
          "text": [
            "INFO:ludwig.trainers.trainer:Evaluation took 0.7502s\n",
            "\n",
            "INFO:ludwig.utils.metrics_printed_table:╒═══════════════╤═════════╤══════════════╤════════╕\n",
            "│               │   train │   validation │   test │\n",
            "╞═══════════════╪═════════╪══════════════╪════════╡\n",
            "│ accuracy      │  0.9957 │       0.8485 │ 0.8636 │\n",
            "├───────────────┼─────────┼──────────────┼────────┤\n",
            "│ loss          │  0.1318 │       5.8110 │ 5.8197 │\n",
            "├───────────────┼─────────┼──────────────┼────────┤\n",
            "│ precision     │  1.0000 │       0.8571 │ 0.7500 │\n",
            "├───────────────┼─────────┼──────────────┼────────┤\n",
            "│ recall        │  0.9870 │       0.6000 │ 0.7895 │\n",
            "├───────────────┼─────────┼──────────────┼────────┤\n",
            "│ roc_auc       │  0.9988 │       0.8239 │ 0.9194 │\n",
            "├───────────────┼─────────┼──────────────┼────────┤\n",
            "│ specificity   │  1.0000 │       0.9565 │ 0.8936 │\n",
            "├───────────────┼─────────┼──────────────┼────────┤\n",
            "│ combined_loss │  0.1318 │       5.8110 │ 5.8197 │\n",
            "╘═══════════════╧═════════╧══════════════╧════════╛\n",
            "INFO:ludwig.trainers.trainer:Last improvement of CATEGORIA validation roc_auc happened 160 step(s) ago.\n",
            "\n"
          ]
        },
        {
          "name": "stdout",
          "output_type": "stream",
          "text": [
            "\n",
            "Training:  58%|█████▊    | 280/480 [39:56<06:20,  1.90s/it, loss=0]"
          ]
        },
        {
          "name": "stderr",
          "output_type": "stream",
          "text": [
            "INFO:ludwig.trainers.trainer:\n",
            "Running evaluation for step: 280, epoch: 35\n"
          ]
        },
        {
          "name": "stdout",
          "output_type": "stream",
          "text": [
            "Evaluation valid: 100%|██████████| 2/2 [00:00<00:00,  8.33it/s]\n",
            "Evaluation test : 100%|██████████| 3/3 [00:00<00:00,  6.25it/s]"
          ]
        },
        {
          "name": "stderr",
          "output_type": "stream",
          "text": [
            "INFO:ludwig.trainers.trainer:Evaluation took 0.7523s\n",
            "\n",
            "INFO:ludwig.utils.metrics_printed_table:╒═══════════════╤═════════╤══════════════╤════════╕\n",
            "│               │   train │   validation │   test │\n",
            "╞═══════════════╪═════════╪══════════════╪════════╡\n",
            "│ accuracy      │  0.9827 │       0.8485 │ 0.9091 │\n",
            "├───────────────┼─────────┼──────────────┼────────┤\n",
            "│ loss          │  0.4071 │      11.5065 │ 7.6708 │\n",
            "├───────────────┼─────────┼──────────────┼────────┤\n",
            "│ precision     │  0.9620 │       1.0000 │ 1.0000 │\n",
            "├───────────────┼─────────┼──────────────┼────────┤\n",
            "│ recall        │  0.9870 │       0.5000 │ 0.6842 │\n",
            "├───────────────┼─────────┼──────────────┼────────┤\n",
            "│ roc_auc       │  0.9963 │       0.7391 │ 0.8903 │\n",
            "├───────────────┼─────────┼──────────────┼────────┤\n",
            "│ specificity   │  0.9805 │       1.0000 │ 1.0000 │\n",
            "├───────────────┼─────────┼──────────────┼────────┤\n",
            "│ combined_loss │  0.4071 │      11.5065 │ 7.6708 │\n",
            "╘═══════════════╧═════════╧══════════════╧════════╛\n",
            "INFO:ludwig.trainers.trainer:Last improvement of CATEGORIA validation roc_auc happened 168 step(s) ago.\n",
            "\n"
          ]
        },
        {
          "name": "stdout",
          "output_type": "stream",
          "text": [
            "\n",
            "Training:  60%|██████    | 288/480 [40:26<03:51,  1.21s/it, loss=0]"
          ]
        },
        {
          "name": "stderr",
          "output_type": "stream",
          "text": [
            "INFO:ludwig.trainers.trainer:\n",
            "Running evaluation for step: 288, epoch: 36\n"
          ]
        },
        {
          "name": "stdout",
          "output_type": "stream",
          "text": [
            "Evaluation valid: 100%|██████████| 2/2 [00:00<00:00,  8.53it/s]\n",
            "Evaluation test : 100%|██████████| 3/3 [00:00<00:00,  6.45it/s]"
          ]
        },
        {
          "name": "stderr",
          "output_type": "stream",
          "text": [
            "INFO:ludwig.trainers.trainer:Evaluation took 0.7326s\n",
            "\n",
            "INFO:ludwig.utils.metrics_printed_table:╒═══════════════╤═════════╤══════════════╤════════╕\n",
            "│               │   train │   validation │   test │\n",
            "╞═══════════════╪═════════╪══════════════╪════════╡\n",
            "│ accuracy      │  0.9870 │       0.8182 │ 0.8788 │\n",
            "├───────────────┼─────────┼──────────────┼────────┤\n",
            "│ loss          │  0.5004 │       5.6609 │ 8.3990 │\n",
            "├───────────────┼─────────┼──────────────┼────────┤\n",
            "│ precision     │  0.9744 │       0.7500 │ 0.7895 │\n",
            "├───────────────┼─────────┼──────────────┼────────┤\n",
            "│ recall        │  0.9870 │       0.6000 │ 0.7895 │\n",
            "├───────────────┼─────────┼──────────────┼────────┤\n",
            "│ roc_auc       │  0.9955 │       0.8435 │ 0.9233 │\n",
            "├───────────────┼─────────┼──────────────┼────────┤\n",
            "│ specificity   │  0.9870 │       0.9130 │ 0.9149 │\n",
            "├───────────────┼─────────┼──────────────┼────────┤\n",
            "│ combined_loss │  0.5004 │       5.6609 │ 8.3990 │\n",
            "╘═══════════════╧═════════╧══════════════╧════════╛\n",
            "INFO:ludwig.trainers.trainer:Last improvement of CATEGORIA validation roc_auc happened 176 step(s) ago.\n",
            "\n"
          ]
        },
        {
          "name": "stdout",
          "output_type": "stream",
          "text": [
            "\n",
            "Training:  62%|██████▏   | 296/480 [41:45<07:17,  2.38s/it, loss=0]"
          ]
        },
        {
          "name": "stderr",
          "output_type": "stream",
          "text": [
            "INFO:ludwig.trainers.trainer:\n",
            "Running evaluation for step: 296, epoch: 37\n"
          ]
        },
        {
          "name": "stdout",
          "output_type": "stream",
          "text": [
            "Evaluation valid: 100%|██████████| 2/2 [00:00<00:00,  8.33it/s]\n",
            "Evaluation test : 100%|██████████| 3/3 [00:00<00:00,  6.00it/s]"
          ]
        },
        {
          "name": "stderr",
          "output_type": "stream",
          "text": [
            "INFO:ludwig.trainers.trainer:Evaluation took 0.7861s\n",
            "\n",
            "INFO:ludwig.utils.metrics_printed_table:╒═══════════════╤═════════╤══════════════╤════════╕\n",
            "│               │   train │   validation │   test │\n",
            "╞═══════════════╪═════════╪══════════════╪════════╡\n",
            "│ accuracy      │  0.9913 │       0.8485 │ 0.8939 │\n",
            "├───────────────┼─────────┼──────────────┼────────┤\n",
            "│ loss          │  0.5944 │      10.1919 │ 8.8659 │\n",
            "├───────────────┼─────────┼──────────────┼────────┤\n",
            "│ precision     │  0.9870 │       1.0000 │ 0.8750 │\n",
            "├───────────────┼─────────┼──────────────┼────────┤\n",
            "│ recall        │  0.9870 │       0.5000 │ 0.7368 │\n",
            "├───────────────┼─────────┼──────────────┼────────┤\n",
            "│ roc_auc       │  0.9928 │       0.7391 │ 0.8712 │\n",
            "├───────────────┼─────────┼──────────────┼────────┤\n",
            "│ specificity   │  0.9935 │       1.0000 │ 0.9574 │\n",
            "├───────────────┼─────────┼──────────────┼────────┤\n",
            "│ combined_loss │  0.5944 │      10.1919 │ 8.8659 │\n",
            "╘═══════════════╧═════════╧══════════════╧════════╛\n",
            "INFO:ludwig.trainers.trainer:Last improvement of CATEGORIA validation roc_auc happened 184 step(s) ago.\n",
            "\n"
          ]
        },
        {
          "name": "stdout",
          "output_type": "stream",
          "text": [
            "\n",
            "Training:  63%|██████▎   | 304/480 [42:56<06:39,  2.27s/it, loss=8.51e-8]"
          ]
        },
        {
          "name": "stderr",
          "output_type": "stream",
          "text": [
            "INFO:ludwig.trainers.trainer:\n",
            "Running evaluation for step: 304, epoch: 38\n"
          ]
        },
        {
          "name": "stdout",
          "output_type": "stream",
          "text": [
            "Evaluation valid: 100%|██████████| 2/2 [00:00<00:00,  8.47it/s]\n",
            "Evaluation test : 100%|██████████| 3/3 [00:00<00:00,  6.29it/s]"
          ]
        },
        {
          "name": "stderr",
          "output_type": "stream",
          "text": [
            "INFO:ludwig.trainers.trainer:Evaluation took 0.7475s\n",
            "\n",
            "INFO:ludwig.utils.metrics_printed_table:╒═══════════════╤═════════╤══════════════╤═════════╕\n",
            "│               │   train │   validation │    test │\n",
            "╞═══════════════╪═════════╪══════════════╪═════════╡\n",
            "│ accuracy      │  0.9870 │       0.6667 │  0.6061 │\n",
            "├───────────────┼─────────┼──────────────┼─────────┤\n",
            "│ loss          │  0.4264 │      38.7597 │ 33.9766 │\n",
            "├───────────────┼─────────┼──────────────┼─────────┤\n",
            "│ precision     │  0.9868 │       0.4762 │  0.4222 │\n",
            "├───────────────┼─────────┼──────────────┼─────────┤\n",
            "│ recall        │  0.9740 │       1.0000 │  1.0000 │\n",
            "├───────────────┼─────────┼──────────────┼─────────┤\n",
            "│ roc_auc       │  0.9925 │       0.7565 │  0.8511 │\n",
            "├───────────────┼─────────┼──────────────┼─────────┤\n",
            "│ specificity   │  0.9935 │       0.5217 │  0.4468 │\n",
            "├───────────────┼─────────┼──────────────┼─────────┤\n",
            "│ combined_loss │  0.4264 │      38.7597 │ 33.9766 │\n",
            "╘═══════════════╧═════════╧══════════════╧═════════╛\n",
            "INFO:ludwig.trainers.trainer:Last improvement of CATEGORIA validation roc_auc happened 192 step(s) ago.\n",
            "\n"
          ]
        },
        {
          "name": "stdout",
          "output_type": "stream",
          "text": [
            "\n",
            "Training:  65%|██████▌   | 312/480 [43:32<03:50,  1.37s/it, loss=0]"
          ]
        },
        {
          "name": "stderr",
          "output_type": "stream",
          "text": [
            "INFO:ludwig.trainers.trainer:\n",
            "Running evaluation for step: 312, epoch: 39\n"
          ]
        },
        {
          "name": "stdout",
          "output_type": "stream",
          "text": [
            "Evaluation valid: 100%|██████████| 2/2 [00:00<00:00,  8.88it/s]\n",
            "Evaluation test : 100%|██████████| 3/3 [00:00<00:00,  5.85it/s]"
          ]
        },
        {
          "name": "stderr",
          "output_type": "stream",
          "text": [
            "INFO:ludwig.trainers.trainer:Evaluation took 0.7831s\n",
            "\n",
            "INFO:ludwig.utils.metrics_printed_table:╒═══════════════╤═════════╤══════════════╤═════════╕\n",
            "│               │   train │   validation │    test │\n",
            "╞═══════════════╪═════════╪══════════════╪═════════╡\n",
            "│ accuracy      │  0.9610 │       0.8788 │  0.8939 │\n",
            "├───────────────┼─────────┼──────────────┼─────────┤\n",
            "│ loss          │  0.8865 │      16.8681 │ 20.5525 │\n",
            "├───────────────┼─────────┼──────────────┼─────────┤\n",
            "│ precision     │  0.8953 │       1.0000 │  0.8750 │\n",
            "├───────────────┼─────────┼──────────────┼─────────┤\n",
            "│ recall        │  1.0000 │       0.6000 │  0.7368 │\n",
            "├───────────────┼─────────┼──────────────┼─────────┤\n",
            "│ roc_auc       │  0.9867 │       0.7913 │  0.8471 │\n",
            "├───────────────┼─────────┼──────────────┼─────────┤\n",
            "│ specificity   │  0.9416 │       1.0000 │  0.9574 │\n",
            "├───────────────┼─────────┼──────────────┼─────────┤\n",
            "│ combined_loss │  0.8865 │      16.8681 │ 20.5525 │\n",
            "╘═══════════════╧═════════╧══════════════╧═════════╛\n",
            "INFO:ludwig.trainers.trainer:Last improvement of CATEGORIA validation roc_auc happened 200 step(s) ago.\n",
            "\n"
          ]
        },
        {
          "name": "stdout",
          "output_type": "stream",
          "text": [
            "\n",
            "Training:  67%|██████▋   | 320/480 [44:10<03:43,  1.40s/it, loss=0]"
          ]
        },
        {
          "name": "stderr",
          "output_type": "stream",
          "text": [
            "INFO:ludwig.trainers.trainer:\n",
            "Running evaluation for step: 320, epoch: 40\n"
          ]
        },
        {
          "name": "stdout",
          "output_type": "stream",
          "text": [
            "Evaluation valid: 100%|██████████| 2/2 [00:00<00:00,  8.45it/s]\n",
            "Evaluation test : 100%|██████████| 3/3 [00:00<00:00,  6.33it/s]"
          ]
        },
        {
          "name": "stderr",
          "output_type": "stream",
          "text": [
            "INFO:ludwig.trainers.trainer:Evaluation took 0.7561s\n",
            "\n",
            "INFO:ludwig.utils.metrics_printed_table:╒═══════════════╤═════════╤══════════════╤═════════╕\n",
            "│               │   train │   validation │    test │\n",
            "╞═══════════════╪═════════╪══════════════╪═════════╡\n",
            "│ accuracy      │  0.9957 │       0.8788 │  0.8939 │\n",
            "├───────────────┼─────────┼──────────────┼─────────┤\n",
            "│ loss          │  1.2284 │      19.2642 │ 22.0900 │\n",
            "├───────────────┼─────────┼──────────────┼─────────┤\n",
            "│ precision     │  1.0000 │       1.0000 │  0.8750 │\n",
            "├───────────────┼─────────┼──────────────┼─────────┤\n",
            "│ recall        │  0.9870 │       0.6000 │  0.7368 │\n",
            "├───────────────┼─────────┼──────────────┼─────────┤\n",
            "│ roc_auc       │  0.9935 │       0.8000 │  0.8471 │\n",
            "├───────────────┼─────────┼──────────────┼─────────┤\n",
            "│ specificity   │  1.0000 │       1.0000 │  0.9574 │\n",
            "├───────────────┼─────────┼──────────────┼─────────┤\n",
            "│ combined_loss │  1.2284 │      19.2642 │ 22.0900 │\n",
            "╘═══════════════╧═════════╧══════════════╧═════════╛\n",
            "INFO:ludwig.trainers.trainer:Last improvement of CATEGORIA validation roc_auc happened 208 step(s) ago.\n",
            "\n"
          ]
        },
        {
          "name": "stdout",
          "output_type": "stream",
          "text": [
            "\n",
            "Training:  68%|██████▊   | 328/480 [45:26<05:51,  2.31s/it, loss=0]"
          ]
        },
        {
          "name": "stderr",
          "output_type": "stream",
          "text": [
            "INFO:ludwig.trainers.trainer:\n",
            "Running evaluation for step: 328, epoch: 41\n"
          ]
        },
        {
          "name": "stdout",
          "output_type": "stream",
          "text": [
            "Evaluation valid: 100%|██████████| 2/2 [00:00<00:00,  8.03it/s]\n",
            "Evaluation test : 100%|██████████| 3/3 [00:00<00:00,  6.15it/s]"
          ]
        },
        {
          "name": "stderr",
          "output_type": "stream",
          "text": [
            "INFO:ludwig.trainers.trainer:Evaluation took 0.7846s\n",
            "\n",
            "INFO:ludwig.utils.metrics_printed_table:╒═══════════════╤═════════╤══════════════╤═════════╕\n",
            "│               │   train │   validation │    test │\n",
            "╞═══════════════╪═════════╪══════════════╪═════════╡\n",
            "│ accuracy      │  0.9957 │       0.8485 │  0.8939 │\n",
            "├───────────────┼─────────┼──────────────┼─────────┤\n",
            "│ loss          │  0.6815 │       2.8302 │ 10.9123 │\n",
            "├───────────────┼─────────┼──────────────┼─────────┤\n",
            "│ precision     │  1.0000 │       0.8571 │  0.8750 │\n",
            "├───────────────┼─────────┼──────────────┼─────────┤\n",
            "│ recall        │  0.9870 │       0.6000 │  0.7368 │\n",
            "├───────────────┼─────────┼──────────────┼─────────┤\n",
            "│ roc_auc       │  0.9933 │       0.8435 │  0.9406 │\n",
            "├───────────────┼─────────┼──────────────┼─────────┤\n",
            "│ specificity   │  1.0000 │       0.9565 │  0.9574 │\n",
            "├───────────────┼─────────┼──────────────┼─────────┤\n",
            "│ combined_loss │  0.6815 │       2.8302 │ 10.9123 │\n",
            "╘═══════════════╧═════════╧══════════════╧═════════╛\n",
            "INFO:ludwig.trainers.trainer:Last improvement of CATEGORIA validation roc_auc happened 216 step(s) ago.\n",
            "\n"
          ]
        },
        {
          "name": "stdout",
          "output_type": "stream",
          "text": [
            "\n",
            "Training:  70%|███████   | 336/480 [46:02<03:19,  1.39s/it, loss=0]"
          ]
        },
        {
          "name": "stderr",
          "output_type": "stream",
          "text": [
            "INFO:ludwig.trainers.trainer:\n",
            "Running evaluation for step: 336, epoch: 42\n"
          ]
        },
        {
          "name": "stdout",
          "output_type": "stream",
          "text": [
            "Evaluation valid: 100%|██████████| 2/2 [00:00<00:00,  8.58it/s]\n",
            "Evaluation test : 100%|██████████| 3/3 [00:00<00:00,  6.39it/s]"
          ]
        },
        {
          "name": "stderr",
          "output_type": "stream",
          "text": [
            "INFO:ludwig.trainers.trainer:Evaluation took 0.7353s\n",
            "\n",
            "INFO:ludwig.utils.metrics_printed_table:╒═══════════════╤═════════╤══════════════╤═════════╕\n",
            "│               │   train │   validation │    test │\n",
            "╞═══════════════╪═════════╪══════════════╪═════════╡\n",
            "│ accuracy      │  0.9827 │       0.8788 │  0.8939 │\n",
            "├───────────────┼─────────┼──────────────┼─────────┤\n",
            "│ loss          │  0.3240 │       9.3472 │ 14.5094 │\n",
            "├───────────────┼─────────┼──────────────┼─────────┤\n",
            "│ precision     │  0.9620 │       1.0000 │  0.8750 │\n",
            "├───────────────┼─────────┼──────────────┼─────────┤\n",
            "│ recall        │  0.9870 │       0.6000 │  0.7368 │\n",
            "├───────────────┼─────────┼──────────────┼─────────┤\n",
            "│ roc_auc       │  0.9961 │       0.8000 │  0.8471 │\n",
            "├───────────────┼─────────┼──────────────┼─────────┤\n",
            "│ specificity   │  0.9805 │       1.0000 │  0.9574 │\n",
            "├───────────────┼─────────┼──────────────┼─────────┤\n",
            "│ combined_loss │  0.3240 │       9.3472 │ 14.5094 │\n",
            "╘═══════════════╧═════════╧══════════════╧═════════╛\n",
            "INFO:ludwig.trainers.trainer:Last improvement of CATEGORIA validation roc_auc happened 224 step(s) ago.\n",
            "\n"
          ]
        },
        {
          "name": "stdout",
          "output_type": "stream",
          "text": [
            "\n",
            "Training:  72%|███████▏  | 344/480 [47:15<05:06,  2.26s/it, loss=0]"
          ]
        },
        {
          "name": "stderr",
          "output_type": "stream",
          "text": [
            "INFO:ludwig.trainers.trainer:\n",
            "Running evaluation for step: 344, epoch: 43\n"
          ]
        },
        {
          "name": "stdout",
          "output_type": "stream",
          "text": [
            "Evaluation valid: 100%|██████████| 2/2 [00:00<00:00,  9.02it/s]\n",
            "Evaluation test : 100%|██████████| 3/3 [00:00<00:00,  6.02it/s]"
          ]
        },
        {
          "name": "stderr",
          "output_type": "stream",
          "text": [
            "INFO:ludwig.trainers.trainer:Evaluation took 0.7552s\n",
            "\n",
            "INFO:ludwig.utils.metrics_printed_table:╒═══════════════╤═════════╤══════════════╤═════════╕\n",
            "│               │   train │   validation │    test │\n",
            "╞═══════════════╪═════════╪══════════════╪═════════╡\n",
            "│ accuracy      │  0.9913 │       0.8788 │  0.8939 │\n",
            "├───────────────┼─────────┼──────────────┼─────────┤\n",
            "│ loss          │  0.2033 │       8.2594 │ 13.5726 │\n",
            "├───────────────┼─────────┼──────────────┼─────────┤\n",
            "│ precision     │  0.9870 │       1.0000 │  0.8750 │\n",
            "├───────────────┼─────────┼──────────────┼─────────┤\n",
            "│ recall        │  0.9870 │       0.6000 │  0.7368 │\n",
            "├───────────────┼─────────┼──────────────┼─────────┤\n",
            "│ roc_auc       │  0.9967 │       0.7913 │  0.8471 │\n",
            "├───────────────┼─────────┼──────────────┼─────────┤\n",
            "│ specificity   │  0.9935 │       1.0000 │  0.9574 │\n",
            "├───────────────┼─────────┼──────────────┼─────────┤\n",
            "│ combined_loss │  0.2033 │       8.2594 │ 13.5726 │\n",
            "╘═══════════════╧═════════╧══════════════╧═════════╛\n",
            "INFO:ludwig.trainers.trainer:Last improvement of CATEGORIA validation roc_auc happened 232 step(s) ago.\n",
            "\n"
          ]
        },
        {
          "name": "stdout",
          "output_type": "stream",
          "text": [
            "\n",
            "Training:  73%|███████▎  | 352/480 [48:28<04:54,  2.30s/it, loss=0]"
          ]
        },
        {
          "name": "stderr",
          "output_type": "stream",
          "text": [
            "INFO:ludwig.trainers.trainer:\n",
            "Running evaluation for step: 352, epoch: 44\n"
          ]
        },
        {
          "name": "stdout",
          "output_type": "stream",
          "text": [
            "Evaluation valid: 100%|██████████| 2/2 [00:00<00:00,  8.16it/s]\n",
            "Evaluation test : 100%|██████████| 3/3 [00:00<00:00,  6.22it/s]"
          ]
        },
        {
          "name": "stderr",
          "output_type": "stream",
          "text": [
            "INFO:ludwig.trainers.trainer:Evaluation took 0.7800s\n",
            "\n",
            "INFO:ludwig.utils.metrics_printed_table:╒═══════════════╤═════════╤══════════════╤═════════╕\n",
            "│               │   train │   validation │    test │\n",
            "╞═══════════════╪═════════╪══════════════╪═════════╡\n",
            "│ accuracy      │  1.0000 │       0.8788 │  0.8939 │\n",
            "├───────────────┼─────────┼──────────────┼─────────┤\n",
            "│ loss          │  0.0021 │      12.7898 │ 15.1932 │\n",
            "├───────────────┼─────────┼──────────────┼─────────┤\n",
            "│ precision     │  1.0000 │       1.0000 │  0.8750 │\n",
            "├───────────────┼─────────┼──────────────┼─────────┤\n",
            "│ recall        │  1.0000 │       0.6000 │  0.7368 │\n",
            "├───────────────┼─────────┼──────────────┼─────────┤\n",
            "│ roc_auc       │  1.0000 │       0.8000 │  0.8471 │\n",
            "├───────────────┼─────────┼──────────────┼─────────┤\n",
            "│ specificity   │  1.0000 │       1.0000 │  0.9574 │\n",
            "├───────────────┼─────────┼──────────────┼─────────┤\n",
            "│ combined_loss │  0.0021 │      12.7898 │ 15.1932 │\n",
            "╘═══════════════╧═════════╧══════════════╧═════════╛\n",
            "INFO:ludwig.trainers.trainer:Last improvement of CATEGORIA validation roc_auc happened 240 step(s) ago.\n",
            "\n",
            "INFO:ludwig.trainers.trainer:\n",
            "EARLY STOPPING due to lack of validation improvement. It has been 240 step(s) since last validation improvement.\n"
          ]
        },
        {
          "name": "stdout",
          "output_type": "stream",
          "text": [
            "\n",
            "Training:  73%|███████▎  | 352/480 [49:42<18:04,  8.47s/it, loss=0]\n",
            "Evaluation valid: 100%|██████████| 2/2 [00:00<00:00,  6.99it/s]"
          ]
        },
        {
          "name": "stderr",
          "output_type": "stream",
          "text": [
            "INFO:ludwig.utils.calibration:Before temperature scaling:\n",
            "    Negative log-likelihood: 16.778\n",
            "    Expected Calibration Error: 0.182\n"
          ]
        },
        {
          "name": "stdout",
          "output_type": "stream",
          "text": [
            "\n"
          ]
        },
        {
          "name": "stderr",
          "output_type": "stream",
          "text": [
            "INFO:ludwig.utils.calibration:Optimal temperature: 24.040\n",
            "INFO:ludwig.utils.calibration:After temperature scaling:\n",
            "    Negative log-likelihood: 0.826\n",
            "    Expected Calibration Error: 0.200\n",
            "WARNING:ludwig.utils.calibration:Expected calibration error higher after scaling, reverting to temperature=1.000.\n",
            "INFO:ludwig.utils.print_utils:\n",
            "INFO:ludwig.utils.print_utils:╒═════════════════╕\n",
            "INFO:ludwig.utils.print_utils:│ TRAINING REPORT │\n",
            "INFO:ludwig.utils.print_utils:╘═════════════════╛\n",
            "INFO:ludwig.utils.print_utils:\n",
            "INFO:ludwig.api:╒═════════════════════════════════╤════════════════════╕\n",
            "│ Validation feature              │ CATEGORIA          │\n",
            "├─────────────────────────────────┼────────────────────┤\n",
            "│ Validation metric               │ roc_auc            │\n",
            "├─────────────────────────────────┼────────────────────┤\n",
            "│ Best model step                 │ 112                │\n",
            "├─────────────────────────────────┼────────────────────┤\n",
            "│ Best model epoch                │ 15                 │\n",
            "├─────────────────────────────────┼────────────────────┤\n",
            "│ Best model's validation roc_auc │ 0.876086950302124  │\n",
            "├─────────────────────────────────┼────────────────────┤\n",
            "│ Best model's test roc_auc       │ 0.8656215071678162 │\n",
            "╘═════════════════════════════════╧════════════════════╛\n",
            "INFO:ludwig.api:\n",
            "Finished: api_experiment_run\n",
            "INFO:ludwig.api:Saved to: /content/results/api_experiment_run\n",
            "INFO:ludwig.utils.print_utils:\n",
            "INFO:ludwig.utils.print_utils:╒══════════╕\n",
            "INFO:ludwig.utils.print_utils:│ FINISHED │\n",
            "INFO:ludwig.utils.print_utils:╘══════════╛\n",
            "INFO:ludwig.utils.print_utils:\n"
          ]
        }
      ],
      "source": [
        "train_stats,pred,out = model.train(dataset=train_df)"
      ]
    },
    {
      "cell_type": "code",
      "execution_count": null,
      "metadata": {
        "colab": {
          "base_uri": "https://localhost:8080/"
        },
        "id": "eIPLyuDAg_s3",
        "outputId": "b1577c82-7237-491a-8f1a-15c8e90d0d2d"
      },
      "outputs": [
        {
          "name": "stderr",
          "output_type": "stream",
          "text": [
            "/usr/local/lib/python3.10/dist-packages/huggingface_hub/file_download.py:1132: FutureWarning: `resume_download` is deprecated and will be removed in version 1.0.0. Downloads always resume when possible. If you want to force a new download, use `force_download=True`.\n",
            "  warnings.warn(\n",
            "INFO:ludwig.utils.tokenizers:Loaded TorchText implementation of distilbert/distilbert-base-multilingual-cased tokenizer\n"
          ]
        },
        {
          "name": "stdout",
          "output_type": "stream",
          "text": [
            "Evaluation: 100%|██████████| 6/6 [00:00<00:00,  8.51it/s]\n"
          ]
        },
        {
          "name": "stderr",
          "output_type": "stream",
          "text": [
            "INFO:ludwig.models.predictor:\n",
            "===== CATEGORIA =====\n",
            "INFO:ludwig.models.predictor:accuracy: 0.7951807379722595\n",
            "INFO:ludwig.models.predictor:average_precision_macro: 0.6747628254562146\n",
            "INFO:ludwig.models.predictor:average_precision_micro: 0.6747628254562146\n",
            "INFO:ludwig.models.predictor:average_precision_samples: 0.6747628254562146\n",
            "INFO:ludwig.models.predictor:loss: 19.687429428100586\n",
            "INFO:ludwig.models.predictor:overall_stats: { 'avg_f1_score_macro': 0.7950617283950617,\n",
            "  'avg_f1_score_micro': 0.7951807228915663,\n",
            "  'avg_f1_score_weighted': 0.7944072586642869,\n",
            "  'avg_precision_macro': 0.8175270108043218,\n",
            "  'avg_precision_micro': 0.7951807228915663,\n",
            "  'avg_precision_weighted': 0.7951807228915663,\n",
            "  'avg_recall_macro': 0.8126477541371158,\n",
            "  'avg_recall_micro': 0.7951807228915663,\n",
            "  'avg_recall_weighted': 0.7951807228915663,\n",
            "  'kappa_score': 0.5999432945846328,\n",
            "  'token_accuracy': 0.7951807228915663}\n",
            "INFO:ludwig.models.predictor:per_class_stats: {False: {   'accuracy': 0.7951807228915663,\n",
            "    'f1_score': 0.7901234567901235,\n",
            "    'fall_out': 0.05555555555555558,\n",
            "    'false_discovery_rate': 0.05882352941176472,\n",
            "    'false_negative_rate': 0.3191489361702128,\n",
            "    'false_negatives': 15,\n",
            "    'false_omission_rate': 0.30612244897959184,\n",
            "    'false_positive_rate': 0.05555555555555558,\n",
            "    'false_positives': 2,\n",
            "    'hit_rate': 0.6808510638297872,\n",
            "    'informedness': 0.6252955082742315,\n",
            "    'markedness': 0.6350540216086435,\n",
            "    'matthews_correlation_coefficient': 0.6301558753382941,\n",
            "    'miss_rate': 0.3191489361702128,\n",
            "    'negative_predictive_value': 0.6938775510204082,\n",
            "    'positive_predictive_value': 0.9411764705882353,\n",
            "    'precision': 0.9411764705882353,\n",
            "    'recall': 0.6808510638297872,\n",
            "    'sensitivity': 0.6808510638297872,\n",
            "    'specificity': 0.9444444444444444,\n",
            "    'true_negative_rate': 0.9444444444444444,\n",
            "    'true_negatives': 34,\n",
            "    'true_positive_rate': 0.6808510638297872,\n",
            "    'true_positives': 32},\n",
            "  True: {   'accuracy': 0.7951807228915663,\n",
            "    'f1_score': 0.7999999999999999,\n",
            "    'fall_out': 0.3191489361702128,\n",
            "    'false_discovery_rate': 0.30612244897959184,\n",
            "    'false_negative_rate': 0.05555555555555558,\n",
            "    'false_negatives': 2,\n",
            "    'false_omission_rate': 0.05882352941176472,\n",
            "    'false_positive_rate': 0.3191489361702128,\n",
            "    'false_positives': 15,\n",
            "    'hit_rate': 0.9444444444444444,\n",
            "    'informedness': 0.6252955082742315,\n",
            "    'markedness': 0.6350540216086435,\n",
            "    'matthews_correlation_coefficient': 0.6301558753382941,\n",
            "    'miss_rate': 0.05555555555555558,\n",
            "    'negative_predictive_value': 0.9411764705882353,\n",
            "    'positive_predictive_value': 0.6938775510204082,\n",
            "    'precision': 0.6938775510204082,\n",
            "    'recall': 0.9444444444444444,\n",
            "    'sensitivity': 0.9444444444444444,\n",
            "    'specificity': 0.6808510638297872,\n",
            "    'true_negative_rate': 0.6808510638297872,\n",
            "    'true_negatives': 32,\n",
            "    'true_positive_rate': 0.9444444444444444,\n",
            "    'true_positives': 34}}\n",
            "INFO:ludwig.models.predictor:precision: 0.6938775777816772\n",
            "INFO:ludwig.models.predictor:precision_recall_curve: { 'precisions': [ 0.43373493975903615,\n",
            "                  0.45,\n",
            "                  0.45569620253164556,\n",
            "                  0.46153846153846156,\n",
            "                  0.4675324675324675,\n",
            "                  0.47368421052631576,\n",
            "                  0.48,\n",
            "                  0.4864864864864865,\n",
            "                  0.4794520547945205,\n",
            "                  0.4861111111111111,\n",
            "                  0.49295774647887325,\n",
            "                  0.5,\n",
            "                  0.5072463768115942,\n",
            "                  0.5147058823529411,\n",
            "                  0.5223880597014925,\n",
            "                  0.5303030303030303,\n",
            "                  0.5384615384615384,\n",
            "                  0.546875,\n",
            "                  0.5555555555555556,\n",
            "                  0.5645161290322581,\n",
            "                  0.5737704918032787,\n",
            "                  0.5833333333333334,\n",
            "                  0.5932203389830508,\n",
            "                  0.603448275862069,\n",
            "                  0.6140350877192983,\n",
            "                  0.625,\n",
            "                  0.6363636363636364,\n",
            "                  0.6296296296296297,\n",
            "                  0.6415094339622641,\n",
            "                  0.6538461538461539,\n",
            "                  0.6666666666666666,\n",
            "                  0.68,\n",
            "                  0.6938775510204082,\n",
            "                  0.6875,\n",
            "                  0.6808510638297872,\n",
            "                  1.0],\n",
            "  'recalls': [ 1.0,\n",
            "               1.0,\n",
            "               1.0,\n",
            "               1.0,\n",
            "               1.0,\n",
            "               1.0,\n",
            "               1.0,\n",
            "               1.0,\n",
            "               0.9722222222222222,\n",
            "               0.9722222222222222,\n",
            "               0.9722222222222222,\n",
            "               0.9722222222222222,\n",
            "               0.9722222222222222,\n",
            "               0.9722222222222222,\n",
            "               0.9722222222222222,\n",
            "               0.9722222222222222,\n",
            "               0.9722222222222222,\n",
            "               0.9722222222222222,\n",
            "               0.9722222222222222,\n",
            "               0.9722222222222222,\n",
            "               0.9722222222222222,\n",
            "               0.9722222222222222,\n",
            "               0.9722222222222222,\n",
            "               0.9722222222222222,\n",
            "               0.9722222222222222,\n",
            "               0.9722222222222222,\n",
            "               0.9722222222222222,\n",
            "               0.9444444444444444,\n",
            "               0.9444444444444444,\n",
            "               0.9444444444444444,\n",
            "               0.9444444444444444,\n",
            "               0.9444444444444444,\n",
            "               0.9444444444444444,\n",
            "               0.9166666666666666,\n",
            "               0.8888888888888888,\n",
            "               0.0]}\n",
            "INFO:ludwig.models.predictor:recall: 0.9444444179534912\n",
            "INFO:ludwig.models.predictor:roc_auc: 0.8061465620994568\n",
            "INFO:ludwig.models.predictor:roc_auc_macro: 0.8061465721040189\n",
            "INFO:ludwig.models.predictor:roc_auc_micro: 0.8061465721040189\n",
            "INFO:ludwig.models.predictor:specificity: 0.6808510422706604\n"
          ]
        }
      ],
      "source": [
        "test_stats, predictions, output_directory = model.evaluate(\n",
        "  test_df,\n",
        "  collect_predictions=True,\n",
        "  collect_overall_stats=True\n",
        ")"
      ]
    },
    {
      "cell_type": "code",
      "execution_count": null,
      "metadata": {
        "colab": {
          "base_uri": "https://localhost:8080/",
          "height": 1000
        },
        "id": "Ao2LWcx1hCFw",
        "outputId": "890bee1b-15c5-4b0f-b8f6-ca6c56301e26"
      },
      "outputs": [
        {
          "name": "stderr",
          "output_type": "stream",
          "text": [
            "/usr/local/lib/python3.10/dist-packages/ludwig/utils/visualization_utils.py:1179: UserWarning: FixedFormatter should only be used together with FixedLocator\n",
            "  ax.set_xticklabels([\"\"] + labels, rotation=45, ha=\"left\")\n",
            "/usr/local/lib/python3.10/dist-packages/ludwig/utils/visualization_utils.py:1180: UserWarning: FixedFormatter should only be used together with FixedLocator\n",
            "  ax.set_yticklabels([\"\"] + labels, rotation=45, ha=\"right\")\n"
          ]
        },
        {
          "data": {
            "image/png": "[encoded data removed]",
            "text/plain": [
              "<Figure size 640x480 with 2 Axes>"
            ]
          },
          "metadata": {},
          "output_type": "display_data"
        },
        {
          "data": {
            "image/png": "[encoded data removed]",
            "text/plain": [
              "<Figure size 640x480 with 1 Axes>"
            ]
          },
          "metadata": {},
          "output_type": "display_data"
        }
      ],
      "source": [
        "# Visualizes confusion matrix, which gives an overview of classifier performance\n",
        "# for each class.\n",
        "from ludwig.visualize import confusion_matrix\n",
        "\n",
        "confusion_matrix(\n",
        "  [test_stats],\n",
        "  model.training_set_metadata,\n",
        "  'class',\n",
        "  top_n_classes=[5],\n",
        "  model_names=[''],\n",
        "  normalize=True,\n",
        ")"
      ]
    },
    {
      "cell_type": "code",
      "execution_count": null,
      "metadata": {
        "colab": {
          "base_uri": "https://localhost:8080/",
          "height": 1000
        },
        "id": "jinSMq03hC1P",
        "outputId": "60340137-309b-4e84-f981-852cee5879b8"
      },
      "outputs": [
        {
          "data": {
            "image/png": "[encoded data removed]",
            "text/plain": [
              "<Figure size 640x480 with 1 Axes>"
            ]
          },
          "metadata": {},
          "output_type": "display_data"
        },
        {
          "data": {
            "image/png": "[encoded data removed]",
            "text/plain": [
              "<Figure size 640x480 with 1 Axes>"
            ]
          },
          "metadata": {},
          "output_type": "display_data"
        },
        {
          "data": {
            "image/png": "[encoded data removed]",
            "text/plain": [
              "<Figure size 640x480 with 1 Axes>"
            ]
          },
          "metadata": {},
          "output_type": "display_data"
        }
      ],
      "source": [
        "# Visualizes learning curves, which show how performance metrics changed over\n",
        "# time during training.\n",
        "from ludwig.visualize import learning_curves\n",
        "\n",
        "learning_curves(train_stats, output_feature_name='class')"
      ]
    },
    {
      "cell_type": "code",
      "execution_count": null,
      "metadata": {
        "id": "o0YQcj2bHim2"
      },
      "outputs": [],
      "source": [
        "train, valid, test, metadata = pred"
      ]
    },
    {
      "cell_type": "code",
      "execution_count": null,
      "metadata": {
        "colab": {
          "base_uri": "https://localhost:8080/"
        },
        "id": "mTI0V4CKHlYu",
        "outputId": "9c0dfa02-0976-4e03-e09c-8266e86dfa09"
      },
      "outputs": [
        {
          "name": "stdout",
          "output_type": "stream",
          "text": [
            "Evaluation: 100%|██████████| 5/5 [00:00<00:00,  9.70it/s]"
          ]
        },
        {
          "name": "stderr",
          "output_type": "stream",
          "text": [
            "INFO:ludwig.models.predictor:\n",
            "===== CATEGORIA =====\n",
            "INFO:ludwig.models.predictor:accuracy: 0.8181818127632141\n",
            "INFO:ludwig.models.predictor:average_precision_macro: 0.6544666479031804\n",
            "INFO:ludwig.models.predictor:average_precision_micro: 0.6544666479031804\n",
            "INFO:ludwig.models.predictor:average_precision_samples: 0.6544666479031804\n",
            "INFO:ludwig.models.predictor:loss: 10.932673454284668\n",
            "INFO:ludwig.models.predictor:overall_stats: { 'avg_f1_score_macro': 0.7997977755308392,\n",
            "  'avg_f1_score_micro': 0.8181818181818182,\n",
            "  'avg_f1_score_weighted': 0.8255354352422097,\n",
            "  'avg_precision_macro': 0.7891737891737891,\n",
            "  'avg_precision_micro': 0.8181818181818182,\n",
            "  'avg_precision_weighted': 0.8181818181818182,\n",
            "  'avg_recall_macro': 0.8409854423292273,\n",
            "  'avg_recall_micro': 0.8181818181818182,\n",
            "  'avg_recall_weighted': 0.8181818181818182,\n",
            "  'kappa_score': 0.6059701492537313,\n",
            "  'token_accuracy': 0.8181818181818182}\n",
            "INFO:ludwig.models.predictor:per_class_stats: {False: {   'accuracy': 0.8181818181818182,\n",
            "    'f1_score': 0.8604651162790696,\n",
            "    'fall_out': 0.10526315789473684,\n",
            "    'false_discovery_rate': 0.05128205128205132,\n",
            "    'false_negative_rate': 0.21276595744680848,\n",
            "    'false_negatives': 10,\n",
            "    'false_omission_rate': 0.37037037037037035,\n",
            "    'false_positive_rate': 0.10526315789473684,\n",
            "    'false_positives': 2,\n",
            "    'hit_rate': 0.7872340425531915,\n",
            "    'informedness': 0.6819708846584547,\n",
            "    'markedness': 0.5783475783475782,\n",
            "    'matthews_correlation_coefficient': 0.628025644098848,\n",
            "    'miss_rate': 0.21276595744680848,\n",
            "    'negative_predictive_value': 0.6296296296296297,\n",
            "    'positive_predictive_value': 0.9487179487179487,\n",
            "    'precision': 0.9487179487179487,\n",
            "    'recall': 0.7872340425531915,\n",
            "    'sensitivity': 0.7872340425531915,\n",
            "    'specificity': 0.8947368421052632,\n",
            "    'true_negative_rate': 0.8947368421052632,\n",
            "    'true_negatives': 17,\n",
            "    'true_positive_rate': 0.7872340425531915,\n",
            "    'true_positives': 37},\n",
            "  True: {   'accuracy': 0.8181818181818182,\n",
            "    'f1_score': 0.7391304347826088,\n",
            "    'fall_out': 0.21276595744680848,\n",
            "    'false_discovery_rate': 0.37037037037037035,\n",
            "    'false_negative_rate': 0.10526315789473684,\n",
            "    'false_negatives': 2,\n",
            "    'false_omission_rate': 0.05128205128205132,\n",
            "    'false_positive_rate': 0.21276595744680848,\n",
            "    'false_positives': 10,\n",
            "    'hit_rate': 0.8947368421052632,\n",
            "    'informedness': 0.6819708846584547,\n",
            "    'markedness': 0.5783475783475782,\n",
            "    'matthews_correlation_coefficient': 0.628025644098848,\n",
            "    'miss_rate': 0.10526315789473684,\n",
            "    'negative_predictive_value': 0.9487179487179487,\n",
            "    'positive_predictive_value': 0.6296296296296297,\n",
            "    'precision': 0.6296296296296297,\n",
            "    'recall': 0.8947368421052632,\n",
            "    'sensitivity': 0.8947368421052632,\n",
            "    'specificity': 0.7872340425531915,\n",
            "    'true_negative_rate': 0.7872340425531915,\n",
            "    'true_negatives': 37,\n",
            "    'true_positive_rate': 0.8947368421052632,\n",
            "    'true_positives': 17}}\n",
            "INFO:ludwig.models.predictor:precision: 0.6296296119689941\n",
            "INFO:ludwig.models.predictor:precision_recall_curve: { 'precisions': [ 0.2878787878787879,\n",
            "                  0.3275862068965517,\n",
            "                  0.3333333333333333,\n",
            "                  0.3392857142857143,\n",
            "                  0.34545454545454546,\n",
            "                  0.3333333333333333,\n",
            "                  0.33962264150943394,\n",
            "                  0.34615384615384615,\n",
            "                  0.35294117647058826,\n",
            "                  0.36,\n",
            "                  0.3673469387755102,\n",
            "                  0.375,\n",
            "                  0.3829787234042553,\n",
            "                  0.391304347826087,\n",
            "                  0.4,\n",
            "                  0.4090909090909091,\n",
            "                  0.4186046511627907,\n",
            "                  0.42857142857142855,\n",
            "                  0.43902439024390244,\n",
            "                  0.45,\n",
            "                  0.46153846153846156,\n",
            "                  0.47368421052631576,\n",
            "                  0.4864864864864865,\n",
            "                  0.5,\n",
            "                  0.5142857142857142,\n",
            "                  0.5294117647058824,\n",
            "                  0.5151515151515151,\n",
            "                  0.53125,\n",
            "                  0.5483870967741935,\n",
            "                  0.5666666666666667,\n",
            "                  0.5862068965517241,\n",
            "                  0.6071428571428571,\n",
            "                  0.6296296296296297,\n",
            "                  0.6538461538461539,\n",
            "                  0.68,\n",
            "                  1.0],\n",
            "  'recalls': [ 1.0,\n",
            "               1.0,\n",
            "               1.0,\n",
            "               1.0,\n",
            "               1.0,\n",
            "               0.9473684210526315,\n",
            "               0.9473684210526315,\n",
            "               0.9473684210526315,\n",
            "               0.9473684210526315,\n",
            "               0.9473684210526315,\n",
            "               0.9473684210526315,\n",
            "               0.9473684210526315,\n",
            "               0.9473684210526315,\n",
            "               0.9473684210526315,\n",
            "               0.9473684210526315,\n",
            "               0.9473684210526315,\n",
            "               0.9473684210526315,\n",
            "               0.9473684210526315,\n",
            "               0.9473684210526315,\n",
            "               0.9473684210526315,\n",
            "               0.9473684210526315,\n",
            "               0.9473684210526315,\n",
            "               0.9473684210526315,\n",
            "               0.9473684210526315,\n",
            "               0.9473684210526315,\n",
            "               0.9473684210526315,\n",
            "               0.8947368421052632,\n",
            "               0.8947368421052632,\n",
            "               0.8947368421052632,\n",
            "               0.8947368421052632,\n",
            "               0.8947368421052632,\n",
            "               0.8947368421052632,\n",
            "               0.8947368421052632,\n",
            "               0.8947368421052632,\n",
            "               0.8947368421052632,\n",
            "               0.0]}\n",
            "INFO:ludwig.models.predictor:recall: 0.8947368264198303\n",
            "INFO:ludwig.models.predictor:roc_auc: 0.8656215071678162\n",
            "INFO:ludwig.models.predictor:roc_auc_macro: 0.8656215005599104\n",
            "INFO:ludwig.models.predictor:roc_auc_micro: 0.8656215005599104\n",
            "INFO:ludwig.models.predictor:specificity: 0.7872340679168701\n"
          ]
        },
        {
          "name": "stdout",
          "output_type": "stream",
          "text": [
            "\n"
          ]
        }
      ],
      "source": [
        "# Evaluación del modelo\n",
        "evaluation_statistics, predictions, output_directory = model.evaluate(test, collect_overall_stats=True)"
      ]
    },
    {
      "cell_type": "code",
      "execution_count": null,
      "metadata": {
        "id": "i_x3cqsPOpev"
      },
      "outputs": [],
      "source": [
        "from ludwig import visualize"
      ]
    },
    {
      "cell_type": "code",
      "execution_count": null,
      "metadata": {
        "colab": {
          "base_uri": "https://localhost:8080/",
          "height": 487
        },
        "id": "BilcbVihHwOa",
        "outputId": "160b9e48-0f69-4d65-d9fe-2df21e0a26d0"
      },
      "outputs": [
        {
          "data": {
            "image/png": "[encoded data removed]",
            "text/plain": [
              "<Figure size 640x480 with 1 Axes>"
            ]
          },
          "metadata": {},
          "output_type": "display_data"
        }
      ],
      "source": [
        "visualize.roc_curves(\n",
        "    [predictions['CATEGORIA_probabilities']],\n",
        "    test.to_df()['CATEGORIA_2Xl8CP'],\n",
        "    test.to_df(),\n",
        "    'CATEGORIA_2Xl8CP',\n",
        "    '1',  # 1 positiva\n",
        "    model_names=[\"Turismo_Finelora\"],\n",
        "    output_directory='visualization',\n",
        "    file_format='png'\n",
        ")"
      ]
    },
    {
      "cell_type": "code",
      "execution_count": null,
      "metadata": {
        "id": "R9QFea8OHqPf"
      },
      "outputs": [],
      "source": [
        "from ludwig import visualize"
      ]
    },
    {
      "cell_type": "code",
      "execution_count": null,
      "metadata": {
        "colab": {
          "base_uri": "https://localhost:8080/",
          "height": 487
        },
        "id": "kg3TZJwoHtPR",
        "outputId": "7b5ee4a8-fa0a-4b02-8738-da37927d9b3d"
      },
      "outputs": [
        {
          "data": {
            "image/png": "[encoded data removed]",
            "text/plain": [
              "<Figure size 640x480 with 1 Axes>"
            ]
          },
          "metadata": {},
          "output_type": "display_data"
        }
      ],
      "source": [
        "visualize.roc_curves(\n",
        "    [predictions['CATEGORIA_probabilities']],\n",
        "    test.to_df()['CATEGORIA_2Xl8CP'],\n",
        "    test.to_df(),\n",
        "    'CATEGORIA_2Xl8CP',\n",
        "    '-1',  # 1 positiva\n",
        "    model_names=[\"Turismo_Finelora\"],\n",
        "    output_directory='visualization',\n",
        "    file_format='png'\n",
        ")"
      ]
    },
    {
      "cell_type": "code",
      "execution_count": null,
      "metadata": {
        "colab": {
          "base_uri": "https://localhost:8080/",
          "height": 504
        },
        "id": "CoOuYyvtH02N",
        "outputId": "06c9b770-abf1-44db-bd42-4f70c2ecda4d"
      },
      "outputs": [
        {
          "name": "stderr",
          "output_type": "stream",
          "text": [
            "WARNING:matplotlib.legend:No artists with labels found to put in legend.  Note that artists whose label start with an underscore are ignored when legend() is called with no argument.\n"
          ]
        },
        {
          "data": {
            "image/png": "[encoded data removed]",
            "text/plain": [
              "<Figure size 640x480 with 1 Axes>"
            ]
          },
          "metadata": {},
          "output_type": "display_data"
        }
      ],
      "source": [
        "visualize.binary_threshold_vs_metric(\n",
        "    [predictions['CATEGORIA_probabilities']],\n",
        "    test.to_df()['CATEGORIA_2Xl8CP'],\n",
        "    test.to_df(),\n",
        "    'CATEGORIA_2Xl8CP',\n",
        "  ['f1'],# solo hacerlo con F1 para la calibracion\n",
        "  -1\n",
        ")"
      ]
    },
    {
      "cell_type": "code",
      "execution_count": null,
      "metadata": {
        "colab": {
          "base_uri": "https://localhost:8080/",
          "height": 504
        },
        "id": "TTu_s730H1dT",
        "outputId": "01c8a094-a3b4-4942-d225-175d756e990b"
      },
      "outputs": [
        {
          "name": "stderr",
          "output_type": "stream",
          "text": [
            "WARNING:matplotlib.legend:No artists with labels found to put in legend.  Note that artists whose label start with an underscore are ignored when legend() is called with no argument.\n"
          ]
        },
        {
          "data": {
            "image/png": "[encoded data removed]",
            "text/plain": [
              "<Figure size 640x480 with 1 Axes>"
            ]
          },
          "metadata": {},
          "output_type": "display_data"
        }
      ],
      "source": [
        "visualize.binary_threshold_vs_metric(\n",
        "    [predictions['CATEGORIA_probabilities']],\n",
        "    test.to_df()['CATEGORIA_2Xl8CP'],\n",
        "    test.to_df(),\n",
        "    'CATEGORIA_2Xl8CP',\n",
        "  ['f1'],# solo hacerlo con F1 para la calibracion\n",
        "  1\n",
        ")"
      ]
    },
    {
      "cell_type": "code",
      "execution_count": null,
      "metadata": {
        "colab": {
          "base_uri": "https://localhost:8080/"
        },
        "id": "Ki-bIFnBH4cu",
        "outputId": "fe886b52-ddd6-4630-b5cf-891644e06926"
      },
      "outputs": [
        {
          "name": "stderr",
          "output_type": "stream",
          "text": [
            "/usr/local/lib/python3.10/dist-packages/huggingface_hub/file_download.py:1132: FutureWarning: `resume_download` is deprecated and will be removed in version 1.0.0. Downloads always resume when possible. If you want to force a new download, use `force_download=True`.\n",
            "  warnings.warn(\n",
            "INFO:ludwig.utils.tokenizers:Loaded TorchText implementation of distilbert/distilbert-base-multilingual-cased tokenizer\n"
          ]
        },
        {
          "name": "stdout",
          "output_type": "stream",
          "text": [
            "Prediction: 100%|██████████| 1/1 [00:00<00:00, 10.97it/s]"
          ]
        },
        {
          "name": "stderr",
          "output_type": "stream",
          "text": [
            "INFO:ludwig.api:Finished predicting in: 1.64s.\n"
          ]
        },
        {
          "name": "stdout",
          "output_type": "stream",
          "text": [
            "\n",
            "         CATEGORIA_probabilities CATEGORIA_predictions  \\\n",
            "0   [1.0, 8.586642208378625e-37]              POSITIVA   \n",
            "1                     [0.0, 1.0]              NEGATIVA   \n",
            "2  [1.0, 1.0934648709592684e-23]              POSITIVA   \n",
            "3                     [0.0, 1.0]              NEGATIVA   \n",
            "4                     [0.0, 1.0]              NEGATIVA   \n",
            "5                     [0.0, 1.0]              NEGATIVA   \n",
            "6                     [0.0, 1.0]              NEGATIVA   \n",
            "7                     [0.0, 1.0]              NEGATIVA   \n",
            "8                     [0.0, 1.0]              NEGATIVA   \n",
            "\n",
            "   CATEGORIA_probabilities_POSITIVA  CATEGORIA_probabilities_NEGATIVA  \\\n",
            "0                               1.0                      8.586642e-37   \n",
            "1                               0.0                      1.000000e+00   \n",
            "2                               1.0                      1.093465e-23   \n",
            "3                               0.0                      1.000000e+00   \n",
            "4                               0.0                      1.000000e+00   \n",
            "5                               0.0                      1.000000e+00   \n",
            "6                               0.0                      1.000000e+00   \n",
            "7                               0.0                      1.000000e+00   \n",
            "8                               0.0                      1.000000e+00   \n",
            "\n",
            "   CATEGORIA_probability  \n",
            "0                    1.0  \n",
            "1                    1.0  \n",
            "2                    1.0  \n",
            "3                    1.0  \n",
            "4                    1.0  \n",
            "5                    1.0  \n",
            "6                    1.0  \n",
            "7                    1.0  \n",
            "8                    1.0  \n"
          ]
        }
      ],
      "source": [
        "import pandas as pd\n",
        "\n",
        "# Crear un DataFrame con las descripciones de noticias de turismo\n",
        "text_to_predict = pd.DataFrame({\n",
        "    \"DESCRIPCION \": [\n",
        "        \"Cartagena celebra un incremento del 20% en turismo gracias a sus festivales de música y arte, impulsando la economía local.\",\n",
        "        \"El nuevo parque temático en Medellín atrae a familias de todo el país, marcando un hito en el turismo de aventura urbana.\",\n",
        "        \"Colombia es nombrada el mejor destino turístico de Sudamérica por su rica cultura y hospitalidad.\",\n",
        "        \"El festival de la flores en Medellín se supera en asistencia, con un aumento del 30% en turistas internacionales.\",\n",
        "        \"Escándalo por malas prácticas en hoteles de lujo en Bogotá daña gravemente la imagen turística de la ciudad.\",\n",
        "        \"Protestas en varias ciudades importantes afectan negativamente la temporada turística, causando una caída en las reservas.\",\n",
        "        \"Informes de inseguridad en Cartagena disuaden a los turistas de visitar, afectando la industria hotelera local.\",\n",
        "        \"Desastres naturales en la costa caribeña golpean la industria del turismo, con hoteles y playas cerradas durante meses.\",\n",
        "        \"Controversia por la construcción de un nuevo aeropuerto en Barranquilla amenaza zonas ecológicas y despierta críticas de grupos ambientalistas.\"\n",
        "    ]\n",
        "})\n",
        "\n",
        "# Utilizar el DataFrame para hacer predicciones\n",
        "predictions, output_directory = model.predict(text_to_predict)\n",
        "\n",
        "# Ver las predicciones\n",
        "print(predictions)"
      ]
    },
    {
      "cell_type": "code",
      "execution_count": null,
      "metadata": {
        "id": "oSomAMW1UQq_"
      },
      "outputs": [],
      "source": [
        "#model.save('/content/drive/MyDrive/Tesis/Collabs_finales_Experimentos_nuevo/model')"
      ]
    },
    {
      "cell_type": "code",
      "execution_count": null,
      "metadata": {
        "id": "dbzf4QxCT5Jt"
      },
      "outputs": [],
      "source": [
        "model.save_torchscript(\n",
        "'/content/drive/MyDrive/Tesis/Collabs_finales_Experimentos_nuevo/model',device=\"cuda\")"
      ]
    },
    {
      "cell_type": "code",
      "execution_count": 100,
      "metadata": {
        "colab": {
          "base_uri": "https://localhost:8080/"
        },
        "id": "LQ5rtvCspHvF",
        "outputId": "b0748c83-670b-4903-f479-58c103095450"
      },
      "outputs": [
        {
          "output_type": "stream",
          "name": "stdout",
          "text": [
            "Loaded torchscript module for preprocessor from inference_preprocessor.pt.\n",
            "Loaded torchscript module for predictor from inference_predictor-cuda.pt.\n",
            "Loaded torchscript module for postprocessor from inference_postprocessor.pt.\n"
          ]
        }
      ],
      "source": [
        "from ludwig.models.inference import InferenceModule\n",
        "inference_module=InferenceModule.from_directory('/content/drive/MyDrive/Tesis/Collabs_finales_Experimentos_nuevo/model/')"
      ]
    },
    {
      "cell_type": "code",
      "execution_count": 101,
      "metadata": {
        "id": "dFUer5V0ug7t"
      },
      "outputs": [],
      "source": [
        "raw={\"DESCRIPCION \":[\n",
        "    \"El nuevo parque temático en Medellín atrae a familias de todo el país, marcando un hito en el turismo de aventura urbana.\",\n",
        "\n",
        "    ]\n",
        "}"
      ]
    },
    {
      "cell_type": "code",
      "execution_count": 102,
      "metadata": {
        "id": "5SGE-rzkv8h9"
      },
      "outputs": [],
      "source": [
        "preprocessed_data=inference_module.preprocessor_forward(raw)"
      ]
    },
    {
      "cell_type": "code",
      "execution_count": 103,
      "metadata": {
        "id": "hTpU28bgwQv-"
      },
      "outputs": [],
      "source": [
        "predictions=inference_module.predictor_forward(preprocessed_data)\n"
      ]
    },
    {
      "cell_type": "code",
      "execution_count": 104,
      "metadata": {
        "id": "nHvr_5lawvvU"
      },
      "outputs": [],
      "source": [
        "postprocessed_data=inference_module.postprocessor_forward(predictions)"
      ]
    },
    {
      "cell_type": "code",
      "execution_count": 105,
      "metadata": {
        "colab": {
          "base_uri": "https://localhost:8080/"
        },
        "id": "V1hfzq8KFmQH",
        "outputId": "26c630cb-fbdf-4383-acb6-1a79bb171c9d"
      },
      "outputs": [
        {
          "output_type": "execute_result",
          "data": {
            "text/plain": [
              "{'CATEGORIA': {'predictions': ['NEGATIVA'],\n",
              "  'probabilities': tensor([[0., 1.]], device='cuda:0')}}"
            ]
          },
          "metadata": {},
          "execution_count": 105
        }
      ],
      "source": [
        "postprocessed_data"
      ]
    },
    {
      "cell_type": "code",
      "execution_count": 39,
      "metadata": {
        "colab": {
          "base_uri": "https://localhost:8080/"
        },
        "id": "Vo_KckOMVSKe",
        "outputId": "dffd5345-82a6-4415-b9b7-0062a229196f"
      },
      "outputs": [
        {
          "output_type": "stream",
          "name": "stdout",
          "text": [
            "Requirement already satisfied: gradio in /usr/local/lib/python3.10/dist-packages (4.32.1)\n",
            "Requirement already satisfied: aiofiles<24.0,>=22.0 in /usr/local/lib/python3.10/dist-packages (from gradio) (23.2.1)\n",
            "Requirement already satisfied: altair<6.0,>=4.2.0 in /usr/local/lib/python3.10/dist-packages (from gradio) (4.2.2)\n",
            "Requirement already satisfied: fastapi in /usr/local/lib/python3.10/dist-packages (from gradio) (0.111.0)\n",
            "Requirement already satisfied: ffmpy in /usr/local/lib/python3.10/dist-packages (from gradio) (0.3.2)\n",
            "Requirement already satisfied: gradio-client==0.17.0 in /usr/local/lib/python3.10/dist-packages (from gradio) (0.17.0)\n",
            "Requirement already satisfied: httpx>=0.24.1 in /usr/local/lib/python3.10/dist-packages (from gradio) (0.27.0)\n",
            "Requirement already satisfied: huggingface-hub>=0.19.3 in /usr/local/lib/python3.10/dist-packages (from gradio) (0.23.1)\n",
            "Requirement already satisfied: importlib-resources<7.0,>=1.3 in /usr/local/lib/python3.10/dist-packages (from gradio) (6.4.0)\n",
            "Requirement already satisfied: jinja2<4.0 in /usr/local/lib/python3.10/dist-packages (from gradio) (3.1.4)\n",
            "Requirement already satisfied: markupsafe~=2.0 in /usr/local/lib/python3.10/dist-packages (from gradio) (2.1.5)\n",
            "Requirement already satisfied: matplotlib~=3.0 in /usr/local/lib/python3.10/dist-packages (from gradio) (3.7.1)\n",
            "Requirement already satisfied: numpy~=1.0 in /usr/local/lib/python3.10/dist-packages (from gradio) (1.25.2)\n",
            "Requirement already satisfied: orjson~=3.0 in /usr/local/lib/python3.10/dist-packages (from gradio) (3.10.3)\n",
            "Requirement already satisfied: packaging in /usr/local/lib/python3.10/dist-packages (from gradio) (24.0)\n",
            "Requirement already satisfied: pandas<3.0,>=1.0 in /usr/local/lib/python3.10/dist-packages (from gradio) (2.0.3)\n",
            "Requirement already satisfied: pillow<11.0,>=8.0 in /usr/local/lib/python3.10/dist-packages (from gradio) (9.4.0)\n",
            "Collecting pydantic>=2.0 (from gradio)\n",
            "  Downloading pydantic-2.7.2-py3-none-any.whl (409 kB)\n",
            "\u001b[2K     \u001b[90m━━━━━━━━━━━━━━━━━━━━━━━━━━━━━━━━━━━━━━━━\u001b[0m \u001b[32m409.5/409.5 kB\u001b[0m \u001b[31m6.3 MB/s\u001b[0m eta \u001b[36m0:00:00\u001b[0m\n",
            "\u001b[?25hRequirement already satisfied: pydub in /usr/local/lib/python3.10/dist-packages (from gradio) (0.25.1)\n",
            "Requirement already satisfied: python-multipart>=0.0.9 in /usr/local/lib/python3.10/dist-packages (from gradio) (0.0.9)\n",
            "Requirement already satisfied: pyyaml<7.0,>=5.0 in /usr/local/lib/python3.10/dist-packages (from gradio) (6.0)\n",
            "Requirement already satisfied: ruff>=0.2.2 in /usr/local/lib/python3.10/dist-packages (from gradio) (0.4.6)\n",
            "Requirement already satisfied: semantic-version~=2.0 in /usr/local/lib/python3.10/dist-packages (from gradio) (2.10.0)\n",
            "Requirement already satisfied: tomlkit==0.12.0 in /usr/local/lib/python3.10/dist-packages (from gradio) (0.12.0)\n",
            "Collecting typer<1.0,>=0.12 (from gradio)\n",
            "  Using cached typer-0.12.3-py3-none-any.whl (47 kB)\n",
            "Requirement already satisfied: typing-extensions~=4.0 in /usr/local/lib/python3.10/dist-packages (from gradio) (4.11.0)\n",
            "Collecting urllib3~=2.0 (from gradio)\n",
            "  Downloading urllib3-2.2.1-py3-none-any.whl (121 kB)\n",
            "\u001b[2K     \u001b[90m━━━━━━━━━━━━━━━━━━━━━━━━━━━━━━━━━━━━━━━━\u001b[0m \u001b[32m121.1/121.1 kB\u001b[0m \u001b[31m11.3 MB/s\u001b[0m eta \u001b[36m0:00:00\u001b[0m\n",
            "\u001b[?25hRequirement already satisfied: uvicorn>=0.14.0 in /usr/local/lib/python3.10/dist-packages (from gradio) (0.30.0)\n",
            "Requirement already satisfied: fsspec in /usr/local/lib/python3.10/dist-packages (from gradio-client==0.17.0->gradio) (2023.6.0)\n",
            "Requirement already satisfied: websockets<12.0,>=10.0 in /usr/local/lib/python3.10/dist-packages (from gradio-client==0.17.0->gradio) (11.0.3)\n",
            "Requirement already satisfied: entrypoints in /usr/local/lib/python3.10/dist-packages (from altair<6.0,>=4.2.0->gradio) (0.4)\n",
            "Requirement already satisfied: jsonschema>=3.0 in /usr/local/lib/python3.10/dist-packages (from altair<6.0,>=4.2.0->gradio) (4.6.2)\n",
            "Requirement already satisfied: toolz in /usr/local/lib/python3.10/dist-packages (from altair<6.0,>=4.2.0->gradio) (0.12.1)\n",
            "Requirement already satisfied: anyio in /usr/local/lib/python3.10/dist-packages (from httpx>=0.24.1->gradio) (3.7.1)\n",
            "Requirement already satisfied: certifi in /usr/local/lib/python3.10/dist-packages (from httpx>=0.24.1->gradio) (2024.2.2)\n",
            "Requirement already satisfied: httpcore==1.* in /usr/local/lib/python3.10/dist-packages (from httpx>=0.24.1->gradio) (1.0.5)\n",
            "Requirement already satisfied: idna in /usr/local/lib/python3.10/dist-packages (from httpx>=0.24.1->gradio) (3.7)\n",
            "Requirement already satisfied: sniffio in /usr/local/lib/python3.10/dist-packages (from httpx>=0.24.1->gradio) (1.3.1)\n",
            "Requirement already satisfied: h11<0.15,>=0.13 in /usr/local/lib/python3.10/dist-packages (from httpcore==1.*->httpx>=0.24.1->gradio) (0.14.0)\n",
            "Requirement already satisfied: filelock in /usr/local/lib/python3.10/dist-packages (from huggingface-hub>=0.19.3->gradio) (3.14.0)\n",
            "Requirement already satisfied: requests in /usr/local/lib/python3.10/dist-packages (from huggingface-hub>=0.19.3->gradio) (2.31.0)\n",
            "Requirement already satisfied: tqdm>=4.42.1 in /usr/local/lib/python3.10/dist-packages (from huggingface-hub>=0.19.3->gradio) (4.66.4)\n",
            "Requirement already satisfied: contourpy>=1.0.1 in /usr/local/lib/python3.10/dist-packages (from matplotlib~=3.0->gradio) (1.2.1)\n",
            "Requirement already satisfied: cycler>=0.10 in /usr/local/lib/python3.10/dist-packages (from matplotlib~=3.0->gradio) (0.12.1)\n",
            "Requirement already satisfied: fonttools>=4.22.0 in /usr/local/lib/python3.10/dist-packages (from matplotlib~=3.0->gradio) (4.51.0)\n",
            "Requirement already satisfied: kiwisolver>=1.0.1 in /usr/local/lib/python3.10/dist-packages (from matplotlib~=3.0->gradio) (1.4.5)\n",
            "Requirement already satisfied: pyparsing>=2.3.1 in /usr/local/lib/python3.10/dist-packages (from matplotlib~=3.0->gradio) (3.1.2)\n",
            "Requirement already satisfied: python-dateutil>=2.7 in /usr/local/lib/python3.10/dist-packages (from matplotlib~=3.0->gradio) (2.8.2)\n",
            "Requirement already satisfied: pytz>=2020.1 in /usr/local/lib/python3.10/dist-packages (from pandas<3.0,>=1.0->gradio) (2023.4)\n",
            "Requirement already satisfied: tzdata>=2022.1 in /usr/local/lib/python3.10/dist-packages (from pandas<3.0,>=1.0->gradio) (2024.1)\n",
            "Requirement already satisfied: annotated-types>=0.4.0 in /usr/local/lib/python3.10/dist-packages (from pydantic>=2.0->gradio) (0.7.0)\n",
            "Collecting pydantic-core==2.18.3 (from pydantic>=2.0->gradio)\n",
            "  Downloading pydantic_core-2.18.3-cp310-cp310-manylinux_2_17_x86_64.manylinux2014_x86_64.whl (2.0 MB)\n",
            "\u001b[2K     \u001b[90m━━━━━━━━━━━━━━━━━━━━━━━━━━━━━━━━━━━━━━━━\u001b[0m \u001b[32m2.0/2.0 MB\u001b[0m \u001b[31m37.1 MB/s\u001b[0m eta \u001b[36m0:00:00\u001b[0m\n",
            "\u001b[?25hRequirement already satisfied: click>=8.0.0 in /usr/local/lib/python3.10/dist-packages (from typer<1.0,>=0.12->gradio) (8.1.7)\n",
            "Requirement already satisfied: shellingham>=1.3.0 in /usr/local/lib/python3.10/dist-packages (from typer<1.0,>=0.12->gradio) (1.5.4)\n",
            "Requirement already satisfied: rich>=10.11.0 in /usr/local/lib/python3.10/dist-packages (from typer<1.0,>=0.12->gradio) (12.4.4)\n",
            "Requirement already satisfied: starlette<0.38.0,>=0.37.2 in /usr/local/lib/python3.10/dist-packages (from fastapi->gradio) (0.37.2)\n",
            "Requirement already satisfied: fastapi-cli>=0.0.2 in /usr/local/lib/python3.10/dist-packages (from fastapi->gradio) (0.0.4)\n",
            "Requirement already satisfied: ujson!=4.0.2,!=4.1.0,!=4.2.0,!=4.3.0,!=5.0.0,!=5.1.0,>=4.0.1 in /usr/local/lib/python3.10/dist-packages (from fastapi->gradio) (5.10.0)\n",
            "Requirement already satisfied: email_validator>=2.0.0 in /usr/local/lib/python3.10/dist-packages (from fastapi->gradio) (2.1.1)\n",
            "Requirement already satisfied: dnspython>=2.0.0 in /usr/local/lib/python3.10/dist-packages (from email_validator>=2.0.0->fastapi->gradio) (2.6.1)\n",
            "Requirement already satisfied: attrs>=17.4.0 in /usr/local/lib/python3.10/dist-packages (from jsonschema>=3.0->altair<6.0,>=4.2.0->gradio) (23.2.0)\n",
            "Requirement already satisfied: pyrsistent!=0.17.0,!=0.17.1,!=0.17.2,>=0.14.0 in /usr/local/lib/python3.10/dist-packages (from jsonschema>=3.0->altair<6.0,>=4.2.0->gradio) (0.20.0)\n",
            "Requirement already satisfied: six>=1.5 in /usr/local/lib/python3.10/dist-packages (from python-dateutil>=2.7->matplotlib~=3.0->gradio) (1.16.0)\n",
            "Requirement already satisfied: commonmark<0.10.0,>=0.9.0 in /usr/local/lib/python3.10/dist-packages (from rich>=10.11.0->typer<1.0,>=0.12->gradio) (0.9.1)\n",
            "Requirement already satisfied: pygments<3.0.0,>=2.6.0 in /usr/local/lib/python3.10/dist-packages (from rich>=10.11.0->typer<1.0,>=0.12->gradio) (2.16.1)\n",
            "Requirement already satisfied: exceptiongroup in /usr/local/lib/python3.10/dist-packages (from anyio->httpx>=0.24.1->gradio) (1.2.1)\n",
            "Requirement already satisfied: httptools>=0.5.0 in /usr/local/lib/python3.10/dist-packages (from uvicorn>=0.14.0->gradio) (0.6.1)\n",
            "Requirement already satisfied: python-dotenv>=0.13 in /usr/local/lib/python3.10/dist-packages (from uvicorn>=0.14.0->gradio) (1.0.1)\n",
            "Requirement already satisfied: uvloop!=0.15.0,!=0.15.1,>=0.14.0 in /usr/local/lib/python3.10/dist-packages (from uvicorn>=0.14.0->gradio) (0.19.0)\n",
            "Requirement already satisfied: watchfiles>=0.13 in /usr/local/lib/python3.10/dist-packages (from uvicorn>=0.14.0->gradio) (0.22.0)\n",
            "Requirement already satisfied: charset-normalizer<4,>=2 in /usr/local/lib/python3.10/dist-packages (from requests->huggingface-hub>=0.19.3->gradio) (3.3.2)\n",
            "Installing collected packages: urllib3, pydantic-core, typer, pydantic\n",
            "  Attempting uninstall: urllib3\n",
            "    Found existing installation: urllib3 1.26.18\n",
            "    Uninstalling urllib3-1.26.18:\n",
            "      Successfully uninstalled urllib3-1.26.18\n",
            "  Attempting uninstall: pydantic-core\n",
            "    Found existing installation: pydantic_core 2.18.2\n",
            "    Uninstalling pydantic_core-2.18.2:\n",
            "      Successfully uninstalled pydantic_core-2.18.2\n",
            "  Attempting uninstall: typer\n",
            "    Found existing installation: typer 0.9.4\n",
            "    Uninstalling typer-0.9.4:\n",
            "      Successfully uninstalled typer-0.9.4\n",
            "  Attempting uninstall: pydantic\n",
            "    Found existing installation: pydantic 1.10.15\n",
            "    Uninstalling pydantic-1.10.15:\n",
            "      Successfully uninstalled pydantic-1.10.15\n",
            "\u001b[31mERROR: pip's dependency resolver does not currently take into account all the packages that are installed. This behaviour is the source of the following dependency conflicts.\n",
            "ludwig 0.10.3 requires pydantic<2.0, but you have pydantic 2.7.2 which is incompatible.\n",
            "ludwig 0.10.3 requires urllib3<2, but you have urllib3 2.2.1 which is incompatible.\n",
            "spacy 3.7.4 requires typer<0.10.0,>=0.3.0, but you have typer 0.12.3 which is incompatible.\n",
            "weasel 0.3.4 requires typer<0.10.0,>=0.3.0, but you have typer 0.12.3 which is incompatible.\u001b[0m\u001b[31m\n",
            "\u001b[0mSuccessfully installed pydantic-2.7.2 pydantic-core-2.18.3 typer-0.12.3 urllib3-2.2.1\n"
          ]
        }
      ],
      "source": [
        "!pip install gradio"
      ]
    },
    {
      "cell_type": "code",
      "execution_count": 70,
      "metadata": {
        "colab": {
          "base_uri": "https://localhost:8080/",
          "height": 36
        },
        "id": "NrdoQmWaWzgO",
        "outputId": "d1936d45-58e9-45ca-bf10-f96806f42d2a"
      },
      "outputs": [
        {
          "output_type": "execute_result",
          "data": {
            "text/plain": [
              "'la noticia es: NEGATIVA'"
            ],
            "application/vnd.google.colaboratory.intrinsic+json": {
              "type": "string"
            }
          },
          "metadata": {},
          "execution_count": 70
        }
      ],
      "source": [
        "'la noticia es: '+ postprocessed_data['CATEGORIA']['predictions'][0]"
      ]
    },
    {
      "cell_type": "code",
      "execution_count": 52,
      "metadata": {
        "id": "WkYv-zuYW7mr"
      },
      "outputs": [],
      "source": [
        "import gradio as gr"
      ]
    },
    {
      "cell_type": "code",
      "execution_count": null,
      "metadata": {
        "id": "4ywgVoX9vf_D"
      },
      "outputs": [],
      "source": []
    },
    {
      "cell_type": "code",
      "execution_count": 77,
      "metadata": {
        "id": "XJmocXyXW8Gs"
      },
      "outputs": [],
      "source": [
        "\n",
        "  raw={\"DESCRIPCION \":[\"Noticia\"]}\n",
        "  preprocessed_data=inference_module.preprocessor_forward(raw)\n",
        "  predictions=inference_module.predictor_forward(preprocessed_data)\n",
        "  postprocessed_data=inference_module.postprocessor_forward(predictions)\n",
        "\n"
      ]
    },
    {
      "cell_type": "code",
      "execution_count": 106,
      "metadata": {
        "id": "eYASxAunqiwR"
      },
      "outputs": [],
      "source": [
        "def greet(noticia):\n",
        "    raw = {\"DESCRIPCION \": [noticia]}\n",
        "    preprocessed_data = inference_module.preprocessor_forward(raw)\n",
        "    predictions = inference_module.predictor_forward(preprocessed_data)\n",
        "    postprocessed_data = inference_module.postprocessor_forward(predictions)\n",
        "\n",
        "    classification = postprocessed_data['CATEGORIA']['predictions'][0]\n",
        "    return output_label + classification"
      ]
    },
    {
      "cell_type": "code",
      "execution_count": 107,
      "metadata": {
        "colab": {
          "base_uri": "https://localhost:8080/",
          "height": 646
        },
        "id": "cj49hgzwWSbn",
        "outputId": "aca53934-feb8-43f1-f741-c26be38d517e"
      },
      "outputs": [
        {
          "output_type": "stream",
          "name": "stdout",
          "text": [
            "Setting queue=True in a Colab notebook requires sharing enabled. Setting `share=True` (you can turn this off by setting `share=False` in `launch()` explicitly).\n",
            "\n",
            "Colab notebook detected. To show errors in colab notebook, set debug=True in launch()\n",
            "Running on public URL: https://30031a30c4bfb3a8be.gradio.live\n",
            "\n",
            "This share link expires in 72 hours. For free permanent hosting and GPU upgrades, run `gradio deploy` from Terminal to deploy to Spaces (https://huggingface.co/spaces)\n"
          ]
        },
        {
          "output_type": "display_data",
          "data": {
            "text/plain": [
              "<IPython.core.display.HTML object>"
            ],
            "text/html": [
              "<div><iframe src=\"https://30031a30c4bfb3a8be.gradio.live\" width=\"100%\" height=\"500\" allow=\"autoplay; camera; microphone; clipboard-read; clipboard-write;\" frameborder=\"0\" allowfullscreen></iframe></div>"
            ]
          },
          "metadata": {}
        }
      ],
      "source": [
        "\n",
        "import gradio as gr\n",
        "\n",
        "\n",
        "\n",
        "demo = gr.Interface(fn=greet, inputs=\"textbox\", outputs=[gr.Textbox(label=\"Clasificación\")], css=\"\"\"\n",
        "   body {background-color : red}\n",
        "    \"\"\",)\n",
        "\n",
        "\n",
        "\n",
        "if __name__ == \"__main__\":\n",
        "    demo.launch()"
      ]
    },
    {
      "cell_type": "code",
      "execution_count": null,
      "metadata": {
        "id": "jeV9_NpRzkHZ"
      },
      "outputs": [],
      "source": []
    },
    {
      "cell_type": "code",
      "execution_count": null,
      "metadata": {
        "colab": {
          "base_uri": "https://localhost:8080/",
          "height": 106
        },
        "id": "SE20QBuh5ZDp",
        "outputId": "29bb0224-3082-4da7-f0b9-ce9349a53154"
      },
      "outputs": [
        {
          "ename": "SyntaxError",
          "evalue": "invalid syntax (<ipython-input-10-5c218ca493bb>, line 1)",
          "output_type": "error",
          "traceback": [
            "\u001b[0;36m  File \u001b[0;32m\"<ipython-input-10-5c218ca493bb>\"\u001b[0;36m, line \u001b[0;32m1\u001b[0m\n\u001b[0;31m    docker build -t gradio-app:latest\u001b[0m\n\u001b[0m           ^\u001b[0m\n\u001b[0;31mSyntaxError\u001b[0m\u001b[0;31m:\u001b[0m invalid syntax\n"
          ]
        }
      ],
      "source": [
        "docker build -t gradio-app:latest"
      ]
    },
    {
      "cell_type": "code",
      "execution_count": 115,
      "metadata": {
        "colab": {
          "base_uri": "https://localhost:8080/",
          "height": 646
        },
        "id": "wdFkc865GVHT",
        "outputId": "2db55a07-7d7a-4876-c7eb-c026114319a0"
      },
      "outputs": [
        {
          "output_type": "stream",
          "name": "stdout",
          "text": [
            "Setting queue=True in a Colab notebook requires sharing enabled. Setting `share=True` (you can turn this off by setting `share=False` in `launch()` explicitly).\n",
            "\n",
            "Colab notebook detected. To show errors in colab notebook, set debug=True in launch()\n",
            "Running on public URL: https://79086cebd6a37bd900.gradio.live\n",
            "\n",
            "This share link expires in 72 hours. For free permanent hosting and GPU upgrades, run `gradio deploy` from Terminal to deploy to Spaces (https://huggingface.co/spaces)\n"
          ]
        },
        {
          "output_type": "display_data",
          "data": {
            "text/plain": [
              "<IPython.core.display.HTML object>"
            ],
            "text/html": [
              "<div><iframe src=\"https://79086cebd6a37bd900.gradio.live\" width=\"100%\" height=\"500\" allow=\"autoplay; camera; microphone; clipboard-read; clipboard-write;\" frameborder=\"0\" allowfullscreen></iframe></div>"
            ]
          },
          "metadata": {}
        }
      ],
      "source": [
        "from __future__ import annotations\n",
        "from typing import Iterable\n",
        "import gradio as gr\n",
        "from gradio.themes.base import Base\n",
        "from gradio.themes.utils import colors, fonts, sizes\n",
        "import time\n",
        "\n",
        "\n",
        "class Seafoam(Base):\n",
        "    def __init__(\n",
        "        self,\n",
        "        *,\n",
        "        primary_hue: colors.Color | str = colors.blue,\n",
        "        secondary_hue: colors.Color | str = colors.red,\n",
        "        neutral_hue: colors.Color | str = colors.gray,\n",
        "        spacing_size: sizes.Size | str = sizes.spacing_md,\n",
        "        radius_size: sizes.Size | str = sizes.radius_md,\n",
        "        text_size: sizes.Size | str = sizes.text_lg,\n",
        "        font: fonts.Font\n",
        "        | str\n",
        "        | Iterable[fonts.Font | str] = (\n",
        "            fonts.GoogleFont(\"Quicksand\"),\n",
        "            \"ui-sans-serif\",\n",
        "            \"sans-serif\",\n",
        "        ),\n",
        "        font_mono: fonts.Font\n",
        "        | str\n",
        "        | Iterable[fonts.Font | str] = (\n",
        "            fonts.GoogleFont(\"IBM Plex Mono\"),\n",
        "            \"ui-monospace\",\n",
        "            \"monospace\",\n",
        "        ),\n",
        "    ):\n",
        "        super().__init__(\n",
        "            primary_hue=primary_hue,\n",
        "            secondary_hue=secondary_hue,\n",
        "            neutral_hue=neutral_hue,\n",
        "            spacing_size=spacing_size,\n",
        "            radius_size=radius_size,\n",
        "            text_size=text_size,\n",
        "            font=font,\n",
        "            font_mono=font_mono,\n",
        "        )\n",
        "        super().set(\n",
        "            body_background_fill=\"repeating-linear-gradient(45deg, *primary_200, *primary_200 10px, *primary_50 10px, *primary_50 20px)\",\n",
        "            body_background_fill_dark=\"repeating-linear-gradient(45deg, *primary_800, *primary_800 10px, *primary_900 10px, *primary_900 20px)\",\n",
        "            button_primary_background_fill=\"linear-gradient(90deg, *primary_300, *secondary_400)\",\n",
        "            button_primary_background_fill_hover=\"linear-gradient(90deg, *primary_200, *secondary_300)\",\n",
        "            button_primary_text_color=\"white\",\n",
        "            button_primary_background_fill_dark=\"linear-gradient(90deg, *primary_600, *secondary_800)\",\n",
        "            slider_color=\"*secondary_300\",\n",
        "            slider_color_dark=\"*secondary_600\",\n",
        "            block_title_text_weight=\"600\",\n",
        "            block_border_width=\"3px\",\n",
        "            block_shadow=\"*shadow_drop_lg\",\n",
        "            button_shadow=\"*shadow_drop_lg\",\n",
        "            button_large_padding=\"32px\",\n",
        "        )\n",
        "\n",
        "\n",
        "\n",
        "seafoam = Seafoam()\n",
        "\n",
        "with gr.Blocks(theme=seafoam) as demo:\n",
        "    textbox = gr.Textbox(label=\"Noticia\")\n",
        "\n",
        "    with gr.Row():\n",
        "        button = gr.Button(\"Submit\", variant=\"primary\")\n",
        "        clear = gr.Button(\"Clear\")\n",
        "    output = gr.Textbox(label=\"Clasificación\")\n",
        "\n",
        "\n",
        "\n",
        "if __name__ == \"__main__\":\n",
        "    demo.launch()\n",
        "\n"
      ]
    },
    {
      "cell_type": "code",
      "execution_count": null,
      "metadata": {
        "id": "QGNMZo2oGPSI"
      },
      "outputs": [],
      "source": []
    }
  ],
  "metadata": {
    "accelerator": "GPU",
    "colab": {
      "gpuType": "T4",
      "machine_shape": "hm",
      "provenance": []
    },
    "kernelspec": {
      "display_name": "Python 3",
      "name": "python3"
    },
    "language_info": {
      "name": "python"
    },
    "widgets": {
      "application/vnd.jupyter.widget-state+json": {
        "0853627ff8d143078812429275908b6e": {
          "model_module": "@jupyter-widgets/controls",
          "model_module_version": "1.5.0",
          "model_name": "HTMLModel",
          "state": {
            "_dom_classes": [],
            "_model_module": "@jupyter-widgets/controls",
            "_model_module_version": "1.5.0",
            "_model_name": "HTMLModel",
            "_view_count": null,
            "_view_module": "@jupyter-widgets/controls",
            "_view_module_version": "1.5.0",
            "_view_name": "HTMLView",
            "description": "",
            "description_tooltip": null,
            "layout": "IPY_MODEL_ef200b51fc9240adb56b5ff637c35cc9",
            "placeholder": "​",
            "style": "IPY_MODEL_fd59b0a76b4f407e8740e590e6fbd25b",
            "value": " 466/466 [00:00&lt;00:00, 33.3kB/s]"
          }
        },
        "0b7b206afa5142708f414670260b2836": {
          "model_module": "@jupyter-widgets/controls",
          "model_module_version": "1.5.0",
          "model_name": "DescriptionStyleModel",
          "state": {
            "_model_module": "@jupyter-widgets/controls",
            "_model_module_version": "1.5.0",
            "_model_name": "DescriptionStyleModel",
            "_view_count": null,
            "_view_module": "@jupyter-widgets/base",
            "_view_module_version": "1.2.0",
            "_view_name": "StyleView",
            "description_width": ""
          }
        },
        "0c02553f401b4c7f9eee4bbb88145c81": {
          "model_module": "@jupyter-widgets/controls",
          "model_module_version": "1.5.0",
          "model_name": "DescriptionStyleModel",
          "state": {
            "_model_module": "@jupyter-widgets/controls",
            "_model_module_version": "1.5.0",
            "_model_name": "DescriptionStyleModel",
            "_view_count": null,
            "_view_module": "@jupyter-widgets/base",
            "_view_module_version": "1.2.0",
            "_view_name": "StyleView",
            "description_width": ""
          }
        },
        "0e1308e3c939402c86504c81566175bf": {
          "model_module": "@jupyter-widgets/controls",
          "model_module_version": "1.5.0",
          "model_name": "DescriptionStyleModel",
          "state": {
            "_model_module": "@jupyter-widgets/controls",
            "_model_module_version": "1.5.0",
            "_model_name": "DescriptionStyleModel",
            "_view_count": null,
            "_view_module": "@jupyter-widgets/base",
            "_view_module_version": "1.2.0",
            "_view_name": "StyleView",
            "description_width": ""
          }
        },
        "121b11d7343944c1997dd04693f99a33": {
          "model_module": "@jupyter-widgets/base",
          "model_module_version": "1.2.0",
          "model_name": "LayoutModel",
          "state": {
            "_model_module": "@jupyter-widgets/base",
            "_model_module_version": "1.2.0",
            "_model_name": "LayoutModel",
            "_view_count": null,
            "_view_module": "@jupyter-widgets/base",
            "_view_module_version": "1.2.0",
            "_view_name": "LayoutView",
            "align_content": null,
            "align_items": null,
            "align_self": null,
            "border": null,
            "bottom": null,
            "display": null,
            "flex": null,
            "flex_flow": null,
            "grid_area": null,
            "grid_auto_columns": null,
            "grid_auto_flow": null,
            "grid_auto_rows": null,
            "grid_column": null,
            "grid_gap": null,
            "grid_row": null,
            "grid_template_areas": null,
            "grid_template_columns": null,
            "grid_template_rows": null,
            "height": null,
            "justify_content": null,
            "justify_items": null,
            "left": null,
            "margin": null,
            "max_height": null,
            "max_width": null,
            "min_height": null,
            "min_width": null,
            "object_fit": null,
            "object_position": null,
            "order": null,
            "overflow": null,
            "overflow_x": null,
            "overflow_y": null,
            "padding": null,
            "right": null,
            "top": null,
            "visibility": null,
            "width": null
          }
        },
        "1256b9175f4c40099b9d8469a030ee28": {
          "model_module": "@jupyter-widgets/controls",
          "model_module_version": "1.5.0",
          "model_name": "HBoxModel",
          "state": {
            "_dom_classes": [],
            "_model_module": "@jupyter-widgets/controls",
            "_model_module_version": "1.5.0",
            "_model_name": "HBoxModel",
            "_view_count": null,
            "_view_module": "@jupyter-widgets/controls",
            "_view_module_version": "1.5.0",
            "_view_name": "HBoxView",
            "box_style": "",
            "children": [
              "IPY_MODEL_b67fb49dfb1f472e86e41c875f8dd53a",
              "IPY_MODEL_2fa16eefa5c7488c8d2d2c700f8570ab",
              "IPY_MODEL_f33d19d10843499ca4962f719e58ae2b"
            ],
            "layout": "IPY_MODEL_447d1195424545bf9bf1a57d1bd8a785"
          }
        },
        "1b83a8e708de46c1aa967e96fcffe634": {
          "model_module": "@jupyter-widgets/controls",
          "model_module_version": "1.5.0",
          "model_name": "ProgressStyleModel",
          "state": {
            "_model_module": "@jupyter-widgets/controls",
            "_model_module_version": "1.5.0",
            "_model_name": "ProgressStyleModel",
            "_view_count": null,
            "_view_module": "@jupyter-widgets/base",
            "_view_module_version": "1.2.0",
            "_view_name": "StyleView",
            "bar_color": null,
            "description_width": ""
          }
        },
        "1dd0a904f3c241059a678f6323a8446d": {
          "model_module": "@jupyter-widgets/base",
          "model_module_version": "1.2.0",
          "model_name": "LayoutModel",
          "state": {
            "_model_module": "@jupyter-widgets/base",
            "_model_module_version": "1.2.0",
            "_model_name": "LayoutModel",
            "_view_count": null,
            "_view_module": "@jupyter-widgets/base",
            "_view_module_version": "1.2.0",
            "_view_name": "LayoutView",
            "align_content": null,
            "align_items": null,
            "align_self": null,
            "border": null,
            "bottom": null,
            "display": null,
            "flex": null,
            "flex_flow": null,
            "grid_area": null,
            "grid_auto_columns": null,
            "grid_auto_flow": null,
            "grid_auto_rows": null,
            "grid_column": null,
            "grid_gap": null,
            "grid_row": null,
            "grid_template_areas": null,
            "grid_template_columns": null,
            "grid_template_rows": null,
            "height": null,
            "justify_content": null,
            "justify_items": null,
            "left": null,
            "margin": null,
            "max_height": null,
            "max_width": null,
            "min_height": null,
            "min_width": null,
            "object_fit": null,
            "object_position": null,
            "order": null,
            "overflow": null,
            "overflow_x": null,
            "overflow_y": null,
            "padding": null,
            "right": null,
            "top": null,
            "visibility": null,
            "width": null
          }
        },
        "2aa97fd9e5fc401d97c18d02912c3337": {
          "model_module": "@jupyter-widgets/controls",
          "model_module_version": "1.5.0",
          "model_name": "DescriptionStyleModel",
          "state": {
            "_model_module": "@jupyter-widgets/controls",
            "_model_module_version": "1.5.0",
            "_model_name": "DescriptionStyleModel",
            "_view_count": null,
            "_view_module": "@jupyter-widgets/base",
            "_view_module_version": "1.2.0",
            "_view_name": "StyleView",
            "description_width": ""
          }
        },
        "2eb98b39fb4745bd81c786e17432340a": {
          "model_module": "@jupyter-widgets/base",
          "model_module_version": "1.2.0",
          "model_name": "LayoutModel",
          "state": {
            "_model_module": "@jupyter-widgets/base",
            "_model_module_version": "1.2.0",
            "_model_name": "LayoutModel",
            "_view_count": null,
            "_view_module": "@jupyter-widgets/base",
            "_view_module_version": "1.2.0",
            "_view_name": "LayoutView",
            "align_content": null,
            "align_items": null,
            "align_self": null,
            "border": null,
            "bottom": null,
            "display": null,
            "flex": null,
            "flex_flow": null,
            "grid_area": null,
            "grid_auto_columns": null,
            "grid_auto_flow": null,
            "grid_auto_rows": null,
            "grid_column": null,
            "grid_gap": null,
            "grid_row": null,
            "grid_template_areas": null,
            "grid_template_columns": null,
            "grid_template_rows": null,
            "height": null,
            "justify_content": null,
            "justify_items": null,
            "left": null,
            "margin": null,
            "max_height": null,
            "max_width": null,
            "min_height": null,
            "min_width": null,
            "object_fit": null,
            "object_position": null,
            "order": null,
            "overflow": null,
            "overflow_x": null,
            "overflow_y": null,
            "padding": null,
            "right": null,
            "top": null,
            "visibility": null,
            "width": null
          }
        },
        "2fa16eefa5c7488c8d2d2c700f8570ab": {
          "model_module": "@jupyter-widgets/controls",
          "model_module_version": "1.5.0",
          "model_name": "FloatProgressModel",
          "state": {
            "_dom_classes": [],
            "_model_module": "@jupyter-widgets/controls",
            "_model_module_version": "1.5.0",
            "_model_name": "FloatProgressModel",
            "_view_count": null,
            "_view_module": "@jupyter-widgets/controls",
            "_view_module_version": "1.5.0",
            "_view_name": "ProgressView",
            "bar_style": "success",
            "description": "",
            "description_tooltip": null,
            "layout": "IPY_MODEL_ed4cce27747d4bfd9499d6e78209df3c",
            "max": 541795680,
            "min": 0,
            "orientation": "horizontal",
            "style": "IPY_MODEL_d46d47fb9b964935b9c4438d52c5c608",
            "value": 541795680
          }
        },
        "33273d7c689446c0b3adf3a82da01c10": {
          "model_module": "@jupyter-widgets/base",
          "model_module_version": "1.2.0",
          "model_name": "LayoutModel",
          "state": {
            "_model_module": "@jupyter-widgets/base",
            "_model_module_version": "1.2.0",
            "_model_name": "LayoutModel",
            "_view_count": null,
            "_view_module": "@jupyter-widgets/base",
            "_view_module_version": "1.2.0",
            "_view_name": "LayoutView",
            "align_content": null,
            "align_items": null,
            "align_self": null,
            "border": null,
            "bottom": null,
            "display": null,
            "flex": null,
            "flex_flow": null,
            "grid_area": null,
            "grid_auto_columns": null,
            "grid_auto_flow": null,
            "grid_auto_rows": null,
            "grid_column": null,
            "grid_gap": null,
            "grid_row": null,
            "grid_template_areas": null,
            "grid_template_columns": null,
            "grid_template_rows": null,
            "height": null,
            "justify_content": null,
            "justify_items": null,
            "left": null,
            "margin": null,
            "max_height": null,
            "max_width": null,
            "min_height": null,
            "min_width": null,
            "object_fit": null,
            "object_position": null,
            "order": null,
            "overflow": null,
            "overflow_x": null,
            "overflow_y": null,
            "padding": null,
            "right": null,
            "top": null,
            "visibility": null,
            "width": null
          }
        },
        "3f7b91d609e041e2948a2b50fa770ca6": {
          "model_module": "@jupyter-widgets/controls",
          "model_module_version": "1.5.0",
          "model_name": "DescriptionStyleModel",
          "state": {
            "_model_module": "@jupyter-widgets/controls",
            "_model_module_version": "1.5.0",
            "_model_name": "DescriptionStyleModel",
            "_view_count": null,
            "_view_module": "@jupyter-widgets/base",
            "_view_module_version": "1.2.0",
            "_view_name": "StyleView",
            "description_width": ""
          }
        },
        "3ff1f597cfb9476ca973f74f179bcdb0": {
          "model_module": "@jupyter-widgets/base",
          "model_module_version": "1.2.0",
          "model_name": "LayoutModel",
          "state": {
            "_model_module": "@jupyter-widgets/base",
            "_model_module_version": "1.2.0",
            "_model_name": "LayoutModel",
            "_view_count": null,
            "_view_module": "@jupyter-widgets/base",
            "_view_module_version": "1.2.0",
            "_view_name": "LayoutView",
            "align_content": null,
            "align_items": null,
            "align_self": null,
            "border": null,
            "bottom": null,
            "display": null,
            "flex": null,
            "flex_flow": null,
            "grid_area": null,
            "grid_auto_columns": null,
            "grid_auto_flow": null,
            "grid_auto_rows": null,
            "grid_column": null,
            "grid_gap": null,
            "grid_row": null,
            "grid_template_areas": null,
            "grid_template_columns": null,
            "grid_template_rows": null,
            "height": null,
            "justify_content": null,
            "justify_items": null,
            "left": null,
            "margin": null,
            "max_height": null,
            "max_width": null,
            "min_height": null,
            "min_width": null,
            "object_fit": null,
            "object_position": null,
            "order": null,
            "overflow": null,
            "overflow_x": null,
            "overflow_y": null,
            "padding": null,
            "right": null,
            "top": null,
            "visibility": null,
            "width": null
          }
        },
        "447d1195424545bf9bf1a57d1bd8a785": {
          "model_module": "@jupyter-widgets/base",
          "model_module_version": "1.2.0",
          "model_name": "LayoutModel",
          "state": {
            "_model_module": "@jupyter-widgets/base",
            "_model_module_version": "1.2.0",
            "_model_name": "LayoutModel",
            "_view_count": null,
            "_view_module": "@jupyter-widgets/base",
            "_view_module_version": "1.2.0",
            "_view_name": "LayoutView",
            "align_content": null,
            "align_items": null,
            "align_self": null,
            "border": null,
            "bottom": null,
            "display": null,
            "flex": null,
            "flex_flow": null,
            "grid_area": null,
            "grid_auto_columns": null,
            "grid_auto_flow": null,
            "grid_auto_rows": null,
            "grid_column": null,
            "grid_gap": null,
            "grid_row": null,
            "grid_template_areas": null,
            "grid_template_columns": null,
            "grid_template_rows": null,
            "height": null,
            "justify_content": null,
            "justify_items": null,
            "left": null,
            "margin": null,
            "max_height": null,
            "max_width": null,
            "min_height": null,
            "min_width": null,
            "object_fit": null,
            "object_position": null,
            "order": null,
            "overflow": null,
            "overflow_x": null,
            "overflow_y": null,
            "padding": null,
            "right": null,
            "top": null,
            "visibility": null,
            "width": null
          }
        },
        "49ba9ecc075a402fac74560790cbe349": {
          "model_module": "@jupyter-widgets/controls",
          "model_module_version": "1.5.0",
          "model_name": "FloatProgressModel",
          "state": {
            "_dom_classes": [],
            "_model_module": "@jupyter-widgets/controls",
            "_model_module_version": "1.5.0",
            "_model_name": "FloatProgressModel",
            "_view_count": null,
            "_view_module": "@jupyter-widgets/controls",
            "_view_module_version": "1.5.0",
            "_view_name": "ProgressView",
            "bar_style": "success",
            "description": "",
            "description_tooltip": null,
            "layout": "IPY_MODEL_cb2a0ce8c58d4c6fa4c2e56ffd755c17",
            "max": 995526,
            "min": 0,
            "orientation": "horizontal",
            "style": "IPY_MODEL_1b83a8e708de46c1aa967e96fcffe634",
            "value": 995526
          }
        },
        "4a4e086f8ef040fb8eab70f526da1471": {
          "model_module": "@jupyter-widgets/base",
          "model_module_version": "1.2.0",
          "model_name": "LayoutModel",
          "state": {
            "_model_module": "@jupyter-widgets/base",
            "_model_module_version": "1.2.0",
            "_model_name": "LayoutModel",
            "_view_count": null,
            "_view_module": "@jupyter-widgets/base",
            "_view_module_version": "1.2.0",
            "_view_name": "LayoutView",
            "align_content": null,
            "align_items": null,
            "align_self": null,
            "border": null,
            "bottom": null,
            "display": null,
            "flex": null,
            "flex_flow": null,
            "grid_area": null,
            "grid_auto_columns": null,
            "grid_auto_flow": null,
            "grid_auto_rows": null,
            "grid_column": null,
            "grid_gap": null,
            "grid_row": null,
            "grid_template_areas": null,
            "grid_template_columns": null,
            "grid_template_rows": null,
            "height": null,
            "justify_content": null,
            "justify_items": null,
            "left": null,
            "margin": null,
            "max_height": null,
            "max_width": null,
            "min_height": null,
            "min_width": null,
            "object_fit": null,
            "object_position": null,
            "order": null,
            "overflow": null,
            "overflow_x": null,
            "overflow_y": null,
            "padding": null,
            "right": null,
            "top": null,
            "visibility": null,
            "width": null
          }
        },
        "5ecde07b10b6447d8e48ec9d0294fdbd": {
          "model_module": "@jupyter-widgets/controls",
          "model_module_version": "1.5.0",
          "model_name": "DescriptionStyleModel",
          "state": {
            "_model_module": "@jupyter-widgets/controls",
            "_model_module_version": "1.5.0",
            "_model_name": "DescriptionStyleModel",
            "_view_count": null,
            "_view_module": "@jupyter-widgets/base",
            "_view_module_version": "1.2.0",
            "_view_name": "StyleView",
            "description_width": ""
          }
        },
        "5f81b946708545fd9c3781aa137abb7f": {
          "model_module": "@jupyter-widgets/base",
          "model_module_version": "1.2.0",
          "model_name": "LayoutModel",
          "state": {
            "_model_module": "@jupyter-widgets/base",
            "_model_module_version": "1.2.0",
            "_model_name": "LayoutModel",
            "_view_count": null,
            "_view_module": "@jupyter-widgets/base",
            "_view_module_version": "1.2.0",
            "_view_name": "LayoutView",
            "align_content": null,
            "align_items": null,
            "align_self": null,
            "border": null,
            "bottom": null,
            "display": null,
            "flex": null,
            "flex_flow": null,
            "grid_area": null,
            "grid_auto_columns": null,
            "grid_auto_flow": null,
            "grid_auto_rows": null,
            "grid_column": null,
            "grid_gap": null,
            "grid_row": null,
            "grid_template_areas": null,
            "grid_template_columns": null,
            "grid_template_rows": null,
            "height": null,
            "justify_content": null,
            "justify_items": null,
            "left": null,
            "margin": null,
            "max_height": null,
            "max_width": null,
            "min_height": null,
            "min_width": null,
            "object_fit": null,
            "object_position": null,
            "order": null,
            "overflow": null,
            "overflow_x": null,
            "overflow_y": null,
            "padding": null,
            "right": null,
            "top": null,
            "visibility": null,
            "width": null
          }
        },
        "5ffb3600a6a44ffaa41c7d358ed61545": {
          "model_module": "@jupyter-widgets/controls",
          "model_module_version": "1.5.0",
          "model_name": "HBoxModel",
          "state": {
            "_dom_classes": [],
            "_model_module": "@jupyter-widgets/controls",
            "_model_module_version": "1.5.0",
            "_model_name": "HBoxModel",
            "_view_count": null,
            "_view_module": "@jupyter-widgets/controls",
            "_view_module_version": "1.5.0",
            "_view_name": "HBoxView",
            "box_style": "",
            "children": [
              "IPY_MODEL_edb36a51a52f45cabc1759a0b8c51e90",
              "IPY_MODEL_870c1099565745c3b426dee73b310ec4",
              "IPY_MODEL_0853627ff8d143078812429275908b6e"
            ],
            "layout": "IPY_MODEL_121b11d7343944c1997dd04693f99a33"
          }
        },
        "802f8d101da84a8783fb45900643644f": {
          "model_module": "@jupyter-widgets/controls",
          "model_module_version": "1.5.0",
          "model_name": "HBoxModel",
          "state": {
            "_dom_classes": [],
            "_model_module": "@jupyter-widgets/controls",
            "_model_module_version": "1.5.0",
            "_model_name": "HBoxModel",
            "_view_count": null,
            "_view_module": "@jupyter-widgets/controls",
            "_view_module_version": "1.5.0",
            "_view_name": "HBoxView",
            "box_style": "",
            "children": [
              "IPY_MODEL_fa0f74a931f7497794707d25a97af8a6",
              "IPY_MODEL_49ba9ecc075a402fac74560790cbe349",
              "IPY_MODEL_c6290a1e6d41457bb2dd40b3246ef37d"
            ],
            "layout": "IPY_MODEL_f030ae7f76c0442f9a1894ef64275813"
          }
        },
        "87040917ae474a93b659dcc7eeb12eb8": {
          "model_module": "@jupyter-widgets/controls",
          "model_module_version": "1.5.0",
          "model_name": "DescriptionStyleModel",
          "state": {
            "_model_module": "@jupyter-widgets/controls",
            "_model_module_version": "1.5.0",
            "_model_name": "DescriptionStyleModel",
            "_view_count": null,
            "_view_module": "@jupyter-widgets/base",
            "_view_module_version": "1.2.0",
            "_view_name": "StyleView",
            "description_width": ""
          }
        },
        "870c1099565745c3b426dee73b310ec4": {
          "model_module": "@jupyter-widgets/controls",
          "model_module_version": "1.5.0",
          "model_name": "FloatProgressModel",
          "state": {
            "_dom_classes": [],
            "_model_module": "@jupyter-widgets/controls",
            "_model_module_version": "1.5.0",
            "_model_name": "FloatProgressModel",
            "_view_count": null,
            "_view_module": "@jupyter-widgets/controls",
            "_view_module_version": "1.5.0",
            "_view_name": "ProgressView",
            "bar_style": "success",
            "description": "",
            "description_tooltip": null,
            "layout": "IPY_MODEL_bc30e6033d53406c915a41222e0eda4a",
            "max": 466,
            "min": 0,
            "orientation": "horizontal",
            "style": "IPY_MODEL_c24bda843d914a2aa7c5d30dd7e9c3f6",
            "value": 466
          }
        },
        "87f58f4da72f4faab2f5174a78fc7216": {
          "model_module": "@jupyter-widgets/controls",
          "model_module_version": "1.5.0",
          "model_name": "HBoxModel",
          "state": {
            "_dom_classes": [],
            "_model_module": "@jupyter-widgets/controls",
            "_model_module_version": "1.5.0",
            "_model_name": "HBoxModel",
            "_view_count": null,
            "_view_module": "@jupyter-widgets/controls",
            "_view_module_version": "1.5.0",
            "_view_name": "HBoxView",
            "box_style": "",
            "children": [
              "IPY_MODEL_e5f9a3f956bf4a5d89ef9ec2ed093597",
              "IPY_MODEL_e04c8afa8e5940a29ee05044c655e0c3",
              "IPY_MODEL_f690b206e07a4f05b6a9427d34f7bb48"
            ],
            "layout": "IPY_MODEL_3ff1f597cfb9476ca973f74f179bcdb0"
          }
        },
        "88aa18788d6e4a9987b3a1b06c3ccc8d": {
          "model_module": "@jupyter-widgets/controls",
          "model_module_version": "1.5.0",
          "model_name": "HTMLModel",
          "state": {
            "_dom_classes": [],
            "_model_module": "@jupyter-widgets/controls",
            "_model_module_version": "1.5.0",
            "_model_name": "HTMLModel",
            "_view_count": null,
            "_view_module": "@jupyter-widgets/controls",
            "_view_module_version": "1.5.0",
            "_view_name": "HTMLView",
            "description": "",
            "description_tooltip": null,
            "layout": "IPY_MODEL_b24825f5f68948cc9be8bf0cd76899cb",
            "placeholder": "​",
            "style": "IPY_MODEL_0c02553f401b4c7f9eee4bbb88145c81",
            "value": "tokenizer_config.json: 100%"
          }
        },
        "8ff4d1fcac1a4cdc95d24469906f0f03": {
          "model_module": "@jupyter-widgets/base",
          "model_module_version": "1.2.0",
          "model_name": "LayoutModel",
          "state": {
            "_model_module": "@jupyter-widgets/base",
            "_model_module_version": "1.2.0",
            "_model_name": "LayoutModel",
            "_view_count": null,
            "_view_module": "@jupyter-widgets/base",
            "_view_module_version": "1.2.0",
            "_view_name": "LayoutView",
            "align_content": null,
            "align_items": null,
            "align_self": null,
            "border": null,
            "bottom": null,
            "display": null,
            "flex": null,
            "flex_flow": null,
            "grid_area": null,
            "grid_auto_columns": null,
            "grid_auto_flow": null,
            "grid_auto_rows": null,
            "grid_column": null,
            "grid_gap": null,
            "grid_row": null,
            "grid_template_areas": null,
            "grid_template_columns": null,
            "grid_template_rows": null,
            "height": null,
            "justify_content": null,
            "justify_items": null,
            "left": null,
            "margin": null,
            "max_height": null,
            "max_width": null,
            "min_height": null,
            "min_width": null,
            "object_fit": null,
            "object_position": null,
            "order": null,
            "overflow": null,
            "overflow_x": null,
            "overflow_y": null,
            "padding": null,
            "right": null,
            "top": null,
            "visibility": null,
            "width": null
          }
        },
        "a24a606ade274bf79e8f7c6807ac9c50": {
          "model_module": "@jupyter-widgets/controls",
          "model_module_version": "1.5.0",
          "model_name": "ProgressStyleModel",
          "state": {
            "_model_module": "@jupyter-widgets/controls",
            "_model_module_version": "1.5.0",
            "_model_name": "ProgressStyleModel",
            "_view_count": null,
            "_view_module": "@jupyter-widgets/base",
            "_view_module_version": "1.2.0",
            "_view_name": "StyleView",
            "bar_color": null,
            "description_width": ""
          }
        },
        "aec0ef75f7bb4266ad206d115270fcc1": {
          "model_module": "@jupyter-widgets/base",
          "model_module_version": "1.2.0",
          "model_name": "LayoutModel",
          "state": {
            "_model_module": "@jupyter-widgets/base",
            "_model_module_version": "1.2.0",
            "_model_name": "LayoutModel",
            "_view_count": null,
            "_view_module": "@jupyter-widgets/base",
            "_view_module_version": "1.2.0",
            "_view_name": "LayoutView",
            "align_content": null,
            "align_items": null,
            "align_self": null,
            "border": null,
            "bottom": null,
            "display": null,
            "flex": null,
            "flex_flow": null,
            "grid_area": null,
            "grid_auto_columns": null,
            "grid_auto_flow": null,
            "grid_auto_rows": null,
            "grid_column": null,
            "grid_gap": null,
            "grid_row": null,
            "grid_template_areas": null,
            "grid_template_columns": null,
            "grid_template_rows": null,
            "height": null,
            "justify_content": null,
            "justify_items": null,
            "left": null,
            "margin": null,
            "max_height": null,
            "max_width": null,
            "min_height": null,
            "min_width": null,
            "object_fit": null,
            "object_position": null,
            "order": null,
            "overflow": null,
            "overflow_x": null,
            "overflow_y": null,
            "padding": null,
            "right": null,
            "top": null,
            "visibility": null,
            "width": null
          }
        },
        "b24825f5f68948cc9be8bf0cd76899cb": {
          "model_module": "@jupyter-widgets/base",
          "model_module_version": "1.2.0",
          "model_name": "LayoutModel",
          "state": {
            "_model_module": "@jupyter-widgets/base",
            "_model_module_version": "1.2.0",
            "_model_name": "LayoutModel",
            "_view_count": null,
            "_view_module": "@jupyter-widgets/base",
            "_view_module_version": "1.2.0",
            "_view_name": "LayoutView",
            "align_content": null,
            "align_items": null,
            "align_self": null,
            "border": null,
            "bottom": null,
            "display": null,
            "flex": null,
            "flex_flow": null,
            "grid_area": null,
            "grid_auto_columns": null,
            "grid_auto_flow": null,
            "grid_auto_rows": null,
            "grid_column": null,
            "grid_gap": null,
            "grid_row": null,
            "grid_template_areas": null,
            "grid_template_columns": null,
            "grid_template_rows": null,
            "height": null,
            "justify_content": null,
            "justify_items": null,
            "left": null,
            "margin": null,
            "max_height": null,
            "max_width": null,
            "min_height": null,
            "min_width": null,
            "object_fit": null,
            "object_position": null,
            "order": null,
            "overflow": null,
            "overflow_x": null,
            "overflow_y": null,
            "padding": null,
            "right": null,
            "top": null,
            "visibility": null,
            "width": null
          }
        },
        "b67fb49dfb1f472e86e41c875f8dd53a": {
          "model_module": "@jupyter-widgets/controls",
          "model_module_version": "1.5.0",
          "model_name": "HTMLModel",
          "state": {
            "_dom_classes": [],
            "_model_module": "@jupyter-widgets/controls",
            "_model_module_version": "1.5.0",
            "_model_name": "HTMLModel",
            "_view_count": null,
            "_view_module": "@jupyter-widgets/controls",
            "_view_module_version": "1.5.0",
            "_view_name": "HTMLView",
            "description": "",
            "description_tooltip": null,
            "layout": "IPY_MODEL_d9b0f26829d045caa07a37dadfb42881",
            "placeholder": "​",
            "style": "IPY_MODEL_2aa97fd9e5fc401d97c18d02912c3337",
            "value": "model.safetensors: 100%"
          }
        },
        "b9c8968473ba4a2ca8960a96d6cb16be": {
          "model_module": "@jupyter-widgets/controls",
          "model_module_version": "1.5.0",
          "model_name": "HBoxModel",
          "state": {
            "_dom_classes": [],
            "_model_module": "@jupyter-widgets/controls",
            "_model_module_version": "1.5.0",
            "_model_name": "HBoxModel",
            "_view_count": null,
            "_view_module": "@jupyter-widgets/controls",
            "_view_module_version": "1.5.0",
            "_view_name": "HBoxView",
            "box_style": "",
            "children": [
              "IPY_MODEL_88aa18788d6e4a9987b3a1b06c3ccc8d",
              "IPY_MODEL_d2090fc8bdc34ee6aba7d2fad4f8195e",
              "IPY_MODEL_f57ba576e5c94290b6bd22e5b680a5f1"
            ],
            "layout": "IPY_MODEL_ddef039e77f048a1908b53f2f2762717"
          }
        },
        "bc30e6033d53406c915a41222e0eda4a": {
          "model_module": "@jupyter-widgets/base",
          "model_module_version": "1.2.0",
          "model_name": "LayoutModel",
          "state": {
            "_model_module": "@jupyter-widgets/base",
            "_model_module_version": "1.2.0",
            "_model_name": "LayoutModel",
            "_view_count": null,
            "_view_module": "@jupyter-widgets/base",
            "_view_module_version": "1.2.0",
            "_view_name": "LayoutView",
            "align_content": null,
            "align_items": null,
            "align_self": null,
            "border": null,
            "bottom": null,
            "display": null,
            "flex": null,
            "flex_flow": null,
            "grid_area": null,
            "grid_auto_columns": null,
            "grid_auto_flow": null,
            "grid_auto_rows": null,
            "grid_column": null,
            "grid_gap": null,
            "grid_row": null,
            "grid_template_areas": null,
            "grid_template_columns": null,
            "grid_template_rows": null,
            "height": null,
            "justify_content": null,
            "justify_items": null,
            "left": null,
            "margin": null,
            "max_height": null,
            "max_width": null,
            "min_height": null,
            "min_width": null,
            "object_fit": null,
            "object_position": null,
            "order": null,
            "overflow": null,
            "overflow_x": null,
            "overflow_y": null,
            "padding": null,
            "right": null,
            "top": null,
            "visibility": null,
            "width": null
          }
        },
        "c24bda843d914a2aa7c5d30dd7e9c3f6": {
          "model_module": "@jupyter-widgets/controls",
          "model_module_version": "1.5.0",
          "model_name": "ProgressStyleModel",
          "state": {
            "_model_module": "@jupyter-widgets/controls",
            "_model_module_version": "1.5.0",
            "_model_name": "ProgressStyleModel",
            "_view_count": null,
            "_view_module": "@jupyter-widgets/base",
            "_view_module_version": "1.2.0",
            "_view_name": "StyleView",
            "bar_color": null,
            "description_width": ""
          }
        },
        "c24c05cdad7148b8a17dc6c807037fd8": {
          "model_module": "@jupyter-widgets/base",
          "model_module_version": "1.2.0",
          "model_name": "LayoutModel",
          "state": {
            "_model_module": "@jupyter-widgets/base",
            "_model_module_version": "1.2.0",
            "_model_name": "LayoutModel",
            "_view_count": null,
            "_view_module": "@jupyter-widgets/base",
            "_view_module_version": "1.2.0",
            "_view_name": "LayoutView",
            "align_content": null,
            "align_items": null,
            "align_self": null,
            "border": null,
            "bottom": null,
            "display": null,
            "flex": null,
            "flex_flow": null,
            "grid_area": null,
            "grid_auto_columns": null,
            "grid_auto_flow": null,
            "grid_auto_rows": null,
            "grid_column": null,
            "grid_gap": null,
            "grid_row": null,
            "grid_template_areas": null,
            "grid_template_columns": null,
            "grid_template_rows": null,
            "height": null,
            "justify_content": null,
            "justify_items": null,
            "left": null,
            "margin": null,
            "max_height": null,
            "max_width": null,
            "min_height": null,
            "min_width": null,
            "object_fit": null,
            "object_position": null,
            "order": null,
            "overflow": null,
            "overflow_x": null,
            "overflow_y": null,
            "padding": null,
            "right": null,
            "top": null,
            "visibility": null,
            "width": null
          }
        },
        "c6290a1e6d41457bb2dd40b3246ef37d": {
          "model_module": "@jupyter-widgets/controls",
          "model_module_version": "1.5.0",
          "model_name": "HTMLModel",
          "state": {
            "_dom_classes": [],
            "_model_module": "@jupyter-widgets/controls",
            "_model_module_version": "1.5.0",
            "_model_name": "HTMLModel",
            "_view_count": null,
            "_view_module": "@jupyter-widgets/controls",
            "_view_module_version": "1.5.0",
            "_view_name": "HTMLView",
            "description": "",
            "description_tooltip": null,
            "layout": "IPY_MODEL_1dd0a904f3c241059a678f6323a8446d",
            "placeholder": "​",
            "style": "IPY_MODEL_3f7b91d609e041e2948a2b50fa770ca6",
            "value": " 996k/996k [00:00&lt;00:00, 4.20MB/s]"
          }
        },
        "cb2a0ce8c58d4c6fa4c2e56ffd755c17": {
          "model_module": "@jupyter-widgets/base",
          "model_module_version": "1.2.0",
          "model_name": "LayoutModel",
          "state": {
            "_model_module": "@jupyter-widgets/base",
            "_model_module_version": "1.2.0",
            "_model_name": "LayoutModel",
            "_view_count": null,
            "_view_module": "@jupyter-widgets/base",
            "_view_module_version": "1.2.0",
            "_view_name": "LayoutView",
            "align_content": null,
            "align_items": null,
            "align_self": null,
            "border": null,
            "bottom": null,
            "display": null,
            "flex": null,
            "flex_flow": null,
            "grid_area": null,
            "grid_auto_columns": null,
            "grid_auto_flow": null,
            "grid_auto_rows": null,
            "grid_column": null,
            "grid_gap": null,
            "grid_row": null,
            "grid_template_areas": null,
            "grid_template_columns": null,
            "grid_template_rows": null,
            "height": null,
            "justify_content": null,
            "justify_items": null,
            "left": null,
            "margin": null,
            "max_height": null,
            "max_width": null,
            "min_height": null,
            "min_width": null,
            "object_fit": null,
            "object_position": null,
            "order": null,
            "overflow": null,
            "overflow_x": null,
            "overflow_y": null,
            "padding": null,
            "right": null,
            "top": null,
            "visibility": null,
            "width": null
          }
        },
        "d2090fc8bdc34ee6aba7d2fad4f8195e": {
          "model_module": "@jupyter-widgets/controls",
          "model_module_version": "1.5.0",
          "model_name": "FloatProgressModel",
          "state": {
            "_dom_classes": [],
            "_model_module": "@jupyter-widgets/controls",
            "_model_module_version": "1.5.0",
            "_model_name": "FloatProgressModel",
            "_view_count": null,
            "_view_module": "@jupyter-widgets/controls",
            "_view_module_version": "1.5.0",
            "_view_name": "ProgressView",
            "bar_style": "success",
            "description": "",
            "description_tooltip": null,
            "layout": "IPY_MODEL_c24c05cdad7148b8a17dc6c807037fd8",
            "max": 49,
            "min": 0,
            "orientation": "horizontal",
            "style": "IPY_MODEL_a24a606ade274bf79e8f7c6807ac9c50",
            "value": 49
          }
        },
        "d2defaa881f94769a6f505474b356e0a": {
          "model_module": "@jupyter-widgets/base",
          "model_module_version": "1.2.0",
          "model_name": "LayoutModel",
          "state": {
            "_model_module": "@jupyter-widgets/base",
            "_model_module_version": "1.2.0",
            "_model_name": "LayoutModel",
            "_view_count": null,
            "_view_module": "@jupyter-widgets/base",
            "_view_module_version": "1.2.0",
            "_view_name": "LayoutView",
            "align_content": null,
            "align_items": null,
            "align_self": null,
            "border": null,
            "bottom": null,
            "display": null,
            "flex": null,
            "flex_flow": null,
            "grid_area": null,
            "grid_auto_columns": null,
            "grid_auto_flow": null,
            "grid_auto_rows": null,
            "grid_column": null,
            "grid_gap": null,
            "grid_row": null,
            "grid_template_areas": null,
            "grid_template_columns": null,
            "grid_template_rows": null,
            "height": null,
            "justify_content": null,
            "justify_items": null,
            "left": null,
            "margin": null,
            "max_height": null,
            "max_width": null,
            "min_height": null,
            "min_width": null,
            "object_fit": null,
            "object_position": null,
            "order": null,
            "overflow": null,
            "overflow_x": null,
            "overflow_y": null,
            "padding": null,
            "right": null,
            "top": null,
            "visibility": null,
            "width": null
          }
        },
        "d46d47fb9b964935b9c4438d52c5c608": {
          "model_module": "@jupyter-widgets/controls",
          "model_module_version": "1.5.0",
          "model_name": "ProgressStyleModel",
          "state": {
            "_model_module": "@jupyter-widgets/controls",
            "_model_module_version": "1.5.0",
            "_model_name": "ProgressStyleModel",
            "_view_count": null,
            "_view_module": "@jupyter-widgets/base",
            "_view_module_version": "1.2.0",
            "_view_name": "StyleView",
            "bar_color": null,
            "description_width": ""
          }
        },
        "d57c598956ef46febe18daaebabdd3b8": {
          "model_module": "@jupyter-widgets/controls",
          "model_module_version": "1.5.0",
          "model_name": "DescriptionStyleModel",
          "state": {
            "_model_module": "@jupyter-widgets/controls",
            "_model_module_version": "1.5.0",
            "_model_name": "DescriptionStyleModel",
            "_view_count": null,
            "_view_module": "@jupyter-widgets/base",
            "_view_module_version": "1.2.0",
            "_view_name": "StyleView",
            "description_width": ""
          }
        },
        "d9b0f26829d045caa07a37dadfb42881": {
          "model_module": "@jupyter-widgets/base",
          "model_module_version": "1.2.0",
          "model_name": "LayoutModel",
          "state": {
            "_model_module": "@jupyter-widgets/base",
            "_model_module_version": "1.2.0",
            "_model_name": "LayoutModel",
            "_view_count": null,
            "_view_module": "@jupyter-widgets/base",
            "_view_module_version": "1.2.0",
            "_view_name": "LayoutView",
            "align_content": null,
            "align_items": null,
            "align_self": null,
            "border": null,
            "bottom": null,
            "display": null,
            "flex": null,
            "flex_flow": null,
            "grid_area": null,
            "grid_auto_columns": null,
            "grid_auto_flow": null,
            "grid_auto_rows": null,
            "grid_column": null,
            "grid_gap": null,
            "grid_row": null,
            "grid_template_areas": null,
            "grid_template_columns": null,
            "grid_template_rows": null,
            "height": null,
            "justify_content": null,
            "justify_items": null,
            "left": null,
            "margin": null,
            "max_height": null,
            "max_width": null,
            "min_height": null,
            "min_width": null,
            "object_fit": null,
            "object_position": null,
            "order": null,
            "overflow": null,
            "overflow_x": null,
            "overflow_y": null,
            "padding": null,
            "right": null,
            "top": null,
            "visibility": null,
            "width": null
          }
        },
        "ddef039e77f048a1908b53f2f2762717": {
          "model_module": "@jupyter-widgets/base",
          "model_module_version": "1.2.0",
          "model_name": "LayoutModel",
          "state": {
            "_model_module": "@jupyter-widgets/base",
            "_model_module_version": "1.2.0",
            "_model_name": "LayoutModel",
            "_view_count": null,
            "_view_module": "@jupyter-widgets/base",
            "_view_module_version": "1.2.0",
            "_view_name": "LayoutView",
            "align_content": null,
            "align_items": null,
            "align_self": null,
            "border": null,
            "bottom": null,
            "display": null,
            "flex": null,
            "flex_flow": null,
            "grid_area": null,
            "grid_auto_columns": null,
            "grid_auto_flow": null,
            "grid_auto_rows": null,
            "grid_column": null,
            "grid_gap": null,
            "grid_row": null,
            "grid_template_areas": null,
            "grid_template_columns": null,
            "grid_template_rows": null,
            "height": null,
            "justify_content": null,
            "justify_items": null,
            "left": null,
            "margin": null,
            "max_height": null,
            "max_width": null,
            "min_height": null,
            "min_width": null,
            "object_fit": null,
            "object_position": null,
            "order": null,
            "overflow": null,
            "overflow_x": null,
            "overflow_y": null,
            "padding": null,
            "right": null,
            "top": null,
            "visibility": null,
            "width": null
          }
        },
        "e04c8afa8e5940a29ee05044c655e0c3": {
          "model_module": "@jupyter-widgets/controls",
          "model_module_version": "1.5.0",
          "model_name": "FloatProgressModel",
          "state": {
            "_dom_classes": [],
            "_model_module": "@jupyter-widgets/controls",
            "_model_module_version": "1.5.0",
            "_model_name": "FloatProgressModel",
            "_view_count": null,
            "_view_module": "@jupyter-widgets/controls",
            "_view_module_version": "1.5.0",
            "_view_name": "ProgressView",
            "bar_style": "success",
            "description": "",
            "description_tooltip": null,
            "layout": "IPY_MODEL_d2defaa881f94769a6f505474b356e0a",
            "max": 1961828,
            "min": 0,
            "orientation": "horizontal",
            "style": "IPY_MODEL_eb767be82aa5491fbb5023f0596061dc",
            "value": 1961828
          }
        },
        "e2343b4c25394701b4e6c9920e50bd55": {
          "model_module": "@jupyter-widgets/controls",
          "model_module_version": "1.5.0",
          "model_name": "DescriptionStyleModel",
          "state": {
            "_model_module": "@jupyter-widgets/controls",
            "_model_module_version": "1.5.0",
            "_model_name": "DescriptionStyleModel",
            "_view_count": null,
            "_view_module": "@jupyter-widgets/base",
            "_view_module_version": "1.2.0",
            "_view_name": "StyleView",
            "description_width": ""
          }
        },
        "e5f9a3f956bf4a5d89ef9ec2ed093597": {
          "model_module": "@jupyter-widgets/controls",
          "model_module_version": "1.5.0",
          "model_name": "HTMLModel",
          "state": {
            "_dom_classes": [],
            "_model_module": "@jupyter-widgets/controls",
            "_model_module_version": "1.5.0",
            "_model_name": "HTMLModel",
            "_view_count": null,
            "_view_module": "@jupyter-widgets/controls",
            "_view_module_version": "1.5.0",
            "_view_name": "HTMLView",
            "description": "",
            "description_tooltip": null,
            "layout": "IPY_MODEL_33273d7c689446c0b3adf3a82da01c10",
            "placeholder": "​",
            "style": "IPY_MODEL_d57c598956ef46febe18daaebabdd3b8",
            "value": "tokenizer.json: 100%"
          }
        },
        "eb767be82aa5491fbb5023f0596061dc": {
          "model_module": "@jupyter-widgets/controls",
          "model_module_version": "1.5.0",
          "model_name": "ProgressStyleModel",
          "state": {
            "_model_module": "@jupyter-widgets/controls",
            "_model_module_version": "1.5.0",
            "_model_name": "ProgressStyleModel",
            "_view_count": null,
            "_view_module": "@jupyter-widgets/base",
            "_view_module_version": "1.2.0",
            "_view_name": "StyleView",
            "bar_color": null,
            "description_width": ""
          }
        },
        "ed4cce27747d4bfd9499d6e78209df3c": {
          "model_module": "@jupyter-widgets/base",
          "model_module_version": "1.2.0",
          "model_name": "LayoutModel",
          "state": {
            "_model_module": "@jupyter-widgets/base",
            "_model_module_version": "1.2.0",
            "_model_name": "LayoutModel",
            "_view_count": null,
            "_view_module": "@jupyter-widgets/base",
            "_view_module_version": "1.2.0",
            "_view_name": "LayoutView",
            "align_content": null,
            "align_items": null,
            "align_self": null,
            "border": null,
            "bottom": null,
            "display": null,
            "flex": null,
            "flex_flow": null,
            "grid_area": null,
            "grid_auto_columns": null,
            "grid_auto_flow": null,
            "grid_auto_rows": null,
            "grid_column": null,
            "grid_gap": null,
            "grid_row": null,
            "grid_template_areas": null,
            "grid_template_columns": null,
            "grid_template_rows": null,
            "height": null,
            "justify_content": null,
            "justify_items": null,
            "left": null,
            "margin": null,
            "max_height": null,
            "max_width": null,
            "min_height": null,
            "min_width": null,
            "object_fit": null,
            "object_position": null,
            "order": null,
            "overflow": null,
            "overflow_x": null,
            "overflow_y": null,
            "padding": null,
            "right": null,
            "top": null,
            "visibility": null,
            "width": null
          }
        },
        "edb36a51a52f45cabc1759a0b8c51e90": {
          "model_module": "@jupyter-widgets/controls",
          "model_module_version": "1.5.0",
          "model_name": "HTMLModel",
          "state": {
            "_dom_classes": [],
            "_model_module": "@jupyter-widgets/controls",
            "_model_module_version": "1.5.0",
            "_model_name": "HTMLModel",
            "_view_count": null,
            "_view_module": "@jupyter-widgets/controls",
            "_view_module_version": "1.5.0",
            "_view_name": "HTMLView",
            "description": "",
            "description_tooltip": null,
            "layout": "IPY_MODEL_8ff4d1fcac1a4cdc95d24469906f0f03",
            "placeholder": "​",
            "style": "IPY_MODEL_e2343b4c25394701b4e6c9920e50bd55",
            "value": "config.json: 100%"
          }
        },
        "ef200b51fc9240adb56b5ff637c35cc9": {
          "model_module": "@jupyter-widgets/base",
          "model_module_version": "1.2.0",
          "model_name": "LayoutModel",
          "state": {
            "_model_module": "@jupyter-widgets/base",
            "_model_module_version": "1.2.0",
            "_model_name": "LayoutModel",
            "_view_count": null,
            "_view_module": "@jupyter-widgets/base",
            "_view_module_version": "1.2.0",
            "_view_name": "LayoutView",
            "align_content": null,
            "align_items": null,
            "align_self": null,
            "border": null,
            "bottom": null,
            "display": null,
            "flex": null,
            "flex_flow": null,
            "grid_area": null,
            "grid_auto_columns": null,
            "grid_auto_flow": null,
            "grid_auto_rows": null,
            "grid_column": null,
            "grid_gap": null,
            "grid_row": null,
            "grid_template_areas": null,
            "grid_template_columns": null,
            "grid_template_rows": null,
            "height": null,
            "justify_content": null,
            "justify_items": null,
            "left": null,
            "margin": null,
            "max_height": null,
            "max_width": null,
            "min_height": null,
            "min_width": null,
            "object_fit": null,
            "object_position": null,
            "order": null,
            "overflow": null,
            "overflow_x": null,
            "overflow_y": null,
            "padding": null,
            "right": null,
            "top": null,
            "visibility": null,
            "width": null
          }
        },
        "f030ae7f76c0442f9a1894ef64275813": {
          "model_module": "@jupyter-widgets/base",
          "model_module_version": "1.2.0",
          "model_name": "LayoutModel",
          "state": {
            "_model_module": "@jupyter-widgets/base",
            "_model_module_version": "1.2.0",
            "_model_name": "LayoutModel",
            "_view_count": null,
            "_view_module": "@jupyter-widgets/base",
            "_view_module_version": "1.2.0",
            "_view_name": "LayoutView",
            "align_content": null,
            "align_items": null,
            "align_self": null,
            "border": null,
            "bottom": null,
            "display": null,
            "flex": null,
            "flex_flow": null,
            "grid_area": null,
            "grid_auto_columns": null,
            "grid_auto_flow": null,
            "grid_auto_rows": null,
            "grid_column": null,
            "grid_gap": null,
            "grid_row": null,
            "grid_template_areas": null,
            "grid_template_columns": null,
            "grid_template_rows": null,
            "height": null,
            "justify_content": null,
            "justify_items": null,
            "left": null,
            "margin": null,
            "max_height": null,
            "max_width": null,
            "min_height": null,
            "min_width": null,
            "object_fit": null,
            "object_position": null,
            "order": null,
            "overflow": null,
            "overflow_x": null,
            "overflow_y": null,
            "padding": null,
            "right": null,
            "top": null,
            "visibility": null,
            "width": null
          }
        },
        "f33d19d10843499ca4962f719e58ae2b": {
          "model_module": "@jupyter-widgets/controls",
          "model_module_version": "1.5.0",
          "model_name": "HTMLModel",
          "state": {
            "_dom_classes": [],
            "_model_module": "@jupyter-widgets/controls",
            "_model_module_version": "1.5.0",
            "_model_name": "HTMLModel",
            "_view_count": null,
            "_view_module": "@jupyter-widgets/controls",
            "_view_module_version": "1.5.0",
            "_view_name": "HTMLView",
            "description": "",
            "description_tooltip": null,
            "layout": "IPY_MODEL_4a4e086f8ef040fb8eab70f526da1471",
            "placeholder": "​",
            "style": "IPY_MODEL_5ecde07b10b6447d8e48ec9d0294fdbd",
            "value": " 542M/542M [00:34&lt;00:00, 17.3MB/s]"
          }
        },
        "f57ba576e5c94290b6bd22e5b680a5f1": {
          "model_module": "@jupyter-widgets/controls",
          "model_module_version": "1.5.0",
          "model_name": "HTMLModel",
          "state": {
            "_dom_classes": [],
            "_model_module": "@jupyter-widgets/controls",
            "_model_module_version": "1.5.0",
            "_model_name": "HTMLModel",
            "_view_count": null,
            "_view_module": "@jupyter-widgets/controls",
            "_view_module_version": "1.5.0",
            "_view_name": "HTMLView",
            "description": "",
            "description_tooltip": null,
            "layout": "IPY_MODEL_5f81b946708545fd9c3781aa137abb7f",
            "placeholder": "​",
            "style": "IPY_MODEL_0e1308e3c939402c86504c81566175bf",
            "value": " 49.0/49.0 [00:00&lt;00:00, 3.11kB/s]"
          }
        },
        "f690b206e07a4f05b6a9427d34f7bb48": {
          "model_module": "@jupyter-widgets/controls",
          "model_module_version": "1.5.0",
          "model_name": "HTMLModel",
          "state": {
            "_dom_classes": [],
            "_model_module": "@jupyter-widgets/controls",
            "_model_module_version": "1.5.0",
            "_model_name": "HTMLModel",
            "_view_count": null,
            "_view_module": "@jupyter-widgets/controls",
            "_view_module_version": "1.5.0",
            "_view_name": "HTMLView",
            "description": "",
            "description_tooltip": null,
            "layout": "IPY_MODEL_2eb98b39fb4745bd81c786e17432340a",
            "placeholder": "​",
            "style": "IPY_MODEL_0b7b206afa5142708f414670260b2836",
            "value": " 1.96M/1.96M [00:00&lt;00:00, 8.37MB/s]"
          }
        },
        "fa0f74a931f7497794707d25a97af8a6": {
          "model_module": "@jupyter-widgets/controls",
          "model_module_version": "1.5.0",
          "model_name": "HTMLModel",
          "state": {
            "_dom_classes": [],
            "_model_module": "@jupyter-widgets/controls",
            "_model_module_version": "1.5.0",
            "_model_name": "HTMLModel",
            "_view_count": null,
            "_view_module": "@jupyter-widgets/controls",
            "_view_module_version": "1.5.0",
            "_view_name": "HTMLView",
            "description": "",
            "description_tooltip": null,
            "layout": "IPY_MODEL_aec0ef75f7bb4266ad206d115270fcc1",
            "placeholder": "​",
            "style": "IPY_MODEL_87040917ae474a93b659dcc7eeb12eb8",
            "value": "vocab.txt: 100%"
          }
        },
        "fd59b0a76b4f407e8740e590e6fbd25b": {
          "model_module": "@jupyter-widgets/controls",
          "model_module_version": "1.5.0",
          "model_name": "DescriptionStyleModel",
          "state": {
            "_model_module": "@jupyter-widgets/controls",
            "_model_module_version": "1.5.0",
            "_model_name": "DescriptionStyleModel",
            "_view_count": null,
            "_view_module": "@jupyter-widgets/base",
            "_view_module_version": "1.2.0",
            "_view_name": "StyleView",
            "description_width": ""
          }
        }
      }
    }
  },
  "nbformat": 4,
  "nbformat_minor": 0
}