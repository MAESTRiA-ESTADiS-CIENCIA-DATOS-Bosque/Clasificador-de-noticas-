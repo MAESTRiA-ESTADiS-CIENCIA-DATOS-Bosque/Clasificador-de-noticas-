{
  "nbformat": 4,
  "nbformat_minor": 0,
  "metadata": {
    "colab": {
      "provenance": [],
      "machine_shape": "hm",
      "gpuType": "T4"
    },
    "kernelspec": {
      "name": "python3",
      "display_name": "Python 3"
    },
    "language_info": {
      "name": "python"
    },
    "accelerator": "GPU"
  },
  "cells": [
    {
      "cell_type": "code",
      "execution_count": 1,
      "metadata": {
        "id": "fp24WdJ4XFAV"
      },
      "outputs": [],
      "source": [
        "#importamos librerias necesarias para la manipulación\n",
        "import pandas as pd\n",
        "import numpy as np"
      ]
    },
    {
      "cell_type": "code",
      "source": [
        "# Prerequisite: Installs the latest version of Ludwig in the Colab environment\n",
        "%pip ludwig[llm]\n",
        "%pip install ludwig[viz]"
      ],
      "metadata": {
        "colab": {
          "base_uri": "https://localhost:8080/"
        },
        "id": "igP5Ns5F2hCJ",
        "outputId": "4b9c3c01-d48c-4d0e-f1c3-c54f5ca71977"
      },
      "execution_count": 2,
      "outputs": [
        {
          "output_type": "stream",
          "name": "stdout",
          "text": [
            "ERROR: unknown command \"ludwig[llm]\"\n",
            "Collecting ludwig[viz]\n",
            "  Downloading ludwig-0.10.3.tar.gz (1.1 MB)\n",
            "\u001b[2K     \u001b[90m━━━━━━━━━━━━━━━━━━━━━━━━━━━━━━━━━━━━━━━━\u001b[0m \u001b[32m1.1/1.1 MB\u001b[0m \u001b[31m7.3 MB/s\u001b[0m eta \u001b[36m0:00:00\u001b[0m\n",
            "\u001b[?25h  Installing build dependencies ... \u001b[?25l\u001b[?25hdone\n",
            "  Getting requirements to build wheel ... \u001b[?25l\u001b[?25hdone\n",
            "  Preparing metadata (pyproject.toml) ... \u001b[?25l\u001b[?25hdone\n",
            "Requirement already satisfied: Cython>=0.25 in /usr/local/lib/python3.10/dist-packages (from ludwig[viz]) (3.0.10)\n",
            "Requirement already satisfied: h5py!=3.0.0,>=2.6 in /usr/local/lib/python3.10/dist-packages (from ludwig[viz]) (3.9.0)\n",
            "Requirement already satisfied: numpy>=1.15 in /usr/local/lib/python3.10/dist-packages (from ludwig[viz]) (1.25.2)\n",
            "Requirement already satisfied: pandas!=1.1.5,<2.2.0,>=1.0 in /usr/local/lib/python3.10/dist-packages (from ludwig[viz]) (2.0.3)\n",
            "Requirement already satisfied: scipy>=0.18 in /usr/local/lib/python3.10/dist-packages (from ludwig[viz]) (1.11.4)\n",
            "Requirement already satisfied: tabulate>=0.7 in /usr/local/lib/python3.10/dist-packages (from ludwig[viz]) (0.9.0)\n",
            "Requirement already satisfied: scikit-learn in /usr/local/lib/python3.10/dist-packages (from ludwig[viz]) (1.2.2)\n",
            "Requirement already satisfied: tqdm in /usr/local/lib/python3.10/dist-packages (from ludwig[viz]) (4.66.4)\n",
            "Requirement already satisfied: torch>=2.0.0 in /usr/local/lib/python3.10/dist-packages (from ludwig[viz]) (2.3.0+cu121)\n",
            "Requirement already satisfied: torchaudio in /usr/local/lib/python3.10/dist-packages (from ludwig[viz]) (2.3.0+cu121)\n",
            "Requirement already satisfied: torchtext in /usr/local/lib/python3.10/dist-packages (from ludwig[viz]) (0.18.0)\n",
            "Requirement already satisfied: torchvision in /usr/local/lib/python3.10/dist-packages (from ludwig[viz]) (0.18.0+cu121)\n",
            "Collecting pydantic<2.0 (from ludwig[viz])\n",
            "  Downloading pydantic-1.10.15-cp310-cp310-manylinux_2_17_x86_64.manylinux2014_x86_64.whl (3.1 MB)\n",
            "\u001b[2K     \u001b[90m━━━━━━━━━━━━━━━━━━━━━━━━━━━━━━━━━━━━━━━━\u001b[0m \u001b[32m3.1/3.1 MB\u001b[0m \u001b[31m62.6 MB/s\u001b[0m eta \u001b[36m0:00:00\u001b[0m\n",
            "\u001b[?25hRequirement already satisfied: transformers>=4.39.0 in /usr/local/lib/python3.10/dist-packages (from ludwig[viz]) (4.41.1)\n",
            "Requirement already satisfied: tifffile in /usr/local/lib/python3.10/dist-packages (from ludwig[viz]) (2024.5.22)\n",
            "Collecting imagecodecs (from ludwig[viz])\n",
            "  Downloading imagecodecs-2024.1.1-cp310-cp310-manylinux_2_17_x86_64.manylinux2014_x86_64.whl (39.6 MB)\n",
            "\u001b[2K     \u001b[90m━━━━━━━━━━━━━━━━━━━━━━━━━━━━━━━━━━━━━━━━\u001b[0m \u001b[32m39.6/39.6 MB\u001b[0m \u001b[31m14.6 MB/s\u001b[0m eta \u001b[36m0:00:00\u001b[0m\n",
            "\u001b[?25hRequirement already satisfied: tokenizers>=0.15 in /usr/local/lib/python3.10/dist-packages (from ludwig[viz]) (0.19.1)\n",
            "Requirement already satisfied: spacy>=2.3 in /usr/local/lib/python3.10/dist-packages (from ludwig[viz]) (3.7.4)\n",
            "Collecting PyYAML!=5.4.*,<6.0.1,>=3.12 (from ludwig[viz])\n",
            "  Downloading PyYAML-6.0-cp310-cp310-manylinux_2_5_x86_64.manylinux1_x86_64.manylinux_2_12_x86_64.manylinux2010_x86_64.whl (682 kB)\n",
            "\u001b[2K     \u001b[90m━━━━━━━━━━━━━━━━━━━━━━━━━━━━━━━━━━━━━━━━\u001b[0m \u001b[32m682.2/682.2 kB\u001b[0m \u001b[31m63.7 MB/s\u001b[0m eta \u001b[36m0:00:00\u001b[0m\n",
            "\u001b[?25hRequirement already satisfied: absl-py in /usr/local/lib/python3.10/dist-packages (from ludwig[viz]) (1.4.0)\n",
            "Requirement already satisfied: kaggle in /usr/local/lib/python3.10/dist-packages (from ludwig[viz]) (1.6.14)\n",
            "Requirement already satisfied: requests in /usr/local/lib/python3.10/dist-packages (from ludwig[viz]) (2.31.0)\n",
            "Requirement already satisfied: fsspec[http]<=2023.10.0 in /usr/local/lib/python3.10/dist-packages (from ludwig[viz]) (2023.6.0)\n",
            "Collecting dataclasses-json (from ludwig[viz])\n",
            "  Downloading dataclasses_json-0.6.6-py3-none-any.whl (28 kB)\n",
            "Collecting jsonschema<4.7,>=4.5.0 (from ludwig[viz])\n",
            "  Downloading jsonschema-4.6.2-py3-none-any.whl (80 kB)\n",
            "\u001b[2K     \u001b[90m━━━━━━━━━━━━━━━━━━━━━━━━━━━━━━━━━━━━━━━━\u001b[0m \u001b[32m80.8/80.8 kB\u001b[0m \u001b[31m11.5 MB/s\u001b[0m eta \u001b[36m0:00:00\u001b[0m\n",
            "\u001b[?25hCollecting marshmallow (from ludwig[viz])\n",
            "  Downloading marshmallow-3.21.2-py3-none-any.whl (49 kB)\n",
            "\u001b[2K     \u001b[90m━━━━━━━━━━━━━━━━━━━━━━━━━━━━━━━━━━━━━━━━\u001b[0m \u001b[32m49.3/49.3 kB\u001b[0m \u001b[31m7.9 MB/s\u001b[0m eta \u001b[36m0:00:00\u001b[0m\n",
            "\u001b[?25hCollecting marshmallow-jsonschema (from ludwig[viz])\n",
            "  Downloading marshmallow_jsonschema-0.13.0-py3-none-any.whl (11 kB)\n",
            "Collecting marshmallow-dataclass==8.5.4 (from ludwig[viz])\n",
            "  Downloading marshmallow_dataclass-8.5.4-py3-none-any.whl (16 kB)\n",
            "Requirement already satisfied: tensorboard in /usr/local/lib/python3.10/dist-packages (from ludwig[viz]) (2.15.2)\n",
            "Requirement already satisfied: nltk in /usr/local/lib/python3.10/dist-packages (from ludwig[viz]) (3.8.1)\n",
            "Collecting torchmetrics>=0.11.0 (from ludwig[viz])\n",
            "  Downloading torchmetrics-1.4.0.post0-py3-none-any.whl (868 kB)\n",
            "\u001b[2K     \u001b[90m━━━━━━━━━━━━━━━━━━━━━━━━━━━━━━━━━━━━━━━━\u001b[0m \u001b[32m868.8/868.8 kB\u001b[0m \u001b[31m63.5 MB/s\u001b[0m eta \u001b[36m0:00:00\u001b[0m\n",
            "\u001b[?25hCollecting torchinfo (from ludwig[viz])\n",
            "  Downloading torchinfo-1.8.0-py3-none-any.whl (23 kB)\n",
            "Requirement already satisfied: filelock in /usr/local/lib/python3.10/dist-packages (from ludwig[viz]) (3.14.0)\n",
            "Requirement already satisfied: psutil in /usr/local/lib/python3.10/dist-packages (from ludwig[viz]) (5.9.5)\n",
            "Requirement already satisfied: protobuf in /usr/local/lib/python3.10/dist-packages (from ludwig[viz]) (3.20.3)\n",
            "Requirement already satisfied: py-cpuinfo==9.0.0 in /usr/local/lib/python3.10/dist-packages (from ludwig[viz]) (9.0.0)\n",
            "Collecting gpustat (from ludwig[viz])\n",
            "  Downloading gpustat-1.1.1.tar.gz (98 kB)\n",
            "\u001b[2K     \u001b[90m━━━━━━━━━━━━━━━━━━━━━━━━━━━━━━━━━━━━━━━━\u001b[0m \u001b[32m98.1/98.1 kB\u001b[0m \u001b[31m16.8 MB/s\u001b[0m eta \u001b[36m0:00:00\u001b[0m\n",
            "\u001b[?25h  Installing build dependencies ... \u001b[?25l\u001b[?25hdone\n",
            "  Getting requirements to build wheel ... \u001b[?25l\u001b[?25hdone\n",
            "  Preparing metadata (pyproject.toml) ... \u001b[?25l\u001b[?25hdone\n",
            "Collecting rich~=12.4.4 (from ludwig[viz])\n",
            "  Downloading rich-12.4.4-py3-none-any.whl (232 kB)\n",
            "\u001b[2K     \u001b[90m━━━━━━━━━━━━━━━━━━━━━━━━━━━━━━━━━━━━━━━━\u001b[0m \u001b[32m232.0/232.0 kB\u001b[0m \u001b[31m32.4 MB/s\u001b[0m eta \u001b[36m0:00:00\u001b[0m\n",
            "\u001b[?25hRequirement already satisfied: packaging in /usr/local/lib/python3.10/dist-packages (from ludwig[viz]) (24.0)\n",
            "Collecting retry (from ludwig[viz])\n",
            "  Downloading retry-0.9.2-py2.py3-none-any.whl (8.0 kB)\n",
            "Collecting sacremoses (from ludwig[viz])\n",
            "  Downloading sacremoses-0.1.1-py3-none-any.whl (897 kB)\n",
            "\u001b[2K     \u001b[90m━━━━━━━━━━━━━━━━━━━━━━━━━━━━━━━━━━━━━━━━\u001b[0m \u001b[32m897.5/897.5 kB\u001b[0m \u001b[31m75.3 MB/s\u001b[0m eta \u001b[36m0:00:00\u001b[0m\n",
            "\u001b[?25hRequirement already satisfied: sentencepiece in /usr/local/lib/python3.10/dist-packages (from ludwig[viz]) (0.1.99)\n",
            "Collecting getdaft==0.1.20 (from ludwig[viz])\n",
            "  Downloading getdaft-0.1.20-cp37-abi3-manylinux_2_17_x86_64.manylinux2014_x86_64.whl (19.0 MB)\n",
            "\u001b[2K     \u001b[90m━━━━━━━━━━━━━━━━━━━━━━━━━━━━━━━━━━━━━━━━\u001b[0m \u001b[32m19.0/19.0 MB\u001b[0m \u001b[31m53.6 MB/s\u001b[0m eta \u001b[36m0:00:00\u001b[0m\n",
            "\u001b[?25hCollecting bitsandbytes<0.41.0 (from ludwig[viz])\n",
            "  Downloading bitsandbytes-0.40.2-py3-none-any.whl (92.5 MB)\n",
            "\u001b[2K     \u001b[90m━━━━━━━━━━━━━━━━━━━━━━━━━━━━━━━━━━━━━━━━\u001b[0m \u001b[32m92.5/92.5 MB\u001b[0m \u001b[31m10.4 MB/s\u001b[0m eta \u001b[36m0:00:00\u001b[0m\n",
            "\u001b[?25hCollecting xlwt (from ludwig[viz])\n",
            "  Downloading xlwt-1.3.0-py2.py3-none-any.whl (99 kB)\n",
            "\u001b[2K     \u001b[90m━━━━━━━━━━━━━━━━━━━━━━━━━━━━━━━━━━━━━━━━\u001b[0m \u001b[32m100.0/100.0 kB\u001b[0m \u001b[31m16.2 MB/s\u001b[0m eta \u001b[36m0:00:00\u001b[0m\n",
            "\u001b[?25hRequirement already satisfied: xlrd>=2.0.1 in /usr/local/lib/python3.10/dist-packages (from ludwig[viz]) (2.0.1)\n",
            "Collecting xlsxwriter>=1.4.3 (from ludwig[viz])\n",
            "  Downloading XlsxWriter-3.2.0-py3-none-any.whl (159 kB)\n",
            "\u001b[2K     \u001b[90m━━━━━━━━━━━━━━━━━━━━━━━━━━━━━━━━━━━━━━━━\u001b[0m \u001b[32m159.9/159.9 kB\u001b[0m \u001b[31m24.9 MB/s\u001b[0m eta \u001b[36m0:00:00\u001b[0m\n",
            "\u001b[?25hRequirement already satisfied: openpyxl>=3.0.7 in /usr/local/lib/python3.10/dist-packages (from ludwig[viz]) (3.1.2)\n",
            "Collecting pyxlsb>=1.0.8 (from ludwig[viz])\n",
            "  Downloading pyxlsb-1.0.10-py2.py3-none-any.whl (23 kB)\n",
            "Requirement already satisfied: pyarrow<15.0.0 in /usr/local/lib/python3.10/dist-packages (from ludwig[viz]) (14.0.2)\n",
            "Requirement already satisfied: lxml in /usr/local/lib/python3.10/dist-packages (from ludwig[viz]) (4.9.4)\n",
            "Requirement already satisfied: html5lib in /usr/local/lib/python3.10/dist-packages (from ludwig[viz]) (1.1)\n",
            "Collecting datasets (from ludwig[viz])\n",
            "  Downloading datasets-2.19.1-py3-none-any.whl (542 kB)\n",
            "\u001b[2K     \u001b[90m━━━━━━━━━━━━━━━━━━━━━━━━━━━━━━━━━━━━━━━━\u001b[0m \u001b[32m542.0/542.0 kB\u001b[0m \u001b[31m56.3 MB/s\u001b[0m eta \u001b[36m0:00:00\u001b[0m\n",
            "\u001b[?25hCollecting urllib3<2 (from ludwig[viz])\n",
            "  Downloading urllib3-1.26.18-py2.py3-none-any.whl (143 kB)\n",
            "\u001b[2K     \u001b[90m━━━━━━━━━━━━━━━━━━━━━━━━━━━━━━━━━━━━━━━━\u001b[0m \u001b[32m143.8/143.8 kB\u001b[0m \u001b[31m21.5 MB/s\u001b[0m eta \u001b[36m0:00:00\u001b[0m\n",
            "\u001b[?25hCollecting seaborn<0.12,>=0.7 (from ludwig[viz])\n",
            "  Downloading seaborn-0.11.2-py3-none-any.whl (292 kB)\n",
            "\u001b[2K     \u001b[90m━━━━━━━━━━━━━━━━━━━━━━━━━━━━━━━━━━━━━━━━\u001b[0m \u001b[32m292.8/292.8 kB\u001b[0m \u001b[31m41.2 MB/s\u001b[0m eta \u001b[36m0:00:00\u001b[0m\n",
            "\u001b[?25hCollecting hiplot (from ludwig[viz])\n",
            "  Downloading hiplot-0.1.33-py3-none-any.whl (863 kB)\n",
            "\u001b[2K     \u001b[90m━━━━━━━━━━━━━━━━━━━━━━━━━━━━━━━━━━━━━━━━\u001b[0m \u001b[32m863.2/863.2 kB\u001b[0m \u001b[31m65.8 MB/s\u001b[0m eta \u001b[36m0:00:00\u001b[0m\n",
            "\u001b[?25hCollecting ptitprince (from ludwig[viz])\n",
            "  Downloading ptitprince-0.2.7.tar.gz (12 kB)\n",
            "  Preparing metadata (setup.py) ... \u001b[?25l\u001b[?25hdone\n",
            "Requirement already satisfied: matplotlib>=3.4 in /usr/local/lib/python3.10/dist-packages (from ludwig[viz]) (3.7.1)\n",
            "Collecting loguru (from getdaft==0.1.20->ludwig[viz])\n",
            "  Downloading loguru-0.7.2-py3-none-any.whl (62 kB)\n",
            "\u001b[2K     \u001b[90m━━━━━━━━━━━━━━━━━━━━━━━━━━━━━━━━━━━━━━━━\u001b[0m \u001b[32m62.5/62.5 kB\u001b[0m \u001b[31m10.3 MB/s\u001b[0m eta \u001b[36m0:00:00\u001b[0m\n",
            "\u001b[?25hCollecting typing-inspect>=0.7.1 (from marshmallow-dataclass==8.5.4->ludwig[viz])\n",
            "  Downloading typing_inspect-0.9.0-py3-none-any.whl (8.8 kB)\n",
            "Requirement already satisfied: aiohttp!=4.0.0a0,!=4.0.0a1 in /usr/local/lib/python3.10/dist-packages (from fsspec[http]<=2023.10.0->ludwig[viz]) (3.9.5)\n",
            "Requirement already satisfied: attrs>=17.4.0 in /usr/local/lib/python3.10/dist-packages (from jsonschema<4.7,>=4.5.0->ludwig[viz]) (23.2.0)\n",
            "Collecting pyrsistent!=0.17.0,!=0.17.1,!=0.17.2,>=0.14.0 (from jsonschema<4.7,>=4.5.0->ludwig[viz])\n",
            "  Downloading pyrsistent-0.20.0-cp310-cp310-manylinux_2_17_x86_64.manylinux2014_x86_64.whl (117 kB)\n",
            "\u001b[2K     \u001b[90m━━━━━━━━━━━━━━━━━━━━━━━━━━━━━━━━━━━━━━━━\u001b[0m \u001b[32m117.7/117.7 kB\u001b[0m \u001b[31m19.4 MB/s\u001b[0m eta \u001b[36m0:00:00\u001b[0m\n",
            "\u001b[?25hRequirement already satisfied: contourpy>=1.0.1 in /usr/local/lib/python3.10/dist-packages (from matplotlib>=3.4->ludwig[viz]) (1.2.1)\n",
            "Requirement already satisfied: cycler>=0.10 in /usr/local/lib/python3.10/dist-packages (from matplotlib>=3.4->ludwig[viz]) (0.12.1)\n",
            "Requirement already satisfied: fonttools>=4.22.0 in /usr/local/lib/python3.10/dist-packages (from matplotlib>=3.4->ludwig[viz]) (4.51.0)\n",
            "Requirement already satisfied: kiwisolver>=1.0.1 in /usr/local/lib/python3.10/dist-packages (from matplotlib>=3.4->ludwig[viz]) (1.4.5)\n",
            "Requirement already satisfied: pillow>=6.2.0 in /usr/local/lib/python3.10/dist-packages (from matplotlib>=3.4->ludwig[viz]) (9.4.0)\n",
            "Requirement already satisfied: pyparsing>=2.3.1 in /usr/local/lib/python3.10/dist-packages (from matplotlib>=3.4->ludwig[viz]) (3.1.2)\n",
            "Requirement already satisfied: python-dateutil>=2.7 in /usr/local/lib/python3.10/dist-packages (from matplotlib>=3.4->ludwig[viz]) (2.8.2)\n",
            "Requirement already satisfied: et-xmlfile in /usr/local/lib/python3.10/dist-packages (from openpyxl>=3.0.7->ludwig[viz]) (1.1.0)\n",
            "Requirement already satisfied: pytz>=2020.1 in /usr/local/lib/python3.10/dist-packages (from pandas!=1.1.5,<2.2.0,>=1.0->ludwig[viz]) (2023.4)\n",
            "Requirement already satisfied: tzdata>=2022.1 in /usr/local/lib/python3.10/dist-packages (from pandas!=1.1.5,<2.2.0,>=1.0->ludwig[viz]) (2024.1)\n",
            "Requirement already satisfied: typing-extensions>=4.2.0 in /usr/local/lib/python3.10/dist-packages (from pydantic<2.0->ludwig[viz]) (4.11.0)\n",
            "Collecting commonmark<0.10.0,>=0.9.0 (from rich~=12.4.4->ludwig[viz])\n",
            "  Downloading commonmark-0.9.1-py2.py3-none-any.whl (51 kB)\n",
            "\u001b[2K     \u001b[90m━━━━━━━━━━━━━━━━━━━━━━━━━━━━━━━━━━━━━━━━\u001b[0m \u001b[32m51.1/51.1 kB\u001b[0m \u001b[31m8.2 MB/s\u001b[0m eta \u001b[36m0:00:00\u001b[0m\n",
            "\u001b[?25hRequirement already satisfied: pygments<3.0.0,>=2.6.0 in /usr/local/lib/python3.10/dist-packages (from rich~=12.4.4->ludwig[viz]) (2.16.1)\n",
            "Requirement already satisfied: spacy-legacy<3.1.0,>=3.0.11 in /usr/local/lib/python3.10/dist-packages (from spacy>=2.3->ludwig[viz]) (3.0.12)\n",
            "Requirement already satisfied: spacy-loggers<2.0.0,>=1.0.0 in /usr/local/lib/python3.10/dist-packages (from spacy>=2.3->ludwig[viz]) (1.0.5)\n",
            "Requirement already satisfied: murmurhash<1.1.0,>=0.28.0 in /usr/local/lib/python3.10/dist-packages (from spacy>=2.3->ludwig[viz]) (1.0.10)\n",
            "Requirement already satisfied: cymem<2.1.0,>=2.0.2 in /usr/local/lib/python3.10/dist-packages (from spacy>=2.3->ludwig[viz]) (2.0.8)\n",
            "Requirement already satisfied: preshed<3.1.0,>=3.0.2 in /usr/local/lib/python3.10/dist-packages (from spacy>=2.3->ludwig[viz]) (3.0.9)\n",
            "Requirement already satisfied: thinc<8.3.0,>=8.2.2 in /usr/local/lib/python3.10/dist-packages (from spacy>=2.3->ludwig[viz]) (8.2.3)\n",
            "Requirement already satisfied: wasabi<1.2.0,>=0.9.1 in /usr/local/lib/python3.10/dist-packages (from spacy>=2.3->ludwig[viz]) (1.1.2)\n",
            "Requirement already satisfied: srsly<3.0.0,>=2.4.3 in /usr/local/lib/python3.10/dist-packages (from spacy>=2.3->ludwig[viz]) (2.4.8)\n",
            "Requirement already satisfied: catalogue<2.1.0,>=2.0.6 in /usr/local/lib/python3.10/dist-packages (from spacy>=2.3->ludwig[viz]) (2.0.10)\n",
            "Requirement already satisfied: weasel<0.4.0,>=0.1.0 in /usr/local/lib/python3.10/dist-packages (from spacy>=2.3->ludwig[viz]) (0.3.4)\n",
            "Requirement already satisfied: typer<0.10.0,>=0.3.0 in /usr/local/lib/python3.10/dist-packages (from spacy>=2.3->ludwig[viz]) (0.9.4)\n",
            "Requirement already satisfied: smart-open<7.0.0,>=5.2.1 in /usr/local/lib/python3.10/dist-packages (from spacy>=2.3->ludwig[viz]) (6.4.0)\n",
            "Requirement already satisfied: jinja2 in /usr/local/lib/python3.10/dist-packages (from spacy>=2.3->ludwig[viz]) (3.1.4)\n",
            "Requirement already satisfied: setuptools in /usr/local/lib/python3.10/dist-packages (from spacy>=2.3->ludwig[viz]) (67.7.2)\n",
            "Requirement already satisfied: langcodes<4.0.0,>=3.2.0 in /usr/local/lib/python3.10/dist-packages (from spacy>=2.3->ludwig[viz]) (3.4.0)\n",
            "Requirement already satisfied: charset-normalizer<4,>=2 in /usr/local/lib/python3.10/dist-packages (from requests->ludwig[viz]) (3.3.2)\n",
            "Requirement already satisfied: idna<4,>=2.5 in /usr/local/lib/python3.10/dist-packages (from requests->ludwig[viz]) (3.7)\n",
            "Requirement already satisfied: certifi>=2017.4.17 in /usr/local/lib/python3.10/dist-packages (from requests->ludwig[viz]) (2024.2.2)\n",
            "Requirement already satisfied: huggingface-hub<1.0,>=0.16.4 in /usr/local/lib/python3.10/dist-packages (from tokenizers>=0.15->ludwig[viz]) (0.23.1)\n",
            "Requirement already satisfied: sympy in /usr/local/lib/python3.10/dist-packages (from torch>=2.0.0->ludwig[viz]) (1.12)\n",
            "Requirement already satisfied: networkx in /usr/local/lib/python3.10/dist-packages (from torch>=2.0.0->ludwig[viz]) (3.3)\n",
            "Collecting nvidia-cuda-nvrtc-cu12==12.1.105 (from torch>=2.0.0->ludwig[viz])\n",
            "  Using cached nvidia_cuda_nvrtc_cu12-12.1.105-py3-none-manylinux1_x86_64.whl (23.7 MB)\n",
            "Collecting nvidia-cuda-runtime-cu12==12.1.105 (from torch>=2.0.0->ludwig[viz])\n",
            "  Using cached nvidia_cuda_runtime_cu12-12.1.105-py3-none-manylinux1_x86_64.whl (823 kB)\n",
            "Collecting nvidia-cuda-cupti-cu12==12.1.105 (from torch>=2.0.0->ludwig[viz])\n",
            "  Using cached nvidia_cuda_cupti_cu12-12.1.105-py3-none-manylinux1_x86_64.whl (14.1 MB)\n",
            "Collecting nvidia-cudnn-cu12==8.9.2.26 (from torch>=2.0.0->ludwig[viz])\n",
            "  Using cached nvidia_cudnn_cu12-8.9.2.26-py3-none-manylinux1_x86_64.whl (731.7 MB)\n",
            "Collecting nvidia-cublas-cu12==12.1.3.1 (from torch>=2.0.0->ludwig[viz])\n",
            "  Using cached nvidia_cublas_cu12-12.1.3.1-py3-none-manylinux1_x86_64.whl (410.6 MB)\n",
            "Collecting nvidia-cufft-cu12==11.0.2.54 (from torch>=2.0.0->ludwig[viz])\n",
            "  Using cached nvidia_cufft_cu12-11.0.2.54-py3-none-manylinux1_x86_64.whl (121.6 MB)\n",
            "Collecting nvidia-curand-cu12==10.3.2.106 (from torch>=2.0.0->ludwig[viz])\n",
            "  Using cached nvidia_curand_cu12-10.3.2.106-py3-none-manylinux1_x86_64.whl (56.5 MB)\n",
            "Collecting nvidia-cusolver-cu12==11.4.5.107 (from torch>=2.0.0->ludwig[viz])\n",
            "  Using cached nvidia_cusolver_cu12-11.4.5.107-py3-none-manylinux1_x86_64.whl (124.2 MB)\n",
            "Collecting nvidia-cusparse-cu12==12.1.0.106 (from torch>=2.0.0->ludwig[viz])\n",
            "  Using cached nvidia_cusparse_cu12-12.1.0.106-py3-none-manylinux1_x86_64.whl (196.0 MB)\n",
            "Collecting nvidia-nccl-cu12==2.20.5 (from torch>=2.0.0->ludwig[viz])\n",
            "  Using cached nvidia_nccl_cu12-2.20.5-py3-none-manylinux2014_x86_64.whl (176.2 MB)\n",
            "Collecting nvidia-nvtx-cu12==12.1.105 (from torch>=2.0.0->ludwig[viz])\n",
            "  Using cached nvidia_nvtx_cu12-12.1.105-py3-none-manylinux1_x86_64.whl (99 kB)\n",
            "Requirement already satisfied: triton==2.3.0 in /usr/local/lib/python3.10/dist-packages (from torch>=2.0.0->ludwig[viz]) (2.3.0)\n",
            "Collecting nvidia-nvjitlink-cu12 (from nvidia-cusolver-cu12==11.4.5.107->torch>=2.0.0->ludwig[viz])\n",
            "  Downloading nvidia_nvjitlink_cu12-12.5.40-py3-none-manylinux2014_x86_64.whl (21.3 MB)\n",
            "\u001b[2K     \u001b[90m━━━━━━━━━━━━━━━━━━━━━━━━━━━━━━━━━━━━━━━━\u001b[0m \u001b[32m21.3/21.3 MB\u001b[0m \u001b[31m74.1 MB/s\u001b[0m eta \u001b[36m0:00:00\u001b[0m\n",
            "\u001b[?25hCollecting lightning-utilities>=0.8.0 (from torchmetrics>=0.11.0->ludwig[viz])\n",
            "  Downloading lightning_utilities-0.11.2-py3-none-any.whl (26 kB)\n",
            "Requirement already satisfied: regex!=2019.12.17 in /usr/local/lib/python3.10/dist-packages (from transformers>=4.39.0->ludwig[viz]) (2024.5.15)\n",
            "Requirement already satisfied: safetensors>=0.4.1 in /usr/local/lib/python3.10/dist-packages (from transformers>=4.39.0->ludwig[viz]) (0.4.3)\n",
            "Requirement already satisfied: pyarrow-hotfix in /usr/local/lib/python3.10/dist-packages (from datasets->ludwig[viz]) (0.6)\n",
            "Collecting dill<0.3.9,>=0.3.0 (from datasets->ludwig[viz])\n",
            "  Downloading dill-0.3.8-py3-none-any.whl (116 kB)\n",
            "\u001b[2K     \u001b[90m━━━━━━━━━━━━━━━━━━━━━━━━━━━━━━━━━━━━━━━━\u001b[0m \u001b[32m116.3/116.3 kB\u001b[0m \u001b[31m19.4 MB/s\u001b[0m eta \u001b[36m0:00:00\u001b[0m\n",
            "\u001b[?25hCollecting xxhash (from datasets->ludwig[viz])\n",
            "  Downloading xxhash-3.4.1-cp310-cp310-manylinux_2_17_x86_64.manylinux2014_x86_64.whl (194 kB)\n",
            "\u001b[2K     \u001b[90m━━━━━━━━━━━━━━━━━━━━━━━━━━━━━━━━━━━━━━━━\u001b[0m \u001b[32m194.1/194.1 kB\u001b[0m \u001b[31m29.5 MB/s\u001b[0m eta \u001b[36m0:00:00\u001b[0m\n",
            "\u001b[?25hCollecting multiprocess (from datasets->ludwig[viz])\n",
            "  Downloading multiprocess-0.70.16-py310-none-any.whl (134 kB)\n",
            "\u001b[2K     \u001b[90m━━━━━━━━━━━━━━━━━━━━━━━━━━━━━━━━━━━━━━━━\u001b[0m \u001b[32m134.8/134.8 kB\u001b[0m \u001b[31m21.8 MB/s\u001b[0m eta \u001b[36m0:00:00\u001b[0m\n",
            "\u001b[?25hCollecting nvidia-ml-py>=11.450.129 (from gpustat->ludwig[viz])\n",
            "  Downloading nvidia_ml_py-12.550.52-py3-none-any.whl (39 kB)\n",
            "Collecting blessed>=1.17.1 (from gpustat->ludwig[viz])\n",
            "  Downloading blessed-1.20.0-py2.py3-none-any.whl (58 kB)\n",
            "\u001b[2K     \u001b[90m━━━━━━━━━━━━━━━━━━━━━━━━━━━━━━━━━━━━━━━━\u001b[0m \u001b[32m58.4/58.4 kB\u001b[0m \u001b[31m9.1 MB/s\u001b[0m eta \u001b[36m0:00:00\u001b[0m\n",
            "\u001b[?25hRequirement already satisfied: ipython>=7.0.1 in /usr/local/lib/python3.10/dist-packages (from hiplot->ludwig[viz]) (7.34.0)\n",
            "Requirement already satisfied: flask in /usr/local/lib/python3.10/dist-packages (from hiplot->ludwig[viz]) (2.2.5)\n",
            "Collecting flask-compress (from hiplot->ludwig[viz])\n",
            "  Downloading Flask_Compress-1.15-py3-none-any.whl (8.6 kB)\n",
            "Requirement already satisfied: beautifulsoup4 in /usr/local/lib/python3.10/dist-packages (from hiplot->ludwig[viz]) (4.12.3)\n",
            "Requirement already satisfied: six>=1.9 in /usr/local/lib/python3.10/dist-packages (from html5lib->ludwig[viz]) (1.16.0)\n",
            "Requirement already satisfied: webencodings in /usr/local/lib/python3.10/dist-packages (from html5lib->ludwig[viz]) (0.5.1)\n",
            "Requirement already satisfied: python-slugify in /usr/local/lib/python3.10/dist-packages (from kaggle->ludwig[viz]) (8.0.4)\n",
            "Requirement already satisfied: bleach in /usr/local/lib/python3.10/dist-packages (from kaggle->ludwig[viz]) (6.1.0)\n",
            "Requirement already satisfied: click in /usr/local/lib/python3.10/dist-packages (from nltk->ludwig[viz]) (8.1.7)\n",
            "Requirement already satisfied: joblib in /usr/local/lib/python3.10/dist-packages (from nltk->ludwig[viz]) (1.4.2)\n",
            "Collecting seaborn<0.12,>=0.7 (from ludwig[viz])\n",
            "  Downloading seaborn-0.11.0-py3-none-any.whl (283 kB)\n",
            "\u001b[2K     \u001b[90m━━━━━━━━━━━━━━━━━━━━━━━━━━━━━━━━━━━━━━━━\u001b[0m \u001b[32m283.1/283.1 kB\u001b[0m \u001b[31m38.2 MB/s\u001b[0m eta \u001b[36m0:00:00\u001b[0m\n",
            "\u001b[?25hRequirement already satisfied: decorator>=3.4.2 in /usr/local/lib/python3.10/dist-packages (from retry->ludwig[viz]) (4.4.2)\n",
            "Collecting py<2.0.0,>=1.4.26 (from retry->ludwig[viz])\n",
            "  Downloading py-1.11.0-py2.py3-none-any.whl (98 kB)\n",
            "\u001b[2K     \u001b[90m━━━━━━━━━━━━━━━━━━━━━━━━━━━━━━━━━━━━━━━━\u001b[0m \u001b[32m98.7/98.7 kB\u001b[0m \u001b[31m16.2 MB/s\u001b[0m eta \u001b[36m0:00:00\u001b[0m\n",
            "\u001b[?25hRequirement already satisfied: threadpoolctl>=2.0.0 in /usr/local/lib/python3.10/dist-packages (from scikit-learn->ludwig[viz]) (3.5.0)\n",
            "Requirement already satisfied: grpcio>=1.48.2 in /usr/local/lib/python3.10/dist-packages (from tensorboard->ludwig[viz]) (1.64.0)\n",
            "Requirement already satisfied: google-auth<3,>=1.6.3 in /usr/local/lib/python3.10/dist-packages (from tensorboard->ludwig[viz]) (2.27.0)\n",
            "Requirement already satisfied: google-auth-oauthlib<2,>=0.5 in /usr/local/lib/python3.10/dist-packages (from tensorboard->ludwig[viz]) (1.2.0)\n",
            "Requirement already satisfied: markdown>=2.6.8 in /usr/local/lib/python3.10/dist-packages (from tensorboard->ludwig[viz]) (3.6)\n",
            "Requirement already satisfied: tensorboard-data-server<0.8.0,>=0.7.0 in /usr/local/lib/python3.10/dist-packages (from tensorboard->ludwig[viz]) (0.7.2)\n",
            "Requirement already satisfied: werkzeug>=1.0.1 in /usr/local/lib/python3.10/dist-packages (from tensorboard->ludwig[viz]) (3.0.3)\n",
            "Requirement already satisfied: aiosignal>=1.1.2 in /usr/local/lib/python3.10/dist-packages (from aiohttp!=4.0.0a0,!=4.0.0a1->fsspec[http]<=2023.10.0->ludwig[viz]) (1.3.1)\n",
            "Requirement already satisfied: frozenlist>=1.1.1 in /usr/local/lib/python3.10/dist-packages (from aiohttp!=4.0.0a0,!=4.0.0a1->fsspec[http]<=2023.10.0->ludwig[viz]) (1.4.1)\n",
            "Requirement already satisfied: multidict<7.0,>=4.5 in /usr/local/lib/python3.10/dist-packages (from aiohttp!=4.0.0a0,!=4.0.0a1->fsspec[http]<=2023.10.0->ludwig[viz]) (6.0.5)\n",
            "Requirement already satisfied: yarl<2.0,>=1.0 in /usr/local/lib/python3.10/dist-packages (from aiohttp!=4.0.0a0,!=4.0.0a1->fsspec[http]<=2023.10.0->ludwig[viz]) (1.9.4)\n",
            "Requirement already satisfied: async-timeout<5.0,>=4.0 in /usr/local/lib/python3.10/dist-packages (from aiohttp!=4.0.0a0,!=4.0.0a1->fsspec[http]<=2023.10.0->ludwig[viz]) (4.0.3)\n",
            "Requirement already satisfied: wcwidth>=0.1.4 in /usr/local/lib/python3.10/dist-packages (from blessed>=1.17.1->gpustat->ludwig[viz]) (0.2.13)\n",
            "Requirement already satisfied: cachetools<6.0,>=2.0.0 in /usr/local/lib/python3.10/dist-packages (from google-auth<3,>=1.6.3->tensorboard->ludwig[viz]) (5.3.3)\n",
            "Requirement already satisfied: pyasn1-modules>=0.2.1 in /usr/local/lib/python3.10/dist-packages (from google-auth<3,>=1.6.3->tensorboard->ludwig[viz]) (0.4.0)\n",
            "Requirement already satisfied: rsa<5,>=3.1.4 in /usr/local/lib/python3.10/dist-packages (from google-auth<3,>=1.6.3->tensorboard->ludwig[viz]) (4.9)\n",
            "Requirement already satisfied: requests-oauthlib>=0.7.0 in /usr/local/lib/python3.10/dist-packages (from google-auth-oauthlib<2,>=0.5->tensorboard->ludwig[viz]) (1.3.1)\n",
            "Collecting jedi>=0.16 (from ipython>=7.0.1->hiplot->ludwig[viz])\n",
            "  Downloading jedi-0.19.1-py2.py3-none-any.whl (1.6 MB)\n",
            "\u001b[2K     \u001b[90m━━━━━━━━━━━━━━━━━━━━━━━━━━━━━━━━━━━━━━━━\u001b[0m \u001b[32m1.6/1.6 MB\u001b[0m \u001b[31m70.0 MB/s\u001b[0m eta \u001b[36m0:00:00\u001b[0m\n",
            "\u001b[?25hRequirement already satisfied: pickleshare in /usr/local/lib/python3.10/dist-packages (from ipython>=7.0.1->hiplot->ludwig[viz]) (0.7.5)\n",
            "Requirement already satisfied: traitlets>=4.2 in /usr/local/lib/python3.10/dist-packages (from ipython>=7.0.1->hiplot->ludwig[viz]) (5.7.1)\n",
            "Requirement already satisfied: prompt-toolkit!=3.0.0,!=3.0.1,<3.1.0,>=2.0.0 in /usr/local/lib/python3.10/dist-packages (from ipython>=7.0.1->hiplot->ludwig[viz]) (3.0.43)\n",
            "Requirement already satisfied: backcall in /usr/local/lib/python3.10/dist-packages (from ipython>=7.0.1->hiplot->ludwig[viz]) (0.2.0)\n",
            "Requirement already satisfied: matplotlib-inline in /usr/local/lib/python3.10/dist-packages (from ipython>=7.0.1->hiplot->ludwig[viz]) (0.1.7)\n",
            "Requirement already satisfied: pexpect>4.3 in /usr/local/lib/python3.10/dist-packages (from ipython>=7.0.1->hiplot->ludwig[viz]) (4.9.0)\n",
            "Requirement already satisfied: language-data>=1.2 in /usr/local/lib/python3.10/dist-packages (from langcodes<4.0.0,>=3.2.0->spacy>=2.3->ludwig[viz]) (1.2.0)\n",
            "Requirement already satisfied: blis<0.8.0,>=0.7.8 in /usr/local/lib/python3.10/dist-packages (from thinc<8.3.0,>=8.2.2->spacy>=2.3->ludwig[viz]) (0.7.11)\n",
            "Requirement already satisfied: confection<1.0.0,>=0.0.1 in /usr/local/lib/python3.10/dist-packages (from thinc<8.3.0,>=8.2.2->spacy>=2.3->ludwig[viz]) (0.1.4)\n",
            "Collecting mypy-extensions>=0.3.0 (from typing-inspect>=0.7.1->marshmallow-dataclass==8.5.4->ludwig[viz])\n",
            "  Downloading mypy_extensions-1.0.0-py3-none-any.whl (4.7 kB)\n",
            "Requirement already satisfied: cloudpathlib<0.17.0,>=0.7.0 in /usr/local/lib/python3.10/dist-packages (from weasel<0.4.0,>=0.1.0->spacy>=2.3->ludwig[viz]) (0.16.0)\n",
            "Requirement already satisfied: MarkupSafe>=2.1.1 in /usr/local/lib/python3.10/dist-packages (from werkzeug>=1.0.1->tensorboard->ludwig[viz]) (2.1.5)\n",
            "Requirement already satisfied: soupsieve>1.2 in /usr/local/lib/python3.10/dist-packages (from beautifulsoup4->hiplot->ludwig[viz]) (2.5)\n",
            "Requirement already satisfied: itsdangerous>=2.0 in /usr/local/lib/python3.10/dist-packages (from flask->hiplot->ludwig[viz]) (2.2.0)\n",
            "Collecting brotli (from flask-compress->hiplot->ludwig[viz])\n",
            "  Downloading Brotli-1.1.0-cp310-cp310-manylinux_2_5_x86_64.manylinux1_x86_64.manylinux_2_12_x86_64.manylinux2010_x86_64.whl (3.0 MB)\n",
            "\u001b[2K     \u001b[90m━━━━━━━━━━━━━━━━━━━━━━━━━━━━━━━━━━━━━━━━\u001b[0m \u001b[32m3.0/3.0 MB\u001b[0m \u001b[31m46.9 MB/s\u001b[0m eta \u001b[36m0:00:00\u001b[0m\n",
            "\u001b[?25hCollecting zstandard (from flask-compress->hiplot->ludwig[viz])\n",
            "  Downloading zstandard-0.22.0-cp310-cp310-manylinux_2_17_x86_64.manylinux2014_x86_64.whl (5.4 MB)\n",
            "\u001b[2K     \u001b[90m━━━━━━━━━━━━━━━━━━━━━━━━━━━━━━━━━━━━━━━━\u001b[0m \u001b[32m5.4/5.4 MB\u001b[0m \u001b[31m113.9 MB/s\u001b[0m eta \u001b[36m0:00:00\u001b[0m\n",
            "\u001b[?25hRequirement already satisfied: text-unidecode>=1.3 in /usr/local/lib/python3.10/dist-packages (from python-slugify->kaggle->ludwig[viz]) (1.3)\n",
            "Requirement already satisfied: mpmath>=0.19 in /usr/local/lib/python3.10/dist-packages (from sympy->torch>=2.0.0->ludwig[viz]) (1.3.0)\n",
            "Requirement already satisfied: parso<0.9.0,>=0.8.3 in /usr/local/lib/python3.10/dist-packages (from jedi>=0.16->ipython>=7.0.1->hiplot->ludwig[viz]) (0.8.4)\n",
            "Requirement already satisfied: marisa-trie>=0.7.7 in /usr/local/lib/python3.10/dist-packages (from language-data>=1.2->langcodes<4.0.0,>=3.2.0->spacy>=2.3->ludwig[viz]) (1.1.1)\n",
            "Requirement already satisfied: ptyprocess>=0.5 in /usr/local/lib/python3.10/dist-packages (from pexpect>4.3->ipython>=7.0.1->hiplot->ludwig[viz]) (0.7.0)\n",
            "Requirement already satisfied: pyasn1<0.7.0,>=0.4.6 in /usr/local/lib/python3.10/dist-packages (from pyasn1-modules>=0.2.1->google-auth<3,>=1.6.3->tensorboard->ludwig[viz]) (0.6.0)\n",
            "Requirement already satisfied: oauthlib>=3.0.0 in /usr/local/lib/python3.10/dist-packages (from requests-oauthlib>=0.7.0->google-auth-oauthlib<2,>=0.5->tensorboard->ludwig[viz]) (3.2.2)\n",
            "Building wheels for collected packages: gpustat, ludwig, ptitprince\n",
            "  Building wheel for gpustat (pyproject.toml) ... \u001b[?25l\u001b[?25hdone\n",
            "  Created wheel for gpustat: filename=gpustat-1.1.1-py3-none-any.whl size=26532 sha256=85d831e91d73c5fa492ca4dc2037fe2aa8adfc071e30e93373f92f91f45fb628\n",
            "  Stored in directory: /root/.cache/pip/wheels/ec/d7/80/a71ba3540900e1f276bcae685efd8e590c810d2108b95f1e47\n",
            "  Building wheel for ludwig (pyproject.toml) ... \u001b[?25l\u001b[?25hdone\n",
            "  Created wheel for ludwig: filename=ludwig-0.10.3-py3-none-any.whl size=1137599 sha256=ef990c2b97c2a81b76b36e62c7071dec5efe16e5bfb81eba6f8ff140995aa9f4\n",
            "  Stored in directory: /root/.cache/pip/wheels/14/3d/4f/fe2bf23dcb43fd7be3b1d498792a6b437756b78feff1a1b68f\n",
            "  Building wheel for ptitprince (setup.py) ... \u001b[?25l\u001b[?25hdone\n",
            "  Created wheel for ptitprince: filename=ptitprince-0.2.7-py3-none-any.whl size=10656 sha256=8a5fa045df90a270b87dc9dc9a9908754e7681c054b3c7f740338891974fc5eb\n",
            "  Stored in directory: /root/.cache/pip/wheels/0e/43/31/e76a3bf61865543f076a9d9eb027a740caefb379424ecba4e8\n",
            "Successfully built gpustat ludwig ptitprince\n",
            "Installing collected packages: xlwt, pyxlsb, nvidia-ml-py, commonmark, brotli, bitsandbytes, zstandard, xxhash, xlsxwriter, urllib3, torchinfo, sacremoses, rich, PyYAML, pyrsistent, pydantic, py, nvidia-nvtx-cu12, nvidia-nvjitlink-cu12, nvidia-nccl-cu12, nvidia-curand-cu12, nvidia-cufft-cu12, nvidia-cuda-runtime-cu12, nvidia-cuda-nvrtc-cu12, nvidia-cuda-cupti-cu12, nvidia-cublas-cu12, mypy-extensions, marshmallow, loguru, lightning-utilities, jedi, imagecodecs, dill, blessed, typing-inspect, retry, nvidia-cusparse-cu12, nvidia-cudnn-cu12, multiprocess, marshmallow-jsonschema, jsonschema, gpustat, seaborn, nvidia-cusolver-cu12, marshmallow-dataclass, flask-compress, dataclasses-json, ptitprince, hiplot, getdaft, datasets, torchmetrics, ludwig\n",
            "  Attempting uninstall: urllib3\n",
            "    Found existing installation: urllib3 2.0.7\n",
            "    Uninstalling urllib3-2.0.7:\n",
            "      Successfully uninstalled urllib3-2.0.7\n",
            "  Attempting uninstall: rich\n",
            "    Found existing installation: rich 13.7.1\n",
            "    Uninstalling rich-13.7.1:\n",
            "      Successfully uninstalled rich-13.7.1\n",
            "  Attempting uninstall: PyYAML\n",
            "    Found existing installation: PyYAML 6.0.1\n",
            "    Uninstalling PyYAML-6.0.1:\n",
            "      Successfully uninstalled PyYAML-6.0.1\n",
            "  Attempting uninstall: pydantic\n",
            "    Found existing installation: pydantic 2.7.1\n",
            "    Uninstalling pydantic-2.7.1:\n",
            "      Successfully uninstalled pydantic-2.7.1\n",
            "  Attempting uninstall: jsonschema\n",
            "    Found existing installation: jsonschema 4.19.2\n",
            "    Uninstalling jsonschema-4.19.2:\n",
            "      Successfully uninstalled jsonschema-4.19.2\n",
            "  Attempting uninstall: seaborn\n",
            "    Found existing installation: seaborn 0.13.1\n",
            "    Uninstalling seaborn-0.13.1:\n",
            "      Successfully uninstalled seaborn-0.13.1\n",
            "Successfully installed PyYAML-6.0 bitsandbytes-0.40.2 blessed-1.20.0 brotli-1.1.0 commonmark-0.9.1 dataclasses-json-0.6.6 datasets-2.19.1 dill-0.3.8 flask-compress-1.15 getdaft-0.1.20 gpustat-1.1.1 hiplot-0.1.33 imagecodecs-2024.1.1 jedi-0.19.1 jsonschema-4.6.2 lightning-utilities-0.11.2 loguru-0.7.2 ludwig-0.10.3 marshmallow-3.21.2 marshmallow-dataclass-8.5.4 marshmallow-jsonschema-0.13.0 multiprocess-0.70.16 mypy-extensions-1.0.0 nvidia-cublas-cu12-12.1.3.1 nvidia-cuda-cupti-cu12-12.1.105 nvidia-cuda-nvrtc-cu12-12.1.105 nvidia-cuda-runtime-cu12-12.1.105 nvidia-cudnn-cu12-8.9.2.26 nvidia-cufft-cu12-11.0.2.54 nvidia-curand-cu12-10.3.2.106 nvidia-cusolver-cu12-11.4.5.107 nvidia-cusparse-cu12-12.1.0.106 nvidia-ml-py-12.550.52 nvidia-nccl-cu12-2.20.5 nvidia-nvjitlink-cu12-12.5.40 nvidia-nvtx-cu12-12.1.105 ptitprince-0.2.7 py-1.11.0 pydantic-1.10.15 pyrsistent-0.20.0 pyxlsb-1.0.10 retry-0.9.2 rich-12.4.4 sacremoses-0.1.1 seaborn-0.11.0 torchinfo-1.8.0 torchmetrics-1.4.0.post0 typing-inspect-0.9.0 urllib3-1.26.18 xlsxwriter-3.2.0 xlwt-1.3.0 xxhash-3.4.1 zstandard-0.22.0\n"
          ]
        }
      ]
    },
    {
      "cell_type": "code",
      "source": [
        "#Cargamos base de datos en formato CSV\n",
        "from google.colab import drive\n",
        "drive.mount('/content/drive')"
      ],
      "metadata": {
        "colab": {
          "base_uri": "https://localhost:8080/"
        },
        "id": "lE2zKIU43Hd9",
        "outputId": "8ad54d25-6254-4150-8fc0-49835ce2cba6"
      },
      "execution_count": 3,
      "outputs": [
        {
          "output_type": "stream",
          "name": "stdout",
          "text": [
            "Mounted at /content/drive\n"
          ]
        }
      ]
    },
    {
      "cell_type": "code",
      "source": [
        "df=pd.read_csv('/content/drive/MyDrive/negativa_positiva - Hoja 1.csv')"
      ],
      "metadata": {
        "id": "svuYCP4W3qFl"
      },
      "execution_count": 4,
      "outputs": []
    },
    {
      "cell_type": "code",
      "source": [
        "df"
      ],
      "metadata": {
        "colab": {
          "base_uri": "https://localhost:8080/",
          "height": 424
        },
        "id": "Ab_BKiPS3sx3",
        "outputId": "ad49ff22-f157-406e-8429-3b933fabad34"
      },
      "execution_count": 5,
      "outputs": [
        {
          "output_type": "execute_result",
          "data": {
            "text/plain": [
              "                                                TITULO  \\\n",
              "0    ¡Preocupante! Ocupación hotelera en Colombia s...   \n",
              "1    Dumek: “No puedo decir que a Cartagena la saqu...   \n",
              "2    Reportan baja de operaciones en 4 de las 10 ru...   \n",
              "3    BM advierte que pagos de la deuda privan de di...   \n",
              "4    La Cumbre del Clima podría promover la expansi...   \n",
              "..                                                 ...   \n",
              "410  Los costos están impulsando cambios en los háb...   \n",
              "411  La nueva aerolínea que solicitó operar en Colo...   \n",
              "412  Nuestra meta es llegar a todos los rincones tu...   \n",
              "413  Dan detalles del plan para reactivar la econom...   \n",
              "414  ¿Quiere alquilar su vivienda para uso vacacion...   \n",
              "\n",
              "                                          DESCRIPCION  CATEGORIA  DUMMY   \n",
              "0    De acuerdo con el Sistema de Información Hotel...  NEGATIVA      -1  \n",
              "1    Dumek Turbay, que resultó siendo el gran vence...  NEGATIVA      -1  \n",
              "2    De enero a septiembre de este año, cuatro de l...  NEGATIVA      -1  \n",
              "3    Brasil, Argentina, México, Colombia y Ecuador ...  NEGATIVA      -1  \n",
              "4    El documento final de la COP28 en Dubái da pie...  NEGATIVA      -1  \n",
              "..                                                 ...       ...     ...  \n",
              "410  El turismo en Colombia está en alza a nivel in...  POSITIVA       1  \n",
              "411  \\r\\nUna nueva aerolínea, ALMA, solicita operar...  POSITIVA       1  \n",
              "412  Civitatis, plataforma de actividades turística...  POSITIVA       1  \n",
              "413  El presidente Gustavo Petro anunció la prepara...  POSITIVA       1  \n",
              "414  El Gobierno está tomando medidas para regular ...  POSITIVA       1  \n",
              "\n",
              "[415 rows x 4 columns]"
            ],
            "text/html": [
              "\n",
              "  <div id=\"df-bd8df884-2cb6-4bb9-ac04-044057189603\" class=\"colab-df-container\">\n",
              "    <div>\n",
              "<style scoped>\n",
              "    .dataframe tbody tr th:only-of-type {\n",
              "        vertical-align: middle;\n",
              "    }\n",
              "\n",
              "    .dataframe tbody tr th {\n",
              "        vertical-align: top;\n",
              "    }\n",
              "\n",
              "    .dataframe thead th {\n",
              "        text-align: right;\n",
              "    }\n",
              "</style>\n",
              "<table border=\"1\" class=\"dataframe\">\n",
              "  <thead>\n",
              "    <tr style=\"text-align: right;\">\n",
              "      <th></th>\n",
              "      <th>TITULO</th>\n",
              "      <th>DESCRIPCION</th>\n",
              "      <th>CATEGORIA</th>\n",
              "      <th>DUMMY</th>\n",
              "    </tr>\n",
              "  </thead>\n",
              "  <tbody>\n",
              "    <tr>\n",
              "      <th>0</th>\n",
              "      <td>¡Preocupante! Ocupación hotelera en Colombia s...</td>\n",
              "      <td>De acuerdo con el Sistema de Información Hotel...</td>\n",
              "      <td>NEGATIVA</td>\n",
              "      <td>-1</td>\n",
              "    </tr>\n",
              "    <tr>\n",
              "      <th>1</th>\n",
              "      <td>Dumek: “No puedo decir que a Cartagena la saqu...</td>\n",
              "      <td>Dumek Turbay, que resultó siendo el gran vence...</td>\n",
              "      <td>NEGATIVA</td>\n",
              "      <td>-1</td>\n",
              "    </tr>\n",
              "    <tr>\n",
              "      <th>2</th>\n",
              "      <td>Reportan baja de operaciones en 4 de las 10 ru...</td>\n",
              "      <td>De enero a septiembre de este año, cuatro de l...</td>\n",
              "      <td>NEGATIVA</td>\n",
              "      <td>-1</td>\n",
              "    </tr>\n",
              "    <tr>\n",
              "      <th>3</th>\n",
              "      <td>BM advierte que pagos de la deuda privan de di...</td>\n",
              "      <td>Brasil, Argentina, México, Colombia y Ecuador ...</td>\n",
              "      <td>NEGATIVA</td>\n",
              "      <td>-1</td>\n",
              "    </tr>\n",
              "    <tr>\n",
              "      <th>4</th>\n",
              "      <td>La Cumbre del Clima podría promover la expansi...</td>\n",
              "      <td>El documento final de la COP28 en Dubái da pie...</td>\n",
              "      <td>NEGATIVA</td>\n",
              "      <td>-1</td>\n",
              "    </tr>\n",
              "    <tr>\n",
              "      <th>...</th>\n",
              "      <td>...</td>\n",
              "      <td>...</td>\n",
              "      <td>...</td>\n",
              "      <td>...</td>\n",
              "    </tr>\n",
              "    <tr>\n",
              "      <th>410</th>\n",
              "      <td>Los costos están impulsando cambios en los háb...</td>\n",
              "      <td>El turismo en Colombia está en alza a nivel in...</td>\n",
              "      <td>POSITIVA</td>\n",
              "      <td>1</td>\n",
              "    </tr>\n",
              "    <tr>\n",
              "      <th>411</th>\n",
              "      <td>La nueva aerolínea que solicitó operar en Colo...</td>\n",
              "      <td>\\r\\nUna nueva aerolínea, ALMA, solicita operar...</td>\n",
              "      <td>POSITIVA</td>\n",
              "      <td>1</td>\n",
              "    </tr>\n",
              "    <tr>\n",
              "      <th>412</th>\n",
              "      <td>Nuestra meta es llegar a todos los rincones tu...</td>\n",
              "      <td>Civitatis, plataforma de actividades turística...</td>\n",
              "      <td>POSITIVA</td>\n",
              "      <td>1</td>\n",
              "    </tr>\n",
              "    <tr>\n",
              "      <th>413</th>\n",
              "      <td>Dan detalles del plan para reactivar la econom...</td>\n",
              "      <td>El presidente Gustavo Petro anunció la prepara...</td>\n",
              "      <td>POSITIVA</td>\n",
              "      <td>1</td>\n",
              "    </tr>\n",
              "    <tr>\n",
              "      <th>414</th>\n",
              "      <td>¿Quiere alquilar su vivienda para uso vacacion...</td>\n",
              "      <td>El Gobierno está tomando medidas para regular ...</td>\n",
              "      <td>POSITIVA</td>\n",
              "      <td>1</td>\n",
              "    </tr>\n",
              "  </tbody>\n",
              "</table>\n",
              "<p>415 rows × 4 columns</p>\n",
              "</div>\n",
              "    <div class=\"colab-df-buttons\">\n",
              "\n",
              "  <div class=\"colab-df-container\">\n",
              "    <button class=\"colab-df-convert\" onclick=\"convertToInteractive('df-bd8df884-2cb6-4bb9-ac04-044057189603')\"\n",
              "            title=\"Convert this dataframe to an interactive table.\"\n",
              "            style=\"display:none;\">\n",
              "\n",
              "  <svg xmlns=\"http://www.w3.org/2000/svg\" height=\"24px\" viewBox=\"0 -960 960 960\">\n",
              "    <path d=\"M120-120v-720h720v720H120Zm60-500h600v-160H180v160Zm220 220h160v-160H400v160Zm0 220h160v-160H400v160ZM180-400h160v-160H180v160Zm440 0h160v-160H620v160ZM180-180h160v-160H180v160Zm440 0h160v-160H620v160Z\"/>\n",
              "  </svg>\n",
              "    </button>\n",
              "\n",
              "  <style>\n",
              "    .colab-df-container {\n",
              "      display:flex;\n",
              "      gap: 12px;\n",
              "    }\n",
              "\n",
              "    .colab-df-convert {\n",
              "      background-color: #E8F0FE;\n",
              "      border: none;\n",
              "      border-radius: 50%;\n",
              "      cursor: pointer;\n",
              "      display: none;\n",
              "      fill: #1967D2;\n",
              "      height: 32px;\n",
              "      padding: 0 0 0 0;\n",
              "      width: 32px;\n",
              "    }\n",
              "\n",
              "    .colab-df-convert:hover {\n",
              "      background-color: #E2EBFA;\n",
              "      box-shadow: 0px 1px 2px rgba(60, 64, 67, 0.3), 0px 1px 3px 1px rgba(60, 64, 67, 0.15);\n",
              "      fill: #174EA6;\n",
              "    }\n",
              "\n",
              "    .colab-df-buttons div {\n",
              "      margin-bottom: 4px;\n",
              "    }\n",
              "\n",
              "    [theme=dark] .colab-df-convert {\n",
              "      background-color: #3B4455;\n",
              "      fill: #D2E3FC;\n",
              "    }\n",
              "\n",
              "    [theme=dark] .colab-df-convert:hover {\n",
              "      background-color: #434B5C;\n",
              "      box-shadow: 0px 1px 3px 1px rgba(0, 0, 0, 0.15);\n",
              "      filter: drop-shadow(0px 1px 2px rgba(0, 0, 0, 0.3));\n",
              "      fill: #FFFFFF;\n",
              "    }\n",
              "  </style>\n",
              "\n",
              "    <script>\n",
              "      const buttonEl =\n",
              "        document.querySelector('#df-bd8df884-2cb6-4bb9-ac04-044057189603 button.colab-df-convert');\n",
              "      buttonEl.style.display =\n",
              "        google.colab.kernel.accessAllowed ? 'block' : 'none';\n",
              "\n",
              "      async function convertToInteractive(key) {\n",
              "        const element = document.querySelector('#df-bd8df884-2cb6-4bb9-ac04-044057189603');\n",
              "        const dataTable =\n",
              "          await google.colab.kernel.invokeFunction('convertToInteractive',\n",
              "                                                    [key], {});\n",
              "        if (!dataTable) return;\n",
              "\n",
              "        const docLinkHtml = 'Like what you see? Visit the ' +\n",
              "          '<a target=\"_blank\" href=https://colab.research.google.com/notebooks/data_table.ipynb>data table notebook</a>'\n",
              "          + ' to learn more about interactive tables.';\n",
              "        element.innerHTML = '';\n",
              "        dataTable['output_type'] = 'display_data';\n",
              "        await google.colab.output.renderOutput(dataTable, element);\n",
              "        const docLink = document.createElement('div');\n",
              "        docLink.innerHTML = docLinkHtml;\n",
              "        element.appendChild(docLink);\n",
              "      }\n",
              "    </script>\n",
              "  </div>\n",
              "\n",
              "\n",
              "<div id=\"df-67feb86a-0988-446e-9e27-8613726209b2\">\n",
              "  <button class=\"colab-df-quickchart\" onclick=\"quickchart('df-67feb86a-0988-446e-9e27-8613726209b2')\"\n",
              "            title=\"Suggest charts\"\n",
              "            style=\"display:none;\">\n",
              "\n",
              "<svg xmlns=\"http://www.w3.org/2000/svg\" height=\"24px\"viewBox=\"0 0 24 24\"\n",
              "     width=\"24px\">\n",
              "    <g>\n",
              "        <path d=\"M19 3H5c-1.1 0-2 .9-2 2v14c0 1.1.9 2 2 2h14c1.1 0 2-.9 2-2V5c0-1.1-.9-2-2-2zM9 17H7v-7h2v7zm4 0h-2V7h2v10zm4 0h-2v-4h2v4z\"/>\n",
              "    </g>\n",
              "</svg>\n",
              "  </button>\n",
              "\n",
              "<style>\n",
              "  .colab-df-quickchart {\n",
              "      --bg-color: #E8F0FE;\n",
              "      --fill-color: #1967D2;\n",
              "      --hover-bg-color: #E2EBFA;\n",
              "      --hover-fill-color: #174EA6;\n",
              "      --disabled-fill-color: #AAA;\n",
              "      --disabled-bg-color: #DDD;\n",
              "  }\n",
              "\n",
              "  [theme=dark] .colab-df-quickchart {\n",
              "      --bg-color: #3B4455;\n",
              "      --fill-color: #D2E3FC;\n",
              "      --hover-bg-color: #434B5C;\n",
              "      --hover-fill-color: #FFFFFF;\n",
              "      --disabled-bg-color: #3B4455;\n",
              "      --disabled-fill-color: #666;\n",
              "  }\n",
              "\n",
              "  .colab-df-quickchart {\n",
              "    background-color: var(--bg-color);\n",
              "    border: none;\n",
              "    border-radius: 50%;\n",
              "    cursor: pointer;\n",
              "    display: none;\n",
              "    fill: var(--fill-color);\n",
              "    height: 32px;\n",
              "    padding: 0;\n",
              "    width: 32px;\n",
              "  }\n",
              "\n",
              "  .colab-df-quickchart:hover {\n",
              "    background-color: var(--hover-bg-color);\n",
              "    box-shadow: 0 1px 2px rgba(60, 64, 67, 0.3), 0 1px 3px 1px rgba(60, 64, 67, 0.15);\n",
              "    fill: var(--button-hover-fill-color);\n",
              "  }\n",
              "\n",
              "  .colab-df-quickchart-complete:disabled,\n",
              "  .colab-df-quickchart-complete:disabled:hover {\n",
              "    background-color: var(--disabled-bg-color);\n",
              "    fill: var(--disabled-fill-color);\n",
              "    box-shadow: none;\n",
              "  }\n",
              "\n",
              "  .colab-df-spinner {\n",
              "    border: 2px solid var(--fill-color);\n",
              "    border-color: transparent;\n",
              "    border-bottom-color: var(--fill-color);\n",
              "    animation:\n",
              "      spin 1s steps(1) infinite;\n",
              "  }\n",
              "\n",
              "  @keyframes spin {\n",
              "    0% {\n",
              "      border-color: transparent;\n",
              "      border-bottom-color: var(--fill-color);\n",
              "      border-left-color: var(--fill-color);\n",
              "    }\n",
              "    20% {\n",
              "      border-color: transparent;\n",
              "      border-left-color: var(--fill-color);\n",
              "      border-top-color: var(--fill-color);\n",
              "    }\n",
              "    30% {\n",
              "      border-color: transparent;\n",
              "      border-left-color: var(--fill-color);\n",
              "      border-top-color: var(--fill-color);\n",
              "      border-right-color: var(--fill-color);\n",
              "    }\n",
              "    40% {\n",
              "      border-color: transparent;\n",
              "      border-right-color: var(--fill-color);\n",
              "      border-top-color: var(--fill-color);\n",
              "    }\n",
              "    60% {\n",
              "      border-color: transparent;\n",
              "      border-right-color: var(--fill-color);\n",
              "    }\n",
              "    80% {\n",
              "      border-color: transparent;\n",
              "      border-right-color: var(--fill-color);\n",
              "      border-bottom-color: var(--fill-color);\n",
              "    }\n",
              "    90% {\n",
              "      border-color: transparent;\n",
              "      border-bottom-color: var(--fill-color);\n",
              "    }\n",
              "  }\n",
              "</style>\n",
              "\n",
              "  <script>\n",
              "    async function quickchart(key) {\n",
              "      const quickchartButtonEl =\n",
              "        document.querySelector('#' + key + ' button');\n",
              "      quickchartButtonEl.disabled = true;  // To prevent multiple clicks.\n",
              "      quickchartButtonEl.classList.add('colab-df-spinner');\n",
              "      try {\n",
              "        const charts = await google.colab.kernel.invokeFunction(\n",
              "            'suggestCharts', [key], {});\n",
              "      } catch (error) {\n",
              "        console.error('Error during call to suggestCharts:', error);\n",
              "      }\n",
              "      quickchartButtonEl.classList.remove('colab-df-spinner');\n",
              "      quickchartButtonEl.classList.add('colab-df-quickchart-complete');\n",
              "    }\n",
              "    (() => {\n",
              "      let quickchartButtonEl =\n",
              "        document.querySelector('#df-67feb86a-0988-446e-9e27-8613726209b2 button');\n",
              "      quickchartButtonEl.style.display =\n",
              "        google.colab.kernel.accessAllowed ? 'block' : 'none';\n",
              "    })();\n",
              "  </script>\n",
              "</div>\n",
              "    </div>\n",
              "  </div>\n"
            ],
            "application/vnd.google.colaboratory.intrinsic+json": {
              "type": "dataframe",
              "variable_name": "df",
              "summary": "{\n  \"name\": \"df\",\n  \"rows\": 415,\n  \"fields\": [\n    {\n      \"column\": \"TITULO\",\n      \"properties\": {\n        \"dtype\": \"string\",\n        \"num_unique_values\": 407,\n        \"samples\": [\n          \"Decretan estado de calamidad p\\u00fablica en ciudad del oeste de Colombia\",\n          \"Las 12 mejores atracciones del mundo para hacer en 2024 seg\\u00fan Time Out\",\n          \"Cartagena oficializa su candidatura para el Consejo Ejecutivo de ONU Turismo 2024\"\n        ],\n        \"semantic_type\": \"\",\n        \"description\": \"\"\n      }\n    },\n    {\n      \"column\": \"DESCRIPCION \",\n      \"properties\": {\n        \"dtype\": \"string\",\n        \"num_unique_values\": 405,\n        \"samples\": [\n          \"De acuerdo con un video difundido en redes sociales, el \\u00e1rea de operaciones ser\\u00e1 el Valle del Cauca (suroccidente), Huila (sur), y Tolima y Quind\\u00edo, ambos ubicados en la regi\\u00f3n centro-oeste de la naci\\u00f3n.Difundi\\u00f3 asimismo el EMC que Marlon, jefe del Frente Jaime Mart\\u00ednez, ahora es el comandante del nuevo bloque. Su conformaci\\u00f3n, a\\u00f1adi\\u00f3, se realiza en solidaridad y respuesta a la agresi\\u00f3n militar contra el Bloque Occidental Comandante Jacobo Arenas. por lo cual puede afectar al turismo de la region ya que por miedo los turista dejaran de visitar la region\",\n          \"Tendencia en turismo: cada vez m\\u00e1s personas eligen compensar la huella de carbono de sus vacaciones En Argentina, la neutralidad de carbono en los viajes toma fuerza: desde agencias tur\\u00edsticas hasta casos individuales inspiradores como el de Silvia, quien neu\\u2026\",\n          \"Avianca ofrece tiquetes a precios muy econ\\u00f3micos para vuelos nacionales en Colombia, con ofertas disponibles hasta el 24 de abril de 2024. Los precios van desde $59.300 pesos colombianos, con destinos como Pereira, Medell\\u00edn, Monter\\u00eda, Barranquilla y Cartagena.\\r\\n\\r\\n\\r\\n\\r\\n\\r\\n\\r\\n\\r\"\n        ],\n        \"semantic_type\": \"\",\n        \"description\": \"\"\n      }\n    },\n    {\n      \"column\": \"CATEGORIA\",\n      \"properties\": {\n        \"dtype\": \"category\",\n        \"num_unique_values\": 2,\n        \"samples\": [\n          \"POSITIVA\",\n          \"NEGATIVA\"\n        ],\n        \"semantic_type\": \"\",\n        \"description\": \"\"\n      }\n    },\n    {\n      \"column\": \"DUMMY \",\n      \"properties\": {\n        \"dtype\": \"number\",\n        \"std\": 0,\n        \"min\": -1,\n        \"max\": 1,\n        \"num_unique_values\": 3,\n        \"samples\": [\n          -1,\n          1\n        ],\n        \"semantic_type\": \"\",\n        \"description\": \"\"\n      }\n    }\n  ]\n}"
            }
          },
          "metadata": {},
          "execution_count": 5
        }
      ]
    },
    {
      "cell_type": "code",
      "source": [
        "# Para contar cuántas veces aparece cada valor en la columna CATEGORIA\n",
        "conteo = df['CATEGORIA'].value_counts()\n",
        "\n",
        "print(conteo)"
      ],
      "metadata": {
        "colab": {
          "base_uri": "https://localhost:8080/"
        },
        "id": "YoDXyLwz3v9Q",
        "outputId": "18a855d3-5d3e-475b-e8de-5b829049d2ef"
      },
      "execution_count": 6,
      "outputs": [
        {
          "output_type": "stream",
          "name": "stdout",
          "text": [
            "CATEGORIA\n",
            "POSITIVA    271\n",
            "NEGATIVA    144\n",
            "Name: count, dtype: int64\n"
          ]
        }
      ]
    },
    {
      "cell_type": "code",
      "source": [
        "from sklearn.model_selection import train_test_split\n",
        "\n",
        "# Dividir el conjunto de datos en conjuntos de entrenamiento y prueba\n",
        "train_df, test_df = train_test_split(df, test_size=0.2, random_state=42)"
      ],
      "metadata": {
        "id": "j-JTA76f3ykV"
      },
      "execution_count": 7,
      "outputs": []
    },
    {
      "cell_type": "code",
      "source": [
        "# Guardar los conjuntos de datos\n",
        "train_df.to_csv('train_data.csv', index=False)\n",
        "test_df.to_csv('test_data.csv', index=False)"
      ],
      "metadata": {
        "id": "0sMu8Rrx31JL"
      },
      "execution_count": 8,
      "outputs": []
    },
    {
      "cell_type": "code",
      "source": [
        "#Token Hugging face acceso\n",
        "import getpass\n",
        "#import locale; locale.setlocale(locale.LC_ALL, 'en_US.UTF-8')\n",
        "import logging\n",
        "import os\n",
        "\n",
        "#from ludwig.api import LudwigModel\n",
        "\n",
        "\n",
        "os.environ[\"HUGGING_FACE_HUB_TOKEN\"] = getpass.getpass(\"Token:\")\n",
        "assert os.environ[\"HUGGING_FACE_HUB_TOKEN\"]"
      ],
      "metadata": {
        "colab": {
          "base_uri": "https://localhost:8080/"
        },
        "id": "P--_8lkl4EOH",
        "outputId": "78403fcb-7f8a-45be-8256-bb1293bc853b"
      },
      "execution_count": 20,
      "outputs": [
        {
          "name": "stdout",
          "output_type": "stream",
          "text": [
            "Token:··········\n"
          ]
        }
      ]
    },
    {
      "cell_type": "code",
      "source": [
        "from torchtext.transforms import SentencePieceTokenizer"
      ],
      "metadata": {
        "id": "_r04SDC1bXu9"
      },
      "execution_count": 21,
      "outputs": []
    },
    {
      "cell_type": "code",
      "source": [
        "import logging\n",
        "from ludwig.api import LudwigModel\n",
        "# Configuración ajustada\n",
        "config = {\n",
        "    \"input_features\": [\n",
        "        {\n",
        "            \"name\": \"DESCRIPCION \",\n",
        "            \"type\": \"text\",\n",
        "            \"preprocessing\": {\"tokenizer\":\"hf_tokenizer\"},\n",
        "            \"encoder\": {\n",
        "                \"type\": \"auto_transformer\",\n",
        "                \"pretrained_model_name_or_path\": \"dccuchile/bert-base-spanish-wwm-uncased\",\n",
        "                \"trainable\": True,\n",
        "                \"regularizer\": {\n",
        "                    \"type\": \"l2\",\n",
        "                    \"weight\": 0.001,\n",
        "                    # Regularización L2 aplicada al encoder\n",
        "                }\n",
        "            }\n",
        "        },\n",
        "    ],\n",
        "    \"output_features\": [\n",
        "        {\n",
        "            \"name\": \"CATEGORIA\",\n",
        "            \"type\": \"binary\",\n",
        "            \"calibration\": True\n",
        "        }\n",
        "    ],\n",
        "    \"preprocessing\": {\n",
        "        \"oversample_minority\": 0.5\n",
        "      },\n",
        "    \"adapter\": {  # Corregido el espacio adicional en el nombre de la clave\n",
        "        \"type\": \"lora\",\n",
        "        \"r\": 8,\n",
        "        \"dropout\": 0.05,\n",
        "        \"target_modules\": None,  # Corregido de Null a None\n",
        "        \"use_rslora\": False,\n",
        "        \"use_dora\": False,\n",
        "        \"alpha\": 16,\n",
        "        \"pretrained_adapter_weights\": None,  # Corregido de Null a None\n",
        "        \"postprocessor\": {\n",
        "            \"merge_adapter_into_base_model\": False,\n",
        "            \"progressbar\": False,\n",
        "            \"bias_type\": \"none\"  # Corregido para que el valor sea una cadena\n",
        "        }\n",
        "    },\n",
        "    \"trainer\": {\n",
        "        \"epochs\": 40,\n",
        "        \"learning_rate\": 0.00005,\n",
        "        \"optimizer\": {\"type\": \"adamw\"},\n",
        "        \"batch_size\": 20,\n",
        "    }\n",
        "}"
      ],
      "metadata": {
        "id": "_E86g8SO4MxZ"
      },
      "execution_count": null,
      "outputs": []
    },
    {
      "cell_type": "code",
      "source": [
        "# Crea una instancia del modelo Ludwig con la configuración\n",
        "model = LudwigModel(config, logging_level=logging.INFO)"
      ],
      "metadata": {
        "id": "9mFYg-hZ5aBI"
      },
      "execution_count": null,
      "outputs": []
    },
    {
      "cell_type": "code",
      "source": [
        "train_stats,pred,out = model.train(dataset=train_df)"
      ],
      "metadata": {
        "colab": {
          "base_uri": "https://localhost:8080/"
        },
        "id": "Mqn4qg5S5fD2",
        "outputId": "d2266a74-ddee-4dbd-a89b-ab2b475a8d98"
      },
      "execution_count": 24,
      "outputs": [
        {
          "output_type": "stream",
          "name": "stderr",
          "text": [
            "INFO:ludwig.utils.print_utils:\n",
            "INFO:ludwig.utils.print_utils:╒════════════════════════╕\n",
            "INFO:ludwig.utils.print_utils:│ EXPERIMENT DESCRIPTION │\n",
            "INFO:ludwig.utils.print_utils:╘════════════════════════╛\n",
            "INFO:ludwig.utils.print_utils:\n",
            "INFO:ludwig.api:╒══════════════════╤═════════════════════════════════════════════════════════════════════════════════════════╕\n",
            "│ Experiment name  │ api_experiment                                                                          │\n",
            "├──────────────────┼─────────────────────────────────────────────────────────────────────────────────────────┤\n",
            "│ Model name       │ run                                                                                     │\n",
            "├──────────────────┼─────────────────────────────────────────────────────────────────────────────────────────┤\n",
            "│ Output directory │ /content/results/api_experiment_run_0                                                   │\n",
            "├──────────────────┼─────────────────────────────────────────────────────────────────────────────────────────┤\n",
            "│ ludwig_version   │ '0.10.3'                                                                                │\n",
            "├──────────────────┼─────────────────────────────────────────────────────────────────────────────────────────┤\n",
            "│ command          │ ('/usr/local/lib/python3.10/dist-packages/colab_kernel_launcher.py -f '                 │\n",
            "│                  │  '/root/.local/share/jupyter/runtime/kernel-de9eb5bf-4311-48f9-b645-c1dd2d4e3ca5.json') │\n",
            "├──────────────────┼─────────────────────────────────────────────────────────────────────────────────────────┤\n",
            "│ random_seed      │ 42                                                                                      │\n",
            "├──────────────────┼─────────────────────────────────────────────────────────────────────────────────────────┤\n",
            "│ data_format      │ \"<class 'pandas.core.frame.DataFrame'>\"                                                 │\n",
            "├──────────────────┼─────────────────────────────────────────────────────────────────────────────────────────┤\n",
            "│ torch_version    │ '2.3.0+cu121'                                                                           │\n",
            "├──────────────────┼─────────────────────────────────────────────────────────────────────────────────────────┤\n",
            "│ compute          │ {   'arch_list': [   'sm_50',                                                           │\n",
            "│                  │                      'sm_60',                                                           │\n",
            "│                  │                      'sm_70',                                                           │\n",
            "│                  │                      'sm_75',                                                           │\n",
            "│                  │                      'sm_80',                                                           │\n",
            "│                  │                      'sm_86',                                                           │\n",
            "│                  │                      'sm_90'],                                                          │\n",
            "│                  │     'devices': {   0: {   'device_capability': (7, 5),                                  │\n",
            "│                  │                           'device_properties': \"_CudaDeviceProperties(name='Tesla \"     │\n",
            "│                  │                                                \"T4', major=7, minor=5, \"                │\n",
            "│                  │                                                'total_memory=15102MB, '                 │\n",
            "│                  │                                                'multi_processor_count=40)',             │\n",
            "│                  │                           'gpu_type': 'Tesla T4'}},                                     │\n",
            "│                  │     'gencode_flags': '-gencode compute=compute_50,code=sm_50 -gencode '                 │\n",
            "│                  │                      'compute=compute_60,code=sm_60 -gencode '                          │\n",
            "│                  │                      'compute=compute_70,code=sm_70 -gencode '                          │\n",
            "│                  │                      'compute=compute_75,code=sm_75 -gencode '                          │\n",
            "│                  │                      'compute=compute_80,code=sm_80 -gencode '                          │\n",
            "│                  │                      'compute=compute_86,code=sm_86 -gencode '                          │\n",
            "│                  │                      'compute=compute_90,code=sm_90',                                   │\n",
            "│                  │     'gpus_per_node': 1,                                                                 │\n",
            "│                  │     'num_nodes': 1}                                                                     │\n",
            "╘══════════════════╧═════════════════════════════════════════════════════════════════════════════════════════╛\n",
            "INFO:ludwig.utils.print_utils:\n",
            "INFO:ludwig.utils.print_utils:╒═══════════════╕\n",
            "INFO:ludwig.utils.print_utils:│ LUDWIG CONFIG │\n",
            "INFO:ludwig.utils.print_utils:╘═══════════════╛\n",
            "INFO:ludwig.utils.print_utils:\n",
            "INFO:ludwig.api:User-specified config (with upgrades):\n",
            "\n",
            "INFO:ludwig.api:{   'adapter': {   'alpha': 16,\n",
            "                   'dropout': 0.05,\n",
            "                   'postprocessor': {   'bias_type': 'none',\n",
            "                                        'merge_adapter_into_base_model': False,\n",
            "                                        'progressbar': False},\n",
            "                   'pretrained_adapter_weights': None,\n",
            "                   'r': 8,\n",
            "                   'target_modules': None,\n",
            "                   'type': 'lora',\n",
            "                   'use_dora': False,\n",
            "                   'use_rslora': False},\n",
            "    'input_features': [   {   'encoder': {   'pretrained_model_name_or_path': 'dccuchile/bert-base-spanish-wwm-uncased',\n",
            "                                             'regularizer': {   'type': 'l2',\n",
            "                                                                'weight': 0.001},\n",
            "                                             'trainable': True,\n",
            "                                             'type': 'auto_transformer'},\n",
            "                              'name': 'DESCRIPCION ',\n",
            "                              'preprocessing': {'tokenizer': 'hf_tokenizer'},\n",
            "                              'type': 'text'}],\n",
            "    'ludwig_version': '0.10.3',\n",
            "    'output_features': [   {   'calibration': True,\n",
            "                               'name': 'CATEGORIA',\n",
            "                               'type': 'binary'}],\n",
            "    'preprocessing': {'oversample_minority': 0.5},\n",
            "    'trainer': {   'batch_size': 20,\n",
            "                   'epochs': 40,\n",
            "                   'learning_rate': 5e-05,\n",
            "                   'optimizer': {'type': 'adamw'}}}\n",
            "INFO:ludwig.api:\n",
            "Full config saved to:\n",
            "/content/results/api_experiment_run_0/api_experiment/model/model_hyperparameters.json\n",
            "INFO:ludwig.utils.print_utils:\n",
            "INFO:ludwig.utils.print_utils:╒═══════════════╕\n",
            "INFO:ludwig.utils.print_utils:│ PREPROCESSING │\n",
            "INFO:ludwig.utils.print_utils:╘═══════════════╛\n",
            "INFO:ludwig.utils.print_utils:\n",
            "INFO:ludwig.data.preprocessing:No cached dataset found at /content/39ad4e761f0811ef9e950242ac1c000c.training.hdf5. Preprocessing the dataset.\n",
            "INFO:ludwig.data.preprocessing:Using full dataframe\n",
            "INFO:ludwig.data.preprocessing:Building dataset (it may take a while)\n",
            "WARNING:ludwig.utils.tokenizers:Falling back to HuggingFace tokenizer because TorchText tokenizer failed validation.\n",
            "WARNING:ludwig.utils.tokenizers:Sample input: UNwantéd,running\n",
            "HF output: [4, 1044, 1004, 10390, 30982, 30963, 1019, 18125, 8930, 5]\n",
            "TT output: [4, 1044, 1004, 1492, 30963, 1019, 18125, 8930, 5]\n",
            "INFO:ludwig.utils.tokenizers:Loaded HuggingFace implementation of dccuchile/bert-base-spanish-wwm-uncased tokenizer\n",
            "INFO:ludwig.features.text_feature:Max length of feature 'DESCRIPCION ': 247 (without start and stop symbols)\n",
            "INFO:ludwig.features.text_feature:Max sequence length is 247 for feature 'DESCRIPCION '\n",
            "WARNING:ludwig.features.binary_feature:Binary feature CATEGORIA has at least 1 unconventional boolean value: Cannot automatically map value 'POSITIVA' to a boolean and no `preprocessing.fallback_true_label` specified. We will now interpret NEGATIVA as 1 and the other values as 0. If this is incorrect, please use the category feature type or manually specify the true value with `preprocessing.fallback_true_label`.\n",
            "WARNING:ludwig.utils.tokenizers:Falling back to HuggingFace tokenizer because TorchText tokenizer failed validation.\n",
            "WARNING:ludwig.utils.tokenizers:Sample input: UNwantéd,running\n",
            "HF output: [4, 1044, 1004, 10390, 30982, 30963, 1019, 18125, 8930, 5]\n",
            "TT output: [4, 1044, 1004, 1492, 30963, 1019, 18125, 8930, 5]\n",
            "INFO:ludwig.utils.tokenizers:Loaded HuggingFace implementation of dccuchile/bert-base-spanish-wwm-uncased tokenizer\n",
            "INFO:ludwig.data.preprocessing:Building dataset: DONE\n",
            "INFO:ludwig.data.cache.manager:Writing preprocessed training set cache to /content/39ad4e761f0811ef9e950242ac1c000c.training.hdf5\n",
            "INFO:ludwig.data.cache.manager:Writing preprocessed validation set cache to /content/39ad4e761f0811ef9e950242ac1c000c.validation.hdf5\n",
            "INFO:ludwig.data.cache.manager:Writing preprocessed test set cache to /content/39ad4e761f0811ef9e950242ac1c000c.test.hdf5\n",
            "INFO:ludwig.data.cache.manager:Writing train set metadata to /content/39ad4e761f0811ef9e950242ac1c000c.meta.json\n",
            "INFO:ludwig.api:\n",
            "Dataset Statistics\n",
            "INFO:ludwig.api:╒════════════╤═══════════════╤════════════════════╕\n",
            "│ Dataset    │   Size (Rows) │ Size (In Memory)   │\n",
            "╞════════════╪═══════════════╪════════════════════╡\n",
            "│ Training   │           231 │ 27.42 Kb           │\n",
            "├────────────┼───────────────┼────────────────────┤\n",
            "│ Validation │            33 │ 4.02 Kb            │\n",
            "├────────────┼───────────────┼────────────────────┤\n",
            "│ Test       │            66 │ 7.92 Kb            │\n",
            "╘════════════╧═══════════════╧════════════════════╛\n",
            "INFO:ludwig.utils.print_utils:\n",
            "INFO:ludwig.utils.print_utils:╒═══════╕\n",
            "INFO:ludwig.utils.print_utils:│ MODEL │\n",
            "INFO:ludwig.utils.print_utils:╘═══════╛\n",
            "INFO:ludwig.utils.print_utils:\n",
            "INFO:ludwig.api:Warnings and other logs:\n",
            "Some weights of BertModel were not initialized from the model checkpoint at dccuchile/bert-base-spanish-wwm-uncased and are newly initialized: ['bert.pooler.dense.bias', 'bert.pooler.dense.weight']\n",
            "You should probably TRAIN this model on a down-stream task to be able to use it for predictions and inference.\n",
            "INFO:ludwig.trainers.trainer:Tuning batch size...\n",
            "INFO:ludwig.utils.batch_size_tuner:Tuning batch size...\n",
            "INFO:ludwig.utils.batch_size_tuner:Exploring batch_size=1\n",
            "INFO:ludwig.utils.batch_size_tuner:Throughput at batch_size=1: 42.22468 samples/s\n",
            "INFO:ludwig.utils.batch_size_tuner:Exploring batch_size=2\n",
            "INFO:ludwig.utils.batch_size_tuner:Throughput at batch_size=2: 72.94061 samples/s\n",
            "INFO:ludwig.utils.batch_size_tuner:Exploring batch_size=4\n",
            "INFO:ludwig.utils.batch_size_tuner:Throughput at batch_size=4: 78.31148 samples/s\n",
            "INFO:ludwig.utils.batch_size_tuner:Exploring batch_size=8\n",
            "INFO:ludwig.utils.batch_size_tuner:Throughput at batch_size=8: 79.81777 samples/s\n",
            "INFO:ludwig.utils.batch_size_tuner:Exploring batch_size=16\n",
            "INFO:ludwig.utils.batch_size_tuner:Throughput at batch_size=16: 83.63559 samples/s\n",
            "INFO:ludwig.utils.batch_size_tuner:Exploring batch_size=32\n",
            "INFO:ludwig.utils.batch_size_tuner:Throughput at batch_size=32: 84.74155 samples/s\n",
            "INFO:ludwig.utils.batch_size_tuner:Batch size 64 is invalid, must be less than or equal to 20.0% dataset size (46 samples of 231) and less than or equal to max batch size 1099511627776\n",
            "INFO:ludwig.utils.batch_size_tuner:Selected batch_size=32\n",
            "INFO:ludwig.utils.print_utils:\n",
            "INFO:ludwig.utils.print_utils:╒══════════╕\n",
            "INFO:ludwig.utils.print_utils:│ TRAINING │\n",
            "INFO:ludwig.utils.print_utils:╘══════════╛\n",
            "INFO:ludwig.utils.print_utils:\n",
            "INFO:ludwig.trainers.trainer:Creating fresh model training run.\n",
            "INFO:ludwig.trainers.trainer:Training for 480 step(s), approximately 40 epoch(s).\n",
            "INFO:ludwig.trainers.trainer:Early stopping policy: 5 round(s) of evaluation, or 60 step(s), approximately 5 epoch(s).\n",
            "\n",
            "INFO:ludwig.trainers.trainer:Starting with step 0, epoch: 0\n"
          ]
        },
        {
          "output_type": "stream",
          "name": "stdout",
          "text": [
            "Training:   2%|▎         | 12/480 [00:08<05:11,  1.50it/s, loss=3.91]"
          ]
        },
        {
          "output_type": "stream",
          "name": "stderr",
          "text": [
            "INFO:ludwig.trainers.trainer:\n",
            "Running evaluation for step: 12, epoch: 1\n"
          ]
        },
        {
          "output_type": "stream",
          "name": "stdout",
          "text": [
            "Evaluation valid: 100%|██████████| 2/2 [00:00<00:00,  5.14it/s]\n",
            "Evaluation test : 100%|██████████| 3/3 [00:00<00:00,  3.77it/s]"
          ]
        },
        {
          "output_type": "stream",
          "name": "stderr",
          "text": [
            "INFO:ludwig.trainers.trainer:Evaluation took 1.2214s\n",
            "\n",
            "INFO:ludwig.utils.metrics_printed_table:╒═══════════════╤══════════╤══════════════╤═════════╕\n",
            "│               │    train │   validation │    test │\n",
            "╞═══════════════╪══════════╪══════════════╪═════════╡\n",
            "│ accuracy      │   0.5758 │       0.3030 │  0.2879 │\n",
            "├───────────────┼──────────┼──────────────┼─────────┤\n",
            "│ loss          │ 156.3181 │      87.7508 │ 73.0788 │\n",
            "├───────────────┼──────────┼──────────────┼─────────┤\n",
            "│ precision     │   0.3895 │       0.3030 │  0.2879 │\n",
            "├───────────────┼──────────┼──────────────┼─────────┤\n",
            "│ recall        │   0.4805 │       1.0000 │  1.0000 │\n",
            "├───────────────┼──────────┼──────────────┼─────────┤\n",
            "│ roc_auc       │   0.5369 │       0.5000 │  0.5000 │\n",
            "├───────────────┼──────────┼──────────────┼─────────┤\n",
            "│ specificity   │   0.6234 │       0.0000 │  0.0000 │\n",
            "├───────────────┼──────────┼──────────────┼─────────┤\n",
            "│ combined_loss │ 156.3181 │      87.7508 │ 73.0788 │\n",
            "╘═══════════════╧══════════╧══════════════╧═════════╛\n",
            "INFO:ludwig.trainers.trainer:Evaluation validation metric: 'CATEGORIA' 'roc_auc' improved.\n",
            "INFO:ludwig.trainers.trainer:'CATEGORIA' 'roc_auc' increased by inf.\n",
            "INFO:ludwig.trainers.trainer:New best model saved.\n",
            "\n"
          ]
        },
        {
          "output_type": "stream",
          "name": "stdout",
          "text": [
            "\n",
            "Training:   5%|▌         | 24/480 [00:41<06:17,  1.21it/s, loss=9.29]"
          ]
        },
        {
          "output_type": "stream",
          "name": "stderr",
          "text": [
            "INFO:ludwig.trainers.trainer:\n",
            "Running evaluation for step: 24, epoch: 2\n"
          ]
        },
        {
          "output_type": "stream",
          "name": "stdout",
          "text": [
            "Evaluation valid: 100%|██████████| 2/2 [00:00<00:00,  5.02it/s]\n",
            "Evaluation test : 100%|██████████| 3/3 [00:00<00:00,  3.74it/s]"
          ]
        },
        {
          "output_type": "stream",
          "name": "stderr",
          "text": [
            "INFO:ludwig.trainers.trainer:Evaluation took 1.2497s\n",
            "\n",
            "INFO:ludwig.utils.metrics_printed_table:╒═══════════════╤═════════╤══════════════╤═════════╕\n",
            "│               │   train │   validation │    test │\n",
            "╞═══════════════╪═════════╪══════════════╪═════════╡\n",
            "│ accuracy      │  0.4589 │       0.3030 │  0.2879 │\n",
            "├───────────────┼─────────┼──────────────┼─────────┤\n",
            "│ loss          │ 62.5120 │      39.7741 │ 33.4751 │\n",
            "├───────────────┼─────────┼──────────────┼─────────┤\n",
            "│ precision     │  0.2966 │       0.3030 │  0.2879 │\n",
            "├───────────────┼─────────┼──────────────┼─────────┤\n",
            "│ recall        │  0.4545 │       1.0000 │  1.0000 │\n",
            "├───────────────┼─────────┼──────────────┼─────────┤\n",
            "│ roc_auc       │  0.4610 │       0.5217 │  0.5106 │\n",
            "├───────────────┼─────────┼──────────────┼─────────┤\n",
            "│ specificity   │  0.4610 │       0.0000 │  0.0000 │\n",
            "├───────────────┼─────────┼──────────────┼─────────┤\n",
            "│ combined_loss │ 62.5120 │      39.7741 │ 33.4751 │\n",
            "╘═══════════════╧═════════╧══════════════╧═════════╛\n",
            "INFO:ludwig.trainers.trainer:Evaluation validation metric: 'CATEGORIA' 'roc_auc' improved.\n",
            "INFO:ludwig.trainers.trainer:'CATEGORIA' 'roc_auc' increased by 0.022.\n",
            "INFO:ludwig.trainers.trainer:New best model saved.\n",
            "\n"
          ]
        },
        {
          "output_type": "stream",
          "name": "stdout",
          "text": [
            "\n",
            "Training:   8%|▊         | 36/480 [01:30<06:48,  1.09it/s, loss=2.99]"
          ]
        },
        {
          "output_type": "stream",
          "name": "stderr",
          "text": [
            "INFO:ludwig.trainers.trainer:\n",
            "Running evaluation for step: 36, epoch: 3\n"
          ]
        },
        {
          "output_type": "stream",
          "name": "stdout",
          "text": [
            "Evaluation valid: 100%|██████████| 2/2 [00:00<00:00,  5.12it/s]\n",
            "Evaluation test : 100%|██████████| 3/3 [00:00<00:00,  3.76it/s]"
          ]
        },
        {
          "output_type": "stream",
          "name": "stderr",
          "text": [
            "INFO:ludwig.trainers.trainer:Evaluation took 1.2266s\n",
            "\n",
            "INFO:ludwig.utils.metrics_printed_table:╒═══════════════╤═════════╤══════════════╤═════════╕\n",
            "│               │   train │   validation │    test │\n",
            "╞═══════════════╪═════════╪══════════════╪═════════╡\n",
            "│ accuracy      │  0.5325 │       0.3636 │  0.3636 │\n",
            "├───────────────┼─────────┼──────────────┼─────────┤\n",
            "│ loss          │ 29.7453 │      12.4710 │ 17.9281 │\n",
            "├───────────────┼─────────┼──────────────┼─────────┤\n",
            "│ precision     │  0.3578 │       0.3103 │  0.3115 │\n",
            "├───────────────┼─────────┼──────────────┼─────────┤\n",
            "│ recall        │  0.5065 │       0.9000 │  1.0000 │\n",
            "├───────────────┼─────────┼──────────────┼─────────┤\n",
            "│ roc_auc       │  0.5298 │       0.6196 │  0.5689 │\n",
            "├───────────────┼─────────┼──────────────┼─────────┤\n",
            "│ specificity   │  0.5455 │       0.1304 │  0.1064 │\n",
            "├───────────────┼─────────┼──────────────┼─────────┤\n",
            "│ combined_loss │ 29.7453 │      12.4710 │ 17.9281 │\n",
            "╘═══════════════╧═════════╧══════════════╧═════════╛\n",
            "INFO:ludwig.trainers.trainer:Evaluation validation metric: 'CATEGORIA' 'roc_auc' improved.\n",
            "INFO:ludwig.trainers.trainer:'CATEGORIA' 'roc_auc' increased by 0.098.\n",
            "INFO:ludwig.trainers.trainer:New best model saved.\n",
            "\n"
          ]
        },
        {
          "output_type": "stream",
          "name": "stdout",
          "text": [
            "\n",
            "Training:  10%|█         | 48/480 [02:25<06:51,  1.05it/s, loss=2.83]"
          ]
        },
        {
          "output_type": "stream",
          "name": "stderr",
          "text": [
            "INFO:ludwig.trainers.trainer:\n",
            "Running evaluation for step: 48, epoch: 4\n"
          ]
        },
        {
          "output_type": "stream",
          "name": "stdout",
          "text": [
            "Evaluation valid: 100%|██████████| 2/2 [00:00<00:00,  5.11it/s]\n",
            "Evaluation test : 100%|██████████| 3/3 [00:00<00:00,  3.76it/s]"
          ]
        },
        {
          "output_type": "stream",
          "name": "stderr",
          "text": [
            "INFO:ludwig.trainers.trainer:Evaluation took 1.2257s\n",
            "\n",
            "INFO:ludwig.utils.metrics_printed_table:╒═══════════════╤═════════╤══════════════╤════════╕\n",
            "│               │   train │   validation │   test │\n",
            "╞═══════════════╪═════════╪══════════════╪════════╡\n",
            "│ accuracy      │  0.5801 │       0.5152 │ 0.4697 │\n",
            "├───────────────┼─────────┼──────────────┼────────┤\n",
            "│ loss          │ 19.7410 │       3.9523 │ 7.6866 │\n",
            "├───────────────┼─────────┼──────────────┼────────┤\n",
            "│ precision     │  0.3980 │       0.3750 │ 0.3519 │\n",
            "├───────────────┼─────────┼──────────────┼────────┤\n",
            "│ recall        │  0.5065 │       0.9000 │ 1.0000 │\n",
            "├───────────────┼─────────┼──────────────┼────────┤\n",
            "│ roc_auc       │  0.5616 │       0.7130 │ 0.7940 │\n",
            "├───────────────┼─────────┼──────────────┼────────┤\n",
            "│ specificity   │  0.6169 │       0.3478 │ 0.2553 │\n",
            "├───────────────┼─────────┼──────────────┼────────┤\n",
            "│ combined_loss │ 19.7410 │       3.9523 │ 7.6866 │\n",
            "╘═══════════════╧═════════╧══════════════╧════════╛\n",
            "INFO:ludwig.trainers.trainer:Evaluation validation metric: 'CATEGORIA' 'roc_auc' improved.\n",
            "INFO:ludwig.trainers.trainer:'CATEGORIA' 'roc_auc' increased by 0.093.\n",
            "INFO:ludwig.trainers.trainer:New best model saved.\n",
            "\n"
          ]
        },
        {
          "output_type": "stream",
          "name": "stdout",
          "text": [
            "\n",
            "Training:  12%|█▎        | 60/480 [03:06<06:04,  1.15it/s, loss=0.000338]"
          ]
        },
        {
          "output_type": "stream",
          "name": "stderr",
          "text": [
            "INFO:ludwig.trainers.trainer:\n",
            "Running evaluation for step: 60, epoch: 5\n"
          ]
        },
        {
          "output_type": "stream",
          "name": "stdout",
          "text": [
            "Evaluation valid: 100%|██████████| 2/2 [00:00<00:00,  5.06it/s]\n",
            "Evaluation test : 100%|██████████| 3/3 [00:00<00:00,  3.72it/s]"
          ]
        },
        {
          "output_type": "stream",
          "name": "stderr",
          "text": [
            "INFO:ludwig.trainers.trainer:Evaluation took 1.2409s\n",
            "\n",
            "INFO:ludwig.utils.metrics_printed_table:╒═══════════════╤═════════╤══════════════╤════════╕\n",
            "│               │   train │   validation │   test │\n",
            "╞═══════════════╪═════════╪══════════════╪════════╡\n",
            "│ accuracy      │  0.5974 │       0.8485 │ 0.8939 │\n",
            "├───────────────┼─────────┼──────────────┼────────┤\n",
            "│ loss          │ 15.5299 │       9.3233 │ 4.0734 │\n",
            "├───────────────┼─────────┼──────────────┼────────┤\n",
            "│ precision     │  0.4231 │       0.8571 │ 0.9286 │\n",
            "├───────────────┼─────────┼──────────────┼────────┤\n",
            "│ recall        │  0.5714 │       0.6000 │ 0.6842 │\n",
            "├───────────────┼─────────┼──────────────┼────────┤\n",
            "│ roc_auc       │  0.6510 │       0.8304 │ 0.9513 │\n",
            "├───────────────┼─────────┼──────────────┼────────┤\n",
            "│ specificity   │  0.6104 │       0.9565 │ 0.9787 │\n",
            "├───────────────┼─────────┼──────────────┼────────┤\n",
            "│ combined_loss │ 15.5299 │       9.3233 │ 4.0734 │\n",
            "╘═══════════════╧═════════╧══════════════╧════════╛\n",
            "INFO:ludwig.trainers.trainer:Evaluation validation metric: 'CATEGORIA' 'roc_auc' improved.\n",
            "INFO:ludwig.trainers.trainer:'CATEGORIA' 'roc_auc' increased by 0.117.\n",
            "INFO:ludwig.trainers.trainer:New best model saved.\n",
            "\n"
          ]
        },
        {
          "output_type": "stream",
          "name": "stdout",
          "text": [
            "\n",
            "Training:  15%|█▌        | 72/480 [04:34<07:41,  1.13s/it, loss=18.4]"
          ]
        },
        {
          "output_type": "stream",
          "name": "stderr",
          "text": [
            "INFO:ludwig.trainers.trainer:\n",
            "Running evaluation for step: 72, epoch: 6\n"
          ]
        },
        {
          "output_type": "stream",
          "name": "stdout",
          "text": [
            "Evaluation valid: 100%|██████████| 2/2 [00:00<00:00,  5.08it/s]\n",
            "Evaluation test : 100%|██████████| 3/3 [00:00<00:00,  3.77it/s]"
          ]
        },
        {
          "output_type": "stream",
          "name": "stderr",
          "text": [
            "INFO:ludwig.trainers.trainer:Evaluation took 1.2267s\n",
            "\n",
            "INFO:ludwig.utils.metrics_printed_table:╒═══════════════╤═════════╤══════════════╤════════╕\n",
            "│               │   train │   validation │   test │\n",
            "╞═══════════════╪═════════╪══════════════╪════════╡\n",
            "│ accuracy      │  0.8182 │       0.8788 │ 0.8788 │\n",
            "├───────────────┼─────────┼──────────────┼────────┤\n",
            "│ loss          │ 12.2874 │       4.5459 │ 3.4737 │\n",
            "├───────────────┼─────────┼──────────────┼────────┤\n",
            "│ precision     │  0.7215 │       1.0000 │ 1.0000 │\n",
            "├───────────────┼─────────┼──────────────┼────────┤\n",
            "│ recall        │  0.7403 │       0.6000 │ 0.5789 │\n",
            "├───────────────┼─────────┼──────────────┼────────┤\n",
            "│ roc_auc       │  0.8645 │       0.8696 │ 0.9546 │\n",
            "├───────────────┼─────────┼──────────────┼────────┤\n",
            "│ specificity   │  0.8571 │       1.0000 │ 1.0000 │\n",
            "├───────────────┼─────────┼──────────────┼────────┤\n",
            "│ combined_loss │ 12.2874 │       4.5459 │ 3.4737 │\n",
            "╘═══════════════╧═════════╧══════════════╧════════╛\n",
            "INFO:ludwig.trainers.trainer:Evaluation validation metric: 'CATEGORIA' 'roc_auc' improved.\n",
            "INFO:ludwig.trainers.trainer:'CATEGORIA' 'roc_auc' increased by 0.039.\n",
            "INFO:ludwig.trainers.trainer:New best model saved.\n",
            "\n"
          ]
        },
        {
          "output_type": "stream",
          "name": "stdout",
          "text": [
            "\n",
            "Training:  18%|█▊        | 84/480 [05:56<07:10,  1.09s/it, loss=1.29e-23]"
          ]
        },
        {
          "output_type": "stream",
          "name": "stderr",
          "text": [
            "INFO:ludwig.trainers.trainer:\n",
            "Running evaluation for step: 84, epoch: 7\n"
          ]
        },
        {
          "output_type": "stream",
          "name": "stdout",
          "text": [
            "Evaluation valid: 100%|██████████| 2/2 [00:00<00:00,  5.06it/s]\n",
            "Evaluation test : 100%|██████████| 3/3 [00:00<00:00,  3.77it/s]"
          ]
        },
        {
          "output_type": "stream",
          "name": "stderr",
          "text": [
            "INFO:ludwig.trainers.trainer:Evaluation took 1.2431s\n",
            "\n",
            "INFO:ludwig.utils.metrics_printed_table:╒═══════════════╤═════════╤══════════════╤════════╕\n",
            "│               │   train │   validation │   test │\n",
            "╞═══════════════╪═════════╪══════════════╪════════╡\n",
            "│ accuracy      │  0.8831 │       0.8485 │ 0.9091 │\n",
            "├───────────────┼─────────┼──────────────┼────────┤\n",
            "│ loss          │  3.6276 │       2.5468 │ 1.4107 │\n",
            "├───────────────┼─────────┼──────────────┼────────┤\n",
            "│ precision     │  0.8676 │       0.7778 │ 0.8824 │\n",
            "├───────────────┼─────────┼──────────────┼────────┤\n",
            "│ recall        │  0.7662 │       0.7000 │ 0.7895 │\n",
            "├───────────────┼─────────┼──────────────┼────────┤\n",
            "│ roc_auc       │  0.9446 │       0.8674 │ 0.9692 │\n",
            "├───────────────┼─────────┼──────────────┼────────┤\n",
            "│ specificity   │  0.9416 │       0.9130 │ 0.9574 │\n",
            "├───────────────┼─────────┼──────────────┼────────┤\n",
            "│ combined_loss │  3.6276 │       2.5468 │ 1.4107 │\n",
            "╘═══════════════╧═════════╧══════════════╧════════╛\n",
            "INFO:ludwig.trainers.trainer:Last improvement of CATEGORIA validation roc_auc happened 12 step(s) ago.\n",
            "\n"
          ]
        },
        {
          "output_type": "stream",
          "name": "stdout",
          "text": [
            "\n",
            "Training:  20%|██        | 96/480 [06:55<06:04,  1.05it/s, loss=0]"
          ]
        },
        {
          "output_type": "stream",
          "name": "stderr",
          "text": [
            "INFO:ludwig.trainers.trainer:\n",
            "Running evaluation for step: 96, epoch: 8\n"
          ]
        },
        {
          "output_type": "stream",
          "name": "stdout",
          "text": [
            "Evaluation valid: 100%|██████████| 2/2 [00:00<00:00,  5.11it/s]\n",
            "Evaluation test : 100%|██████████| 3/3 [00:00<00:00,  3.77it/s]"
          ]
        },
        {
          "output_type": "stream",
          "name": "stderr",
          "text": [
            "INFO:ludwig.trainers.trainer:Evaluation took 1.2247s\n",
            "\n",
            "INFO:ludwig.utils.metrics_printed_table:╒═══════════════╤═════════╤══════════════╤═════════╕\n",
            "│               │   train │   validation │    test │\n",
            "╞═══════════════╪═════════╪══════════════╪═════════╡\n",
            "│ accuracy      │  0.9351 │       0.8788 │  0.8939 │\n",
            "├───────────────┼─────────┼──────────────┼─────────┤\n",
            "│ loss          │  1.4584 │      17.4845 │ 17.5252 │\n",
            "├───────────────┼─────────┼──────────────┼─────────┤\n",
            "│ precision     │  0.8523 │       0.8750 │  1.0000 │\n",
            "├───────────────┼─────────┼──────────────┼─────────┤\n",
            "│ recall        │  0.9740 │       0.7000 │  0.6316 │\n",
            "├───────────────┼─────────┼──────────────┼─────────┤\n",
            "│ roc_auc       │  0.9761 │       0.8261 │  0.8903 │\n",
            "├───────────────┼─────────┼──────────────┼─────────┤\n",
            "│ specificity   │  0.9156 │       0.9565 │  1.0000 │\n",
            "├───────────────┼─────────┼──────────────┼─────────┤\n",
            "│ combined_loss │  1.4584 │      17.4845 │ 17.5252 │\n",
            "╘═══════════════╧═════════╧══════════════╧═════════╛\n",
            "INFO:ludwig.trainers.trainer:Last improvement of CATEGORIA validation roc_auc happened 24 step(s) ago.\n",
            "\n"
          ]
        },
        {
          "output_type": "stream",
          "name": "stdout",
          "text": [
            "\n",
            "Training:  22%|██▎       | 108/480 [07:35<05:10,  1.20it/s, loss=0]"
          ]
        },
        {
          "output_type": "stream",
          "name": "stderr",
          "text": [
            "INFO:ludwig.trainers.trainer:\n",
            "Running evaluation for step: 108, epoch: 9\n"
          ]
        },
        {
          "output_type": "stream",
          "name": "stdout",
          "text": [
            "Evaluation valid: 100%|██████████| 2/2 [00:00<00:00,  5.02it/s]\n",
            "Evaluation test : 100%|██████████| 3/3 [00:00<00:00,  3.68it/s]"
          ]
        },
        {
          "output_type": "stream",
          "name": "stderr",
          "text": [
            "INFO:ludwig.trainers.trainer:Evaluation took 1.2523s\n",
            "\n",
            "INFO:ludwig.utils.metrics_printed_table:╒═══════════════╤═════════╤══════════════╤═════════╕\n",
            "│               │   train │   validation │    test │\n",
            "╞═══════════════╪═════════╪══════════════╪═════════╡\n",
            "│ accuracy      │  0.9827 │       0.8182 │  0.9091 │\n",
            "├───────────────┼─────────┼──────────────┼─────────┤\n",
            "│ loss          │  1.6117 │       6.6334 │ 10.0983 │\n",
            "├───────────────┼─────────┼──────────────┼─────────┤\n",
            "│ precision     │  0.9740 │       0.6667 │  0.7826 │\n",
            "├───────────────┼─────────┼──────────────┼─────────┤\n",
            "│ recall        │  0.9740 │       0.8000 │  0.9474 │\n",
            "├───────────────┼─────────┼──────────────┼─────────┤\n",
            "│ roc_auc       │  0.9864 │       0.8891 │  0.9378 │\n",
            "├───────────────┼─────────┼──────────────┼─────────┤\n",
            "│ specificity   │  0.9870 │       0.8261 │  0.8936 │\n",
            "├───────────────┼─────────┼──────────────┼─────────┤\n",
            "│ combined_loss │  1.6117 │       6.6334 │ 10.0983 │\n",
            "╘═══════════════╧═════════╧══════════════╧═════════╛\n",
            "INFO:ludwig.trainers.trainer:Evaluation validation metric: 'CATEGORIA' 'roc_auc' improved.\n",
            "INFO:ludwig.trainers.trainer:'CATEGORIA' 'roc_auc' increased by 0.02.\n",
            "INFO:ludwig.trainers.trainer:New best model saved.\n",
            "\n"
          ]
        },
        {
          "output_type": "stream",
          "name": "stdout",
          "text": [
            "\n",
            "Training:  25%|██▌       | 120/480 [09:12<07:00,  1.17s/it, loss=0]"
          ]
        },
        {
          "output_type": "stream",
          "name": "stderr",
          "text": [
            "INFO:ludwig.trainers.trainer:\n",
            "Running evaluation for step: 120, epoch: 10\n"
          ]
        },
        {
          "output_type": "stream",
          "name": "stdout",
          "text": [
            "Evaluation valid: 100%|██████████| 2/2 [00:00<00:00,  4.96it/s]\n",
            "Evaluation test : 100%|██████████| 3/3 [00:00<00:00,  3.75it/s]"
          ]
        },
        {
          "output_type": "stream",
          "name": "stderr",
          "text": [
            "INFO:ludwig.trainers.trainer:Evaluation took 1.2700s\n",
            "\n",
            "INFO:ludwig.utils.metrics_printed_table:╒═══════════════╤═════════╤══════════════╤═════════╕\n",
            "│               │   train │   validation │    test │\n",
            "╞═══════════════╪═════════╪══════════════╪═════════╡\n",
            "│ accuracy      │  0.9481 │       0.9394 │  0.9091 │\n",
            "├───────────────┼─────────┼──────────────┼─────────┤\n",
            "│ loss          │  1.1474 │       3.4808 │ 16.6934 │\n",
            "├───────────────┼─────────┼──────────────┼─────────┤\n",
            "│ precision     │  0.9452 │       0.9000 │  0.8421 │\n",
            "├───────────────┼─────────┼──────────────┼─────────┤\n",
            "│ recall        │  0.8961 │       0.9000 │  0.8421 │\n",
            "├───────────────┼─────────┼──────────────┼─────────┤\n",
            "│ roc_auc       │  0.9855 │       0.9239 │  0.9138 │\n",
            "├───────────────┼─────────┼──────────────┼─────────┤\n",
            "│ specificity   │  0.9740 │       0.9565 │  0.9362 │\n",
            "├───────────────┼─────────┼──────────────┼─────────┤\n",
            "│ combined_loss │  1.1474 │       3.4808 │ 16.6934 │\n",
            "╘═══════════════╧═════════╧══════════════╧═════════╛\n",
            "INFO:ludwig.trainers.trainer:Evaluation validation metric: 'CATEGORIA' 'roc_auc' improved.\n",
            "INFO:ludwig.trainers.trainer:'CATEGORIA' 'roc_auc' increased by 0.035.\n",
            "INFO:ludwig.trainers.trainer:New best model saved.\n",
            "\n"
          ]
        },
        {
          "output_type": "stream",
          "name": "stdout",
          "text": [
            "\n",
            "Training:  28%|██▊       | 132/480 [10:30<06:15,  1.08s/it, loss=0]"
          ]
        },
        {
          "output_type": "stream",
          "name": "stderr",
          "text": [
            "INFO:ludwig.trainers.trainer:\n",
            "Running evaluation for step: 132, epoch: 11\n"
          ]
        },
        {
          "output_type": "stream",
          "name": "stdout",
          "text": [
            "Evaluation valid: 100%|██████████| 2/2 [00:00<00:00,  5.00it/s]\n",
            "Evaluation test : 100%|██████████| 3/3 [00:00<00:00,  3.74it/s]"
          ]
        },
        {
          "output_type": "stream",
          "name": "stderr",
          "text": [
            "INFO:ludwig.trainers.trainer:Evaluation took 1.2508s\n",
            "\n",
            "INFO:ludwig.utils.metrics_printed_table:╒═══════════════╤═════════╤══════════════╤═════════╕\n",
            "│               │   train │   validation │    test │\n",
            "╞═══════════════╪═════════╪══════════════╪═════════╡\n",
            "│ accuracy      │  0.7186 │       0.8788 │  0.9242 │\n",
            "├───────────────┼─────────┼──────────────┼─────────┤\n",
            "│ loss          │ 65.9309 │      56.5487 │ 41.2449 │\n",
            "├───────────────┼─────────┼──────────────┼─────────┤\n",
            "│ precision     │  0.5492 │       0.8750 │  0.8889 │\n",
            "├───────────────┼─────────┼──────────────┼─────────┤\n",
            "│ recall        │  0.8701 │       0.7000 │  0.8421 │\n",
            "├───────────────┼─────────┼──────────────┼─────────┤\n",
            "│ roc_auc       │  0.7648 │       0.8283 │  0.8998 │\n",
            "├───────────────┼─────────┼──────────────┼─────────┤\n",
            "│ specificity   │  0.6429 │       0.9565 │  0.9574 │\n",
            "├───────────────┼─────────┼──────────────┼─────────┤\n",
            "│ combined_loss │ 65.9309 │      56.5487 │ 41.2449 │\n",
            "╘═══════════════╧═════════╧══════════════╧═════════╛\n",
            "INFO:ludwig.trainers.trainer:Last improvement of CATEGORIA validation roc_auc happened 12 step(s) ago.\n",
            "\n"
          ]
        },
        {
          "output_type": "stream",
          "name": "stdout",
          "text": [
            "\n",
            "Training:  30%|███       | 144/480 [11:12<04:42,  1.19it/s, loss=1.29]"
          ]
        },
        {
          "output_type": "stream",
          "name": "stderr",
          "text": [
            "INFO:ludwig.trainers.trainer:\n",
            "Running evaluation for step: 144, epoch: 12\n"
          ]
        },
        {
          "output_type": "stream",
          "name": "stdout",
          "text": [
            "Evaluation valid: 100%|██████████| 2/2 [00:00<00:00,  5.05it/s]\n",
            "Evaluation test : 100%|██████████| 3/3 [00:00<00:00,  3.78it/s]"
          ]
        },
        {
          "output_type": "stream",
          "name": "stderr",
          "text": [
            "INFO:ludwig.trainers.trainer:Evaluation took 1.2448s\n",
            "\n",
            "INFO:ludwig.utils.metrics_printed_table:╒═══════════════╤═════════╤══════════════╤═════════╕\n",
            "│               │   train │   validation │    test │\n",
            "╞═══════════════╪═════════╪══════════════╪═════════╡\n",
            "│ accuracy      │  0.9870 │       0.8485 │  0.9091 │\n",
            "├───────────────┼─────────┼──────────────┼─────────┤\n",
            "│ loss          │  4.1917 │      77.7776 │ 53.7362 │\n",
            "├───────────────┼─────────┼──────────────┼─────────┤\n",
            "│ precision     │  0.9868 │       0.8571 │  0.9333 │\n",
            "├───────────────┼─────────┼──────────────┼─────────┤\n",
            "│ recall        │  0.9740 │       0.6000 │  0.7368 │\n",
            "├───────────────┼─────────┼──────────────┼─────────┤\n",
            "│ roc_auc       │  0.9966 │       0.7783 │  0.8550 │\n",
            "├───────────────┼─────────┼──────────────┼─────────┤\n",
            "│ specificity   │  0.9935 │       0.9565 │  0.9787 │\n",
            "├───────────────┼─────────┼──────────────┼─────────┤\n",
            "│ combined_loss │  4.1917 │      77.7776 │ 53.7362 │\n",
            "╘═══════════════╧═════════╧══════════════╧═════════╛\n",
            "INFO:ludwig.trainers.trainer:Last improvement of CATEGORIA validation roc_auc happened 24 step(s) ago.\n",
            "\n"
          ]
        },
        {
          "output_type": "stream",
          "name": "stdout",
          "text": [
            "\n",
            "Training:  32%|███▎      | 156/480 [12:09<05:01,  1.07it/s, loss=0]"
          ]
        },
        {
          "output_type": "stream",
          "name": "stderr",
          "text": [
            "INFO:ludwig.trainers.trainer:\n",
            "Running evaluation for step: 156, epoch: 13\n"
          ]
        },
        {
          "output_type": "stream",
          "name": "stdout",
          "text": [
            "Evaluation valid: 100%|██████████| 2/2 [00:00<00:00,  5.12it/s]\n",
            "Evaluation test : 100%|██████████| 3/3 [00:00<00:00,  3.75it/s]"
          ]
        },
        {
          "output_type": "stream",
          "name": "stderr",
          "text": [
            "INFO:ludwig.trainers.trainer:Evaluation took 1.2254s\n",
            "\n",
            "INFO:ludwig.utils.metrics_printed_table:╒═══════════════╤═════════╤══════════════╤═════════╕\n",
            "│               │   train │   validation │    test │\n",
            "╞═══════════════╪═════════╪══════════════╪═════════╡\n",
            "│ accuracy      │  0.9827 │       0.8485 │  0.9091 │\n",
            "├───────────────┼─────────┼──────────────┼─────────┤\n",
            "│ loss          │  7.9671 │      35.1195 │ 23.8596 │\n",
            "├───────────────┼─────────┼──────────────┼─────────┤\n",
            "│ precision     │  0.9740 │       0.7273 │  0.8421 │\n",
            "├───────────────┼─────────┼──────────────┼─────────┤\n",
            "│ recall        │  0.9740 │       0.8000 │  0.8421 │\n",
            "├───────────────┼─────────┼──────────────┼─────────┤\n",
            "│ roc_auc       │  0.9863 │       0.8304 │  0.8891 │\n",
            "├───────────────┼─────────┼──────────────┼─────────┤\n",
            "│ specificity   │  0.9870 │       0.8696 │  0.9362 │\n",
            "├───────────────┼─────────┼──────────────┼─────────┤\n",
            "│ combined_loss │  7.9671 │      35.1195 │ 23.8596 │\n",
            "╘═══════════════╧═════════╧══════════════╧═════════╛\n",
            "INFO:ludwig.trainers.trainer:Last improvement of CATEGORIA validation roc_auc happened 36 step(s) ago.\n",
            "\n"
          ]
        },
        {
          "output_type": "stream",
          "name": "stdout",
          "text": [
            "\n",
            "Training:  35%|███▌      | 168/480 [12:38<03:57,  1.31it/s, loss=0]"
          ]
        },
        {
          "output_type": "stream",
          "name": "stderr",
          "text": [
            "INFO:ludwig.trainers.trainer:\n",
            "Running evaluation for step: 168, epoch: 14\n"
          ]
        },
        {
          "output_type": "stream",
          "name": "stdout",
          "text": [
            "Evaluation valid: 100%|██████████| 2/2 [00:00<00:00,  5.11it/s]\n",
            "Evaluation test : 100%|██████████| 3/3 [00:00<00:00,  3.76it/s]"
          ]
        },
        {
          "output_type": "stream",
          "name": "stderr",
          "text": [
            "INFO:ludwig.trainers.trainer:Evaluation took 1.2401s\n",
            "\n",
            "INFO:ludwig.utils.metrics_printed_table:╒═══════════════╤═════════╤══════════════╤═════════╕\n",
            "│               │   train │   validation │    test │\n",
            "╞═══════════════╪═════════╪══════════════╪═════════╡\n",
            "│ accuracy      │  0.9913 │       0.7879 │  0.8333 │\n",
            "├───────────────┼─────────┼──────────────┼─────────┤\n",
            "│ loss          │  1.2967 │      47.3397 │ 83.8483 │\n",
            "├───────────────┼─────────┼──────────────┼─────────┤\n",
            "│ precision     │  0.9870 │       0.6364 │  0.6667 │\n",
            "├───────────────┼─────────┼──────────────┼─────────┤\n",
            "│ recall        │  0.9870 │       0.7000 │  0.8421 │\n",
            "├───────────────┼─────────┼──────────────┼─────────┤\n",
            "│ roc_auc       │  0.9967 │       0.7630 │  0.8449 │\n",
            "├───────────────┼─────────┼──────────────┼─────────┤\n",
            "│ specificity   │  0.9935 │       0.8261 │  0.8298 │\n",
            "├───────────────┼─────────┼──────────────┼─────────┤\n",
            "│ combined_loss │  1.2967 │      47.3397 │ 83.8483 │\n",
            "╘═══════════════╧═════════╧══════════════╧═════════╛\n",
            "INFO:ludwig.trainers.trainer:Last improvement of CATEGORIA validation roc_auc happened 48 step(s) ago.\n",
            "\n"
          ]
        },
        {
          "output_type": "stream",
          "name": "stdout",
          "text": [
            "\n",
            "Training:  38%|███▊      | 180/480 [14:03<05:25,  1.09s/it, loss=0]"
          ]
        },
        {
          "output_type": "stream",
          "name": "stderr",
          "text": [
            "INFO:ludwig.trainers.trainer:\n",
            "Running evaluation for step: 180, epoch: 15\n"
          ]
        },
        {
          "output_type": "stream",
          "name": "stdout",
          "text": [
            "Evaluation valid: 100%|██████████| 2/2 [00:00<00:00,  5.14it/s]\n",
            "Evaluation test : 100%|██████████| 3/3 [00:00<00:00,  3.77it/s]"
          ]
        },
        {
          "output_type": "stream",
          "name": "stderr",
          "text": [
            "INFO:ludwig.trainers.trainer:Evaluation took 1.2235s\n",
            "\n",
            "INFO:ludwig.utils.metrics_printed_table:╒═══════════════╤═════════╤══════════════╤═════════╕\n",
            "│               │   train │   validation │    test │\n",
            "╞═══════════════╪═════════╪══════════════╪═════════╡\n",
            "│ accuracy      │  0.9827 │       0.8182 │  0.8485 │\n",
            "├───────────────┼─────────┼──────────────┼─────────┤\n",
            "│ loss          │  7.5421 │      54.3664 │ 47.4999 │\n",
            "├───────────────┼─────────┼──────────────┼─────────┤\n",
            "│ precision     │  0.9620 │       1.0000 │  1.0000 │\n",
            "├───────────────┼─────────┼──────────────┼─────────┤\n",
            "│ recall        │  0.9870 │       0.4000 │  0.4737 │\n",
            "├───────────────┼─────────┼──────────────┼─────────┤\n",
            "│ roc_auc       │  0.9838 │       0.7870 │  0.7850 │\n",
            "├───────────────┼─────────┼──────────────┼─────────┤\n",
            "│ specificity   │  0.9805 │       1.0000 │  1.0000 │\n",
            "├───────────────┼─────────┼──────────────┼─────────┤\n",
            "│ combined_loss │  7.5421 │      54.3664 │ 47.4999 │\n",
            "╘═══════════════╧═════════╧══════════════╧═════════╛\n",
            "INFO:ludwig.trainers.trainer:Last improvement of CATEGORIA validation roc_auc happened 60 step(s) ago.\n",
            "\n",
            "INFO:ludwig.trainers.trainer:\n",
            "EARLY STOPPING due to lack of validation improvement. It has been 60 step(s) since last validation improvement.\n"
          ]
        },
        {
          "output_type": "stream",
          "name": "stdout",
          "text": [
            "\n",
            "Training:  38%|███▊      | 180/480 [15:25<25:42,  5.14s/it, loss=0]\n",
            "Evaluation valid: 100%|██████████| 2/2 [00:00<00:00,  4.38it/s]"
          ]
        },
        {
          "output_type": "stream",
          "name": "stderr",
          "text": [
            "INFO:ludwig.utils.calibration:Before temperature scaling:\n",
            "    Negative log-likelihood: 6.751\n",
            "    Expected Calibration Error: 0.061\n",
            "INFO:ludwig.utils.calibration:Optimal temperature: 25.049\n",
            "INFO:ludwig.utils.calibration:After temperature scaling:\n",
            "    Negative log-likelihood: 0.297\n",
            "    Expected Calibration Error: 0.080\n",
            "WARNING:ludwig.utils.calibration:Expected calibration error higher after scaling, reverting to temperature=1.000.\n"
          ]
        },
        {
          "output_type": "stream",
          "name": "stdout",
          "text": [
            "\n"
          ]
        },
        {
          "output_type": "stream",
          "name": "stderr",
          "text": [
            "INFO:ludwig.utils.print_utils:\n",
            "INFO:ludwig.utils.print_utils:╒═════════════════╕\n",
            "INFO:ludwig.utils.print_utils:│ TRAINING REPORT │\n",
            "INFO:ludwig.utils.print_utils:╘═════════════════╛\n",
            "INFO:ludwig.utils.print_utils:\n",
            "INFO:ludwig.api:╒═════════════════════════════════╤════════════════════╕\n",
            "│ Validation feature              │ CATEGORIA          │\n",
            "├─────────────────────────────────┼────────────────────┤\n",
            "│ Validation metric               │ roc_auc            │\n",
            "├─────────────────────────────────┼────────────────────┤\n",
            "│ Best model step                 │ 120                │\n",
            "├─────────────────────────────────┼────────────────────┤\n",
            "│ Best model epoch                │ 11                 │\n",
            "├─────────────────────────────────┼────────────────────┤\n",
            "│ Best model's validation roc_auc │ 0.9239131212234497 │\n",
            "├─────────────────────────────────┼────────────────────┤\n",
            "│ Best model's test roc_auc       │ 0.9137737154960632 │\n",
            "╘═════════════════════════════════╧════════════════════╛\n",
            "INFO:ludwig.api:\n",
            "Finished: api_experiment_run\n",
            "INFO:ludwig.api:Saved to: /content/results/api_experiment_run_0\n",
            "INFO:ludwig.utils.print_utils:\n",
            "INFO:ludwig.utils.print_utils:╒══════════╕\n",
            "INFO:ludwig.utils.print_utils:│ FINISHED │\n",
            "INFO:ludwig.utils.print_utils:╘══════════╛\n",
            "INFO:ludwig.utils.print_utils:\n"
          ]
        }
      ]
    },
    {
      "cell_type": "code",
      "source": [
        "#Evaluación modelo\n",
        "test_stats, predictions, output_directory = model.evaluate(\n",
        "  test_df,\n",
        "  collect_predictions=True,\n",
        "  collect_overall_stats=True\n",
        ")"
      ],
      "metadata": {
        "colab": {
          "base_uri": "https://localhost:8080/"
        },
        "id": "mEc-toza6N0i",
        "outputId": "cf73f53d-bdc5-4ac3-e0a5-fcf71e3295f0"
      },
      "execution_count": 25,
      "outputs": [
        {
          "output_type": "stream",
          "name": "stderr",
          "text": [
            "WARNING:ludwig.utils.tokenizers:Falling back to HuggingFace tokenizer because TorchText tokenizer failed validation.\n",
            "WARNING:ludwig.utils.tokenizers:Sample input: UNwantéd,running\n",
            "HF output: [4, 1044, 1004, 10390, 30982, 30963, 1019, 18125, 8930, 5]\n",
            "TT output: [4, 1044, 1004, 1492, 30963, 1019, 18125, 8930, 5]\n",
            "INFO:ludwig.utils.tokenizers:Loaded HuggingFace implementation of dccuchile/bert-base-spanish-wwm-uncased tokenizer\n"
          ]
        },
        {
          "output_type": "stream",
          "name": "stdout",
          "text": [
            "Evaluation: 100%|██████████| 3/3 [00:01<00:00,  2.90it/s]"
          ]
        },
        {
          "output_type": "stream",
          "name": "stderr",
          "text": [
            "INFO:ludwig.models.predictor:\n",
            "===== CATEGORIA =====\n",
            "INFO:ludwig.models.predictor:accuracy: 0.891566276550293\n",
            "INFO:ludwig.models.predictor:average_precision_macro: 0.8564921514425412\n",
            "INFO:ludwig.models.predictor:average_precision_micro: 0.8564921514425412\n",
            "INFO:ludwig.models.predictor:average_precision_samples: 0.8564921514425412\n",
            "INFO:ludwig.models.predictor:loss: 19.337995529174805\n",
            "INFO:ludwig.models.predictor:overall_stats: { 'avg_f1_score_macro': 0.8883908561183326,\n",
            "  'avg_f1_score_micro': 0.891566265060241,\n",
            "  'avg_f1_score_weighted': 0.8908858202869749,\n",
            "  'avg_precision_macro': 0.8945454545454545,\n",
            "  'avg_precision_micro': 0.891566265060241,\n",
            "  'avg_precision_weighted': 0.891566265060241,\n",
            "  'avg_recall_macro': 0.8847517730496455,\n",
            "  'avg_recall_micro': 0.891566265060241,\n",
            "  'avg_recall_weighted': 0.891566265060241,\n",
            "  'kappa_score': 0.7770814682184423,\n",
            "  'token_accuracy': 0.891566265060241}\n",
            "INFO:ludwig.models.predictor:per_class_stats: {False: {   'accuracy': 0.891566265060241,\n",
            "    'f1_score': 0.9072164948453608,\n",
            "    'fall_out': 0.16666666666666663,\n",
            "    'false_discovery_rate': 0.12,\n",
            "    'false_negative_rate': 0.06382978723404253,\n",
            "    'false_negatives': 3,\n",
            "    'false_omission_rate': 0.09090909090909094,\n",
            "    'false_positive_rate': 0.16666666666666663,\n",
            "    'false_positives': 6,\n",
            "    'hit_rate': 0.9361702127659575,\n",
            "    'informedness': 0.769503546099291,\n",
            "    'markedness': 0.7890909090909091,\n",
            "    'matthews_correlation_coefficient': 0.7792356849760974,\n",
            "    'miss_rate': 0.06382978723404253,\n",
            "    'negative_predictive_value': 0.9090909090909091,\n",
            "    'positive_predictive_value': 0.88,\n",
            "    'precision': 0.88,\n",
            "    'recall': 0.9361702127659575,\n",
            "    'sensitivity': 0.9361702127659575,\n",
            "    'specificity': 0.8333333333333334,\n",
            "    'true_negative_rate': 0.8333333333333334,\n",
            "    'true_negatives': 30,\n",
            "    'true_positive_rate': 0.9361702127659575,\n",
            "    'true_positives': 44},\n",
            "  True: {   'accuracy': 0.891566265060241,\n",
            "    'f1_score': 0.8695652173913043,\n",
            "    'fall_out': 0.06382978723404253,\n",
            "    'false_discovery_rate': 0.09090909090909094,\n",
            "    'false_negative_rate': 0.16666666666666663,\n",
            "    'false_negatives': 6,\n",
            "    'false_omission_rate': 0.12,\n",
            "    'false_positive_rate': 0.06382978723404253,\n",
            "    'false_positives': 3,\n",
            "    'hit_rate': 0.8333333333333334,\n",
            "    'informedness': 0.769503546099291,\n",
            "    'markedness': 0.7890909090909091,\n",
            "    'matthews_correlation_coefficient': 0.7792356849760974,\n",
            "    'miss_rate': 0.16666666666666663,\n",
            "    'negative_predictive_value': 0.88,\n",
            "    'positive_predictive_value': 0.9090909090909091,\n",
            "    'precision': 0.9090909090909091,\n",
            "    'recall': 0.8333333333333334,\n",
            "    'sensitivity': 0.8333333333333334,\n",
            "    'specificity': 0.9361702127659575,\n",
            "    'true_negative_rate': 0.9361702127659575,\n",
            "    'true_negatives': 44,\n",
            "    'true_positive_rate': 0.8333333333333334,\n",
            "    'true_positives': 30}}\n",
            "INFO:ludwig.models.predictor:precision: 0.9090909361839294\n",
            "INFO:ludwig.models.predictor:precision_recall_curve: { 'precisions': [ 0.43373493975903615,\n",
            "                  0.8888888888888888,\n",
            "                  0.9142857142857143,\n",
            "                  0.9117647058823529,\n",
            "                  0.9090909090909091,\n",
            "                  1.0],\n",
            "  'recalls': [ 1.0,\n",
            "               0.8888888888888888,\n",
            "               0.8888888888888888,\n",
            "               0.8611111111111112,\n",
            "               0.8333333333333334,\n",
            "               0.0]}\n",
            "INFO:ludwig.models.predictor:recall: 0.8333333134651184\n",
            "INFO:ludwig.models.predictor:roc_auc: 0.9095745086669922\n",
            "INFO:ludwig.models.predictor:roc_auc_macro: 0.9095744680851063\n",
            "INFO:ludwig.models.predictor:roc_auc_micro: 0.9095744680851063\n",
            "INFO:ludwig.models.predictor:specificity: 0.936170220375061\n"
          ]
        },
        {
          "output_type": "stream",
          "name": "stdout",
          "text": [
            "\n"
          ]
        }
      ]
    },
    {
      "cell_type": "code",
      "source": [
        "# Visualizes confusion matrix, which gives an overview of classifier performance\n",
        "# for each class.\n",
        "from ludwig.visualize import confusion_matrix\n",
        "\n",
        "confusion_matrix(\n",
        "  [test_stats],\n",
        "  model.training_set_metadata,\n",
        "  'CATEGORIA',\n",
        "  top_n_classes=[5],\n",
        "  model_names=['BertEspañolLora_Turismo'],\n",
        "  normalize=True,\n",
        ")"
      ],
      "metadata": {
        "colab": {
          "base_uri": "https://localhost:8080/",
          "height": 1000
        },
        "id": "D7nkz3WI6Vsp",
        "outputId": "86df68eb-d710-4650-a0ce-f684d0db3ee1"
      },
      "execution_count": 26,
      "outputs": [
        {
          "output_type": "stream",
          "name": "stderr",
          "text": [
            "/usr/local/lib/python3.10/dist-packages/ludwig/utils/visualization_utils.py:1179: UserWarning: FixedFormatter should only be used together with FixedLocator\n",
            "  ax.set_xticklabels([\"\"] + labels, rotation=45, ha=\"left\")\n",
            "/usr/local/lib/python3.10/dist-packages/ludwig/utils/visualization_utils.py:1180: UserWarning: FixedFormatter should only be used together with FixedLocator\n",
            "  ax.set_yticklabels([\"\"] + labels, rotation=45, ha=\"right\")\n"
          ]
        },
        {
          "output_type": "display_data",
          "data": {
            "text/plain": [
              "<Figure size 640x480 with 2 Axes>"
            ],
            "image/png": "[encoded data removed]"
          },
          "metadata": {}
        },
        {
          "output_type": "display_data",
          "data": {
            "text/plain": [
              "<Figure size 640x480 with 1 Axes>"
            ],
            "image/png": "[encoded data removed]"
          },
          "metadata": {}
        }
      ]
    },
    {
      "cell_type": "code",
      "source": [
        "# Visualizes learning curves, which show how performance metrics changed over\n",
        "# time during training.\n",
        "from ludwig.visualize import learning_curves\n",
        "\n",
        "learning_curves(train_stats, output_feature_name='CATEGORIA')"
      ],
      "metadata": {
        "colab": {
          "base_uri": "https://localhost:8080/",
          "height": 957
        },
        "id": "qMHwOgYH6dFD",
        "outputId": "8579447e-4f8e-44e0-b45f-2188dba4506e"
      },
      "execution_count": 27,
      "outputs": [
        {
          "output_type": "display_data",
          "data": {
            "text/plain": [
              "<Figure size 640x480 with 1 Axes>"
            ],
            "image/png": "[encoded data removed]"
          },
          "metadata": {}
        },
        {
          "output_type": "display_data",
          "data": {
            "text/plain": [
              "<Figure size 640x480 with 1 Axes>"
            ],
            "image/png": "[encoded data removed]"
          },
          "metadata": {}
        }
      ]
    },
    {
      "cell_type": "code",
      "source": [
        "import pandas as pd\n",
        "\n",
        "# Crear un DataFrame con las descripciones de noticias de turismo\n",
        "text_to_predict = pd.DataFrame({\n",
        "    \"DESCRIPCION \": [\n",
        "        \"Cartagena celebra un incremento del 20% en turismo gracias a sus festivales de música y arte, impulsando la economía local.\",\n",
        "        \"El nuevo parque temático en Medellín atrae a familias de todo el país, marcando un hito en el turismo de aventura urbana.\",\n",
        "        \"Colombia es nombrada el mejor destino turístico de Sudamérica por su rica cultura y hospitalidad.\",\n",
        "        \"El festival de la flores en Medellín se supera en asistencia, con un aumento del 30% en turistas internacionales.\",\n",
        "        \"Escándalo por malas prácticas en hoteles de lujo en Bogotá daña gravemente la imagen turística de la ciudad.\",\n",
        "        \"Protestas en varias ciudades importantes afectan negativamente la temporada turística, causando una caída en las reservas.\",\n",
        "        \"Informes de inseguridad en Cartagena disuaden a los turistas de visitar, afectando la industria hotelera local.\",\n",
        "        \"Desastres naturales en la costa caribeña golpean la industria del turismo, con hoteles y playas cerradas durante meses.\",\n",
        "        \"Controversia por la construcción de un nuevo aeropuerto en Barranquilla amenaza zonas ecológicas y despierta críticas de grupos ambientalistas.\"\n",
        "    ]\n",
        "})\n",
        "\n",
        "# Utilizar el DataFrame para hacer predicciones\n",
        "predictions, output_directory = model.predict(text_to_predict)\n",
        "\n",
        "# Ver las predicciones\n",
        "print(predictions)"
      ],
      "metadata": {
        "colab": {
          "base_uri": "https://localhost:8080/"
        },
        "id": "EHcIqpTo7BQt",
        "outputId": "b4c27747-1cec-4de7-9c84-b405723bffce"
      },
      "execution_count": 28,
      "outputs": [
        {
          "output_type": "stream",
          "name": "stderr",
          "text": [
            "WARNING:ludwig.utils.tokenizers:Falling back to HuggingFace tokenizer because TorchText tokenizer failed validation.\n",
            "WARNING:ludwig.utils.tokenizers:Sample input: UNwantéd,running\n",
            "HF output: [4, 1044, 1004, 10390, 30982, 30963, 1019, 18125, 8930, 5]\n",
            "TT output: [4, 1044, 1004, 1492, 30963, 1019, 18125, 8930, 5]\n",
            "INFO:ludwig.utils.tokenizers:Loaded HuggingFace implementation of dccuchile/bert-base-spanish-wwm-uncased tokenizer\n"
          ]
        },
        {
          "output_type": "stream",
          "name": "stdout",
          "text": [
            "Prediction: 100%|██████████| 1/1 [00:00<00:00,  5.85it/s]"
          ]
        },
        {
          "output_type": "stream",
          "name": "stderr",
          "text": [
            "INFO:ludwig.api:Finished predicting in: 1.68s.\n"
          ]
        },
        {
          "output_type": "stream",
          "name": "stdout",
          "text": [
            "\n",
            "  CATEGORIA_probabilities CATEGORIA_predictions  \\\n",
            "0              [1.0, 0.0]              POSITIVA   \n",
            "1              [1.0, 0.0]              POSITIVA   \n",
            "2              [1.0, 0.0]              POSITIVA   \n",
            "3              [1.0, 0.0]              POSITIVA   \n",
            "4              [0.0, 1.0]              NEGATIVA   \n",
            "5              [0.0, 1.0]              NEGATIVA   \n",
            "6              [0.0, 1.0]              NEGATIVA   \n",
            "7              [1.0, 0.0]              POSITIVA   \n",
            "8              [0.0, 1.0]              NEGATIVA   \n",
            "\n",
            "   CATEGORIA_probabilities_POSITIVA  CATEGORIA_probabilities_NEGATIVA  \\\n",
            "0                               1.0                               0.0   \n",
            "1                               1.0                               0.0   \n",
            "2                               1.0                               0.0   \n",
            "3                               1.0                               0.0   \n",
            "4                               0.0                               1.0   \n",
            "5                               0.0                               1.0   \n",
            "6                               0.0                               1.0   \n",
            "7                               1.0                               0.0   \n",
            "8                               0.0                               1.0   \n",
            "\n",
            "   CATEGORIA_probability  \n",
            "0                    1.0  \n",
            "1                    1.0  \n",
            "2                    1.0  \n",
            "3                    1.0  \n",
            "4                    1.0  \n",
            "5                    1.0  \n",
            "6                    1.0  \n",
            "7                    1.0  \n",
            "8                    1.0  \n"
          ]
        }
      ]
    },
    {
      "cell_type": "code",
      "source": [
        "model.save('/content/drive/MyDrive/Tesis/Collabs_finales_Experimentos_nuevoo/model')"
      ],
      "metadata": {
        "id": "QnOIKPmy8PQ9"
      },
      "execution_count": 29,
      "outputs": []
    },
    {
      "cell_type": "code",
      "source": [
        "model.save_torchscript(\n",
        "  '/content/drive/MyDrive/Tesis/Collabs_finales_Experimentos_nuevoo/model',device=\"cuda\")"
      ],
      "metadata": {
        "id": "LHuJBtVs48da"
      },
      "execution_count": null,
      "outputs": []
    },
    {
      "cell_type": "code",
      "source": [
        "from ludwig.models.inference import InferenceModule\n",
        "inference_module=InferenceModule.from_directory('/content/drive/MyDrive/Tesis/Collabs_finales_Experimentos_nuevoo/model/')"
      ],
      "metadata": {
        "id": "2AkOci2j5IsT"
      },
      "execution_count": null,
      "outputs": []
    },
    {
      "cell_type": "code",
      "source": [
        "raw={\"DESCRIPCION \":[\n",
        "    \"El nuevo parque temático en Medellín atrae a familias de todo el país, marcando un hito en el turismo de aventura urbana.\",\n",
        "\n",
        "    ]\n",
        "}"
      ],
      "metadata": {
        "id": "0H-aQrLZ5stJ"
      },
      "execution_count": 42,
      "outputs": []
    },
    {
      "cell_type": "code",
      "source": [
        "preprocessed_data=inference_module.preprocessor_forward(raw)"
      ],
      "metadata": {
        "id": "6ZGoDJB-500b"
      },
      "execution_count": null,
      "outputs": []
    },
    {
      "cell_type": "code",
      "source": [
        "predictions=inference_module.predictor_forward(preprocessed_data)"
      ],
      "metadata": {
        "id": "VbDZ2b1n526B"
      },
      "execution_count": null,
      "outputs": []
    },
    {
      "cell_type": "code",
      "source": [
        "postprocessed_data=inference_module.postprocessor_forward(predictions)"
      ],
      "metadata": {
        "id": "1vFKRQe653ZT"
      },
      "execution_count": null,
      "outputs": []
    },
    {
      "cell_type": "code",
      "source": [
        "postprocessed_data"
      ],
      "metadata": {
        "id": "G2hLuwlN57dd"
      },
      "execution_count": null,
      "outputs": []
    },
    {
      "cell_type": "code",
      "source": [
        "!pip install gradio"
      ],
      "metadata": {
        "id": "3lXwLs5c59qc"
      },
      "execution_count": null,
      "outputs": []
    },
    {
      "cell_type": "code",
      "source": [
        "'la noticia es: '+ postprocessed_data['CATEGORIA']['predictions'][0]"
      ],
      "metadata": {
        "id": "i3LTXT9N6APr"
      },
      "execution_count": null,
      "outputs": []
    },
    {
      "cell_type": "code",
      "source": [
        "import gradio as gr"
      ],
      "metadata": {
        "id": "HvTd2ilC6FAZ"
      },
      "execution_count": null,
      "outputs": []
    },
    {
      "cell_type": "code",
      "source": [
        "def greet(Noticia):\n",
        "    raw = {\"DESCRIPCION \": [noticia]}\n",
        "    preprocessed_data = inference_module.preprocessor_forward(raw)\n",
        "    predictions = inference_module.predictor_forward(preprocessed_data)\n",
        "    postprocessed_data = inference_module.postprocessor_forward(predictions)\n",
        "\n",
        "    classification = postprocessed_data['CATEGORIA']['predictions'][0]\n",
        "    return output_label + classification"
      ],
      "metadata": {
        "id": "ZOPM8fYS6HCE"
      },
      "execution_count": null,
      "outputs": []
    },
    {
      "cell_type": "code",
      "source": [
        "import gradio as gr\n",
        "\n",
        "\n",
        "\n",
        "demo = gr.Interface(fn=greet, inputs=\"textbox\", outputs=[gr.Textbox(label=\"Clasificación\")], css=\"\"\"\n",
        "   body {background-color : pink}\n",
        "    \"\"\",)\n",
        "\n",
        "\n",
        "\n",
        "if __name__ == \"__main__\":\n",
        "    demo.launch()"
      ],
      "metadata": {
        "id": "p2cqsc3e6RyN"
      },
      "execution_count": null,
      "outputs": []
    }
  ]
}